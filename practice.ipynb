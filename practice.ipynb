{
 "cells": [
  {
   "cell_type": "code",
   "execution_count": 2,
   "id": "746aba1e",
   "metadata": {},
   "outputs": [
    {
     "data": {
      "text/plain": [
       "2"
      ]
     },
     "execution_count": 2,
     "metadata": {},
     "output_type": "execute_result"
    }
   ],
   "source": [
    "a = [3,4,6,7,9,12,16,17]\n",
    "\n",
    "def binary_search(a,target):\n",
    "\n",
    "    low =0 \n",
    "    n = len(a)\n",
    "    high = n-1\n",
    "\n",
    "    while low <=high:\n",
    "        \n",
    "        mid = low  + int((high-low)/2)\n",
    "\n",
    "        if a[mid] == target:\n",
    "            return mid\n",
    "        elif a[mid] > target:\n",
    "            high = mid-1\n",
    "        elif a[mid] < target:\n",
    "            low = mid+1\n",
    "    return -1\n",
    "binary_search(a,6)"
   ]
  },
  {
   "cell_type": "code",
   "execution_count": 49,
   "id": "06704a8a",
   "metadata": {},
   "outputs": [
    {
     "data": {
      "text/plain": [
       "12"
      ]
     },
     "execution_count": 49,
     "metadata": {},
     "output_type": "execute_result"
    }
   ],
   "source": [
    "a = [3,4,6,7,9,12,16,17]\n",
    "\n",
    "def lower_bound(a,target):\n",
    "    low =0 \n",
    "    n =len(a)\n",
    "    high = n-1\n",
    "\n",
    "    ans = n\n",
    "\n",
    "    while low <=high:\n",
    "\n",
    "        mid = int((low+high)/2)\n",
    "        if a[mid] ==target:\n",
    "            return a[mid]\n",
    "        elif target <= a[mid]:\n",
    "            ans = a[mid]\n",
    "            high = mid-1\n",
    "        else:\n",
    "            low = mid+1\n",
    "    return ans \n",
    "\n",
    "lower_bound(a,11)\n"
   ]
  },
  {
   "cell_type": "code",
   "execution_count": 57,
   "id": "a1c2d522",
   "metadata": {},
   "outputs": [
    {
     "data": {
      "text/plain": [
       "5"
      ]
     },
     "execution_count": 57,
     "metadata": {},
     "output_type": "execute_result"
    }
   ],
   "source": [
    "a = [3,4,6,7,9,12,16,17]\n",
    "\n",
    "def higher_bound(a,target):\n",
    "    low =0 \n",
    "    n = len(a)\n",
    "    high = n-1\n",
    "    ans = n\n",
    "    index = -1\n",
    "    while low<=high:\n",
    "\n",
    "        mid = int((low+high)/2)\n",
    "\n",
    "        if a[mid] ==target:\n",
    "            return mid\n",
    "        elif a[mid] > target:\n",
    "            index = mid\n",
    "            high = mid-1\n",
    "        else:\n",
    "            low = mid+1\n",
    "    return index\n",
    "\n",
    "higher_bound(a,12)\n"
   ]
  },
  {
   "cell_type": "code",
   "execution_count": 15,
   "id": "75c8bd44",
   "metadata": {},
   "outputs": [
    {
     "data": {
      "text/plain": [
       "[3, 4, 6, 7, 9, 10, 12, 16, 17]"
      ]
     },
     "execution_count": 15,
     "metadata": {},
     "output_type": "execute_result"
    }
   ],
   "source": [
    "a = [3,4,6,7,9,12,16,17]\n",
    "\n",
    "def insert(a,target):\n",
    "    low =0 \n",
    "    n = len(a)\n",
    "    high = n-1\n",
    "    ans = target\n",
    "\n",
    "    while low <=high:\n",
    "\n",
    "        mid = low + int((high-low)/2)\n",
    "\n",
    "        if a[mid] >= target:\n",
    "            ans = mid\n",
    "            high = mid-1\n",
    "        else:\n",
    "            low = mid+1\n",
    "    return ans\n",
    "\n",
    "insert(a,10)\n",
    "a.insert(insert(a,10),10)\n",
    "a"
   ]
  },
  {
   "cell_type": "code",
   "execution_count": null,
   "id": "5115e3ae",
   "metadata": {},
   "outputs": [
    {
     "data": {
      "text/plain": [
       "4"
      ]
     },
     "execution_count": 16,
     "metadata": {},
     "output_type": "execute_result"
    }
   ],
   "source": [
    "a = [3,4,6,7,9,9,9,9,10,12,16,17]\n",
    "\n",
    "def first(a,target):\n",
    "    low =0 \n",
    "    n = len(a)\n",
    "    high = n-1\n",
    "\n",
    "    while low <= high:\n",
    "\n",
    "        mid = low + int((high-low)/2)\n",
    "\n",
    "        if a[mid] == target:\n",
    "            ans = target\n",
    "            high = mid-1\n",
    "        else:\n",
    "\n",
    "first(a,9)\n",
    "\n",
    "\n"
   ]
  },
  {
   "cell_type": "code",
   "execution_count": 19,
   "id": "be93f578",
   "metadata": {},
   "outputs": [
    {
     "data": {
      "text/plain": [
       "7"
      ]
     },
     "execution_count": 19,
     "metadata": {},
     "output_type": "execute_result"
    }
   ],
   "source": [
    "a = [3,4,6,7,9,9,9,9,10,12,16,17]\n",
    "\n",
    "def last(a,target):\n",
    "    low =0 \n",
    "    n = len(a)\n",
    "    high = n-1\n",
    "\n",
    "    while low <= high:\n",
    "\n",
    "        mid = low + int((high-low)/2)\n",
    "\n",
    "        if a[mid] == target:\n",
    "            ans = mid\n",
    "            low = mid+1\n",
    "        elif a[mid] < target:\n",
    "            low = mid+1\n",
    "        else:\n",
    "            high = mid-1\n",
    "\n",
    "    return ans\n",
    "\n",
    "last(a,9)\n",
    "\n",
    "\n"
   ]
  },
  {
   "cell_type": "code",
   "execution_count": null,
   "id": "9d5e7319",
   "metadata": {},
   "outputs": [
    {
     "name": "stdout",
     "output_type": "stream",
     "text": [
      "6\n"
     ]
    }
   ],
   "source": [
    "a= [7,8,9,1,2,3,4,5,6]\n",
    "\n",
    "def searchsortedarray(a,x):\n",
    "\n",
    "    low =0\n",
    "    n =len(a)\n",
    "    high = n-1\n",
    "\n",
    "    while low <= high:\n",
    "\n",
    "        mid = low + int((high-low)/2)\n",
    "        \n",
    "        while ((a[low]==a[mid]) & (a[high]==a[mid])): \n",
    "            low = low+1\n",
    "            high = high-1\n",
    "\n",
    "        if a[mid] ==x:\n",
    "            return mid\n",
    "        elif a[low] <= a[mid]:\n",
    "            if (a[low] <=x) & (x<=a[mid]):\n",
    "                high = mid-1\n",
    "            else:\n",
    "                low = mid+1\n",
    "        elif a[mid] <= a[high]:\n",
    "            if (a[mid] <=x) & (x<=a[high]):\n",
    "                low =mid+1\n",
    "            else:\n",
    "                high = mid-1\n",
    "    return -1\n",
    "\n",
    "print(searchsortedarray(a,4))"
   ]
  },
  {
   "cell_type": "code",
   "execution_count": 58,
   "id": "37198368",
   "metadata": {},
   "outputs": [
    {
     "data": {
      "text/plain": [
       "3"
      ]
     },
     "execution_count": 58,
     "metadata": {},
     "output_type": "execute_result"
    }
   ],
   "source": [
    "a= [7,8,9,1,2,3,4,5,6]\n",
    "\n",
    "def rotatedsorted(a):\n",
    "\n",
    "    low = 0\n",
    "    n =len(a)\n",
    "    high = n-1\n",
    "    mini = 1000000\n",
    "\n",
    "    while low <= high:\n",
    "\n",
    "        mid = low + int((high-low)/2)\n",
    "\n",
    "        if a[mid] ==mini:\n",
    "            return mid\n",
    "        elif a[low] <= a[mid]:\n",
    "            if a[low] <= mini:\n",
    "                mini = a[low]\n",
    "                index = low\n",
    "            low = mid+1\n",
    "        else:\n",
    "            if a[mid] <= mini:\n",
    "                mini = a[mid]\n",
    "                index = mini\n",
    "            high = mid-1\n",
    "\n",
    "    return index\n",
    "\n",
    "rotatedsorted(a)"
   ]
  },
  {
   "cell_type": "code",
   "execution_count": 28,
   "id": "b9b61621",
   "metadata": {},
   "outputs": [
    {
     "data": {
      "text/plain": [
       "(1, 3)"
      ]
     },
     "execution_count": 28,
     "metadata": {},
     "output_type": "execute_result"
    }
   ],
   "source": [
    "a= [7,8,9,1,2,3,4,5,6]\n",
    "\n",
    "def rotatedsorted_n(a):\n",
    "\n",
    "    low = 0\n",
    "    n =len(a)\n",
    "    high = n-1\n",
    "    mini = 1000000\n",
    "\n",
    "    while low <= high:\n",
    "\n",
    "        mid = low + int((high-low)/2)\n",
    "\n",
    "        if a[low] <= a[mid]:\n",
    "            if a[low] <= mini:\n",
    "                index = low\n",
    "                mini = a[low]\n",
    "            low = mid+1\n",
    "        else:\n",
    "            if a[mid] <= mini:\n",
    "                index = mid\n",
    "                mini = a[mid]\n",
    "            high = mid-1\n",
    "    return mini,index\n",
    "\n",
    "rotatedsorted_n(a)"
   ]
  },
  {
   "cell_type": "code",
   "execution_count": 32,
   "id": "2a6f32db",
   "metadata": {},
   "outputs": [
    {
     "name": "stdout",
     "output_type": "stream",
     "text": [
      "3\n"
     ]
    }
   ],
   "source": [
    "n  = int(input())\n",
    "\n",
    "low =1\n",
    "high =n\n",
    "\n",
    "while low <=high:\n",
    "    mid = int((low +high)/2)\n",
    "\n",
    "    if mid**2 <= n:\n",
    "        low = mid+1\n",
    "    else:\n",
    "        high = mid-1\n",
    "print(high)"
   ]
  },
  {
   "cell_type": "code",
   "execution_count": 40,
   "id": "658b5bf5",
   "metadata": {},
   "outputs": [
    {
     "data": {
      "text/plain": [
       "4"
      ]
     },
     "execution_count": 40,
     "metadata": {},
     "output_type": "execute_result"
    }
   ],
   "source": [
    "import math\n",
    "def sumD(a,ele):\n",
    "  n= len(a)\n",
    "  t_sum =0\n",
    "  for i in range(n):\n",
    "    t_sum += math.ceil(a[i]/ele)\n",
    "\n",
    "  return t_sum\n",
    "\n",
    "\n",
    "def smallest_divisor(a,threshold):\n",
    "  \n",
    "  low = 1\n",
    "  n = len(a)\n",
    "  high = max(a)\n",
    "\n",
    "  if n >threshold:\n",
    "    return -1\n",
    "\n",
    "  while low <=high:\n",
    "    mid = int((low+high)/2)\n",
    "\n",
    "    if sumD(a,mid) <= threshold:\n",
    "      high = mid-1\n",
    "    else:\n",
    "      low = mid+1\n",
    "    \n",
    "  return low \n",
    "\n",
    "a = [1,7,8,9]\n",
    "smallest_divisor(a,9)"
   ]
  },
  {
   "cell_type": "code",
   "execution_count": 43,
   "id": "bab28ce0",
   "metadata": {},
   "outputs": [
    {
     "data": {
      "text/plain": [
       "[4, 6]"
      ]
     },
     "execution_count": 43,
     "metadata": {},
     "output_type": "execute_result"
    }
   ],
   "source": [
    "def sorted_arrays(a,b):\n",
    "\n",
    "    n1 = len(a)\n",
    "    n2 =  len(b)\n",
    "\n",
    "    n =  n1 +n2\n",
    "    cnt1 = 0\n",
    "    cnt2 = 0\n",
    "    idx1 = int(n/2)\n",
    "    idx2 = idx1-1\n",
    "    median = []\n",
    "    i =0\n",
    "    j=0\n",
    "    while (i<n1) and (j<n2):\n",
    "        if a[i] < b[j]:\n",
    "            \n",
    "            if idx1 == cnt1:\n",
    "                median.append(a[i])\n",
    "            if idx2 == cnt2:\n",
    "                median.append(a[i])\n",
    "\n",
    "            i+=1\n",
    "            cnt1+=1\n",
    "            cnt2+=1\n",
    "        else:\n",
    "            \n",
    "            if idx1 == cnt1:\n",
    "                median.append(b[j])\n",
    "            if idx2 == cnt2:\n",
    "                median.append(b[j])\n",
    "            j+=1\n",
    "            cnt1+=1\n",
    "            cnt2+=1\n",
    "\n",
    "    return median\n",
    "\n",
    "sorted_arrays([1,4,7,10,12],[2,3,6,15])\n"
   ]
  },
  {
   "cell_type": "code",
   "execution_count": 45,
   "id": "ae7c6389",
   "metadata": {},
   "outputs": [
    {
     "data": {
      "text/plain": [
       "[4]"
      ]
     },
     "execution_count": 45,
     "metadata": {},
     "output_type": "execute_result"
    }
   ],
   "source": [
    "def sorted_arrays(a,b,k):\n",
    "\n",
    "    n1 = len(a)\n",
    "    n2 =  len(b)\n",
    "\n",
    "    n =  n1 +n2\n",
    "    cnt1 = 0\n",
    "    idx1 = k-1\n",
    "    median = []\n",
    "    i =0\n",
    "    j=0\n",
    "    while (i<n1) and (j<n2):\n",
    "        if a[i] < b[j]:\n",
    "            \n",
    "            if idx1 == cnt1:\n",
    "                median.append(a[i])\n",
    "            i+=1\n",
    "            cnt1+=1\n",
    "\n",
    "        else:\n",
    "            \n",
    "            if idx1 == cnt1:\n",
    "                median.append(b[j])\n",
    "            j+=1\n",
    "            cnt1+=1\n",
    "\n",
    "    return median\n",
    "\n",
    "sorted_arrays([1,4,7,10,12],[2,3,6,15],4)\n"
   ]
  },
  {
   "cell_type": "code",
   "execution_count": null,
   "id": "09b7f2e1",
   "metadata": {},
   "outputs": [],
   "source": []
  }
 ],
 "metadata": {
  "kernelspec": {
   "display_name": "Python 3",
   "language": "python",
   "name": "python3"
  },
  "language_info": {
   "codemirror_mode": {
    "name": "ipython",
    "version": 3
   },
   "file_extension": ".py",
   "mimetype": "text/x-python",
   "name": "python",
   "nbconvert_exporter": "python",
   "pygments_lexer": "ipython3",
   "version": "3.11.9"
  }
 },
 "nbformat": 4,
 "nbformat_minor": 5
}
