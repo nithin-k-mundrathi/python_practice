{
 "cells": [
  {
   "cell_type": "code",
   "execution_count": 2,
   "id": "746aba1e",
   "metadata": {},
   "outputs": [
    {
     "data": {
      "text/plain": [
       "2"
      ]
     },
     "execution_count": 2,
     "metadata": {},
     "output_type": "execute_result"
    }
   ],
   "source": [
    "a = [3,4,6,7,9,12,16,17]\n",
    "\n",
    "def binary_search(a,target):\n",
    "\n",
    "    low =0 \n",
    "    n = len(a)\n",
    "    high = n-1\n",
    "\n",
    "    while low <=high:\n",
    "        \n",
    "        mid = low  + int((high-low)/2)\n",
    "\n",
    "        if a[mid] == target:\n",
    "            return mid\n",
    "        elif a[mid] > target:\n",
    "            high = mid-1\n",
    "        elif a[mid] < target:\n",
    "            low = mid+1\n",
    "    return -1\n",
    "binary_search(a,6)"
   ]
  },
  {
   "cell_type": "code",
   "execution_count": 49,
   "id": "06704a8a",
   "metadata": {},
   "outputs": [
    {
     "data": {
      "text/plain": [
       "12"
      ]
     },
     "execution_count": 49,
     "metadata": {},
     "output_type": "execute_result"
    }
   ],
   "source": [
    "a = [3,4,6,7,9,12,16,17]\n",
    "\n",
    "def lower_bound(a,target):\n",
    "    low =0 \n",
    "    n =len(a)\n",
    "    high = n-1\n",
    "\n",
    "    ans = n\n",
    "\n",
    "    while low <=high:\n",
    "\n",
    "        mid = int((low+high)/2)\n",
    "        if a[mid] ==target:\n",
    "            return a[mid]\n",
    "        elif target <= a[mid]:\n",
    "            ans = a[mid]\n",
    "            high = mid-1\n",
    "        else:\n",
    "            low = mid+1\n",
    "    return ans \n",
    "\n",
    "lower_bound(a,11)\n"
   ]
  },
  {
   "cell_type": "code",
   "execution_count": 57,
   "id": "a1c2d522",
   "metadata": {},
   "outputs": [
    {
     "data": {
      "text/plain": [
       "5"
      ]
     },
     "execution_count": 57,
     "metadata": {},
     "output_type": "execute_result"
    }
   ],
   "source": [
    "a = [3,4,6,7,9,12,16,17]\n",
    "\n",
    "def higher_bound(a,target):\n",
    "    low =0 \n",
    "    n = len(a)\n",
    "    high = n-1\n",
    "    ans = n\n",
    "    index = -1\n",
    "    while low<=high:\n",
    "\n",
    "        mid = int((low+high)/2)\n",
    "\n",
    "        if a[mid] ==target:\n",
    "            return mid\n",
    "        elif a[mid] > target:\n",
    "            index = mid\n",
    "            high = mid-1\n",
    "        else:\n",
    "            low = mid+1\n",
    "    return index\n",
    "\n",
    "higher_bound(a,12)\n"
   ]
  },
  {
   "cell_type": "code",
   "execution_count": 15,
   "id": "75c8bd44",
   "metadata": {},
   "outputs": [
    {
     "data": {
      "text/plain": [
       "[3, 4, 6, 7, 9, 10, 12, 16, 17]"
      ]
     },
     "execution_count": 15,
     "metadata": {},
     "output_type": "execute_result"
    }
   ],
   "source": [
    "a = [3,4,6,7,9,12,16,17]\n",
    "\n",
    "def insert(a,target):\n",
    "    low =0 \n",
    "    n = len(a)\n",
    "    high = n-1\n",
    "    ans = target\n",
    "\n",
    "    while low <=high:\n",
    "\n",
    "        mid = low + int((high-low)/2)\n",
    "\n",
    "        if a[mid] >= target:\n",
    "            ans = mid\n",
    "            high = mid-1\n",
    "        else:\n",
    "            low = mid+1\n",
    "    return ans\n",
    "\n",
    "insert(a,10)\n",
    "a.insert(insert(a,10),10)\n",
    "a"
   ]
  },
  {
   "cell_type": "code",
   "execution_count": null,
   "id": "5115e3ae",
   "metadata": {},
   "outputs": [
    {
     "data": {
      "text/plain": [
       "4"
      ]
     },
     "execution_count": 16,
     "metadata": {},
     "output_type": "execute_result"
    }
   ],
   "source": [
    "a = [3,4,6,7,9,9,9,9,10,12,16,17]\n",
    "\n",
    "def first(a,target):\n",
    "    low =0 \n",
    "    n = len(a)\n",
    "    high = n-1\n",
    "\n",
    "    while low <= high:\n",
    "\n",
    "        mid = low + int((high-low)/2)\n",
    "\n",
    "        if a[mid] == target:\n",
    "            ans = target\n",
    "            high = mid-1\n",
    "        else:\n",
    "\n",
    "first(a,9)\n",
    "\n",
    "\n"
   ]
  },
  {
   "cell_type": "code",
   "execution_count": 19,
   "id": "be93f578",
   "metadata": {},
   "outputs": [
    {
     "data": {
      "text/plain": [
       "7"
      ]
     },
     "execution_count": 19,
     "metadata": {},
     "output_type": "execute_result"
    }
   ],
   "source": [
    "a = [3,4,6,7,9,9,9,9,10,12,16,17]\n",
    "\n",
    "def last(a,target):\n",
    "    low =0 \n",
    "    n = len(a)\n",
    "    high = n-1\n",
    "\n",
    "    while low <= high:\n",
    "\n",
    "        mid = low + int((high-low)/2)\n",
    "\n",
    "        if a[mid] == target:\n",
    "            ans = mid\n",
    "            low = mid+1\n",
    "        elif a[mid] < target:\n",
    "            low = mid+1\n",
    "        else:\n",
    "            high = mid-1\n",
    "\n",
    "    return ans\n",
    "\n",
    "last(a,9)\n",
    "\n",
    "\n"
   ]
  },
  {
   "cell_type": "code",
   "execution_count": null,
   "id": "9d5e7319",
   "metadata": {},
   "outputs": [
    {
     "name": "stdout",
     "output_type": "stream",
     "text": [
      "6\n"
     ]
    }
   ],
   "source": [
    "a= [7,8,9,1,2,3,4,5,6]\n",
    "\n",
    "def searchsortedarray(a,x):\n",
    "\n",
    "    low =0\n",
    "    n =len(a)\n",
    "    high = n-1\n",
    "\n",
    "    while low <= high:\n",
    "\n",
    "        mid = low + int((high-low)/2)\n",
    "        \n",
    "        while ((a[low]==a[mid]) & (a[high]==a[mid])): \n",
    "            low = low+1\n",
    "            high = high-1\n",
    "\n",
    "        if a[mid] ==x:\n",
    "            return mid\n",
    "        elif a[low] <= a[mid]:\n",
    "            if (a[low] <=x) & (x<=a[mid]):\n",
    "                high = mid-1\n",
    "            else:\n",
    "                low = mid+1\n",
    "        elif a[mid] <= a[high]:\n",
    "            if (a[mid] <=x) & (x<=a[high]):\n",
    "                low =mid+1\n",
    "            else:\n",
    "                high = mid-1\n",
    "    return -1\n",
    "\n",
    "print(searchsortedarray(a,4))"
   ]
  },
  {
   "cell_type": "code",
   "execution_count": 58,
   "id": "37198368",
   "metadata": {},
   "outputs": [
    {
     "data": {
      "text/plain": [
       "3"
      ]
     },
     "execution_count": 58,
     "metadata": {},
     "output_type": "execute_result"
    }
   ],
   "source": [
    "a= [7,8,9,1,2,3,4,5,6]\n",
    "\n",
    "def rotatedsorted(a):\n",
    "\n",
    "    low = 0\n",
    "    n =len(a)\n",
    "    high = n-1\n",
    "    mini = 1000000\n",
    "\n",
    "    while low <= high:\n",
    "\n",
    "        mid = low + int((high-low)/2)\n",
    "\n",
    "        if a[mid] ==mini:\n",
    "            return mid\n",
    "        elif a[low] <= a[mid]:\n",
    "            if a[low] <= mini:\n",
    "                mini = a[low]\n",
    "                index = low\n",
    "            low = mid+1\n",
    "        else:\n",
    "            if a[mid] <= mini:\n",
    "                mini = a[mid]\n",
    "                index = mini\n",
    "            high = mid-1\n",
    "\n",
    "    return index\n",
    "\n",
    "rotatedsorted(a)"
   ]
  },
  {
   "cell_type": "code",
   "execution_count": 28,
   "id": "b9b61621",
   "metadata": {},
   "outputs": [
    {
     "data": {
      "text/plain": [
       "(1, 3)"
      ]
     },
     "execution_count": 28,
     "metadata": {},
     "output_type": "execute_result"
    }
   ],
   "source": [
    "a= [7,8,9,1,2,3,4,5,6]\n",
    "\n",
    "def rotatedsorted_n(a):\n",
    "\n",
    "    low = 0\n",
    "    n =len(a)\n",
    "    high = n-1\n",
    "    mini = 1000000\n",
    "\n",
    "    while low <= high:\n",
    "\n",
    "        mid = low + int((high-low)/2)\n",
    "\n",
    "        if a[low] <= a[mid]:\n",
    "            if a[low] <= mini:\n",
    "                index = low\n",
    "                mini = a[low]\n",
    "            low = mid+1\n",
    "        else:\n",
    "            if a[mid] <= mini:\n",
    "                index = mid\n",
    "                mini = a[mid]\n",
    "            high = mid-1\n",
    "    return mini,index\n",
    "\n",
    "rotatedsorted_n(a)"
   ]
  },
  {
   "cell_type": "code",
   "execution_count": 32,
   "id": "2a6f32db",
   "metadata": {},
   "outputs": [
    {
     "name": "stdout",
     "output_type": "stream",
     "text": [
      "3\n"
     ]
    }
   ],
   "source": [
    "n  = int(input())\n",
    "\n",
    "low =1\n",
    "high =n\n",
    "\n",
    "while low <=high:\n",
    "    mid = int((low +high)/2)\n",
    "\n",
    "    if mid**2 <= n:\n",
    "        low = mid+1\n",
    "    else:\n",
    "        high = mid-1\n",
    "print(high)"
   ]
  },
  {
   "cell_type": "code",
   "execution_count": 40,
   "id": "658b5bf5",
   "metadata": {},
   "outputs": [
    {
     "data": {
      "text/plain": [
       "4"
      ]
     },
     "execution_count": 40,
     "metadata": {},
     "output_type": "execute_result"
    }
   ],
   "source": [
    "import math\n",
    "def sumD(a,ele):\n",
    "  n= len(a)\n",
    "  t_sum =0\n",
    "  for i in range(n):\n",
    "    t_sum += math.ceil(a[i]/ele)\n",
    "\n",
    "  return t_sum\n",
    "\n",
    "\n",
    "def smallest_divisor(a,threshold):\n",
    "  \n",
    "  low = 1\n",
    "  n = len(a)\n",
    "  high = max(a)\n",
    "\n",
    "  if n >threshold:\n",
    "    return -1\n",
    "\n",
    "  while low <=high:\n",
    "    mid = int((low+high)/2)\n",
    "\n",
    "    if sumD(a,mid) <= threshold:\n",
    "      high = mid-1\n",
    "    else:\n",
    "      low = mid+1\n",
    "    \n",
    "  return low \n",
    "\n",
    "a = [1,7,8,9]\n",
    "smallest_divisor(a,9)"
   ]
  },
  {
   "cell_type": "code",
   "execution_count": 43,
   "id": "bab28ce0",
   "metadata": {},
   "outputs": [
    {
     "data": {
      "text/plain": [
       "[4, 6]"
      ]
     },
     "execution_count": 43,
     "metadata": {},
     "output_type": "execute_result"
    }
   ],
   "source": [
    "def sorted_arrays(a,b):\n",
    "\n",
    "    n1 = len(a)\n",
    "    n2 =  len(b)\n",
    "\n",
    "    n =  n1 +n2\n",
    "    cnt1 = 0\n",
    "    cnt2 = 0\n",
    "    idx1 = int(n/2)\n",
    "    idx2 = idx1-1\n",
    "    median = []\n",
    "    i =0\n",
    "    j=0\n",
    "    while (i<n1) and (j<n2):\n",
    "        if a[i] < b[j]:\n",
    "            \n",
    "            if idx1 == cnt1:\n",
    "                median.append(a[i])\n",
    "            if idx2 == cnt2:\n",
    "                median.append(a[i])\n",
    "\n",
    "            i+=1\n",
    "            cnt1+=1\n",
    "            cnt2+=1\n",
    "        else:\n",
    "            \n",
    "            if idx1 == cnt1:\n",
    "                median.append(b[j])\n",
    "            if idx2 == cnt2:\n",
    "                median.append(b[j])\n",
    "            j+=1\n",
    "            cnt1+=1\n",
    "            cnt2+=1\n",
    "\n",
    "    return median\n",
    "\n",
    "sorted_arrays([1,4,7,10,12],[2,3,6,15])\n"
   ]
  },
  {
   "cell_type": "code",
   "execution_count": 45,
   "id": "ae7c6389",
   "metadata": {},
   "outputs": [
    {
     "data": {
      "text/plain": [
       "[4]"
      ]
     },
     "execution_count": 45,
     "metadata": {},
     "output_type": "execute_result"
    }
   ],
   "source": [
    "def sorted_arrays(a,b,k):\n",
    "\n",
    "    n1 = len(a)\n",
    "    n2 =  len(b)\n",
    "\n",
    "    n =  n1 +n2\n",
    "    cnt1 = 0\n",
    "    idx1 = k-1\n",
    "    median = []\n",
    "    i =0\n",
    "    j=0\n",
    "    while (i<n1) and (j<n2):\n",
    "        if a[i] < b[j]:\n",
    "            \n",
    "            if idx1 == cnt1:\n",
    "                median.append(a[i])\n",
    "            i+=1\n",
    "            cnt1+=1\n",
    "\n",
    "        else:\n",
    "            \n",
    "            if idx1 == cnt1:\n",
    "                median.append(b[j])\n",
    "            j+=1\n",
    "            cnt1+=1\n",
    "\n",
    "    return median\n",
    "\n",
    "sorted_arrays([1,4,7,10,12],[2,3,6,15],4)\n"
   ]
  },
  {
   "cell_type": "code",
   "execution_count": 7,
   "id": "09b7f2e1",
   "metadata": {},
   "outputs": [
    {
     "name": "stdout",
     "output_type": "stream",
     "text": [
      "[8, 8, 9, 3, 6, 9, 9, 9, 7, 9, 3, 9, -1]\n"
     ]
    }
   ],
   "source": [
    "from collections import deque\n",
    "stack = deque()\n",
    "nge= []\n",
    "a = [6,0,8,1,3,6,2,9,7,7,1,3,9]\n",
    "n = len(a) -1\n",
    "\n",
    "for i in range(n,-1,-1):\n",
    "    \n",
    "    while (len(stack)!=0) and (a[i]>stack[-1]):\n",
    "        stack.pop()\n",
    "    \n",
    "    if len(stack) ==0:\n",
    "        nge.append(-1)\n",
    "    else:\n",
    "        nge.append(stack[-1])\n",
    "\n",
    "    stack.append(a[i])\n",
    "  \n",
    "print(nge[::-1])"
   ]
  },
  {
   "cell_type": "code",
   "execution_count": 1,
   "id": "3aca507f",
   "metadata": {},
   "outputs": [],
   "source": [
    "class node:\n",
    "    def __init__(self,data1,next1=None):\n",
    "        self.data = data1\n",
    "        self.next =  next1"
   ]
  },
  {
   "cell_type": "code",
   "execution_count": 4,
   "id": "f7f0c2f2",
   "metadata": {},
   "outputs": [
    {
     "name": "stdout",
     "output_type": "stream",
     "text": [
      "Loop found\n",
      "0 4\n",
      "2 5\n"
     ]
    },
    {
     "data": {
      "text/plain": [
       "(3, 2)"
      ]
     },
     "execution_count": 4,
     "metadata": {},
     "output_type": "execute_result"
    }
   ],
   "source": [
    "class node:\n",
    "  def __init__(self,data):\n",
    "    self.data =  data\n",
    "    self.next = None\n",
    "\n",
    "a = node(0)\n",
    "y =node(2)\n",
    "x =  node(3) # Start of Node\n",
    "z = node(4)\n",
    "end = node(5)\n",
    "enda = node(6)\n",
    "a.next =y\n",
    "y.next = x\n",
    "x.next  = z\n",
    "z.next =  end\n",
    "end.next = enda\n",
    "end.next = x # End Of Node\n",
    "def start_loop_hair_method(head):\n",
    "  har_current =  head\n",
    "  slow_c = head\n",
    "  \n",
    "  while (slow_c != None) & (har_current != None):\n",
    "\n",
    "    slow_c =  slow_c.next\n",
    "    har_current =  har_current.next.next\n",
    "\n",
    "    if slow_c == har_current:\n",
    "      print('Loop found')\n",
    "      count =0\n",
    "      current =  head\n",
    "      while current != har_current:\n",
    "        print(current.data,har_current.data)\n",
    "        count +=1\n",
    "        har_current = har_current.next\n",
    "        current =  current.next\n",
    "\n",
    "      return har_current.data,count\n",
    "\n",
    "start_loop_hair_method(a)"
   ]
  },
  {
   "cell_type": "code",
   "execution_count": 5,
   "id": "a93c21c2",
   "metadata": {},
   "outputs": [
    {
     "name": "stdout",
     "output_type": "stream",
     "text": [
      "[8, 8, -1, 3, -1]\n"
     ]
    }
   ],
   "source": [
    "from collections import deque\n",
    "stack = deque()\n",
    "nge= []\n",
    "a = [6,0,8,1,3]\n",
    "n = len(a) -1\n",
    "\n",
    "for i in range(2*n,-1,-1):\n",
    "    # Check for  length of stakc - if stack is empty\n",
    "    # Check if element of array is greater than stack - pop from stack\n",
    "    while len(stack) !=0 and a[i%n] >= stack[-1]:\n",
    "        stack.pop()\n",
    "    if len(stack) ==0:\n",
    "        nge.append(-1)\n",
    "    else:\n",
    "        nge.append(stack[-1])\n",
    "    stack.append(a[i%n])\n",
    "  \n",
    "print(nge[::-1][:n])"
   ]
  },
  {
   "cell_type": "code",
   "execution_count": 7,
   "id": "a4c35854",
   "metadata": {},
   "outputs": [
    {
     "name": "stdout",
     "output_type": "stream",
     "text": [
      "[6, 6, 8, 8, 8] [8, 8, 8, 3, 3]\n"
     ]
    }
   ],
   "source": [
    "from collections import deque\n",
    "stack = deque()\n",
    "\n",
    "a = [6,0,8,1,3]\n",
    "n = len(a)\n",
    "lmax= [a[0]]\n",
    "for i in range(1,n):\n",
    "    lmax.append(max(lmax[-1],a[i]))\n",
    "\n",
    "rmax = [a[-1]]\n",
    "\n",
    "for i in range(n-2,-1,-1):\n",
    "    rmax.append(max(rmax[-1],a[i]))\n",
    "\n",
    "print(lmax,rmax[::-1])\n",
    "\n",
    "sum = 0\n",
    "for i in range(a):\n",
    "    \n",
    "    "
   ]
  },
  {
   "cell_type": "code",
   "execution_count": 11,
   "id": "3023a34f",
   "metadata": {},
   "outputs": [
    {
     "data": {
      "text/plain": [
       "[-4, 2]"
      ]
     },
     "execution_count": 11,
     "metadata": {},
     "output_type": "execute_result"
    }
   ],
   "source": [
    "def asteroidcollisions(a):\n",
    "  n = len(a)\n",
    "  stack = []\n",
    "\n",
    "  for i in range(n):\n",
    "\n",
    "    if a[i]>0:\n",
    "      stack.append(a[i])\n",
    "    else:\n",
    "\n",
    "      while (len(stack) !=0) and (abs(a[i])>abs(stack[-1])):\n",
    "        stack.pop()\n",
    "        if len(stack)==0:\n",
    "          break\n",
    "      \n",
    "      if len(stack) ==0:\n",
    "        stack.append(a[i])\n",
    "      elif (abs(a[i]) == abs(stack[-1])) and (len(stack) !=0):\n",
    "        stack.pop()\n",
    "  return stack\n",
    "\n",
    "a = [3,1,-4,-3,2]\n",
    "asteroidcollisions(a)"
   ]
  },
  {
   "cell_type": "code",
   "execution_count": 15,
   "id": "33696c37",
   "metadata": {},
   "outputs": [
    {
     "data": {
      "text/plain": [
       "[1, 2, 3, 5, 5, 6, 8, 8]"
      ]
     },
     "execution_count": 15,
     "metadata": {},
     "output_type": "execute_result"
    }
   ],
   "source": [
    "def index_nge(a):\n",
    "  n = len(a)\n",
    "  stack = []\n",
    "  nge = []\n",
    "\n",
    "  for i in range(n-1,-1,-1):\n",
    "\n",
    "    if len(stack) >0:\n",
    "      while (len(stack)!=0) and (a[i]>a[stack[-1]]):\n",
    "        stack.pop()\n",
    "        if len(stack) ==0:\n",
    "          break\n",
    "\n",
    "    if len(stack)==0:\n",
    "      nge.append(n)\n",
    "    else:\n",
    "      nge.append(stack[-1])\n",
    "\n",
    "    stack.append(i)\n",
    "  return nge[::-1]\n",
    "\n",
    "a = [1,4,6,7,3,7,8,1]\n",
    "index_nge(a)"
   ]
  },
  {
   "cell_type": "code",
   "execution_count": 17,
   "id": "008111b5",
   "metadata": {},
   "outputs": [
    {
     "data": {
      "text/plain": [
       "[7, 4, 4, 4, 7, 7, 7, 8]"
      ]
     },
     "execution_count": 17,
     "metadata": {},
     "output_type": "execute_result"
    }
   ],
   "source": [
    "def nse(a):\n",
    "  n = len(a)\n",
    "  stack = []\n",
    "  nse = []\n",
    "\n",
    "  for i in range(n-1,-1,-1):\n",
    "\n",
    "    if len(stack) >0:\n",
    "      while (len(stack)!=0) and (a[i] <a[stack[-1]]):\n",
    "        stack.pop()\n",
    "        if len(stack) ==0:\n",
    "          break\n",
    "    \n",
    "    if len(stack) ==0:\n",
    "      nse.append(n)\n",
    "    else:\n",
    "      nse.append(stack[-1])\n",
    "    stack.append(i)\n",
    "\n",
    "  return nse[::-1]\n",
    "\n",
    "a = [1,4,6,7,3,7,8,1]\n",
    "nse(a)"
   ]
  },
  {
   "cell_type": "code",
   "execution_count": 22,
   "id": "eac32f61",
   "metadata": {},
   "outputs": [
    {
     "data": {
      "text/plain": [
       "[-1, 0, 1, 2, 0, 4, 5, 0]"
      ]
     },
     "execution_count": 22,
     "metadata": {},
     "output_type": "execute_result"
    }
   ],
   "source": [
    "def pse(a):\n",
    "  n = len(a)\n",
    "  stack = []\n",
    "  pse = []\n",
    "\n",
    "  for i in range(0,n):\n",
    "\n",
    "    if len(stack) >0:\n",
    "      while (len(stack)!=0) and (a[i] < a[stack[-1]]):\n",
    "        stack.pop()\n",
    "        if len(stack) ==0:\n",
    "          break\n",
    "    \n",
    "    if len(stack) ==0:\n",
    "      pse.append(-1)\n",
    "    else:\n",
    "      pse.append(stack[-1])\n",
    "    stack.append(i)\n",
    "\n",
    "  return pse\n",
    "\n",
    "a = [1,4,6,7,3,7,8,1]\n",
    "pse(a)"
   ]
  },
  {
   "cell_type": "code",
   "execution_count": 23,
   "id": "c5585068",
   "metadata": {},
   "outputs": [
    {
     "data": {
      "text/plain": [
       "[-1, -1, -1, -1, 3, 3, -1, 6]"
      ]
     },
     "execution_count": 23,
     "metadata": {},
     "output_type": "execute_result"
    }
   ],
   "source": [
    "def pge(a):\n",
    "  n = len(a)\n",
    "  stack = []\n",
    "  pge = []\n",
    "\n",
    "  for i in range(0,n):\n",
    "\n",
    "    if len(stack) >0:\n",
    "      while (len(stack)!=0) and (a[i] > a[stack[-1]]):\n",
    "        stack.pop()\n",
    "        if len(stack) ==0:\n",
    "          break\n",
    "    \n",
    "    if len(stack) ==0:\n",
    "      pge.append(-1)\n",
    "    else:\n",
    "      pge.append(stack[-1])\n",
    "    stack.append(i)\n",
    "\n",
    "  return pge\n",
    "\n",
    "a = [1,4,6,7,3,7,8,1]\n",
    "pge(a)"
   ]
  },
  {
   "cell_type": "code",
   "execution_count": 24,
   "id": "d8b965c1",
   "metadata": {},
   "outputs": [
    {
     "name": "stdout",
     "output_type": "stream",
     "text": [
      "[1, 2, 3, 2, 4, 5, 1, 0, 0, 0]\n"
     ]
    }
   ],
   "source": [
    "a = [1 ,0 ,2 ,3,2 ,0 ,4,5 ,0 ,1]\n",
    "start = 0\n",
    "end= 1\n",
    "for i in range(end,len(a)):\n",
    "    if a[i]!=0:\n",
    "        a[end],a[i] = a[i],a[end]\n",
    "        end +=1\n",
    "print(a)"
   ]
  },
  {
   "cell_type": "code",
   "execution_count": 26,
   "id": "f4fbd92d",
   "metadata": {},
   "outputs": [
    {
     "name": "stdout",
     "output_type": "stream",
     "text": [
      "1 3\n"
     ]
    }
   ],
   "source": [
    "a = [1, 2, 3, 4, 5]\n",
    "s = 4\n",
    "n = len(a)\n",
    "start_index = 0\n",
    "end_index = n-1\n",
    "\n",
    "for i in range(n):\n",
    "    \n",
    "    if a[start_index] + a[end_index] == s:\n",
    "        print(a[start_index],a[end_index])\n",
    "        break\n",
    "    elif a[start_index] + a[end_index] < s:\n",
    "        start_index = start_index +1\n",
    "    elif a[start_index] + a[end_index] > s:\n",
    "            end_index = end_index - 1"
   ]
  },
  {
   "cell_type": "code",
   "execution_count": 27,
   "id": "f7a2f3ea",
   "metadata": {},
   "outputs": [
    {
     "name": "stdout",
     "output_type": "stream",
     "text": [
      "[0, 0, 0, 0, 0, 1, 1, 1, 1, 1, 2, 2, 2, 2, 2, 2, 2, 2]\n"
     ]
    }
   ],
   "source": [
    "a  = [2,0,2,1,1,0,2,0,1,2,0,2,1,0,2,1,2,2]\n",
    "low = 0\n",
    "mid =0\n",
    "high = len(a) -1\n",
    "\n",
    "while mid <= high and low <=high:\n",
    "    \n",
    "    if a[mid] ==0:\n",
    "        a[mid],a[low] = a[low],a[mid]\n",
    "        low +=1\n",
    "        mid +=1\n",
    "    elif a[mid] ==1:\n",
    "        mid+=1\n",
    "    elif a[mid] ==2:\n",
    "        a[mid],a[high] = a[high],a[mid]\n",
    "        high = high-1\n",
    "\n",
    "print(a)    "
   ]
  },
  {
   "cell_type": "code",
   "execution_count": 29,
   "id": "0bf22f35",
   "metadata": {},
   "outputs": [
    {
     "name": "stdout",
     "output_type": "stream",
     "text": [
      "2 2\n"
     ]
    }
   ],
   "source": [
    "# Occurence will cancel them selves\n",
    "a  = [2,0,2,1,1,0,2,0,1,2,0,2,1,0,2,1,2,2]\n",
    "count = 0\n",
    "for i in a:\n",
    "    \n",
    "    if count==0:\n",
    "        ele = i\n",
    "        count =1\n",
    "    \n",
    "    elif i != ele:\n",
    "        count -=1\n",
    "    else:\n",
    "        count +=1\n",
    "\n",
    "print(ele,count)"
   ]
  },
  {
   "cell_type": "code",
   "execution_count": null,
   "id": "8c7066a6",
   "metadata": {},
   "outputs": [],
   "source": [
    "a  = [7,1,5,3,6,4,10,0,4,2,0]\n",
    "\n",
    "mini = 10000000\n",
    "maxi = -1000000\n",
    "\n",
    "for i in range(len(a)):\n",
    "    \n",
    "    mini = min(mini,a[i])\n",
    "    maxi = max(maxi, a[i]-mini)"
   ]
  },
  {
   "cell_type": "code",
   "execution_count": null,
   "id": "b4813526",
   "metadata": {},
   "outputs": [
    {
     "name": "stdout",
     "output_type": "stream",
     "text": [
      "[2, 3, 1]\n",
      "[2, 1, 3]\n"
     ]
    }
   ],
   "source": [
    "a  = [7,1,5,3,6,4,10,0,4,2,0]\n",
    "a= [1,3,2]\n",
    "n = len(a)\n",
    "idx  =-1\n",
    "for i in range(n-2,-1,-1):\n",
    "    if a[i+1] > a[i]:\n",
    "        idx = i\n",
    "        break\n",
    "for j in range(n-1,idx,-1):\n",
    "    if a[j] > a[idx]:\n",
    "        a[idx],a[j] = a[j],a[idx]\n",
    "        break\n",
    "\n",
    "print(a)\n",
    "\n",
    "o = a[:idx+1] + a[idx+1:][::-1]\n",
    "print(o)"
   ]
  },
  {
   "cell_type": "code",
   "execution_count": null,
   "id": "8b1a985f",
   "metadata": {},
   "outputs": [],
   "source": []
  }
 ],
 "metadata": {
  "kernelspec": {
   "display_name": "Python 3",
   "language": "python",
   "name": "python3"
  },
  "language_info": {
   "codemirror_mode": {
    "name": "ipython",
    "version": 3
   },
   "file_extension": ".py",
   "mimetype": "text/x-python",
   "name": "python",
   "nbconvert_exporter": "python",
   "pygments_lexer": "ipython3",
   "version": "3.11.9"
  }
 },
 "nbformat": 4,
 "nbformat_minor": 5
}
