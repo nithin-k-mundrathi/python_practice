{
  "nbformat": 4,
  "nbformat_minor": 0,
  "metadata": {
    "colab": {
      "provenance": [],
      "authorship_tag": "ABX9TyN8HNZh69PTZ+v03qL8QDQl",
      "include_colab_link": true
    },
    "kernelspec": {
      "name": "python3",
      "display_name": "Python 3"
    },
    "language_info": {
      "name": "python"
    }
  },
  "cells": [
    {
      "cell_type": "markdown",
      "metadata": {
        "id": "view-in-github",
        "colab_type": "text"
      },
      "source": [
        "<a href=\"https://colab.research.google.com/github/nithin-k-mundrathi/python_practice/blob/main/Data-Structures/Linked_Lists.ipynb\" target=\"_parent\"><img src=\"https://colab.research.google.com/assets/colab-badge.svg\" alt=\"Open In Colab\"/></a>"
      ]
    },
    {
      "cell_type": "markdown",
      "source": [
        "# 1. Reverse a Linked List"
      ],
      "metadata": {
        "id": "6y0ZfG6E4uLX"
      }
    },
    {
      "cell_type": "code",
      "source": [
        "# Reverse a LinkedList\n",
        "def reversePrint(llist):\n",
        "    # Write your code here\n",
        "    if not llist:\n",
        "        return\n",
        "    reversePrint(llist.next)\n",
        "    print(llist.data)\n",
        "\n",
        "if __name__ == '__main__':\n",
        "    tests = int(input())\n",
        "\n",
        "    for tests_itr in range(tests):\n",
        "        llist_count = int(input())\n",
        "\n",
        "        llist = SinglyLinkedList()\n",
        "\n",
        "        for _ in range(llist_count):\n",
        "            llist_item = int(input())\n",
        "            llist.insert_node(llist_item)\n",
        "\n",
        "        reversePrint(llist.head)"
      ],
      "metadata": {
        "id": "-wwsDICq4wj2"
      },
      "execution_count": null,
      "outputs": []
    },
    {
      "cell_type": "markdown",
      "source": [
        "# 2. Print Elements of Linked List"
      ],
      "metadata": {
        "id": "D1tx05zb4zMH"
      }
    },
    {
      "cell_type": "code",
      "source": [
        "# Print the elements of a LinkedList\n",
        "\n",
        "def printLinkedList(head):\n",
        "    current_node = head\n",
        "    while current_node != None:\n",
        "        print(current_node.data)\n",
        "        current_node = current_node.next\n",
        "\n",
        "if __name__ == '__main__':\n",
        "    llist_count = int(input())\n",
        "\n",
        "    llist = SinglyLinkedList()\n",
        "\n",
        "    for _ in range(llist_count):\n",
        "        llist_item = int(input())\n",
        "        llist.insert_node(llist_item)\n",
        "\n",
        "    printLinkedList(llist.head)"
      ],
      "metadata": {
        "id": "c1us7Z5e41va"
      },
      "execution_count": null,
      "outputs": []
    }
  ]
}