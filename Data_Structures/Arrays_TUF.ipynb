{
  "nbformat": 4,
  "nbformat_minor": 0,
  "metadata": {
    "colab": {
      "provenance": [],
      "authorship_tag": "ABX9TyPA0Sh53Yov1WsjQOUOWVVX",
      "include_colab_link": true
    },
    "kernelspec": {
      "name": "python3",
      "display_name": "Python 3"
    },
    "language_info": {
      "name": "python"
    }
  },
  "cells": [
    {
      "cell_type": "markdown",
      "metadata": {
        "id": "view-in-github",
        "colab_type": "text"
      },
      "source": [
        "<a href=\"https://colab.research.google.com/github/nithin-k-mundrathi/python_practice/blob/main/Data_Structures/Arrays_TUF.ipynb\" target=\"_parent\"><img src=\"https://colab.research.google.com/assets/colab-badge.svg\" alt=\"Open In Colab\"/></a>"
      ]
    },
    {
      "cell_type": "markdown",
      "source": [
        "# 1. Arrays"
      ],
      "metadata": {
        "id": "oAFeyuMEhy8u"
      }
    },
    {
      "cell_type": "markdown",
      "source": [
        "## 1. Largest Element in an Array"
      ],
      "metadata": {
        "id": "C9ghlqifiZYj"
      }
    },
    {
      "cell_type": "code",
      "source": [
        "list_1 = [2,5,1,3,0]\n",
        "max = -10000000\n",
        "for i in range(len(list_1)):\n",
        "  if max < list_1[i]:\n",
        "    max = list_1[i]\n",
        "max"
      ],
      "metadata": {
        "colab": {
          "base_uri": "https://localhost:8080/"
        },
        "id": "aDBNtqv8h0qa",
        "outputId": "823b46cd-88bf-444d-9c3e-3125bc7da776"
      },
      "execution_count": null,
      "outputs": [
        {
          "output_type": "execute_result",
          "data": {
            "text/plain": [
              "5"
            ]
          },
          "metadata": {},
          "execution_count": 1
        }
      ]
    },
    {
      "cell_type": "markdown",
      "source": [
        "# 2. Second Largest Element in an Array"
      ],
      "metadata": {
        "id": "Si9Ns6K_i7lT"
      }
    },
    {
      "cell_type": "code",
      "source": [
        "max1 = -100000000\n",
        "max2 = -100000000\n",
        "\n",
        "list_1 = [2,5,1,3,0]\n",
        "for i in range(len(list_1)):\n",
        "  if  list_1[i] > max1:\n",
        "    max2 = max1\n",
        "    max1 = list_1[i]\n",
        "  else:\n",
        "    if (list_1[i] > max2) and (list_1[i] != max1):\n",
        "      max2 = list_1[i]\n",
        "max1,max2"
      ],
      "metadata": {
        "id": "3biF0xuKi7EL",
        "colab": {
          "base_uri": "https://localhost:8080/"
        },
        "outputId": "ba330730-41ac-4ba7-d970-105b02dfb966"
      },
      "execution_count": null,
      "outputs": [
        {
          "output_type": "execute_result",
          "data": {
            "text/plain": [
              "(5, 3)"
            ]
          },
          "metadata": {},
          "execution_count": 4
        }
      ]
    },
    {
      "cell_type": "markdown",
      "source": [
        "# 3. Check if an Array is Sorted"
      ],
      "metadata": {
        "id": "Jc6bO_jx4oLt"
      }
    },
    {
      "cell_type": "code",
      "source": [
        "a = [2,5,1,3,0]\n",
        "for i in range(len(a)-1):\n",
        "  if a[i] >= a[i+1]:\n",
        "    print(False)\n",
        "    break"
      ],
      "metadata": {
        "id": "rDESQyeEitw-",
        "colab": {
          "base_uri": "https://localhost:8080/"
        },
        "outputId": "ae3d9931-cac4-4aba-aca4-d021a6441439"
      },
      "execution_count": null,
      "outputs": [
        {
          "output_type": "stream",
          "name": "stdout",
          "text": [
            "False\n"
          ]
        }
      ]
    },
    {
      "cell_type": "markdown",
      "source": [
        "# 4. Remove Duplicates From sorted Array"
      ],
      "metadata": {
        "id": "67XpToEs5FQX"
      }
    },
    {
      "cell_type": "code",
      "source": [
        "a = [1,2,2,3,3,3,4,5,5]\n",
        "a_d = [1,2,2,3,3,3,4,5]\n",
        "for i in range(len(a)-1):\n",
        "  print(i)\n",
        "  if a[i] ==a[i+1]:\n",
        "    a_d.remove(a[i+1])\n",
        "\n",
        "print(a,a_d)"
      ],
      "metadata": {
        "colab": {
          "base_uri": "https://localhost:8080/"
        },
        "id": "zaR9NsnX47Ki",
        "outputId": "e61718f0-0498-4055-95eb-08d78d506841"
      },
      "execution_count": null,
      "outputs": [
        {
          "output_type": "stream",
          "name": "stdout",
          "text": [
            "0\n",
            "1\n",
            "2\n",
            "3\n",
            "4\n",
            "5\n",
            "6\n",
            "7\n",
            "[1, 2, 2, 3, 3, 3, 4, 5, 5] [1, 2, 3, 4]\n"
          ]
        }
      ]
    },
    {
      "cell_type": "markdown",
      "source": [
        "# 5. LEft Rotate an array by D  Place"
      ],
      "metadata": {
        "id": "mhOljsBJ6mlO"
      }
    },
    {
      "cell_type": "code",
      "source": [
        "a_d = [1, 2, 3, 4, 5]"
      ],
      "metadata": {
        "id": "2OsFYX4v5ame"
      },
      "execution_count": null,
      "outputs": []
    },
    {
      "cell_type": "code",
      "source": [
        "a_d.insert(0,0)\n",
        "a_d"
      ],
      "metadata": {
        "colab": {
          "base_uri": "https://localhost:8080/"
        },
        "id": "ykx-7IsY6mA-",
        "outputId": "6ed857e5-5559-4b1f-e7a5-63bf5751ec24"
      },
      "execution_count": null,
      "outputs": [
        {
          "output_type": "execute_result",
          "data": {
            "text/plain": [
              "[0, 1, 2, 3, 4, 5]"
            ]
          },
          "metadata": {},
          "execution_count": 24
        }
      ]
    },
    {
      "cell_type": "code",
      "source": [
        "a_d = [1, 2, 3, 4, 5]\n",
        "for i in range(3):\n",
        "  for i in range(len(a_d)):\n",
        "    if i==0:\n",
        "      e = a_d[i]\n",
        "    else:\n",
        "      a_d[i-1] = a_d[i]\n",
        "\n",
        "  a_d[len(a_d)-1]= e\n",
        "a_d"
      ],
      "metadata": {
        "colab": {
          "base_uri": "https://localhost:8080/"
        },
        "id": "PVkK9ME_6saB",
        "outputId": "83769bed-3d8f-4cb8-d872-6f7f106abc8f"
      },
      "execution_count": null,
      "outputs": [
        {
          "output_type": "execute_result",
          "data": {
            "text/plain": [
              "[4, 5, 1, 2, 3]"
            ]
          },
          "metadata": {},
          "execution_count": 35
        }
      ]
    },
    {
      "cell_type": "code",
      "source": [
        "d =3\n",
        "a_d = [1, 2, 3, 4, 5]\n",
        "n = len(a_d) -1\n",
        "for i in range(n):\n",
        "\n",
        "  temp = a[d:]"
      ],
      "metadata": {
        "id": "FcAvv9Mg8vyA"
      },
      "execution_count": null,
      "outputs": []
    },
    {
      "cell_type": "code",
      "source": [
        "# Left rotate\n",
        "def rev(a,start,end):\n",
        "  while start <=end:\n",
        "    a[start], a[end] = a[end], a[start]\n",
        "    start+=1\n",
        "    end-=1\n",
        "  return a\n",
        "d =3\n",
        "a = [1, 2, 3, 4, 5]\n",
        "n = len(a)\n",
        "a = rev(a,0,d-1)\n",
        "print(a)\n",
        "a = rev(a,d,n-1)\n",
        "print(a)\n",
        "rev(a,0,n-1)\n",
        "a"
      ],
      "metadata": {
        "colab": {
          "base_uri": "https://localhost:8080/"
        },
        "id": "J1xza3_E-0mX",
        "outputId": "641eed56-8207-41f4-88fc-b11a0bbd16d7"
      },
      "execution_count": null,
      "outputs": [
        {
          "output_type": "stream",
          "name": "stdout",
          "text": [
            "[3, 2, 1, 4, 5]\n",
            "[3, 2, 1, 5, 4]\n"
          ]
        },
        {
          "output_type": "execute_result",
          "data": {
            "text/plain": [
              "[4, 5, 1, 2, 3]"
            ]
          },
          "metadata": {},
          "execution_count": 10
        }
      ]
    },
    {
      "cell_type": "code",
      "source": [
        "# right rotate\n",
        "def rev(a,start,end):\n",
        "  while start <=end:\n",
        "    a[start], a[end] = a[end], a[start]\n",
        "    start+=1\n",
        "    end-=1\n",
        "\n",
        "  return a\n",
        "d =3\n",
        "a = [1, 2, 3, 4, 5]\n",
        "n = len(a)\n",
        "a = rev(a,0,n-1)\n",
        "print(a)\n",
        "a = rev(a,0,d-1)\n",
        "print(a)\n",
        "a = rev(a,d,n-1)\n",
        "print(a)"
      ],
      "metadata": {
        "colab": {
          "base_uri": "https://localhost:8080/"
        },
        "id": "L7EPqktrBSsS",
        "outputId": "b348a532-09f9-4f21-b391-16ea09ed3ab8"
      },
      "execution_count": null,
      "outputs": [
        {
          "output_type": "stream",
          "name": "stdout",
          "text": [
            "[5, 4, 3, 2, 1]\n",
            "[3, 4, 5, 2, 1]\n",
            "[3, 4, 5, 1, 2]\n"
          ]
        },
        {
          "output_type": "execute_result",
          "data": {
            "text/plain": [
              "[3, 4, 5, 1, 2]"
            ]
          },
          "metadata": {},
          "execution_count": 11
        }
      ]
    },
    {
      "cell_type": "markdown",
      "source": [
        "# Lineasr Search"
      ],
      "metadata": {
        "id": "RkXMk7Mg-NG7"
      }
    },
    {
      "cell_type": "code",
      "source": [
        "a_d = [1, 2, 3, 4, 5]\n",
        "s = 4\n",
        "for i in range(len(a_d)):\n",
        "\n",
        "  if a_d[i] == s:\n",
        "    print('found',i)\n",
        "\n",
        "a_d"
      ],
      "metadata": {
        "colab": {
          "base_uri": "https://localhost:8080/"
        },
        "id": "_H8CBgNp7h60",
        "outputId": "16f7c484-177a-44fb-e0b1-f133107a70f1"
      },
      "execution_count": null,
      "outputs": [
        {
          "output_type": "stream",
          "name": "stdout",
          "text": [
            "found 3\n"
          ]
        },
        {
          "output_type": "execute_result",
          "data": {
            "text/plain": [
              "[1, 2, 3, 4, 5]"
            ]
          },
          "metadata": {},
          "execution_count": 36
        }
      ]
    },
    {
      "cell_type": "markdown",
      "source": [
        "# Find the missing number in an array"
      ],
      "metadata": {
        "id": "cpcpgl55-fsw"
      }
    },
    {
      "cell_type": "code",
      "source": [],
      "metadata": {
        "id": "1eyk0nmf-brG"
      },
      "execution_count": null,
      "outputs": []
    },
    {
      "cell_type": "markdown",
      "source": [
        "# Two Sum problem"
      ],
      "metadata": {
        "id": "YofqpY2IAt7m"
      }
    },
    {
      "cell_type": "code",
      "source": [
        "a_d = [1, 2, 3, 4, 5]\n",
        "s = 4\n",
        "start = 0\n",
        "end = len(a_d) - 1\n",
        "for i in range(len(a_d)):\n",
        "  if a_d[start] + a_d[end] == s:\n",
        "    print('found',i,start,end)\n",
        "    break\n",
        "  elif a_d[start] + a_d[end] < s:\n",
        "    start = start+1\n",
        "  else:\n",
        "    end = end-1\n",
        "\n",
        "a_d"
      ],
      "metadata": {
        "colab": {
          "base_uri": "https://localhost:8080/"
        },
        "id": "RX9hfKy0AvIO",
        "outputId": "a74b5a9c-3476-45b7-d38f-91c916cd5a24"
      },
      "execution_count": null,
      "outputs": [
        {
          "output_type": "stream",
          "name": "stdout",
          "text": [
            "found 2 0 2\n"
          ]
        },
        {
          "output_type": "execute_result",
          "data": {
            "text/plain": [
              "[1, 2, 3, 4, 5]"
            ]
          },
          "metadata": {},
          "execution_count": 41
        }
      ]
    },
    {
      "cell_type": "markdown",
      "source": [
        "# Count Maximum Consecutive One's in the array"
      ],
      "metadata": {
        "id": "mluRW14wCnDf"
      }
    },
    {
      "cell_type": "code",
      "source": [
        "a = [1,1,0,1,1,1]\n",
        "count =0\n",
        "for i in range(len(a)-1):\n",
        "  if (a[i] ==a[i+1]) and (a[i] ==1):\n",
        "    count = count +1\n",
        "  else:\n",
        "    count =0\n",
        "count+1"
      ],
      "metadata": {
        "colab": {
          "base_uri": "https://localhost:8080/"
        },
        "id": "t84eKgNPB5jr",
        "outputId": "ec46b938-39a9-46aa-8aef-67fd856941d5"
      },
      "execution_count": null,
      "outputs": [
        {
          "output_type": "execute_result",
          "data": {
            "text/plain": [
              "3"
            ]
          },
          "metadata": {},
          "execution_count": 52
        }
      ]
    },
    {
      "cell_type": "markdown",
      "source": [
        "# Find the missing number in an array"
      ],
      "metadata": {
        "id": "mFGXmZYlECKE"
      }
    },
    {
      "cell_type": "code",
      "source": [
        "a = [1,2,4,5]\n",
        "n = len(a)\n",
        "sum_1 = int(n*(n+1)/2)"
      ],
      "metadata": {
        "id": "gqU3yZJXC7xB"
      },
      "execution_count": null,
      "outputs": []
    },
    {
      "cell_type": "markdown",
      "source": [
        "# Move all Zeros to the end of the array"
      ],
      "metadata": {
        "id": "42_WeXhMGCRs"
      }
    },
    {
      "cell_type": "code",
      "source": [
        "a = [1 ,0 ,2 ,3,2 ,0 ,4,5 ,0 ,1]\n",
        "start = 0\n",
        "end= 1\n",
        "\n",
        "for i in range(end,len(a)):\n",
        "  if (a[i] != 0) :\n",
        "    temp = a[i]\n",
        "    a[i] = a[end]\n",
        "    a[end] = temp\n",
        "    end = end+1\n",
        "  print(a,i, end)\n",
        "a"
      ],
      "metadata": {
        "colab": {
          "base_uri": "https://localhost:8080/"
        },
        "id": "Pdda8ht2EdnZ",
        "outputId": "f3299b1c-af2e-4d37-ddcd-02d558d66094"
      },
      "execution_count": null,
      "outputs": [
        {
          "output_type": "stream",
          "name": "stdout",
          "text": [
            "[1, 0, 2, 3, 2, 0, 4, 5, 0, 1] 1 1\n",
            "[1, 2, 0, 3, 2, 0, 4, 5, 0, 1] 2 2\n",
            "[1, 2, 3, 0, 2, 0, 4, 5, 0, 1] 3 3\n",
            "[1, 2, 3, 2, 0, 0, 4, 5, 0, 1] 4 4\n",
            "[1, 2, 3, 2, 0, 0, 4, 5, 0, 1] 5 4\n",
            "[1, 2, 3, 2, 4, 0, 0, 5, 0, 1] 6 5\n",
            "[1, 2, 3, 2, 4, 5, 0, 0, 0, 1] 7 6\n",
            "[1, 2, 3, 2, 4, 5, 0, 0, 0, 1] 8 6\n",
            "[1, 2, 3, 2, 4, 5, 1, 0, 0, 0] 9 7\n"
          ]
        },
        {
          "output_type": "execute_result",
          "data": {
            "text/plain": [
              "[1, 2, 3, 2, 4, 5, 1, 0, 0, 0]"
            ]
          },
          "metadata": {},
          "execution_count": 12
        }
      ]
    },
    {
      "cell_type": "markdown",
      "source": [
        "# Union of two sorted arrays"
      ],
      "metadata": {
        "id": "V9yGENP-Z_by"
      }
    },
    {
      "cell_type": "code",
      "source": [
        "a = [1,2,3,4,5]\n",
        "b= [2,3,4,5]\n",
        "c = []\n",
        "i=0\n",
        "j=0\n",
        "while i <len(a) and j < len(b):\n",
        "\n",
        "  if a[i] < b[j]:\n",
        "    c.append(a[i])\n",
        "    i = i+1\n",
        "\n",
        "  if a[i] > b[j]:\n",
        "    c.append(b[j])\n",
        "    j = j+1\n",
        "  if a[i] == b[j]:\n",
        "    c.append(a[i])\n",
        "    c.append(b[j])\n",
        "    i=i+1\n",
        "    j = j+1\n",
        "  print(c)\n",
        "\n",
        "while i < len(a):\n",
        "  c.append(a[i])\n",
        "  i = i+1\n",
        "\n",
        "while j < len(b):\n",
        "  c.append(b[j])\n",
        "  j = j+1\n",
        "print(c)"
      ],
      "metadata": {
        "colab": {
          "base_uri": "https://localhost:8080/"
        },
        "id": "wxWt6TZJTSN2",
        "outputId": "83bf5f20-8229-47fb-b451-b598053fa6c4"
      },
      "execution_count": null,
      "outputs": [
        {
          "output_type": "stream",
          "name": "stdout",
          "text": [
            "[1, 2, 2]\n",
            "[1, 2, 2, 3, 3]\n",
            "[1, 2, 2, 3, 3, 4, 4]\n",
            "[1, 2, 2, 3, 3, 4, 4, 5, 5]\n",
            "[1, 2, 2, 3, 3, 4, 4, 5, 5]\n"
          ]
        }
      ]
    },
    {
      "cell_type": "markdown",
      "source": [
        "# Longest Subarray with Sum K"
      ],
      "metadata": {
        "id": "F7UPeXOklyMo"
      }
    },
    {
      "cell_type": "code",
      "source": [
        "from typing import List\n",
        "\n",
        "def getLongestSubarray(a: [int], k: int) -> int:\n",
        "    n = len(a) # size of the array.\n",
        "\n",
        "    length = 0\n",
        "    for i in range(n): # starting index\n",
        "        s = 0\n",
        "        for j in range(i, n): # ending index\n",
        "            # add the current element to\n",
        "            # the subarray a[i...j-1]:\n",
        "            s += a[j]\n",
        "\n",
        "            if s == k:\n",
        "                length = max(length, j - i + 1)\n",
        "    return length\n",
        "\n",
        "if __name__ == '__main__':\n",
        "    a = [2, 3, 5, 1, 9]\n",
        "    k = 12\n",
        "    len = getLongestSubarray(a, k)\n",
        "    print(\"The length of the longest subarray is:\", len)"
      ],
      "metadata": {
        "colab": {
          "base_uri": "https://localhost:8080/"
        },
        "id": "GyTDf4Y1ajCB",
        "outputId": "e148a733-327a-4880-8e4d-eef7209d790a"
      },
      "execution_count": null,
      "outputs": [
        {
          "output_type": "stream",
          "name": "stdout",
          "text": [
            "The length of the longest subarray is: 0\n"
          ]
        }
      ]
    },
    {
      "cell_type": "code",
      "source": [],
      "metadata": {
        "id": "vm0LbPfjl0mp"
      },
      "execution_count": null,
      "outputs": []
    },
    {
      "cell_type": "code",
      "source": [],
      "metadata": {
        "id": "osWuDD8Sl0rG"
      },
      "execution_count": null,
      "outputs": []
    },
    {
      "cell_type": "markdown",
      "source": [
        "# Medium"
      ],
      "metadata": {
        "id": "v0S8MLxZExkU"
      }
    },
    {
      "cell_type": "markdown",
      "source": [
        "## majority element"
      ],
      "metadata": {
        "id": "3ICVvGjkEy2M"
      }
    },
    {
      "cell_type": "code",
      "source": [
        "a = [2,2,1,1,1,2,2]\n",
        "\n",
        "ele =2\n",
        "count =0\n",
        "for i in range(len(a)):\n",
        "  if a[i] == ele:\n",
        "    count += 1\n",
        "  if count >= int(len(a)/2):\n",
        "    print(ele, 'occurs more than {}/2'.format(len(a)))\n",
        "    break"
      ],
      "metadata": {
        "id": "2it4yomNfD_W",
        "colab": {
          "base_uri": "https://localhost:8080/"
        },
        "outputId": "c8d71ea9-575c-4f03-aa8c-695c0bcc9cd8"
      },
      "execution_count": null,
      "outputs": [
        {
          "output_type": "stream",
          "name": "stdout",
          "text": [
            "2 occurs more than 7/2\n"
          ]
        }
      ]
    },
    {
      "cell_type": "code",
      "source": [
        "a  = [2,0,2,1,1,0,2,0,1,2,0,2,1,0,2,1,2,2]\n",
        "l = 0\n",
        "m =0\n",
        "h =len(a)-1\n",
        "\n",
        "while m <= h:\n",
        "  # if mid ==0 and increment mid and low and swap mid and low\n",
        "  if a[m] == 0:\n",
        "    a[l],a[m] = a[m],a[l]\n",
        "    l = l+1\n",
        "    m =m+1\n",
        "  elif a[m]==1:\n",
        "    # if mid ==1 then increment mid only\n",
        "    m = m+1\n",
        "  else:\n",
        "    # if mid ==2 , then decrease right/high\n",
        "    a[m],a[h] = a[h],a[m]\n",
        "    h =h-1\n",
        "\n",
        "print(a,l,m,h)"
      ],
      "metadata": {
        "colab": {
          "base_uri": "https://localhost:8080/"
        },
        "id": "9SxOOx6XFRB5",
        "outputId": "5823dae2-909d-4573-9b35-a6412afc46ee"
      },
      "execution_count": null,
      "outputs": [
        {
          "output_type": "stream",
          "name": "stdout",
          "text": [
            "[0, 0, 0, 0, 0, 1, 1, 1, 1, 1, 2, 2, 2, 2, 2, 2, 2, 2] 5 10 9\n"
          ]
        }
      ]
    },
    {
      "cell_type": "markdown",
      "source": [
        "# Moore's Voting Algorithm and Majority element greater than N/2"
      ],
      "metadata": {
        "id": "qcqAO1UPjNzK"
      }
    },
    {
      "cell_type": "code",
      "source": [
        "# Occurence will cancel them selves\n",
        "a  = [2,0,2,1,1,0,2,0,1,2,0,2,1,0,2,1,2,2]\n",
        "\n",
        "count =0\n",
        "for i in range(len(a)):\n",
        "  # when count ==0 , change ele and start incrementing count\n",
        "  if count==0:\n",
        "    count=1\n",
        "    ele = a[i]\n",
        "  elif ele == a[i]:\n",
        "    count = count+1\n",
        "  else:\n",
        "    count= count-1\n",
        "print(count,ele)"
      ],
      "metadata": {
        "id": "H3V0E0M-QCOp",
        "colab": {
          "base_uri": "https://localhost:8080/"
        },
        "outputId": "7372c417-fcfb-4502-9f26-1965b77b0057"
      },
      "execution_count": null,
      "outputs": [
        {
          "output_type": "stream",
          "name": "stdout",
          "text": [
            "2 2\n"
          ]
        }
      ]
    },
    {
      "cell_type": "markdown",
      "source": [
        "# Kadane's Algorithm : Maximum Subarray Sum in an Array"
      ],
      "metadata": {
        "id": "uZ-VFjVzydjV"
      }
    },
    {
      "cell_type": "code",
      "source": [
        "count =0\n",
        "for i in a:\n",
        "  sum  =  sum + a[i]\n",
        "  if sum <0 :\n",
        "    sum  =0\n",
        "  elif (sum >0) and (sum > max):\n",
        "    max = sum\n",
        "    tend = i\n",
        "    tstart = start\n",
        "  elif sum =0:\n",
        "    start =i"
      ],
      "metadata": {
        "id": "O77Vr_9pX7-S"
      },
      "execution_count": null,
      "outputs": []
    },
    {
      "cell_type": "code",
      "source": [
        "a = [-2,1,-3,4,-1,2,1,-5,4]\n",
        "max = -11000000\n",
        "sum = 0\n",
        "start = 0\n",
        "tstart =-1\n",
        "tend =-1\n",
        "for i in range(len(a)):\n",
        "  if sum == 0:\n",
        "      start = i\n",
        "  sum =  sum+ a[i]\n",
        "  if (sum > max):\n",
        "    max = sum\n",
        "    tstart = start\n",
        "    tend = i\n",
        "  if (sum <0):\n",
        "    sum = 0\n",
        "\n",
        "print(tstart,start,tend)\n"
      ],
      "metadata": {
        "id": "k_uLtHshX8B8",
        "colab": {
          "base_uri": "https://localhost:8080/"
        },
        "outputId": "61558ef2-3d6b-40e1-93ef-1f34e92ee7f1"
      },
      "execution_count": null,
      "outputs": [
        {
          "output_type": "stream",
          "name": "stdout",
          "text": [
            "3 3 6\n"
          ]
        }
      ]
    },
    {
      "cell_type": "markdown",
      "source": [
        "# Stock Buy and Sell"
      ],
      "metadata": {
        "id": "T53PhKtEw4MK"
      }
    },
    {
      "cell_type": "code",
      "source": [
        "a  = [7,1,5,3,6,4,10,0,4,2,0]\n",
        "mini = 100000000\n",
        "maxi = -100000000\n",
        "for i in range(len(a)-1):\n",
        "\n",
        "  mini =  min(mini,a[i])\n",
        "  maxi = max(maxi,a[i] - mini)\n",
        "\n",
        "print(maxi,mini)\n"
      ],
      "metadata": {
        "id": "tUY5H38Y3HuL",
        "colab": {
          "base_uri": "https://localhost:8080/"
        },
        "outputId": "6398d472-87a6-485c-81c0-e275ce9ea745"
      },
      "execution_count": null,
      "outputs": [
        {
          "output_type": "stream",
          "name": "stdout",
          "text": [
            "9 0\n"
          ]
        }
      ]
    },
    {
      "cell_type": "markdown",
      "source": [
        "# Rearrange Array Elements by Sign"
      ],
      "metadata": {
        "id": "t5ixSaBC0iy2"
      }
    },
    {
      "cell_type": "code",
      "source": [
        "a = [1,2,-4,-5]\n",
        "neg = 1\n",
        "pos= 0\n",
        "b = [0,0,0,0]\n",
        "for i in range(len(a)):\n",
        "  if (pos <= len(a)) and (neg <= len(a)):\n",
        "    if a[i] < 0:\n",
        "      b[neg] = a[i]\n",
        "      neg = neg+2\n",
        "    else:\n",
        "      b[pos] = a[i]\n",
        "      pos = pos+2"
      ],
      "metadata": {
        "colab": {
          "base_uri": "https://localhost:8080/"
        },
        "id": "o-9ss_uXzMji",
        "outputId": "ed63992f-be8c-4b69-bf43-3dd7250f9497"
      },
      "execution_count": null,
      "outputs": [
        {
          "output_type": "execute_result",
          "data": {
            "text/plain": [
              "[1, -4, 2, -5]"
            ]
          },
          "metadata": {},
          "execution_count": 21
        }
      ]
    },
    {
      "cell_type": "markdown",
      "source": [
        "# Rotate a Image by 90 Degrees"
      ],
      "metadata": {
        "id": "bcg1EFMvMuiV"
      }
    },
    {
      "cell_type": "code",
      "source": [
        "# transpose a Matrix\n",
        "a[i,j], a[j,i] = a[j,i], a[i,j]"
      ],
      "metadata": {
        "colab": {
          "base_uri": "https://localhost:8080/"
        },
        "id": "WgyJ4IeT1_5a",
        "outputId": "cb698a76-61d5-4392-dcd5-1712a5937b79"
      },
      "execution_count": null,
      "outputs": [
        {
          "output_type": "execute_result",
          "data": {
            "text/plain": [
              "[]"
            ]
          },
          "metadata": {},
          "execution_count": 10
        }
      ]
    },
    {
      "cell_type": "markdown",
      "source": [
        "# Leaders in an array"
      ],
      "metadata": {
        "id": "ymJJkMsqNVo0"
      }
    },
    {
      "cell_type": "code",
      "source": [
        "def leaders(a):\n",
        "  leaders = []\n",
        "  max = -1000000000\n",
        "  n = len(a) -1\n",
        "  for i in range(n-2,0,-1):\n",
        "\n",
        "    if a[i] > max:\n",
        "      max = a[i]\n",
        "      leaders.append(a[i])\n",
        "  return leaders[::-1][0]\n",
        "\n",
        "print(leaders([10,22,12,3,0,6]))\n",
        "print(leaders([4,7,1,0]))"
      ],
      "metadata": {
        "id": "QEa3ZdhH2ASX",
        "colab": {
          "base_uri": "https://localhost:8080/"
        },
        "outputId": "31a7b62a-723d-4595-b9b2-cc6c43353b10"
      },
      "execution_count": null,
      "outputs": [
        {
          "output_type": "stream",
          "name": "stdout",
          "text": [
            "[22, 12, 3]\n",
            "[7]\n"
          ]
        }
      ]
    },
    {
      "cell_type": "markdown",
      "source": [
        "# Count Subarray Sum equals to K"
      ],
      "metadata": {
        "id": "MOiyexOnTJtj"
      }
    },
    {
      "cell_type": "code",
      "source": [
        "def subarraySum(a,k):\n",
        "  n= len(a) -1\n",
        "  count =0\n",
        "  for i in range(n):\n",
        "    sum =0\n",
        "    for j in range(i,n):\n",
        "\n",
        "      sum+= a[j]\n",
        "      if sum ==  k:\n",
        "        count+=1\n",
        "  return count\n",
        "\n",
        "subarraySum([3,1,2,4],4)"
      ],
      "metadata": {
        "colab": {
          "base_uri": "https://localhost:8080/"
        },
        "id": "EtJQ5HBgP3No",
        "outputId": "7467ea33-7983-4533-d378-bc7ee2b2df45"
      },
      "execution_count": null,
      "outputs": [
        {
          "output_type": "execute_result",
          "data": {
            "text/plain": [
              "1"
            ]
          },
          "metadata": {},
          "execution_count": 7
        }
      ]
    },
    {
      "cell_type": "markdown",
      "source": [
        "# Longest Consecutive Sequence in an array"
      ],
      "metadata": {
        "id": "Idicm8_kTvtJ"
      }
    },
    {
      "cell_type": "code",
      "source": [
        "def longestconsecutivesequence(a):\n",
        "  n = len(a) -1\n",
        "  if n==0:\n",
        "    return 0\n",
        "  a.sort()\n",
        "  prev = -10000000\n",
        "  count =0\n",
        "  longest =1\n",
        "\n",
        "  for i in range(n):\n",
        "    if (a[i]-1) == prev:\n",
        "      count +=1\n",
        "      prev = a[i]\n",
        "    else:\n",
        "      count =1\n",
        "      prev = a[i]\n",
        "    longest = max(longest,count)\n",
        "\n",
        "  return longest\n",
        "\n",
        "print(longestconsecutivesequence([100,200,1,3,2,4]))\n",
        "print(longestconsecutivesequence([3,8,5,7,6]))\n",
        "print(longestconsecutivesequence([3,5,4,1,8,7]))"
      ],
      "metadata": {
        "colab": {
          "base_uri": "https://localhost:8080/"
        },
        "id": "ywXi_fjtTp5I",
        "outputId": "2148efa8-c4af-46cc-c1b5-15906e4ffe43"
      },
      "execution_count": null,
      "outputs": [
        {
          "output_type": "stream",
          "name": "stdout",
          "text": [
            "4\n",
            "3\n",
            "3\n"
          ]
        }
      ]
    },
    {
      "cell_type": "markdown",
      "source": [
        "# Spiral of a Matrix"
      ],
      "metadata": {
        "id": "cpdsMuO1QAqs"
      }
    },
    {
      "cell_type": "code",
      "source": [
        "def spiralmatrix(a):\n",
        "  n = a.shape[0]\n",
        "  top = 0\n",
        "  left  = 0\n",
        "  bottom  = n-1\n",
        "  right = n-1\n",
        "  output = []\n",
        "  while (top<=bottom) and (left <=right):\n",
        "\n",
        "    for i in range(left, right+1):\n",
        "      output.append(a[top][i])\n",
        "    top +=1\n",
        "\n",
        "    for j in range(top, bottom+1):\n",
        "      output.append(a[j][right])\n",
        "\n",
        "    right -=1\n",
        "\n",
        "    if top <=bottom:\n",
        "      for i in range(right,left-1,-1):\n",
        "        output.append(a[bottom][i])\n",
        "\n",
        "      bottom -=1\n",
        "\n",
        "    if left <= right:\n",
        "      for i in range(bottom,top-1,-1):\n",
        "        output.append(a[i][left])\n",
        "\n",
        "      left +=1\n",
        "\n",
        "  return output\n",
        "\n",
        "import numpy as np\n",
        "a=np.array(\n",
        "    [[1,2,3],\n",
        "    [4,5,6],\n",
        "    [7,8,9]]\n",
        ")\n",
        "\n",
        "spiralmatrix(a)"
      ],
      "metadata": {
        "colab": {
          "base_uri": "https://localhost:8080/"
        },
        "id": "SvOu7Dm-Y_Ds",
        "outputId": "638076ed-567b-4b1b-d9b0-397ea26209be"
      },
      "execution_count": null,
      "outputs": [
        {
          "output_type": "stream",
          "name": "stdout",
          "text": [
            "3\n"
          ]
        },
        {
          "output_type": "execute_result",
          "data": {
            "text/plain": [
              "[1, 2, 3, 6, 9, 8, 7, 4, 5]"
            ]
          },
          "metadata": {},
          "execution_count": 9
        }
      ]
    },
    {
      "cell_type": "markdown",
      "source": [
        "# 3-SUm problem"
      ],
      "metadata": {
        "id": "GApQjf7cV6vg"
      }
    },
    {
      "cell_type": "code",
      "source": [
        "def triplet(a):\n",
        "\n",
        "  l_a = list(set(a))\n",
        "  n = len(a) -1\n",
        "  o = []\n",
        "  for i in range(n):\n",
        "    for j in range(i+1,n):\n",
        "\n",
        "      if -(a[i] + a[j]) in l_a:\n",
        "        o.append([a[i],a[j],-(a[i] + a[j])])\n",
        "  return o\n",
        "\n",
        "print(triplet([-1,0,1,2,-1,-4]))"
      ],
      "metadata": {
        "colab": {
          "base_uri": "https://localhost:8080/"
        },
        "id": "m6gyILn7SKCv",
        "outputId": "de345618-6f9d-4971-ddc6-a56c06f90815"
      },
      "execution_count": null,
      "outputs": [
        {
          "output_type": "stream",
          "name": "stdout",
          "text": [
            "[[-1, 0, 1], [-1, 1, 0], [-1, 2, -1], [-1, -1, 2], [0, 1, -1], [0, -1, 1], [1, -1, 0], [2, -1, -1]]\n"
          ]
        }
      ]
    },
    {
      "cell_type": "markdown",
      "source": [
        "# Longest substring without repeating characters"
      ],
      "metadata": {
        "id": "rUgNrpACfURx"
      }
    },
    {
      "cell_type": "code",
      "source": [
        "def substring(a):\n",
        "  l=0\n",
        "  r=0\n",
        "  maxlen =0\n",
        "  dict_1 = {}\n",
        "  n = len(a) -1\n",
        "  while(r<n):\n",
        "    if (a[r] in list(dict_1.keys())) and (dict_1[a[r]] >=l):\n",
        "      l = dict_1[a[r]] +1\n",
        "\n",
        "    length = r-l+1\n",
        "    maxlen = max(length,maxlen)\n",
        "    dict_1[a[r]] = r\n",
        "    r+=1\n",
        "\n",
        "  return maxlen,l,r\n",
        "\n",
        "print(substring('nithinmundrathi'))\n",
        "print(substring('lasya'))"
      ],
      "metadata": {
        "id": "WNaSN0YAW_wG",
        "colab": {
          "base_uri": "https://localhost:8080/"
        },
        "outputId": "8770f63c-8799-4a40-f37d-050850aec633"
      },
      "execution_count": null,
      "outputs": [
        {
          "output_type": "stream",
          "name": "stdout",
          "text": [
            "(8, 6, 14)\n",
            "(4, 0, 4)\n"
          ]
        }
      ]
    },
    {
      "cell_type": "markdown",
      "source": [
        "# Max Consecutive One's"
      ],
      "metadata": {
        "id": "it-OhYJf_ifg"
      }
    },
    {
      "cell_type": "code",
      "source": [
        "def consecutiveOne(a,k):\n",
        "  left =0\n",
        "  right = 0\n",
        "  zeros =0\n",
        "  n = len(a)-1\n",
        "  length =0\n",
        "  maxlen = 0\n",
        "  while(right < n):\n",
        "    if a[right] == 0:\n",
        "      zeros +=1\n",
        "    while (zeros>k):\n",
        "      if (a[left] ==0):\n",
        "        zeros -=1\n",
        "      left +=1\n",
        "    if zeros <= k:\n",
        "      length = right-left+1\n",
        "      maxlen = max(length,maxlen)\n",
        "    right +=1\n",
        "  return maxlen,left,right\n",
        "\n",
        "consecutiveOne([1,1,1,0,0,0,1,1,1,1,0],2)"
      ],
      "metadata": {
        "colab": {
          "base_uri": "https://localhost:8080/"
        },
        "id": "SIsY-WGUy1cA",
        "outputId": "ea1577f1-cb10-4b74-e8c5-228ceb6ab2b9"
      },
      "execution_count": null,
      "outputs": [
        {
          "output_type": "execute_result",
          "data": {
            "text/plain": [
              "(6, 4, 10)"
            ]
          },
          "metadata": {},
          "execution_count": 21
        }
      ]
    },
    {
      "cell_type": "code",
      "source": [
        "def consecutiveOnes(a,k):\n",
        "  left =0\n",
        "  right =0\n",
        "  zeros =0\n",
        "  n = len(a) -1\n",
        "  length =0\n",
        "  maxlen =0\n",
        "\n",
        "  while (right <n):\n",
        "    if (a[right] ==0):\n",
        "      zeros +=1\n",
        "    if (zeros >k):\n",
        "      if a[left] ==0:\n",
        "        zeros -=1\n",
        "      left +=1\n",
        "    elif (zeros <=k):\n",
        "      length = right -left+1\n",
        "      maxlen = max(length,maxlen)\n",
        "    right +=1\n",
        "\n",
        "  return maxlen,left,right\n",
        "\n",
        "consecutiveOnes([1,0,1,1,0,1,0,0,1],2)"
      ],
      "metadata": {
        "colab": {
          "base_uri": "https://localhost:8080/"
        },
        "id": "l3MIQGJWzCU0",
        "outputId": "f879e20a-e440-4841-bfbb-8f32b923d334"
      },
      "execution_count": null,
      "outputs": [
        {
          "output_type": "execute_result",
          "data": {
            "text/plain": [
              "(6, 2, 8)"
            ]
          },
          "metadata": {},
          "execution_count": 24
        }
      ]
    },
    {
      "cell_type": "markdown",
      "source": [
        "# Fruits into Baskets"
      ],
      "metadata": {
        "id": "zwBw0rJYHr8X"
      }
    },
    {
      "cell_type": "code",
      "source": [
        "def fruitbaskets(a,k):\n",
        "  left =0\n",
        "  right =0\n",
        "  dict_1 = {}\n",
        "  n = len(a) -1\n",
        "  length =0\n",
        "  maxlen =0\n",
        "\n",
        "  while (right <n):\n",
        "    if (a[right] not in list(dict_1.keys())):\n",
        "      dict_1[a[right]] =1\n",
        "    else:\n",
        "      dict_1[a[right]] +=1\n",
        "\n",
        "    if (len(dict_1.keys()) >k):\n",
        "      dict_1[a[left]] -= 1\n",
        "      if dict_1[a[left]] ==0:\n",
        "        del dict_1[a[left]]\n",
        "      left +=1\n",
        "    elif (len(dict_1.keys()) <=k):\n",
        "      length = right -left+1\n",
        "      maxlen = max(length,maxlen)\n",
        "    right +=1\n",
        "\n",
        "  return maxlen,left,right\n",
        "\n",
        "fruitbaskets([3,3,3,1,2,1,1,2,3,3,4],2)"
      ],
      "metadata": {
        "id": "tG_Xku5lHeco",
        "colab": {
          "base_uri": "https://localhost:8080/"
        },
        "outputId": "58f0fa29-f91f-4973-b172-9592f316985f"
      },
      "execution_count": 2,
      "outputs": [
        {
          "output_type": "execute_result",
          "data": {
            "text/plain": [
              "(5, 5, 10)"
            ]
          },
          "metadata": {},
          "execution_count": 2
        }
      ]
    },
    {
      "cell_type": "markdown",
      "source": [
        "# Binary Subarray with  Sum"
      ],
      "metadata": {
        "id": "i7Ot3MQbYxPN"
      }
    },
    {
      "cell_type": "code",
      "source": [
        "def binarySubarray(a,k):\n",
        "  left =0\n",
        "  right =0\n",
        "  sum =0\n",
        "  count =0\n",
        "  n = len(a) -1\n",
        "  while (right <= n):\n",
        "    sum += a[right]\n",
        "\n",
        "    while sum > k:\n",
        "      sum = sum - a[left]\n",
        "      left +=1\n",
        "    count = count + right -left+1\n",
        "    right +=1\n",
        "  return count\n",
        "\n",
        "a= [1,0,1,0,1]\n",
        "binarySubarray(a,2) - binarySubarray(a,1)"
      ],
      "metadata": {
        "colab": {
          "base_uri": "https://localhost:8080/"
        },
        "id": "blAsEmlVOciW",
        "outputId": "43f8e9c4-b3b6-4a03-ede9-6a59c262a82d"
      },
      "execution_count": 7,
      "outputs": [
        {
          "output_type": "execute_result",
          "data": {
            "text/plain": [
              "4"
            ]
          },
          "metadata": {},
          "execution_count": 7
        }
      ]
    },
    {
      "cell_type": "code",
      "source": [],
      "metadata": {
        "id": "pyIGKTPCi75b"
      },
      "execution_count": 7,
      "outputs": []
    }
  ]
}