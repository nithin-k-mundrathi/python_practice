{
  "cells": [
    {
      "cell_type": "markdown",
      "metadata": {
        "colab_type": "text",
        "id": "view-in-github"
      },
      "source": [
        "<a href=\"https://colab.research.google.com/github/nithin-k-mundrathi/python_practice/blob/main/Data_Structures/Arrays_TUF.ipynb\" target=\"_parent\"><img src=\"https://colab.research.google.com/assets/colab-badge.svg\" alt=\"Open In Colab\"/></a>"
      ]
    },
    {
      "cell_type": "markdown",
      "metadata": {
        "id": "oAFeyuMEhy8u"
      },
      "source": [
        "# 1. Arrays"
      ]
    },
    {
      "cell_type": "markdown",
      "metadata": {
        "id": "C9ghlqifiZYj"
      },
      "source": [
        "## 1. Largest Element in an Array"
      ]
    },
    {
      "cell_type": "code",
      "execution_count": 1,
      "metadata": {
        "colab": {
          "base_uri": "https://localhost:8080/"
        },
        "id": "aDBNtqv8h0qa",
        "outputId": "823b46cd-88bf-444d-9c3e-3125bc7da776"
      },
      "outputs": [
        {
          "data": {
            "text/plain": [
              "5"
            ]
          },
          "execution_count": 1,
          "metadata": {},
          "output_type": "execute_result"
        }
      ],
      "source": [
        "list_1 = [2,5,1,3,0]\n",
        "max = -10000000\n",
        "for i in range(len(list_1)):\n",
        "  if max < list_1[i]:\n",
        "    max = list_1[i]\n",
        "max"
      ]
    },
    {
      "cell_type": "markdown",
      "metadata": {
        "id": "Si9Ns6K_i7lT"
      },
      "source": [
        "# 2. Second Largest Element in an Array"
      ]
    },
    {
      "cell_type": "code",
      "execution_count": null,
      "metadata": {
        "colab": {
          "base_uri": "https://localhost:8080/"
        },
        "id": "3biF0xuKi7EL",
        "outputId": "ba330730-41ac-4ba7-d970-105b02dfb966"
      },
      "outputs": [
        {
          "data": {
            "text/plain": [
              "(5, 3)"
            ]
          },
          "execution_count": 4,
          "metadata": {},
          "output_type": "execute_result"
        }
      ],
      "source": [
        "max1 = -100000000\n",
        "max2 = -100000000\n",
        "\n",
        "list_1 = [2,5,1,3,0]\n",
        "for i in range(len(list_1)):\n",
        "  if  list_1[i] > max1:\n",
        "    max2 = max1\n",
        "    max1 = list_1[i]\n",
        "  else:\n",
        "    if (list_1[i] > max2) and (list_1[i] != max1):\n",
        "      max2 = list_1[i]\n",
        "max1,max2"
      ]
    },
    {
      "cell_type": "markdown",
      "metadata": {
        "id": "Jc6bO_jx4oLt"
      },
      "source": [
        "# 3. Check if an Array is Sorted"
      ]
    },
    {
      "cell_type": "code",
      "execution_count": null,
      "metadata": {
        "colab": {
          "base_uri": "https://localhost:8080/"
        },
        "id": "rDESQyeEitw-",
        "outputId": "ae3d9931-cac4-4aba-aca4-d021a6441439"
      },
      "outputs": [
        {
          "name": "stdout",
          "output_type": "stream",
          "text": [
            "False\n"
          ]
        }
      ],
      "source": [
        "a = [2,5,1,3,0]\n",
        "for i in range(len(a)-1):\n",
        "  if a[i] >= a[i+1]:\n",
        "    print(False)\n",
        "    break"
      ]
    },
    {
      "cell_type": "markdown",
      "metadata": {
        "id": "67XpToEs5FQX"
      },
      "source": [
        "# 4. Remove Duplicates From sorted Array"
      ]
    },
    {
      "cell_type": "code",
      "execution_count": null,
      "metadata": {
        "colab": {
          "base_uri": "https://localhost:8080/"
        },
        "id": "zaR9NsnX47Ki",
        "outputId": "e61718f0-0498-4055-95eb-08d78d506841"
      },
      "outputs": [
        {
          "name": "stdout",
          "output_type": "stream",
          "text": [
            "0\n",
            "1\n",
            "2\n",
            "3\n",
            "4\n",
            "5\n",
            "6\n",
            "7\n",
            "[1, 2, 2, 3, 3, 3, 4, 5, 5] [1, 2, 3, 4]\n"
          ]
        }
      ],
      "source": [
        "a = [1,2,2,3,3,3,4,5,5]\n",
        "a_d = [1,2,2,3,3,3,4,5]\n",
        "for i in range(len(a)-1):\n",
        "  print(i)\n",
        "  if a[i] ==a[i+1]:\n",
        "    a_d.remove(a[i+1])\n",
        "\n",
        "print(a,a_d)"
      ]
    },
    {
      "cell_type": "markdown",
      "metadata": {
        "id": "mhOljsBJ6mlO"
      },
      "source": [
        "# 5. LEft Rotate an array by D  Place"
      ]
    },
    {
      "cell_type": "code",
      "execution_count": null,
      "metadata": {
        "id": "2OsFYX4v5ame"
      },
      "outputs": [],
      "source": [
        "a_d = [1, 2, 3, 4, 5]"
      ]
    },
    {
      "cell_type": "code",
      "execution_count": null,
      "metadata": {
        "colab": {
          "base_uri": "https://localhost:8080/"
        },
        "id": "ykx-7IsY6mA-",
        "outputId": "6ed857e5-5559-4b1f-e7a5-63bf5751ec24"
      },
      "outputs": [
        {
          "data": {
            "text/plain": [
              "[0, 1, 2, 3, 4, 5]"
            ]
          },
          "execution_count": 24,
          "metadata": {},
          "output_type": "execute_result"
        }
      ],
      "source": [
        "a_d.insert(0,0)\n",
        "a_d"
      ]
    },
    {
      "cell_type": "code",
      "execution_count": null,
      "metadata": {
        "colab": {
          "base_uri": "https://localhost:8080/"
        },
        "id": "PVkK9ME_6saB",
        "outputId": "83769bed-3d8f-4cb8-d872-6f7f106abc8f"
      },
      "outputs": [
        {
          "data": {
            "text/plain": [
              "[4, 5, 1, 2, 3]"
            ]
          },
          "execution_count": 35,
          "metadata": {},
          "output_type": "execute_result"
        }
      ],
      "source": [
        "a_d = [1, 2, 3, 4, 5]\n",
        "for i in range(3):\n",
        "  for i in range(len(a_d)):\n",
        "    if i==0:\n",
        "      e = a_d[i]\n",
        "    else:\n",
        "      a_d[i-1] = a_d[i]\n",
        "\n",
        "  a_d[len(a_d)-1]= e\n",
        "a_d"
      ]
    },
    {
      "cell_type": "code",
      "execution_count": null,
      "metadata": {
        "id": "FcAvv9Mg8vyA"
      },
      "outputs": [],
      "source": [
        "d =3\n",
        "a_d = [1, 2, 3, 4, 5]\n",
        "n = len(a_d) -1\n",
        "for i in range(n):\n",
        "\n",
        "  temp = a[d:]"
      ]
    },
    {
      "cell_type": "code",
      "execution_count": null,
      "metadata": {
        "colab": {
          "base_uri": "https://localhost:8080/"
        },
        "id": "J1xza3_E-0mX",
        "outputId": "641eed56-8207-41f4-88fc-b11a0bbd16d7"
      },
      "outputs": [
        {
          "name": "stdout",
          "output_type": "stream",
          "text": [
            "[3, 2, 1, 4, 5]\n",
            "[3, 2, 1, 5, 4]\n"
          ]
        },
        {
          "data": {
            "text/plain": [
              "[4, 5, 1, 2, 3]"
            ]
          },
          "execution_count": 10,
          "metadata": {},
          "output_type": "execute_result"
        }
      ],
      "source": [
        "# Left rotate\n",
        "def rev(a,start,end):\n",
        "  while start <=end:\n",
        "    a[start], a[end] = a[end], a[start]\n",
        "    start+=1\n",
        "    end-=1\n",
        "  return a\n",
        "d =3\n",
        "a = [1, 2, 3, 4, 5]\n",
        "n = len(a)\n",
        "# rotate unitil d\n",
        "a = rev(a,0,d-1)\n",
        "# rotate until d-->n\n",
        "print(a)\n",
        "a = rev(a,d,n-1)\n",
        "# rotate the whole thingy.\n",
        "print(a)\n",
        "rev(a,0,n-1)\n",
        "a"
      ]
    },
    {
      "cell_type": "code",
      "execution_count": null,
      "metadata": {
        "colab": {
          "base_uri": "https://localhost:8080/"
        },
        "id": "L7EPqktrBSsS",
        "outputId": "b348a532-09f9-4f21-b391-16ea09ed3ab8"
      },
      "outputs": [
        {
          "name": "stdout",
          "output_type": "stream",
          "text": [
            "[5, 4, 3, 2, 1]\n",
            "[3, 4, 5, 2, 1]\n",
            "[3, 4, 5, 1, 2]\n"
          ]
        },
        {
          "data": {
            "text/plain": [
              "[3, 4, 5, 1, 2]"
            ]
          },
          "execution_count": 11,
          "metadata": {},
          "output_type": "execute_result"
        }
      ],
      "source": [
        "# right rotate\n",
        "def rev(a,start,end):\n",
        "  while start <=end:\n",
        "    a[start], a[end] = a[end], a[start]\n",
        "    start+=1\n",
        "    end-=1\n",
        "\n",
        "  return a\n",
        "d =3\n",
        "a = [1, 2, 3, 4, 5]\n",
        "n = len(a)\n",
        "a = rev(a,0,n-1)\n",
        "print(a)\n",
        "a = rev(a,0,d-1)\n",
        "print(a)\n",
        "a = rev(a,d,n-1)\n",
        "print(a)"
      ]
    },
    {
      "cell_type": "markdown",
      "metadata": {},
      "source": [
        "# Move the zeros to the End"
      ]
    },
    {
      "cell_type": "code",
      "execution_count": 2,
      "metadata": {},
      "outputs": [
        {
          "name": "stdout",
          "output_type": "stream",
          "text": [
            "[1, 2, 3, 2, 4, 5, 1, 0, 0, 0]\n"
          ]
        }
      ],
      "source": [
        "a = [1,0,2,3,2,0,0,4,5,1]\n",
        "n = len(a)\n",
        "\n",
        "for i in range(n):\n",
        "    if a[i] == 0:\n",
        "        j =i\n",
        "        break\n",
        "for k in range(i+1,n):\n",
        "    if a[k] != 0:\n",
        "        a[k],a[j] = a[j],a[k]\n",
        "        j+=1\n",
        "    \n",
        "print(a)"
      ]
    },
    {
      "cell_type": "markdown",
      "metadata": {
        "id": "RkXMk7Mg-NG7"
      },
      "source": [
        "# Linear Search"
      ]
    },
    {
      "cell_type": "code",
      "execution_count": null,
      "metadata": {
        "colab": {
          "base_uri": "https://localhost:8080/"
        },
        "id": "_H8CBgNp7h60",
        "outputId": "16f7c484-177a-44fb-e0b1-f133107a70f1"
      },
      "outputs": [
        {
          "name": "stdout",
          "output_type": "stream",
          "text": [
            "found 3\n"
          ]
        },
        {
          "data": {
            "text/plain": [
              "[1, 2, 3, 4, 5]"
            ]
          },
          "execution_count": 36,
          "metadata": {},
          "output_type": "execute_result"
        }
      ],
      "source": [
        "a_d = [1, 2, 3, 4, 5]\n",
        "s = 4\n",
        "for i in range(len(a_d)):\n",
        "\n",
        "  if a_d[i] == s:\n",
        "    print('found',i)\n",
        "\n",
        "a_d"
      ]
    },
    {
      "cell_type": "markdown",
      "metadata": {},
      "source": [
        "# Union of two sorted arrays"
      ]
    },
    {
      "cell_type": "code",
      "execution_count": 17,
      "metadata": {},
      "outputs": [
        {
          "name": "stdout",
          "output_type": "stream",
          "text": [
            "Union of arr1 and arr2 is:\n",
            "1 2 3 4 5 6 7 8 9 10 11 12\n"
          ]
        }
      ],
      "source": [
        "def find_union(arr1, arr2):\n",
        "    i, j = 0, 0  # Pointers\n",
        "    union = []  # Union list\n",
        "\n",
        "    while i < len(arr1) and j < len(arr2):\n",
        "        if arr1[i] <= arr2[j]:  # Case 1 and 2\n",
        "            if len(union) == 0 or union[-1] != arr1[i]:\n",
        "                union.append(arr1[i])\n",
        "            i += 1\n",
        "        else:  # Case 3\n",
        "            if len(union) == 0 or union[-1] != arr2[j]:\n",
        "                union.append(arr2[j])\n",
        "            j += 1\n",
        "\n",
        "    while i < len(arr1):  # If any elements left in arr1\n",
        "        if union[-1] != arr1[i]:\n",
        "            union.append(arr1[i])\n",
        "        i += 1\n",
        "\n",
        "    while j < len(arr2):  # If any elements left in arr2\n",
        "        if union[-1] != arr2[j]:\n",
        "            union.append(arr2[j])\n",
        "        j += 1\n",
        "\n",
        "    return union\n",
        "\n",
        "\n",
        "arr1 = [1, 2, 3, 4, 5, 6, 7, 8, 9, 10]\n",
        "arr2 = [2, 3, 4, 4, 5, 11, 12]\n",
        "\n",
        "union = find_union(arr1, arr2)\n",
        "\n",
        "print(\"Union of arr1 and arr2 is:\")\n",
        "print(*union)\n",
        "\n"
      ]
    },
    {
      "cell_type": "markdown",
      "metadata": {},
      "source": [
        "# max Consecutive One's"
      ]
    },
    {
      "cell_type": "code",
      "execution_count": 19,
      "metadata": {},
      "outputs": [
        {
          "data": {
            "text/plain": [
              "4"
            ]
          },
          "execution_count": 19,
          "metadata": {},
          "output_type": "execute_result"
        }
      ],
      "source": [
        "a = [1,0,1,1,0,1,1,0,1,1,1,1]\n",
        "\n",
        "def max_ones(a):\n",
        "    n = len(a)\n",
        "    count = 0\n",
        "    max_count = -10000\n",
        "    for i in a:\n",
        "        if i ==1:\n",
        "            count+=1\n",
        "        else:\n",
        "            count=0\n",
        "        max_count = max(max_count,count)\n",
        "    return max_count\n",
        "\n",
        "max_ones(a)"
      ]
    },
    {
      "cell_type": "markdown",
      "metadata": {
        "id": "mluRW14wCnDf"
      },
      "source": [
        "# Count Maximum Consecutive One's in the array"
      ]
    },
    {
      "cell_type": "code",
      "execution_count": null,
      "metadata": {
        "colab": {
          "base_uri": "https://localhost:8080/"
        },
        "id": "t84eKgNPB5jr",
        "outputId": "ec46b938-39a9-46aa-8aef-67fd856941d5"
      },
      "outputs": [
        {
          "data": {
            "text/plain": [
              "3"
            ]
          },
          "execution_count": 52,
          "metadata": {},
          "output_type": "execute_result"
        }
      ],
      "source": [
        "a = [1,1,0,1,1,1]\n",
        "count =0\n",
        "for i in range(len(a)-1):\n",
        "  if (a[i] ==a[i+1]) and (a[i] ==1):\n",
        "    count = count +1\n",
        "  else:\n",
        "    count =0\n",
        "count+1"
      ]
    },
    {
      "cell_type": "markdown",
      "metadata": {
        "id": "mFGXmZYlECKE"
      },
      "source": [
        "# Find the missing number in an array"
      ]
    },
    {
      "cell_type": "code",
      "execution_count": null,
      "metadata": {
        "id": "gqU3yZJXC7xB"
      },
      "outputs": [],
      "source": [
        "a = [1,2,4,5]\n",
        "n = len(a)\n",
        "sum_1 = int(n*(n+1)/2)"
      ]
    },
    {
      "cell_type": "markdown",
      "metadata": {
        "id": "42_WeXhMGCRs"
      },
      "source": [
        "# Move all Zeros to the end of the array"
      ]
    },
    {
      "cell_type": "code",
      "execution_count": null,
      "metadata": {
        "colab": {
          "base_uri": "https://localhost:8080/"
        },
        "id": "Pdda8ht2EdnZ",
        "outputId": "f3299b1c-af2e-4d37-ddcd-02d558d66094"
      },
      "outputs": [
        {
          "name": "stdout",
          "output_type": "stream",
          "text": [
            "[1, 0, 2, 3, 2, 0, 4, 5, 0, 1] 1 1\n",
            "[1, 2, 0, 3, 2, 0, 4, 5, 0, 1] 2 2\n",
            "[1, 2, 3, 0, 2, 0, 4, 5, 0, 1] 3 3\n",
            "[1, 2, 3, 2, 0, 0, 4, 5, 0, 1] 4 4\n",
            "[1, 2, 3, 2, 0, 0, 4, 5, 0, 1] 5 4\n",
            "[1, 2, 3, 2, 4, 0, 0, 5, 0, 1] 6 5\n",
            "[1, 2, 3, 2, 4, 5, 0, 0, 0, 1] 7 6\n",
            "[1, 2, 3, 2, 4, 5, 0, 0, 0, 1] 8 6\n",
            "[1, 2, 3, 2, 4, 5, 1, 0, 0, 0] 9 7\n"
          ]
        },
        {
          "data": {
            "text/plain": [
              "[1, 2, 3, 2, 4, 5, 1, 0, 0, 0]"
            ]
          },
          "execution_count": 12,
          "metadata": {},
          "output_type": "execute_result"
        }
      ],
      "source": [
        "a = [1 ,0 ,2 ,3,2 ,0 ,4,5 ,0 ,1]\n",
        "start = 0\n",
        "end= 1\n",
        "\n",
        "for i in range(end,len(a)):\n",
        "  if (a[i] != 0) :\n",
        "    temp = a[i]\n",
        "    a[i] = a[end]\n",
        "    a[end] = temp\n",
        "    end = end+1\n",
        "  print(a,i, end)\n",
        "a"
      ]
    },
    {
      "cell_type": "markdown",
      "metadata": {
        "id": "V9yGENP-Z_by"
      },
      "source": [
        "# Union of two sorted arrays"
      ]
    },
    {
      "cell_type": "code",
      "execution_count": null,
      "metadata": {
        "colab": {
          "base_uri": "https://localhost:8080/"
        },
        "id": "wxWt6TZJTSN2",
        "outputId": "83bf5f20-8229-47fb-b451-b598053fa6c4"
      },
      "outputs": [
        {
          "name": "stdout",
          "output_type": "stream",
          "text": [
            "[1, 2, 2]\n",
            "[1, 2, 2, 3, 3]\n",
            "[1, 2, 2, 3, 3, 4, 4]\n",
            "[1, 2, 2, 3, 3, 4, 4, 5, 5]\n",
            "[1, 2, 2, 3, 3, 4, 4, 5, 5]\n"
          ]
        }
      ],
      "source": [
        "a = [1,2,3,4,5]\n",
        "b= [2,3,4,5]\n",
        "c = []\n",
        "i=0\n",
        "j=0\n",
        "while i <len(a) and j < len(b):\n",
        "\n",
        "  if a[i] < b[j]:\n",
        "    c.append(a[i])\n",
        "    i = i+1\n",
        "\n",
        "  if a[i] > b[j]:\n",
        "    c.append(b[j])\n",
        "    j = j+1\n",
        "  if a[i] == b[j]:\n",
        "    c.append(a[i])\n",
        "    c.append(b[j])\n",
        "    i=i+1\n",
        "    j = j+1\n",
        "  print(c)\n",
        "\n",
        "while i < len(a):\n",
        "  c.append(a[i])\n",
        "  i = i+1\n",
        "\n",
        "while j < len(b):\n",
        "  c.append(b[j])\n",
        "  j = j+1\n",
        "print(c)"
      ]
    },
    {
      "cell_type": "markdown",
      "metadata": {},
      "source": [
        "# Find the element that occurs once where all other elements has twice"
      ]
    },
    {
      "cell_type": "code",
      "execution_count": 5,
      "metadata": {},
      "outputs": [
        {
          "name": "stdout",
          "output_type": "stream",
          "text": [
            "4\n"
          ]
        }
      ],
      "source": [
        "a= [4,1,2,1,2]\n",
        "x = 0\n",
        "for i in a:\n",
        "  x = x^i\n",
        "print(x)"
      ]
    },
    {
      "cell_type": "markdown",
      "metadata": {
        "id": "F7UPeXOklyMo"
      },
      "source": [
        "# Longest Subarray with Sum K"
      ]
    },
    {
      "cell_type": "code",
      "execution_count": null,
      "metadata": {
        "colab": {
          "base_uri": "https://localhost:8080/"
        },
        "id": "GyTDf4Y1ajCB",
        "outputId": "e148a733-327a-4880-8e4d-eef7209d790a"
      },
      "outputs": [
        {
          "name": "stdout",
          "output_type": "stream",
          "text": [
            "The length of the longest subarray is: 0\n"
          ]
        }
      ],
      "source": [
        "from typing import List\n",
        "\n",
        "def getLongestSubarray(a: [int], k: int) -> int:\n",
        "    n = len(a) # size of the array.\n",
        "\n",
        "    length = 0\n",
        "    for i in range(n): # starting index\n",
        "        s = 0\n",
        "        for j in range(i, n): # ending index\n",
        "            # add the current element to\n",
        "            # the subarray a[i...j-1]:\n",
        "            s += a[j]\n",
        "\n",
        "            if s == k:\n",
        "                length = max(length, j - i + 1)\n",
        "    return length\n",
        "\n",
        "if __name__ == '__main__':\n",
        "    a = [2, 3, 5, 1, 9]\n",
        "    k = 12\n",
        "    len = getLongestSubarray(a, k)\n",
        "    print(\"The length of the longest subarray is:\", len)"
      ]
    },
    {
      "cell_type": "markdown",
      "metadata": {
        "id": "v0S8MLxZExkU"
      },
      "source": [
        "# Medium"
      ]
    },
    {
      "cell_type": "markdown",
      "metadata": {},
      "source": [
        "## Two Sum Problem"
      ]
    },
    {
      "cell_type": "code",
      "execution_count": null,
      "metadata": {},
      "outputs": [],
      "source": [
        "a_d = [1, 2, 3, 4, 5]\n",
        "s = 4\n",
        "start = 0\n",
        "end = len(a_d) - 1\n",
        "for i in range(len(a_d)):\n",
        "  if a_d[start] + a_d[end] == s:\n",
        "    print('found',i,start,end)\n",
        "    break\n",
        "  elif a_d[start] + a_d[end] < s:\n",
        "    start = start+1\n",
        "  else:\n",
        "    end = end-1\n",
        "\n",
        "a_d"
      ]
    },
    {
      "cell_type": "markdown",
      "metadata": {
        "id": "3ICVvGjkEy2M"
      },
      "source": [
        "## majority element"
      ]
    },
    {
      "cell_type": "code",
      "execution_count": null,
      "metadata": {
        "colab": {
          "base_uri": "https://localhost:8080/"
        },
        "id": "2it4yomNfD_W",
        "outputId": "c8d71ea9-575c-4f03-aa8c-695c0bcc9cd8"
      },
      "outputs": [
        {
          "name": "stdout",
          "output_type": "stream",
          "text": [
            "2 occurs more than 7/2\n"
          ]
        }
      ],
      "source": [
        "a = [2,2,1,1,1,2,2]\n",
        "\n",
        "ele =2\n",
        "count =0\n",
        "for i in range(len(a)):\n",
        "  if a[i] == ele:\n",
        "    count += 1\n",
        "  if count >= int(len(a)/2):\n",
        "    print(ele, 'occurs more than {}/2'.format(len(a)))\n",
        "    break"
      ]
    },
    {
      "cell_type": "markdown",
      "metadata": {},
      "source": [
        "## Sort an arrays of 0,1,2 - Dutch national flag algorithm"
      ]
    },
    {
      "cell_type": "code",
      "execution_count": null,
      "metadata": {
        "colab": {
          "base_uri": "https://localhost:8080/"
        },
        "id": "9SxOOx6XFRB5",
        "outputId": "5823dae2-909d-4573-9b35-a6412afc46ee"
      },
      "outputs": [
        {
          "name": "stdout",
          "output_type": "stream",
          "text": [
            "[0, 0, 0, 0, 0, 1, 1, 1, 1, 1, 2, 2, 2, 2, 2, 2, 2, 2] 5 10 9\n"
          ]
        }
      ],
      "source": [
        "a  = [2,0,2,1,1,0,2,0,1,2,0,2,1,0,2,1,2,2]\n",
        "l = 0\n",
        "m =0\n",
        "h =len(a)-1\n",
        "\n",
        "while m <= h:\n",
        "  # if mid ==0 and increment mid and low and swap mid and low\n",
        "  if a[m] == 0:\n",
        "    a[l],a[m] = a[m],a[l]\n",
        "    l = l+1\n",
        "    m =m+1\n",
        "  elif a[m]==1:\n",
        "    # if mid ==1 then increment mid only\n",
        "    m = m+1\n",
        "  else:\n",
        "    # if mid ==2 , then decrease right/high\n",
        "    a[m],a[h] = a[h],a[m]\n",
        "    h =h-1\n",
        "\n",
        "print(a,l,m,h)"
      ]
    },
    {
      "cell_type": "markdown",
      "metadata": {
        "id": "qcqAO1UPjNzK"
      },
      "source": [
        "# Moore's Voting Algorithm and Majority element greater than N/2"
      ]
    },
    {
      "cell_type": "code",
      "execution_count": null,
      "metadata": {
        "colab": {
          "base_uri": "https://localhost:8080/"
        },
        "id": "H3V0E0M-QCOp",
        "outputId": "7372c417-fcfb-4502-9f26-1965b77b0057"
      },
      "outputs": [
        {
          "name": "stdout",
          "output_type": "stream",
          "text": [
            "2 2\n"
          ]
        }
      ],
      "source": [
        "# Occurence will cancel them selves\n",
        "a  = [2,0,2,1,1,0,2,0,1,2,0,2,1,0,2,1,2,2]\n",
        "\n",
        "count =0\n",
        "for i in range(len(a)):\n",
        "  # when count ==0 , change ele and start incrementing count\n",
        "  if count==0:\n",
        "    count=1\n",
        "    ele = a[i]\n",
        "  elif ele == a[i]:\n",
        "    count = count+1\n",
        "  else:\n",
        "    count= count-1\n",
        "print(count,ele)"
      ]
    },
    {
      "cell_type": "markdown",
      "metadata": {
        "id": "uZ-VFjVzydjV"
      },
      "source": [
        "# Kadane's Algorithm : Maximum Subarray Sum in an Array"
      ]
    },
    {
      "cell_type": "code",
      "execution_count": 7,
      "metadata": {
        "colab": {
          "base_uri": "https://localhost:8080/"
        },
        "id": "k_uLtHshX8B8",
        "outputId": "61558ef2-3d6b-40e1-93ef-1f34e92ee7f1"
      },
      "outputs": [
        {
          "name": "stdout",
          "output_type": "stream",
          "text": [
            "3 3 6\n"
          ]
        }
      ],
      "source": [
        "a = [-2,1,-3,4,-1,2,1,-5,4]\n",
        "max = -11000000\n",
        "sum = 0\n",
        "start = 0\n",
        "tstart =-1\n",
        "tend =-1\n",
        "for i in range(len(a)):\n",
        "  if sum == 0:\n",
        "      start = i\n",
        "  sum =  sum+ a[i]\n",
        "  if sum >0:\n",
        "    if (sum > max):\n",
        "      max = sum\n",
        "      tstart = start\n",
        "      tend = i\n",
        "  if (sum <0):\n",
        "    sum = 0\n",
        "\n",
        "print(tstart,start,tend)"
      ]
    },
    {
      "cell_type": "markdown",
      "metadata": {
        "id": "T53PhKtEw4MK"
      },
      "source": [
        "# Stock Buy and Sell"
      ]
    },
    {
      "cell_type": "code",
      "execution_count": null,
      "metadata": {
        "colab": {
          "base_uri": "https://localhost:8080/"
        },
        "id": "tUY5H38Y3HuL",
        "outputId": "6398d472-87a6-485c-81c0-e275ce9ea745"
      },
      "outputs": [
        {
          "name": "stdout",
          "output_type": "stream",
          "text": [
            "9 0\n"
          ]
        }
      ],
      "source": [
        "a  = [7,1,5,3,6,4,10,0,4,2,0]\n",
        "mini = 100000000\n",
        "maxi = -100000000\n",
        "for i in range(len(a)-1):\n",
        "  # return the minimum until that point\n",
        "  mini =  min(mini,a[i])\n",
        "  # what is the net max and to sell\n",
        "  maxi = max(maxi,a[i] - mini)\n",
        "\n",
        "print(maxi,mini)\n"
      ]
    },
    {
      "cell_type": "markdown",
      "metadata": {
        "id": "t5ixSaBC0iy2"
      },
      "source": [
        "# Rearrange Array Elements by Sign"
      ]
    },
    {
      "cell_type": "code",
      "execution_count": null,
      "metadata": {
        "colab": {
          "base_uri": "https://localhost:8080/"
        },
        "id": "o-9ss_uXzMji",
        "outputId": "ed63992f-be8c-4b69-bf43-3dd7250f9497"
      },
      "outputs": [
        {
          "data": {
            "text/plain": [
              "[1, -4, 2, -5]"
            ]
          },
          "execution_count": 21,
          "metadata": {},
          "output_type": "execute_result"
        }
      ],
      "source": [
        "a = [1,2,-4,-5]\n",
        "neg = 1\n",
        "pos= 0\n",
        "b = [0,0,0,0]\n",
        "for i in range(len(a)):\n",
        "  if (pos <= len(a)) and (neg <= len(a)):\n",
        "    if a[i] < 0:\n",
        "      b[neg] = a[i]\n",
        "      neg = neg+2\n",
        "    else:\n",
        "      b[pos] = a[i]\n",
        "      pos = pos+2"
      ]
    },
    {
      "cell_type": "markdown",
      "metadata": {},
      "source": [
        "## Next Greater Permutation"
      ]
    },
    {
      "cell_type": "code",
      "execution_count": 9,
      "metadata": {},
      "outputs": [
        {
          "name": "stdout",
          "output_type": "stream",
          "text": [
            "2\n",
            "-1\n",
            "2\n"
          ]
        },
        {
          "data": {
            "text/plain": [
              "[1, 3, 3, 1, 2, 2, 5, 6]"
            ]
          },
          "execution_count": 9,
          "metadata": {},
          "output_type": "execute_result"
        }
      ],
      "source": [
        "arr = [0,1,2,5,3,3,0]\n",
        "\n",
        "def nextgreatpermutation(a):\n",
        "\n",
        "  n = len(a)\n",
        "  idx = -1\n",
        "  for i in range(n-2,0,-1):\n",
        "    if a[i] < a[i+1]:\n",
        "      idx = i\n",
        "      break\n",
        "  print(idx)\n",
        "  if idx == -1:\n",
        "    return a[::-1]\n",
        "  for j in range(n-1,idx,-1):\n",
        "    if a[j] > a[idx]:\n",
        "      a[idx], a[j] = a[j], a[idx]\n",
        "      break\n",
        "\n",
        "  return a[0:idx+1] + a[idx+1:][::-1]\n",
        "\n",
        "nextgreatpermutation(arr)\n",
        "nextgreatpermutation([1,3,2])\n",
        "nextgreatpermutation([1,3,2,6,5,3,2,1])"
      ]
    },
    {
      "cell_type": "markdown",
      "metadata": {
        "id": "bcg1EFMvMuiV"
      },
      "source": [
        "# Rotate a Image by 90 Degrees"
      ]
    },
    {
      "cell_type": "code",
      "execution_count": null,
      "metadata": {
        "colab": {
          "base_uri": "https://localhost:8080/"
        },
        "id": "WgyJ4IeT1_5a",
        "outputId": "cb698a76-61d5-4392-dcd5-1712a5937b79"
      },
      "outputs": [
        {
          "data": {
            "text/plain": [
              "[]"
            ]
          },
          "execution_count": 10,
          "metadata": {},
          "output_type": "execute_result"
        }
      ],
      "source": [
        "# transpose a Matrix\n",
        "a[i,j], a[j,i] = a[j,i], a[i,j]"
      ]
    },
    {
      "cell_type": "markdown",
      "metadata": {
        "id": "ymJJkMsqNVo0"
      },
      "source": [
        "# Leaders in an array"
      ]
    },
    {
      "cell_type": "code",
      "execution_count": null,
      "metadata": {
        "colab": {
          "base_uri": "https://localhost:8080/"
        },
        "id": "QEa3ZdhH2ASX",
        "outputId": "31a7b62a-723d-4595-b9b2-cc6c43353b10"
      },
      "outputs": [
        {
          "name": "stdout",
          "output_type": "stream",
          "text": [
            "[22, 12, 6]\n",
            "[7, 0]\n"
          ]
        }
      ],
      "source": [
        "def leaders(a):\n",
        "  # greater than all elements on the right\n",
        "  leaders = [a[-1]]\n",
        "  max = a[-1]\n",
        "  n = len(a) -1\n",
        "  for i in range(n-2,0,-1):\n",
        "\n",
        "    if a[i] > max:\n",
        "      max = a[i]\n",
        "      leaders.append(a[i])\n",
        "  return leaders[::-1]\n",
        "\n",
        "print(leaders([10,22,12,3,0,6]))\n",
        "print(leaders([4,7,1,0]))"
      ]
    },
    {
      "cell_type": "markdown",
      "metadata": {},
      "source": [
        "# Longest Consecutive Sequence in an array"
      ]
    },
    {
      "cell_type": "code",
      "execution_count": 15,
      "metadata": {},
      "outputs": [
        {
          "ename": "TypeError",
          "evalue": "'int' object is not callable",
          "output_type": "error",
          "traceback": [
            "\u001b[31m---------------------------------------------------------------------------\u001b[39m",
            "\u001b[31mTypeError\u001b[39m                                 Traceback (most recent call last)",
            "\u001b[36mCell\u001b[39m\u001b[36m \u001b[39m\u001b[32mIn[15]\u001b[39m\u001b[32m, line 21\u001b[39m\n\u001b[32m     17\u001b[39m     longest = \u001b[38;5;28mmax\u001b[39m(longest,count)\n\u001b[32m     19\u001b[39m   \u001b[38;5;28;01mreturn\u001b[39;00m longest\n\u001b[32m---> \u001b[39m\u001b[32m21\u001b[39m \u001b[38;5;28mprint\u001b[39m(\u001b[43mlongestconsecutivesequence\u001b[49m\u001b[43m(\u001b[49m\u001b[43m[\u001b[49m\u001b[32;43m100\u001b[39;49m\u001b[43m,\u001b[49m\u001b[32;43m200\u001b[39;49m\u001b[43m,\u001b[49m\u001b[32;43m1\u001b[39;49m\u001b[43m,\u001b[49m\u001b[32;43m3\u001b[39;49m\u001b[43m,\u001b[49m\u001b[32;43m2\u001b[39;49m\u001b[43m,\u001b[49m\u001b[32;43m4\u001b[39;49m\u001b[43m]\u001b[49m\u001b[43m)\u001b[49m)\n\u001b[32m     22\u001b[39m \u001b[38;5;28mprint\u001b[39m(longestconsecutivesequence([\u001b[32m3\u001b[39m,\u001b[32m8\u001b[39m,\u001b[32m5\u001b[39m,\u001b[32m7\u001b[39m,\u001b[32m6\u001b[39m]))\n\u001b[32m     23\u001b[39m \u001b[38;5;28mprint\u001b[39m(longestconsecutivesequence([\u001b[32m3\u001b[39m,\u001b[32m5\u001b[39m,\u001b[32m4\u001b[39m,\u001b[32m1\u001b[39m,\u001b[32m8\u001b[39m,\u001b[32m7\u001b[39m]))\n",
            "\u001b[36mCell\u001b[39m\u001b[36m \u001b[39m\u001b[32mIn[15]\u001b[39m\u001b[32m, line 17\u001b[39m, in \u001b[36mlongestconsecutivesequence\u001b[39m\u001b[34m(a)\u001b[39m\n\u001b[32m     15\u001b[39m     count =\u001b[32m1\u001b[39m\n\u001b[32m     16\u001b[39m     prev = a[i]\n\u001b[32m---> \u001b[39m\u001b[32m17\u001b[39m   longest = \u001b[38;5;28;43mmax\u001b[39;49m\u001b[43m(\u001b[49m\u001b[43mlongest\u001b[49m\u001b[43m,\u001b[49m\u001b[43mcount\u001b[49m\u001b[43m)\u001b[49m\n\u001b[32m     19\u001b[39m \u001b[38;5;28;01mreturn\u001b[39;00m longest\n",
            "\u001b[31mTypeError\u001b[39m: 'int' object is not callable"
          ]
        }
      ],
      "source": [
        "def longestconsecutivesequence(a):\n",
        "  n = len(a) -1\n",
        "  if n==0:\n",
        "    return 0\n",
        "  a.sort()\n",
        "  prev = -10000000\n",
        "  count =0\n",
        "  longest =1\n",
        "\n",
        "  for i in range(n):\n",
        "    if (a[i]-1) == prev:\n",
        "      count +=1\n",
        "      prev = a[i]\n",
        "    else:\n",
        "      count =1\n",
        "      prev = a[i]\n",
        "    longest = max(longest,count)\n",
        "\n",
        "  return longest\n",
        "\n",
        "print(longestconsecutivesequence([100,200,1,3,2,4]))\n",
        "print(longestconsecutivesequence([3,8,5,7,6]))\n",
        "print(longestconsecutivesequence([3,5,4,1,8,7]))"
      ]
    },
    {
      "cell_type": "markdown",
      "metadata": {
        "id": "cpdsMuO1QAqs"
      },
      "source": [
        "# Spiral of a Matrix"
      ]
    },
    {
      "cell_type": "code",
      "execution_count": null,
      "metadata": {
        "colab": {
          "base_uri": "https://localhost:8080/"
        },
        "id": "SvOu7Dm-Y_Ds",
        "outputId": "638076ed-567b-4b1b-d9b0-397ea26209be"
      },
      "outputs": [
        {
          "name": "stdout",
          "output_type": "stream",
          "text": [
            "3\n"
          ]
        },
        {
          "data": {
            "text/plain": [
              "[1, 2, 3, 6, 9, 8, 7, 4, 5]"
            ]
          },
          "execution_count": 9,
          "metadata": {},
          "output_type": "execute_result"
        }
      ],
      "source": [
        "def spiralmatrix(a):\n",
        "  n = a.shape[0]\n",
        "  top = 0\n",
        "  left  = 0\n",
        "  bottom  = n-1\n",
        "  right = n-1\n",
        "  output = []\n",
        "  while (top<=bottom) and (left <=right):\n",
        "\n",
        "    for i in range(left, right+1):\n",
        "      output.append(a[top][i])\n",
        "    top +=1\n",
        "\n",
        "    for j in range(top, bottom+1):\n",
        "      output.append(a[j][right])\n",
        "\n",
        "    right -=1\n",
        "\n",
        "    if top <=bottom:\n",
        "      for i in range(right,left-1,-1):\n",
        "        output.append(a[bottom][i])\n",
        "\n",
        "      bottom -=1\n",
        "\n",
        "    if left <= right:\n",
        "      for i in range(bottom,top-1,-1):\n",
        "        output.append(a[i][left])\n",
        "\n",
        "      left +=1\n",
        "\n",
        "  return output\n",
        "\n",
        "import numpy as np\n",
        "a=np.array(\n",
        "    [[1,2,3],\n",
        "    [4,5,6],\n",
        "    [7,8,9]]\n",
        ")\n",
        "\n",
        "spiralmatrix(a)"
      ]
    },
    {
      "cell_type": "markdown",
      "metadata": {},
      "source": [
        "# Merge Intervals"
      ]
    },
    {
      "cell_type": "code",
      "execution_count": 9,
      "metadata": {},
      "outputs": [
        {
          "data": {
            "text/plain": [
              "[(1, 6), (8, 11), (15, 18)]"
            ]
          },
          "execution_count": 9,
          "metadata": {},
          "output_type": "execute_result"
        }
      ],
      "source": [
        "a = [(1,3),(2,6),(8,9),(9,11),(8,10),(2,4),(15,18),(16,17)]\n",
        "ans = []\n",
        "sorted(a)\n",
        "n = len(a)\n",
        "for i in range(n):\n",
        "    \n",
        "    start = a[i][0]\n",
        "    end = a[i][1]\n",
        "    if (len(ans)!= 0) and (ans[-1][1] >= start):\n",
        "        continue\n",
        "    for j in range(i+1,n):\n",
        "        \n",
        "        if end >= a[j][0]:\n",
        "            end = max(end,a[j][1])\n",
        "        else:\n",
        "            break\n",
        "    ans.append((start,end))\n",
        "ans"
      ]
    },
    {
      "cell_type": "markdown",
      "metadata": {},
      "source": [
        "# Longest Subarray with Sum=K"
      ]
    },
    {
      "cell_type": "code",
      "execution_count": 15,
      "metadata": {},
      "outputs": [
        {
          "data": {
            "text/plain": [
              "3"
            ]
          },
          "execution_count": 15,
          "metadata": {},
          "output_type": "execute_result"
        }
      ],
      "source": [
        "a = [2, 3, 5, 1, 9]\n",
        "target = 9\n",
        "left,right = 0,0\n",
        "n = len(a)\n",
        "sum_a = a[0]\n",
        "maxlen = 0\n",
        "while (right < n):\n",
        "    \n",
        "    while (sum_a > target) and left <= right:\n",
        "        sum_a = sum_a - a[left]\n",
        "        left = left+1\n",
        "    \n",
        "    if sum_a == target:\n",
        "        maxlen = max(maxlen,right-left+1)\n",
        "    right = right+1\n",
        "    if right < n:\n",
        "        sum_a += a[right]\n",
        "\n",
        "maxlen        "
      ]
    },
    {
      "cell_type": "markdown",
      "metadata": {},
      "source": [
        "# Count Subarray Sum equals to K"
      ]
    },
    {
      "cell_type": "code",
      "execution_count": null,
      "metadata": {},
      "outputs": [],
      "source": [
        "def subarraySum(a,k):\n",
        "  n= len(a) -1\n",
        "  count =0\n",
        "  for i in range(n):\n",
        "    sum =0\n",
        "    for j in range(i,n):\n",
        "\n",
        "      sum+= a[j]\n",
        "      if sum ==  k:\n",
        "        count+=1\n",
        "  return count\n",
        "\n",
        "subarraySum([3,1,2,4],4)"
      ]
    },
    {
      "cell_type": "markdown",
      "metadata": {
        "id": "GApQjf7cV6vg"
      },
      "source": [
        "# 3-SUm problem"
      ]
    },
    {
      "cell_type": "code",
      "execution_count": null,
      "metadata": {
        "colab": {
          "base_uri": "https://localhost:8080/"
        },
        "id": "m6gyILn7SKCv",
        "outputId": "de345618-6f9d-4971-ddc6-a56c06f90815"
      },
      "outputs": [
        {
          "name": "stdout",
          "output_type": "stream",
          "text": [
            "[[-1, 0, 1], [-1, 1, 0], [-1, 2, -1], [-1, -1, 2], [0, 1, -1], [0, -1, 1], [1, -1, 0], [2, -1, -1]]\n"
          ]
        }
      ],
      "source": [
        "def triplet(a):\n",
        "\n",
        "  l_a = list(set(a))\n",
        "  n = len(a) -1\n",
        "  o = []\n",
        "  for i in range(n):\n",
        "    for j in range(i+1,n):\n",
        "\n",
        "      if -(a[i] + a[j]) in l_a:\n",
        "        o.append([a[i],a[j],-(a[i] + a[j])])\n",
        "  return o\n",
        "\n",
        "print(triplet([-1,0,1,2,-1,-4]))"
      ]
    },
    {
      "cell_type": "markdown",
      "metadata": {
        "id": "rUgNrpACfURx"
      },
      "source": [
        "# Longest substring without repeating characters"
      ]
    },
    {
      "cell_type": "code",
      "execution_count": null,
      "metadata": {
        "colab": {
          "base_uri": "https://localhost:8080/"
        },
        "id": "WNaSN0YAW_wG",
        "outputId": "8770f63c-8799-4a40-f37d-050850aec633"
      },
      "outputs": [
        {
          "name": "stdout",
          "output_type": "stream",
          "text": [
            "(8, 6, 14)\n",
            "(4, 0, 4)\n"
          ]
        }
      ],
      "source": [
        "def substring(a):\n",
        "  l=0\n",
        "  r=0\n",
        "  maxlen =0\n",
        "  dict_1 = {}\n",
        "  n = len(a) -1\n",
        "  while(r<n):\n",
        "    if (a[r] in list(dict_1.keys())) and (dict_1[a[r]] >=l):\n",
        "      l = dict_1[a[r]] +1\n",
        "\n",
        "    length = r-l+1\n",
        "    maxlen = max(length,maxlen)\n",
        "    dict_1[a[r]] = r\n",
        "    r+=1\n",
        "\n",
        "  return maxlen,l,r\n",
        "\n",
        "print(substring('nithinmundrathi'))\n",
        "print(substring('lasya'))"
      ]
    },
    {
      "cell_type": "markdown",
      "metadata": {
        "id": "it-OhYJf_ifg"
      },
      "source": [
        "# Max Consecutive One's"
      ]
    },
    {
      "cell_type": "code",
      "execution_count": null,
      "metadata": {
        "colab": {
          "base_uri": "https://localhost:8080/"
        },
        "id": "SIsY-WGUy1cA",
        "outputId": "ea1577f1-cb10-4b74-e8c5-228ceb6ab2b9"
      },
      "outputs": [
        {
          "data": {
            "text/plain": [
              "(6, 4, 10)"
            ]
          },
          "execution_count": 21,
          "metadata": {},
          "output_type": "execute_result"
        }
      ],
      "source": [
        "def consecutiveOne(a,k):\n",
        "  left =0\n",
        "  right = 0\n",
        "  zeros =0\n",
        "  n = len(a)-1\n",
        "  length =0\n",
        "  maxlen = 0\n",
        "  while(right < n):\n",
        "    if a[right] == 0:\n",
        "      zeros +=1\n",
        "    while (zeros>k):\n",
        "      if (a[left] ==0):\n",
        "        zeros -=1\n",
        "      left +=1\n",
        "    if zeros <= k:\n",
        "      length = right-left+1\n",
        "      maxlen = max(length,maxlen)\n",
        "    right +=1\n",
        "  return maxlen,left,right\n",
        "\n",
        "consecutiveOne([1,1,1,0,0,0,1,1,1,1,0],2)"
      ]
    },
    {
      "cell_type": "code",
      "execution_count": null,
      "metadata": {
        "colab": {
          "base_uri": "https://localhost:8080/"
        },
        "id": "l3MIQGJWzCU0",
        "outputId": "f879e20a-e440-4841-bfbb-8f32b923d334"
      },
      "outputs": [
        {
          "data": {
            "text/plain": [
              "(6, 2, 8)"
            ]
          },
          "execution_count": 24,
          "metadata": {},
          "output_type": "execute_result"
        }
      ],
      "source": [
        "def consecutiveOnes(a,k):\n",
        "  left =0\n",
        "  right =0\n",
        "  zeros =0\n",
        "  n = len(a) -1\n",
        "  length =0\n",
        "  maxlen =0\n",
        "\n",
        "  while (right <n):\n",
        "    if (a[right] ==0):\n",
        "      zeros +=1\n",
        "    if (zeros >k):\n",
        "      if a[left] ==0:\n",
        "        zeros -=1\n",
        "      left +=1\n",
        "    elif (zeros <=k):\n",
        "      length = right -left+1\n",
        "      maxlen = max(length,maxlen)\n",
        "    right +=1\n",
        "\n",
        "  return maxlen,left,right\n",
        "\n",
        "consecutiveOnes([1,0,1,1,0,1,0,0,1],2)"
      ]
    },
    {
      "cell_type": "markdown",
      "metadata": {
        "id": "zwBw0rJYHr8X"
      },
      "source": [
        "# Fruits into Baskets"
      ]
    },
    {
      "cell_type": "code",
      "execution_count": 2,
      "metadata": {
        "colab": {
          "base_uri": "https://localhost:8080/"
        },
        "id": "tG_Xku5lHeco",
        "outputId": "58f0fa29-f91f-4973-b172-9592f316985f"
      },
      "outputs": [
        {
          "data": {
            "text/plain": [
              "(5, 5, 10)"
            ]
          },
          "execution_count": 2,
          "metadata": {},
          "output_type": "execute_result"
        }
      ],
      "source": [
        "def fruitbaskets(a,k):\n",
        "  left =0\n",
        "  right =0\n",
        "  dict_1 = {}\n",
        "  n = len(a) -1\n",
        "  length =0\n",
        "  maxlen =0\n",
        "\n",
        "  while (right <n):\n",
        "    if (a[right] not in list(dict_1.keys())):\n",
        "      dict_1[a[right]] =1\n",
        "    else:\n",
        "      dict_1[a[right]] +=1\n",
        "\n",
        "    if (len(dict_1.keys()) >k):\n",
        "      dict_1[a[left]] -= 1\n",
        "      if dict_1[a[left]] ==0:\n",
        "        del dict_1[a[left]]\n",
        "      left +=1\n",
        "    elif (len(dict_1.keys()) <=k):\n",
        "      length = right -left+1\n",
        "      maxlen = max(length,maxlen)\n",
        "    right +=1\n",
        "\n",
        "  return maxlen,left,right\n",
        "\n",
        "fruitbaskets([3,3,3,1,2,1,1,2,3,3,4],2)"
      ]
    },
    {
      "cell_type": "markdown",
      "metadata": {
        "id": "i7Ot3MQbYxPN"
      },
      "source": [
        "# Binary Subarray with  Sum"
      ]
    },
    {
      "cell_type": "code",
      "execution_count": 7,
      "metadata": {
        "colab": {
          "base_uri": "https://localhost:8080/"
        },
        "id": "blAsEmlVOciW",
        "outputId": "43f8e9c4-b3b6-4a03-ede9-6a59c262a82d"
      },
      "outputs": [
        {
          "data": {
            "text/plain": [
              "4"
            ]
          },
          "execution_count": 7,
          "metadata": {},
          "output_type": "execute_result"
        }
      ],
      "source": [
        "def binarySubarray(a,k):\n",
        "  left =0\n",
        "  right =0\n",
        "  sum =0\n",
        "  count =0\n",
        "  n = len(a) -1\n",
        "  while (right <= n):\n",
        "    sum += a[right]\n",
        "\n",
        "    while sum > k:\n",
        "      sum = sum - a[left]\n",
        "      left +=1\n",
        "    count = count + right -left+1\n",
        "    right +=1\n",
        "  return count\n",
        "\n",
        "a= [1,0,1,0,1]\n",
        "binarySubarray(a,2) - binarySubarray(a,1)"
      ]
    },
    {
      "cell_type": "markdown",
      "metadata": {
        "id": "ZNhthMe2jnXp"
      },
      "source": [
        "# Count number of Nice Subarrays"
      ]
    },
    {
      "cell_type": "code",
      "execution_count": 10,
      "metadata": {
        "colab": {
          "base_uri": "https://localhost:8080/"
        },
        "id": "pyIGKTPCi75b",
        "outputId": "d0fdd50c-e0f8-4c9f-ad34-42e462bdf714"
      },
      "outputs": [
        {
          "data": {
            "text/plain": [
              "1"
            ]
          },
          "execution_count": 10,
          "metadata": {},
          "output_type": "execute_result"
        }
      ],
      "source": [
        "def nicesubarrays(a,k):\n",
        "  odd_even = [0 if i%2==0 else 1 for i in a]\n",
        "\n",
        "  return binarySubarray(odd_even,k) - binarySubarray(odd_even,k-1)\n",
        "nicesubarrays(a,3)"
      ]
    },
    {
      "cell_type": "code",
      "execution_count": null,
      "metadata": {
        "id": "cZKQAdiPkLua"
      },
      "outputs": [],
      "source": [
        "def substringscharacters(a,k):\n",
        "  left= 0\n",
        "  right =0\n",
        "  n = len(a)-1\n",
        "  dict_1 ={}\n",
        "\n",
        "\n",
        "  while right < n:\n"
      ]
    },
    {
      "cell_type": "markdown",
      "metadata": {
        "id": "zNCqpWxGrIER"
      },
      "source": [
        "# Maximum Points you can obtain From Cards"
      ]
    },
    {
      "cell_type": "code",
      "execution_count": 18,
      "metadata": {
        "colab": {
          "base_uri": "https://localhost:8080/"
        },
        "id": "GfLotuiUrHnW",
        "outputId": "b31904b0-1b47-4955-dc05-5110c259bfbe"
      },
      "outputs": [
        {
          "data": {
            "text/plain": [
              "16"
            ]
          },
          "execution_count": 18,
          "metadata": {},
          "output_type": "execute_result"
        }
      ],
      "source": [
        "def maximumcards(a,k):\n",
        "  leftsum = 0\n",
        "  rightsum = 0\n",
        "  maxsum = 0\n",
        "  n = len(a) -1\n",
        "  for i in range(0,k):\n",
        "    leftsum = leftsum + a[i]\n",
        "  maxsum = leftsum\n",
        "  right_index = n\n",
        "  for i in range(k-1,-1,-1):\n",
        "    leftsum = leftsum - a[i]\n",
        "    rightsum = rightsum  + a[right_index]\n",
        "    right_index -=1\n",
        "\n",
        "    maxsum = max(maxsum,leftsum+rightsum)\n",
        "\n",
        "  return maxsum\n",
        "\n",
        "maximumcards([6,2,3,4,7,2,1,7,1],4)"
      ]
    },
    {
      "cell_type": "markdown",
      "metadata": {
        "id": "xL2kg_3IvV3y"
      },
      "source": [
        "# Longest Substring with At Most K Distinct Characters"
      ]
    },
    {
      "cell_type": "code",
      "execution_count": 23,
      "metadata": {
        "colab": {
          "base_uri": "https://localhost:8080/"
        },
        "id": "NX5Q1exFreA8",
        "outputId": "0bbc3f9f-6708-4efc-d595-c723ebeca7a7"
      },
      "outputs": [
        {
          "data": {
            "text/plain": [
              "5"
            ]
          },
          "execution_count": 23,
          "metadata": {},
          "output_type": "execute_result"
        }
      ],
      "source": [
        "def maximumsubstring(a,k):\n",
        "  maxlen=0\n",
        "  left =0\n",
        "  right=0\n",
        "  dict_1 ={}\n",
        "  n = len(a)-1\n",
        "  while right <=n:\n",
        "\n",
        "    if (a[right] not in list(dict_1.keys())):\n",
        "      dict_1[a[right]] =1\n",
        "    else:\n",
        "      dict_1[a[right]] +=1\n",
        "\n",
        "    if len(dict_1.keys()) > k:\n",
        "      dict_1[a[left]] -= 1\n",
        "      if dict_1[a[left]] == 0:\n",
        "        del dict_1[a[left]]\n",
        "      left +=1\n",
        "\n",
        "    if len(dict_1.keys()) <= k:\n",
        "      maxlen = max(maxlen,right-left+1)\n",
        "    right +=1\n",
        "\n",
        "  return maxlen\n",
        "\n",
        "maximumsubstring([1,1,1,2,2,3,3,4],2)"
      ]
    },
    {
      "cell_type": "markdown",
      "metadata": {},
      "source": [
        "## Merge two sorted Arrays"
      ]
    },
    {
      "cell_type": "code",
      "execution_count": null,
      "metadata": {
        "id": "6zYAj49vrggk"
      },
      "outputs": [],
      "source": [
        "# Method-1 - Withput any Extra Space\n",
        "a= [1,3,5,7]\n",
        "b  = [0,2,6,8,9]\n",
        "\n",
        "n = len(a)\n",
        "m = len(b)\n",
        "l = n -1\n",
        "r =0\n",
        "while (l <n) & (r<m):\n",
        "\n",
        "  if a[l] > b[r]:\n",
        "    a[l],b[r] = b[r],a[l]\n",
        "\n",
        "  else:\n",
        "    l = l-1\n",
        "    r = r+1\n",
        "\n",
        "print(a,b)\n",
        "sorted(a) + sorted(b)"
      ]
    },
    {
      "cell_type": "markdown",
      "metadata": {},
      "source": [
        "## Greater than N/3 Times"
      ]
    },
    {
      "cell_type": "code",
      "execution_count": 8,
      "metadata": {},
      "outputs": [
        {
          "data": {
            "text/plain": [
              "1"
            ]
          },
          "execution_count": 8,
          "metadata": {},
          "output_type": "execute_result"
        }
      ],
      "source": [
        "a = [2,1,1,3,1,4,5,6]\n",
        "\n",
        "def greater_than_n_3(a):\n",
        "\n",
        "  n = len(a) -1\n",
        "\n",
        "  ele1,ele2 = 100000,100000\n",
        "  cnt1,cnt2 = 0,0\n",
        "\n",
        "  for i in range(n):\n",
        "\n",
        "    if (cnt1==0) & (a[i] !=ele2):\n",
        "      cnt1 = 1\n",
        "      ele1 = a[i]\n",
        "    elif (cnt2==0) & (a[i] !=ele1):\n",
        "      cnt2 = 1\n",
        "      ele2 = a[i]\n",
        "\n",
        "    elif a[i] == ele1:\n",
        "      cnt1 = cnt1+1\n",
        "\n",
        "    elif a[i] == ele2:\n",
        "      cnt2 = cnt2+1\n",
        "    else:\n",
        "      cnt1 = cnt1-1\n",
        "      cnt2 = cnt2 -1\n",
        "\n",
        "  if cnt1 >cnt2:\n",
        "    return ele1\n",
        "  else:\n",
        "    return ele2\n",
        "\n",
        "greater_than_n_3(a)"
      ]
    },
    {
      "cell_type": "code",
      "execution_count": null,
      "metadata": {},
      "outputs": [],
      "source": []
    }
  ],
  "metadata": {
    "colab": {
      "authorship_tag": "ABX9TyOrttZSb3cLDl9wu/2hkOzU",
      "include_colab_link": true,
      "provenance": []
    },
    "kernelspec": {
      "display_name": "Python 3",
      "name": "python3"
    },
    "language_info": {
      "codemirror_mode": {
        "name": "ipython",
        "version": 3
      },
      "file_extension": ".py",
      "mimetype": "text/x-python",
      "name": "python",
      "nbconvert_exporter": "python",
      "pygments_lexer": "ipython3",
      "version": "3.11.9"
    }
  },
  "nbformat": 4,
  "nbformat_minor": 0
}
