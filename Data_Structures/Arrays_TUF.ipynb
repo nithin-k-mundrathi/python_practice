{
  "nbformat": 4,
  "nbformat_minor": 0,
  "metadata": {
    "colab": {
      "provenance": [],
      "authorship_tag": "ABX9TyME00gIEafbK4AF0vjPBUmJ",
      "include_colab_link": true
    },
    "kernelspec": {
      "name": "python3",
      "display_name": "Python 3"
    },
    "language_info": {
      "name": "python"
    }
  },
  "cells": [
    {
      "cell_type": "markdown",
      "metadata": {
        "id": "view-in-github",
        "colab_type": "text"
      },
      "source": [
        "<a href=\"https://colab.research.google.com/github/nithin-k-mundrathi/python_practice/blob/main/Data_Structures/Arrays_TUF.ipynb\" target=\"_parent\"><img src=\"https://colab.research.google.com/assets/colab-badge.svg\" alt=\"Open In Colab\"/></a>"
      ]
    },
    {
      "cell_type": "markdown",
      "source": [
        "# 1. Arrays"
      ],
      "metadata": {
        "id": "oAFeyuMEhy8u"
      }
    },
    {
      "cell_type": "markdown",
      "source": [
        "## 1. Largest Element in an Array"
      ],
      "metadata": {
        "id": "C9ghlqifiZYj"
      }
    },
    {
      "cell_type": "code",
      "source": [
        "list_1 = [2,5,1,3,0]\n",
        "max = -10000000\n",
        "for i in range(len(list_1)):\n",
        "  if max < list_1[i]:\n",
        "    max = list_1[i]\n",
        "max"
      ],
      "metadata": {
        "colab": {
          "base_uri": "https://localhost:8080/"
        },
        "id": "aDBNtqv8h0qa",
        "outputId": "823b46cd-88bf-444d-9c3e-3125bc7da776"
      },
      "execution_count": null,
      "outputs": [
        {
          "output_type": "execute_result",
          "data": {
            "text/plain": [
              "5"
            ]
          },
          "metadata": {},
          "execution_count": 1
        }
      ]
    },
    {
      "cell_type": "markdown",
      "source": [
        "# 2. Second Largest Element in an Array"
      ],
      "metadata": {
        "id": "Si9Ns6K_i7lT"
      }
    },
    {
      "cell_type": "code",
      "source": [
        "max1 = -100000000\n",
        "max2 = -100000000\n",
        "\n",
        "list_1 = [2,5,1,3,0]\n",
        "for i in range(len(list_1)):\n",
        "  if  list_1[i] > max1:\n",
        "    max2 = max1\n",
        "    max1 = list_1[i]\n",
        "  else:\n",
        "    if (list_1[i] > max2) and (list_1[i] != max1):\n",
        "      max2 = list_1[i]\n",
        "max1,max2"
      ],
      "metadata": {
        "id": "3biF0xuKi7EL",
        "colab": {
          "base_uri": "https://localhost:8080/"
        },
        "outputId": "ba330730-41ac-4ba7-d970-105b02dfb966"
      },
      "execution_count": null,
      "outputs": [
        {
          "output_type": "execute_result",
          "data": {
            "text/plain": [
              "(5, 3)"
            ]
          },
          "metadata": {},
          "execution_count": 4
        }
      ]
    },
    {
      "cell_type": "markdown",
      "source": [
        "# 3. Check if an Array is Sorted"
      ],
      "metadata": {
        "id": "Jc6bO_jx4oLt"
      }
    },
    {
      "cell_type": "code",
      "source": [
        "a = [2,5,1,3,0]\n",
        "for i in range(len(a)-1):\n",
        "  if a[i] >= a[i+1]:\n",
        "    print(False)\n",
        "    break"
      ],
      "metadata": {
        "id": "rDESQyeEitw-",
        "colab": {
          "base_uri": "https://localhost:8080/"
        },
        "outputId": "ae3d9931-cac4-4aba-aca4-d021a6441439"
      },
      "execution_count": null,
      "outputs": [
        {
          "output_type": "stream",
          "name": "stdout",
          "text": [
            "False\n"
          ]
        }
      ]
    },
    {
      "cell_type": "markdown",
      "source": [
        "# 4. Remove Duplicates From sorted Array"
      ],
      "metadata": {
        "id": "67XpToEs5FQX"
      }
    },
    {
      "cell_type": "code",
      "source": [
        "a = [1,2,2,3,3,3,4,5]\n",
        "a_d = [1,2,2,3,3,3,4,5]\n",
        "for i in range(len(a)-1):\n",
        "  print(i)\n",
        "  if a[i] ==a[i+1]:\n",
        "    a_d.remove(a[i+1])\n",
        "\n",
        "print(a,a_d)"
      ],
      "metadata": {
        "colab": {
          "base_uri": "https://localhost:8080/"
        },
        "id": "zaR9NsnX47Ki",
        "outputId": "1f9df3e7-21f9-42f1-c300-d86794768bc1"
      },
      "execution_count": null,
      "outputs": [
        {
          "output_type": "stream",
          "name": "stdout",
          "text": [
            "0\n",
            "1\n",
            "2\n",
            "3\n",
            "4\n",
            "5\n",
            "6\n",
            "[1, 2, 2, 3, 3, 3, 4, 5] [1, 2, 3, 4, 5]\n"
          ]
        }
      ]
    },
    {
      "cell_type": "markdown",
      "source": [
        "# 5. LEft Rotate an array by D  Place"
      ],
      "metadata": {
        "id": "mhOljsBJ6mlO"
      }
    },
    {
      "cell_type": "code",
      "source": [
        "a_d = [1, 2, 3, 4, 5]"
      ],
      "metadata": {
        "id": "2OsFYX4v5ame"
      },
      "execution_count": null,
      "outputs": []
    },
    {
      "cell_type": "code",
      "source": [
        "a_d.insert(0,0)\n",
        "a_d"
      ],
      "metadata": {
        "colab": {
          "base_uri": "https://localhost:8080/"
        },
        "id": "ykx-7IsY6mA-",
        "outputId": "6ed857e5-5559-4b1f-e7a5-63bf5751ec24"
      },
      "execution_count": null,
      "outputs": [
        {
          "output_type": "execute_result",
          "data": {
            "text/plain": [
              "[0, 1, 2, 3, 4, 5]"
            ]
          },
          "metadata": {},
          "execution_count": 24
        }
      ]
    },
    {
      "cell_type": "code",
      "source": [
        "a_d = [1, 2, 3, 4, 5]\n",
        "for i in range(3):\n",
        "  for i in range(len(a_d)):\n",
        "    if i==0:\n",
        "      e = a_d[i]\n",
        "    else:\n",
        "      a_d[i-1] = a_d[i]\n",
        "\n",
        "  a_d[len(a_d)-1]= e\n",
        "a_d"
      ],
      "metadata": {
        "colab": {
          "base_uri": "https://localhost:8080/"
        },
        "id": "PVkK9ME_6saB",
        "outputId": "83769bed-3d8f-4cb8-d872-6f7f106abc8f"
      },
      "execution_count": null,
      "outputs": [
        {
          "output_type": "execute_result",
          "data": {
            "text/plain": [
              "[4, 5, 1, 2, 3]"
            ]
          },
          "metadata": {},
          "execution_count": 35
        }
      ]
    },
    {
      "cell_type": "markdown",
      "source": [
        "# Lineasr Search"
      ],
      "metadata": {
        "id": "RkXMk7Mg-NG7"
      }
    },
    {
      "cell_type": "code",
      "source": [
        "a_d = [1, 2, 3, 4, 5]\n",
        "s = 4\n",
        "for i in range(len(a_d)):\n",
        "\n",
        "  if a_d[i] == s:\n",
        "    print('found',i)\n",
        "\n",
        "a_d"
      ],
      "metadata": {
        "colab": {
          "base_uri": "https://localhost:8080/"
        },
        "id": "_H8CBgNp7h60",
        "outputId": "16f7c484-177a-44fb-e0b1-f133107a70f1"
      },
      "execution_count": null,
      "outputs": [
        {
          "output_type": "stream",
          "name": "stdout",
          "text": [
            "found 3\n"
          ]
        },
        {
          "output_type": "execute_result",
          "data": {
            "text/plain": [
              "[1, 2, 3, 4, 5]"
            ]
          },
          "metadata": {},
          "execution_count": 36
        }
      ]
    },
    {
      "cell_type": "markdown",
      "source": [
        "# Find the missing number in an array"
      ],
      "metadata": {
        "id": "cpcpgl55-fsw"
      }
    },
    {
      "cell_type": "code",
      "source": [],
      "metadata": {
        "id": "1eyk0nmf-brG"
      },
      "execution_count": null,
      "outputs": []
    },
    {
      "cell_type": "markdown",
      "source": [
        "# Two Sum problem"
      ],
      "metadata": {
        "id": "YofqpY2IAt7m"
      }
    },
    {
      "cell_type": "code",
      "source": [
        "a_d = [1, 2, 3, 4, 5]\n",
        "s = 4\n",
        "start = 0\n",
        "end = len(a_d) - 1\n",
        "for i in range(len(a_d)):\n",
        "  if a_d[start] + a_d[end] == s:\n",
        "    print('found',i,start,end)\n",
        "    break\n",
        "  elif a_d[start] + a_d[end] < s:\n",
        "    start = start+1\n",
        "  else:\n",
        "    end = end-1\n",
        "\n",
        "a_d"
      ],
      "metadata": {
        "colab": {
          "base_uri": "https://localhost:8080/"
        },
        "id": "RX9hfKy0AvIO",
        "outputId": "a74b5a9c-3476-45b7-d38f-91c916cd5a24"
      },
      "execution_count": null,
      "outputs": [
        {
          "output_type": "stream",
          "name": "stdout",
          "text": [
            "found 2 0 2\n"
          ]
        },
        {
          "output_type": "execute_result",
          "data": {
            "text/plain": [
              "[1, 2, 3, 4, 5]"
            ]
          },
          "metadata": {},
          "execution_count": 41
        }
      ]
    },
    {
      "cell_type": "markdown",
      "source": [
        "# Count Maximum Consecutive One's in the array"
      ],
      "metadata": {
        "id": "mluRW14wCnDf"
      }
    },
    {
      "cell_type": "code",
      "source": [
        "a = [1,1,0,1,1,1]\n",
        "count =0\n",
        "for i in range(len(a)-1):\n",
        "  if (a[i] ==a[i+1]) and (a[i] ==1):\n",
        "    count = count +1\n",
        "  else:\n",
        "    count =0\n",
        "\n",
        "count+1"
      ],
      "metadata": {
        "colab": {
          "base_uri": "https://localhost:8080/"
        },
        "id": "t84eKgNPB5jr",
        "outputId": "ec46b938-39a9-46aa-8aef-67fd856941d5"
      },
      "execution_count": null,
      "outputs": [
        {
          "output_type": "execute_result",
          "data": {
            "text/plain": [
              "3"
            ]
          },
          "metadata": {},
          "execution_count": 52
        }
      ]
    },
    {
      "cell_type": "markdown",
      "source": [
        "# Find the missing number in an array"
      ],
      "metadata": {
        "id": "mFGXmZYlECKE"
      }
    },
    {
      "cell_type": "code",
      "source": [
        "a = [1,2,4,5]\n",
        "n = len(a)\n",
        "sum_1 = int(n*(n+1)/2)"
      ],
      "metadata": {
        "id": "gqU3yZJXC7xB"
      },
      "execution_count": null,
      "outputs": []
    },
    {
      "cell_type": "markdown",
      "source": [
        "# Move all Zeros to the end of the array"
      ],
      "metadata": {
        "id": "42_WeXhMGCRs"
      }
    },
    {
      "cell_type": "code",
      "source": [
        "a = [1 ,0 ,2 ,3 ,0 ,4 ,0 ,1]\n",
        "start = 0\n",
        "end= 1\n",
        "\n",
        "for i in range(end,len(a)):\n",
        "\n",
        "  if (a[i] != 0) :\n",
        "    temp = a[i]\n",
        "    a[i] = a[end]\n",
        "    a[end] = temp\n",
        "    end = end+1\n",
        "  print(a,i, end)\n",
        "a\n"
      ],
      "metadata": {
        "colab": {
          "base_uri": "https://localhost:8080/"
        },
        "id": "Pdda8ht2EdnZ",
        "outputId": "2baa46a1-c2d5-4a16-b68f-dfac00af3a71"
      },
      "execution_count": null,
      "outputs": [
        {
          "output_type": "stream",
          "name": "stdout",
          "text": [
            "[1, 0, 2, 3, 0, 4, 0, 1] 1 1\n",
            "[1, 2, 0, 3, 0, 4, 0, 1] 2 2\n",
            "[1, 2, 3, 0, 0, 4, 0, 1] 3 3\n",
            "[1, 2, 3, 0, 0, 4, 0, 1] 4 3\n",
            "[1, 2, 3, 4, 0, 0, 0, 1] 5 4\n",
            "[1, 2, 3, 4, 0, 0, 0, 1] 6 4\n",
            "[1, 2, 3, 4, 1, 0, 0, 0] 7 5\n"
          ]
        },
        {
          "output_type": "execute_result",
          "data": {
            "text/plain": [
              "[1, 2, 3, 4, 1, 0, 0, 0]"
            ]
          },
          "metadata": {},
          "execution_count": 93
        }
      ]
    },
    {
      "cell_type": "markdown",
      "source": [
        "# Union of two sorted arrays"
      ],
      "metadata": {
        "id": "V9yGENP-Z_by"
      }
    },
    {
      "cell_type": "code",
      "source": [
        "a = [1,2,3,4,5]\n",
        "b= [2,3,4,5]\n",
        "c = []\n",
        "i=0\n",
        "j=0\n",
        "while i <len(a) and j < len(b):\n",
        "\n",
        "  if a[i] < b[j]:\n",
        "    c.append(a[i])\n",
        "    i = i+1\n",
        "\n",
        "  if a[i] > b[j]:\n",
        "    c.append(b[j])\n",
        "    j = j+1\n",
        "  if a[i] == b[j]:\n",
        "    c.append(a[i])\n",
        "    c.append(b[j])\n",
        "    i=i+1\n",
        "    j = j+1\n",
        "  print(c)\n",
        "\n",
        "while i < len(a):\n",
        "  c.append(a[i])\n",
        "  i = i+1\n",
        "\n",
        "while j < len(b):\n",
        "  c.append(b[j])\n",
        "  j = j+1\n",
        "print(c)"
      ],
      "metadata": {
        "colab": {
          "base_uri": "https://localhost:8080/"
        },
        "id": "wxWt6TZJTSN2",
        "outputId": "83bf5f20-8229-47fb-b451-b598053fa6c4"
      },
      "execution_count": null,
      "outputs": [
        {
          "output_type": "stream",
          "name": "stdout",
          "text": [
            "[1, 2, 2]\n",
            "[1, 2, 2, 3, 3]\n",
            "[1, 2, 2, 3, 3, 4, 4]\n",
            "[1, 2, 2, 3, 3, 4, 4, 5, 5]\n",
            "[1, 2, 2, 3, 3, 4, 4, 5, 5]\n"
          ]
        }
      ]
    },
    {
      "cell_type": "code",
      "source": [
        "\n",
        "\n",
        "\n",
        "from typing import List\n",
        "\n",
        "def getLongestSubarray(a: [int], k: int) -> int:\n",
        "    n = len(a) # size of the array.\n",
        "\n",
        "    length = 0\n",
        "    for i in range(n): # starting index\n",
        "        s = 0\n",
        "        for j in range(i, n): # ending index\n",
        "            # add the current element to\n",
        "            # the subarray a[i...j-1]:\n",
        "            s += a[j]\n",
        "\n",
        "            if s == k:\n",
        "                length = max(length, j - i + 1)\n",
        "    return length\n",
        "\n",
        "if __name__ == '__main__':\n",
        "    a = [2, 3, 5, 1, 9]\n",
        "    k = 12\n",
        "    len = getLongestSubarray(a, k)\n",
        "    print(\"The length of the longest subarray is:\", len)"
      ],
      "metadata": {
        "colab": {
          "base_uri": "https://localhost:8080/"
        },
        "id": "GyTDf4Y1ajCB",
        "outputId": "e148a733-327a-4880-8e4d-eef7209d790a"
      },
      "execution_count": null,
      "outputs": [
        {
          "output_type": "stream",
          "name": "stdout",
          "text": [
            "The length of the longest subarray is: 0\n"
          ]
        }
      ]
    },
    {
      "cell_type": "markdown",
      "source": [
        "# Medium"
      ],
      "metadata": {
        "id": "v0S8MLxZExkU"
      }
    },
    {
      "cell_type": "markdown",
      "source": [
        "## majority element"
      ],
      "metadata": {
        "id": "3ICVvGjkEy2M"
      }
    },
    {
      "cell_type": "code",
      "source": [
        "a = [2,2,1,1,1,2,2]\n",
        "\n",
        "ele =2\n",
        "count =0\n",
        "for i in range(len(a)):\n",
        "  if a[i] == ele:\n",
        "    count += 1\n",
        "  if count >= int(len(a)/2):\n",
        "    print(ele, 'occurs more than {}/2'.format(len(a)))\n",
        "    break"
      ],
      "metadata": {
        "id": "2it4yomNfD_W",
        "colab": {
          "base_uri": "https://localhost:8080/"
        },
        "outputId": "c8d71ea9-575c-4f03-aa8c-695c0bcc9cd8"
      },
      "execution_count": null,
      "outputs": [
        {
          "output_type": "stream",
          "name": "stdout",
          "text": [
            "2 occurs more than 7/2\n"
          ]
        }
      ]
    },
    {
      "cell_type": "code",
      "source": [
        "a  = [2,0,2,1,1,0,2,0,1,2,0,2,1,0,2,1,2,2]\n",
        "l = 0\n",
        "m =0\n",
        "h =len(a)-1\n",
        "\n",
        "while m <= h:\n",
        "  if a[m] == 0:\n",
        "    a[l],a[m] = a[m],a[l]\n",
        "    l = l+1\n",
        "    m =m+1\n",
        "  elif a[m]==1:\n",
        "    m = m+1\n",
        "  else:\n",
        "    a[m],a[h] = a[h],a[m]\n",
        "    h =h-1\n",
        "\n",
        "print(a,l,m,h)"
      ],
      "metadata": {
        "colab": {
          "base_uri": "https://localhost:8080/"
        },
        "id": "9SxOOx6XFRB5",
        "outputId": "5823dae2-909d-4573-9b35-a6412afc46ee"
      },
      "execution_count": null,
      "outputs": [
        {
          "output_type": "stream",
          "name": "stdout",
          "text": [
            "[0, 0, 0, 0, 0, 1, 1, 1, 1, 1, 2, 2, 2, 2, 2, 2, 2, 2] 5 10 9\n"
          ]
        }
      ]
    },
    {
      "cell_type": "code",
      "source": [],
      "metadata": {
        "id": "H3V0E0M-QCOp"
      },
      "execution_count": null,
      "outputs": []
    },
    {
      "cell_type": "code",
      "source": [],
      "metadata": {
        "id": "O77Vr_9pX7-S"
      },
      "execution_count": null,
      "outputs": []
    },
    {
      "cell_type": "code",
      "source": [],
      "metadata": {
        "id": "k_uLtHshX8B8"
      },
      "execution_count": null,
      "outputs": []
    }
  ]
}