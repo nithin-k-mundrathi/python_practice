{
  "nbformat": 4,
  "nbformat_minor": 0,
  "metadata": {
    "colab": {
      "provenance": [],
      "authorship_tag": "ABX9TyN7MlShNyfCYvK5F8ZS53Y7",
      "include_colab_link": true
    },
    "kernelspec": {
      "name": "python3",
      "display_name": "Python 3"
    },
    "language_info": {
      "name": "python"
    }
  },
  "cells": [
    {
      "cell_type": "markdown",
      "metadata": {
        "id": "view-in-github",
        "colab_type": "text"
      },
      "source": [
        "<a href=\"https://colab.research.google.com/github/nithin-k-mundrathi/python_practice/blob/main/Data_Structures/Stacks_Queues_TUF.ipynb\" target=\"_parent\"><img src=\"https://colab.research.google.com/assets/colab-badge.svg\" alt=\"Open In Colab\"/></a>"
      ]
    },
    {
      "cell_type": "markdown",
      "source": [
        "# Implement Stacks's using Arrays"
      ],
      "metadata": {
        "id": "DuoVfM9LSMTq"
      }
    },
    {
      "cell_type": "code",
      "source": [
        "class Stack:\n",
        "  def __init__(self):\n",
        "    self.top =-1\n",
        "    self.size = 10000\n",
        "    self.arr = [0]*self.size\n",
        "\n",
        "  def Push(self,x):\n",
        "    self.top +=1\n",
        "    self.arr[self.top] = x\n",
        "\n",
        "  def Pop(self):\n",
        "    x = self.arr[self.top]\n",
        "    self.top -=1\n",
        "    return x\n",
        "\n",
        "  def Top(self):\n",
        "    return self.arr[self.top]\n",
        "\n",
        "  def Size(self):\n",
        "    return self.top +1\n",
        "\n",
        "s = Stack()\n",
        "s.Push(1)\n",
        "s.Push(5)\n",
        "print(s)\n",
        "print(s.Size(),s.Top(),s.Pop())"
      ],
      "metadata": {
        "id": "TEGdNu1MQj0s"
      },
      "execution_count": null,
      "outputs": []
    },
    {
      "cell_type": "markdown",
      "source": [
        "# implement Queues from arrays\n",
        "\n"
      ],
      "metadata": {
        "id": "NSQjl96OaGBl"
      }
    },
    {
      "cell_type": "code",
      "source": [
        "class Queue:\n",
        "  def __init__(self):\n",
        "    self.front =-1\n",
        "    self.back = -1\n",
        "    self.size = 10000\n",
        "    self.arr = [0]*self.size\n",
        "\n",
        "  def Enqueue(self,x):\n",
        "    if (self.front ==self.back) and (self.front ==-1):\n",
        "      self.front +=1\n",
        "      self.back +=1\n",
        "    else:\n",
        "      self.back +=1\n",
        "    self.arr[self.back] = x\n",
        "\n",
        "  def Dequeue(self):\n",
        "    if (self.front ==self.back) and (self.front ==-1):\n",
        "      return False\n",
        "    elif (self.front ==self.back)  and (self.front ==1):\n",
        "      x = self.arr[self.front]\n",
        "      self.front +=1\n",
        "      self.back +=1\n",
        "    else:\n",
        "      x = self.arr[self.front]\n",
        "      self.front +=1\n",
        "    return x\n",
        "\n",
        "  def Size(self):\n",
        "    return self.back - self.front +1\n",
        "\n",
        "  def IsEmpty(self):\n",
        "    if (self.front ==self.back) and (self.front ==-1):\n",
        "      return True\n",
        "    else:\n",
        "      return False\n",
        "\n",
        "s = Queue()\n",
        "print(s.IsEmpty())\n",
        "s.Enqueue(1)\n",
        "s.Enqueue(5)\n",
        "s.Enqueue(15)\n",
        "s.Enqueue(25)\n",
        "print(s.Dequeue())\n",
        "print(s.Dequeue())\n",
        "print(s.IsEmpty())\n",
        "print(s)"
      ],
      "metadata": {
        "colab": {
          "base_uri": "https://localhost:8080/"
        },
        "id": "A2Kz_Xt6aFLd",
        "outputId": "16c2e51b-490c-4993-a187-d933302fe93f"
      },
      "execution_count": 19,
      "outputs": [
        {
          "output_type": "stream",
          "name": "stdout",
          "text": [
            "True\n",
            "1\n",
            "5\n",
            "False\n",
            "<__main__.Queue object at 0x7ca12438ea10>\n"
          ]
        }
      ]
    },
    {
      "cell_type": "code",
      "source": [
        "from collections import deque\n",
        "q = deque()\n",
        "q.append('a')\n",
        "q.append('b')\n",
        "q.append('c')\n",
        "print(\"Initial queue\")\n",
        "print(q)\n",
        "print(\"\\nElements dequeued from the queue\")\n",
        "print(q.popleft())\n",
        "print(q.popleft())\n",
        "print(q.popleft())\n",
        "\n",
        "print(\"\\nQueue after removing elements\")\n",
        "print(q)"
      ],
      "metadata": {
        "colab": {
          "base_uri": "https://localhost:8080/"
        },
        "id": "6xQ_dz3OaFPL",
        "outputId": "7354358a-cfba-47b5-ea01-7e3a7f84729e"
      },
      "execution_count": 20,
      "outputs": [
        {
          "output_type": "stream",
          "name": "stdout",
          "text": [
            "Initial queue\n",
            "deque(['a', 'b', 'c'])\n",
            "\n",
            "Elements dequeued from the queue\n",
            "a\n",
            "b\n",
            "c\n",
            "\n",
            "Queue after removing elements\n",
            "deque([])\n"
          ]
        }
      ]
    },
    {
      "cell_type": "code",
      "source": [],
      "metadata": {
        "id": "jZ-RFdpgcowU"
      },
      "execution_count": null,
      "outputs": []
    }
  ]
}