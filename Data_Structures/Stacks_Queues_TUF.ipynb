{
  "cells": [
    {
      "cell_type": "markdown",
      "metadata": {
        "colab_type": "text",
        "id": "view-in-github"
      },
      "source": [
        "<a href=\"https://colab.research.google.com/github/nithin-k-mundrathi/python_practice/blob/main/Data_Structures/Stacks_Queues_TUF.ipynb\" target=\"_parent\"><img src=\"https://colab.research.google.com/assets/colab-badge.svg\" alt=\"Open In Colab\"/></a>"
      ]
    },
    {
      "cell_type": "markdown",
      "metadata": {
        "id": "DuoVfM9LSMTq"
      },
      "source": [
        "# Implement Stacks's using Arrays"
      ]
    },
    {
      "cell_type": "code",
      "execution_count": 1,
      "metadata": {
        "id": "TEGdNu1MQj0s"
      },
      "outputs": [
        {
          "name": "stdout",
          "output_type": "stream",
          "text": [
            "<__main__.Stack object at 0x00000243F4DA4190>\n",
            "2 5 5\n"
          ]
        }
      ],
      "source": [
        "class Stack:\n",
        "  def __init__(self):\n",
        "    self.top =-1\n",
        "    self.size = 10000\n",
        "    self.arr = [0]*self.size\n",
        "\n",
        "  def Push(self,x):\n",
        "    self.top +=1\n",
        "    self.arr[self.top] = x\n",
        "\n",
        "  def Pop(self):\n",
        "    x = self.arr[self.top]\n",
        "    self.top -=1\n",
        "    return x\n",
        "\n",
        "  def Top(self):\n",
        "    return self.arr[self.top]\n",
        "\n",
        "  def Size(self):\n",
        "    return self.top +1\n",
        "\n",
        "s = Stack()\n",
        "s.Push(1)\n",
        "s.Push(5)\n",
        "print(s)\n",
        "print(s.Size(),s.Top(),s.Pop())"
      ]
    },
    {
      "cell_type": "markdown",
      "metadata": {
        "id": "NSQjl96OaGBl"
      },
      "source": [
        "# implement Queues from arrays\n",
        "\n"
      ]
    },
    {
      "cell_type": "code",
      "execution_count": null,
      "metadata": {
        "colab": {
          "base_uri": "https://localhost:8080/"
        },
        "id": "A2Kz_Xt6aFLd",
        "outputId": "16c2e51b-490c-4993-a187-d933302fe93f"
      },
      "outputs": [
        {
          "name": "stdout",
          "output_type": "stream",
          "text": [
            "True\n",
            "1\n",
            "5\n",
            "False\n",
            "<__main__.Queue object at 0x7ca12438ea10>\n"
          ]
        }
      ],
      "source": [
        "class Queue:\n",
        "  def __init__(self):\n",
        "    self.front =-1\n",
        "    self.back = -1\n",
        "    self.size = 10000\n",
        "    self.arr = [0]*self.size\n",
        "\n",
        "  def Enqueue(self,x):\n",
        "    if (self.front ==self.back) and (self.front ==-1):\n",
        "      self.front +=1\n",
        "      self.back +=1\n",
        "    else:\n",
        "      self.back +=1\n",
        "    self.arr[self.back] = x\n",
        "\n",
        "  def Dequeue(self):\n",
        "    if (self.front ==self.back) and (self.front ==-1):\n",
        "      return False\n",
        "    elif (self.front ==self.back)  and (self.front ==1):\n",
        "      x = self.arr[self.front]\n",
        "      self.front +=1\n",
        "      self.back +=1\n",
        "    else:\n",
        "      x = self.arr[self.front]\n",
        "      self.front +=1\n",
        "    return x\n",
        "\n",
        "  def Size(self):\n",
        "    return self.back - self.front +1\n",
        "\n",
        "  def IsEmpty(self):\n",
        "    if (self.front ==self.back) and (self.front ==-1):\n",
        "      return True\n",
        "    else:\n",
        "      return False\n",
        "\n",
        "s = Queue()\n",
        "print(s.IsEmpty())\n",
        "s.Enqueue(1)\n",
        "s.Enqueue(5)\n",
        "s.Enqueue(15)\n",
        "s.Enqueue(25)\n",
        "print(s.Dequeue())\n",
        "print(s.Dequeue())\n",
        "print(s.IsEmpty())\n",
        "print(s)"
      ]
    },
    {
      "cell_type": "code",
      "execution_count": null,
      "metadata": {
        "colab": {
          "base_uri": "https://localhost:8080/"
        },
        "id": "6xQ_dz3OaFPL",
        "outputId": "7354358a-cfba-47b5-ea01-7e3a7f84729e"
      },
      "outputs": [
        {
          "name": "stdout",
          "output_type": "stream",
          "text": [
            "Initial queue\n",
            "deque(['a', 'b', 'c'])\n",
            "\n",
            "Elements dequeued from the queue\n",
            "a\n",
            "b\n",
            "c\n",
            "\n",
            "Queue after removing elements\n",
            "deque([])\n"
          ]
        }
      ],
      "source": [
        "from collections import deque\n",
        "q = deque()\n",
        "q.append('a')\n",
        "q.append('b')\n",
        "q.append('c')\n",
        "print(\"Initial queue\")\n",
        "print(q)\n",
        "print(\"\\nElements dequeued from the queue\")\n",
        "print(q.popleft())\n",
        "print(q.popleft())\n",
        "print(q.popleft())\n",
        "\n",
        "print(\"\\nQueue after removing elements\")\n",
        "print(q)"
      ]
    },
    {
      "cell_type": "markdown",
      "metadata": {
        "id": "NEJT-Jn7JADJ"
      },
      "source": [
        "# GetMin Stack"
      ]
    },
    {
      "cell_type": "code",
      "execution_count": 10,
      "metadata": {
        "colab": {
          "base_uri": "https://localhost:8080/"
        },
        "id": "jZ-RFdpgcowU",
        "outputId": "2adc4272-cf8b-4a18-9a31-f73c0d43f980"
      },
      "outputs": [
        {
          "name": "stdout",
          "output_type": "stream",
          "text": [
            "7\n",
            "6\n",
            "8\n",
            "4\n"
          ]
        }
      ],
      "source": [
        "from collections import deque\n",
        "# insert a minimum element along with current element\n",
        "min_ele = 100000000\n",
        "min_stack = deque()\n",
        "\n",
        "for i in range(4):\n",
        "  number = int(input())\n",
        "  min_ele = min(number,min_ele)\n",
        "  min_stack.append((number,min_ele))\n",
        "\n",
        "print(min_stack.pop()[1])"
      ]
    },
    {
      "cell_type": "markdown",
      "metadata": {
        "id": "RTYWNZi_PHDC"
      },
      "source": [
        "# Get balanced Paranthesis"
      ]
    },
    {
      "cell_type": "code",
      "execution_count": 14,
      "metadata": {
        "colab": {
          "base_uri": "https://localhost:8080/"
        },
        "id": "Y6PXX11UJSud",
        "outputId": "bdd9c79f-570e-4a36-a248-aa2aae85de6e"
      },
      "outputs": [
        {
          "name": "stdout",
          "output_type": "stream",
          "text": [
            "(\n",
            ")\n",
            "True\n",
            "[\n",
            "{\n",
            "]\n",
            "}\n"
          ]
        }
      ],
      "source": [
        "from collections import deque\n",
        "\n",
        "stack_string = deque()\n",
        "\n",
        "# for i in range(6):\n",
        "#   stack_string.append(input())\n",
        "\n",
        "for i in range(6):\n",
        "  k  = input()\n",
        "  if (k == '(') or (k == '[') or (k == '{'):\n",
        "    stack_string.append(k)\n",
        "  else:\n",
        "    if len(stack_string) == 0:\n",
        "      print(False)\n",
        "      break\n",
        "    popped = stack_string.pop()\n",
        "    if (popped == '(') and (k==')') or (popped == '[') and (k==']')  or (popped == '{}') and (k=='}'):\n",
        "      print(True)"
      ]
    },
    {
      "cell_type": "markdown",
      "metadata": {
        "id": "TuYhAdZBc9CO"
      },
      "source": [
        "# next greater Element"
      ]
    },
    {
      "cell_type": "code",
      "execution_count": null,
      "metadata": {
        "colab": {
          "base_uri": "https://localhost:8080/"
        },
        "id": "9wKWvqKYKeKK",
        "outputId": "396534dd-e6de-43ea-a9a0-d3f12c713cf0"
      },
      "outputs": [
        {
          "name": "stdout",
          "output_type": "stream",
          "text": [
            "[8, 8, -1, 3, -1]\n"
          ]
        }
      ],
      "source": [
        "from collections import deque\n",
        "stack = deque()\n",
        "nge= []\n",
        "a = [6,0,8,1,3,6,2,9,7,7,1,3,9]\n",
        "n = len(a) -1\n",
        "\n",
        "for i in range(n,-1,-1):\n",
        "    # Check for  length of stakc - if stack is empty\n",
        "    # Check if element of array is greater than stack - pop from stack\n",
        "    while (len(stack)!=0) and (a[i]>stack[-1]):\n",
        "        stack.pop()\n",
        "    # if leng of stack is zero then append -1\n",
        "    if len(stack) ==0:\n",
        "        nge.append(-1)\n",
        "    else:\n",
        "        # else append last inserted element\n",
        "        nge.append(stack[-1])\n",
        "    # append the current element to the stack \n",
        "    stack.append(a[i])\n",
        "  \n",
        "print(nge[::-1])"
      ]
    },
    {
      "cell_type": "markdown",
      "metadata": {
        "id": "QkGffpWEjeor"
      },
      "source": [
        "# Next Greater Element-2"
      ]
    },
    {
      "cell_type": "code",
      "execution_count": 22,
      "metadata": {
        "colab": {
          "base_uri": "https://localhost:8080/"
        },
        "id": "MDsszBAZQ4kG",
        "outputId": "a9de61db-971a-4af8-957e-8b3f04f5cb03"
      },
      "outputs": [
        {
          "name": "stdout",
          "output_type": "stream",
          "text": [
            "[8, 8, -1, 3, 6]\n"
          ]
        }
      ],
      "source": [
        "from collections import deque\n",
        "stack = deque()\n",
        "nge= []\n",
        "a = [6,0,8,1,3]\n",
        "n = len(a)\n",
        "for i in range(2*n-1,-1,-1):\n",
        "  while((len(stack) !=0) and (stack[-1] <= a[i%n])):\n",
        "    stack.pop()\n",
        "  if (i<n):\n",
        "    if (len(stack) ==0):\n",
        "      nge.append(-1)\n",
        "    else:\n",
        "      nge.append(stack[-1])\n",
        "  stack.append(a[i%n])\n",
        "\n",
        "print(nge[::-1])"
      ]
    },
    {
      "cell_type": "code",
      "execution_count": null,
      "metadata": {},
      "outputs": [
        {
          "name": "stdout",
          "output_type": "stream",
          "text": [
            "[8, 8, -1, 3, 6]\n"
          ]
        }
      ],
      "source": [
        "from collections import deque\n",
        "stack = deque()\n",
        "nge= []\n",
        "a = [6,0,8,1,3]\n",
        "n = len(a)\n",
        "for i in range(2*n-1,-1,-1):\n",
        "  while((len(stack) !=0) and (stack[-1] <= a[i%n])):\n",
        "    stack.pop()\n",
        "  if (len(stack) ==0):\n",
        "    nge.append(-1)\n",
        "  else:\n",
        "    nge.append(stack[-1])\n",
        "  stack.append(a[i%n])\n",
        "\n",
        "print(nge[::-1][:n])"
      ]
    },
    {
      "cell_type": "markdown",
      "metadata": {},
      "source": [
        "# Number of NGE to the right"
      ]
    },
    {
      "cell_type": "code",
      "execution_count": 16,
      "metadata": {},
      "outputs": [
        {
          "name": "stdout",
          "output_type": "stream",
          "text": [
            "[2, 2, 1, 1, -1]\n"
          ]
        }
      ],
      "source": [
        "from collections import deque\n",
        "stack = deque()\n",
        "nge= []\n",
        "a = [6,0,8,3,9]\n",
        "n = len(a) -1\n",
        "\n",
        "for i in range(n,-1,-1):\n",
        "    # Check for  length of stakc - if stack is empty\n",
        "    # Check if element of array is greater than stack - pop from stack\n",
        "    while (len(stack)!=0) and (a[i]>stack[-1]):\n",
        "        stack.pop()\n",
        "    # if leng of stack is zero then append -1\n",
        "    if len(stack) ==0:\n",
        "        nge.append(-1)\n",
        "    else:\n",
        "        # else append last inserted element\n",
        "        nge.append(len(stack))\n",
        "    # append the current element to the stack \n",
        "    stack.append(a[i])\n",
        "  \n",
        "print(nge[::-1])"
      ]
    },
    {
      "cell_type": "markdown",
      "metadata": {
        "id": "qaTYGTuZkDfM"
      },
      "source": [
        "# Next Smaller  Element-2"
      ]
    },
    {
      "cell_type": "code",
      "execution_count": null,
      "metadata": {
        "colab": {
          "base_uri": "https://localhost:8080/"
        },
        "id": "jVT9_AjwjyNN",
        "outputId": "12575984-c00b-4662-d0c5-7a6d399b6e16"
      },
      "outputs": [
        {
          "name": "stdout",
          "output_type": "stream",
          "text": [
            "[0, -1, 1, -1, -1]\n"
          ]
        }
      ],
      "source": [
        "from collections import deque\n",
        "stack = deque()\n",
        "nge= []\n",
        "a = [6,0,8,1,3]\n",
        "n = len(a) -1\n",
        "for i in range(n,-1,-1):\n",
        "  # same story as NGE but stack > a[i]\n",
        "  while((len(stack) !=0) and (stack[-1] > a[i])):\n",
        "    stack.pop()\n",
        "\n",
        "  if (len(stack) ==0):\n",
        "    nge.append(-1)\n",
        "  else:\n",
        "    nge.append(stack[-1])\n",
        "  stack.append(a[i])\n",
        "\n",
        "print(nge[::-1])"
      ]
    },
    {
      "cell_type": "code",
      "execution_count": null,
      "metadata": {
        "colab": {
          "base_uri": "https://localhost:8080/"
        },
        "id": "k9CfaghHkHMJ",
        "outputId": "29cd6f4f-dca5-4fb6-f45d-6b330852a763"
      },
      "outputs": [
        {
          "name": "stdout",
          "output_type": "stream",
          "text": [
            "[0, 0, 1, 0, 0]\n"
          ]
        }
      ],
      "source": [
        "from collections import deque\n",
        "stack = deque()\n",
        "nge= []\n",
        "a = [6,0,8,1,3]\n",
        "n = len(a)\n",
        "for i in range(2*n-1,-1,-1):\n",
        "  while((len(stack) !=0) and (stack[-1] > a[i%n])):\n",
        "    stack.pop()\n",
        "  if (i<n):\n",
        "    if (len(stack) ==0):\n",
        "      nge.append(-1)\n",
        "    else:\n",
        "      nge.append(stack[-1])\n",
        "  stack.append(a[i%n])\n",
        "\n",
        "print(nge[::-1])"
      ]
    },
    {
      "cell_type": "code",
      "execution_count": 11,
      "metadata": {},
      "outputs": [
        {
          "name": "stdout",
          "output_type": "stream",
          "text": [
            "[0, 1, 0, 0, -1, 1, -1]\n"
          ]
        }
      ],
      "source": [
        "from collections import deque\n",
        "stack = deque()\n",
        "nge= []\n",
        "a = [6,0,8,1,3]\n",
        "n = len(a)\n",
        "for i in range(2*n-1,-1,-1):\n",
        "  while((len(stack) !=0) and (stack[-1] > a[i%n])):\n",
        "    stack.pop()\n",
        "    if (len(stack) ==0):\n",
        "      nge.append(-1)\n",
        "    else:\n",
        "      nge.append(stack[-1])\n",
        "  stack.append(a[i%n])\n",
        "\n",
        "print(nge[::-1])"
      ]
    },
    {
      "cell_type": "markdown",
      "metadata": {},
      "source": [
        "# Rain water Trapping"
      ]
    },
    {
      "cell_type": "code",
      "execution_count": 35,
      "metadata": {},
      "outputs": [
        {
          "name": "stdout",
          "output_type": "stream",
          "text": [
            "[4, 4, 4, 4, 4, 4, 3] [1, 2, 2, 2, 2, 4, 4]\n",
            "0\n",
            "0\n",
            "2\n",
            "5\n",
            "5\n",
            "7\n",
            "8\n",
            "11\n",
            "11\n"
          ]
        },
        {
          "data": {
            "text/plain": [
              "11"
            ]
          },
          "execution_count": 35,
          "metadata": {},
          "output_type": "execute_result"
        }
      ],
      "source": [
        "def prefix(a):\n",
        "    \n",
        "    leftmax = [a[0]]\n",
        "    n = len(a)\n",
        "    for i in range(1,n):\n",
        "        leftmax.append(max(leftmax[-1],a[i]))\n",
        "    return leftmax\n",
        "\n",
        "def suffix(a):\n",
        "    rightmax = [a[-1]]\n",
        "\n",
        "    n = len(a)\n",
        "    for i in range(n-2,-1,-1):\n",
        "        rightmax.append(max(rightmax[-1],a[i]))\n",
        "    return rightmax[::-1]\n",
        "\n",
        "a=[1,2,1,0,1,4,3]\n",
        "print(suffix(a),prefix(a))\n",
        "\n",
        "def trap_rain_water(a):\n",
        "    total = 0\n",
        "    n = len(a)\n",
        "    leftmax = prefix(a)\n",
        "    rightmax = suffix(a) \n",
        "    for i in range(1,n):\n",
        "        left = leftmax[i]\n",
        "        right = rightmax[i]\n",
        "        total = total + min(left,right) - a[i]\n",
        "        print(total)\n",
        "\n",
        "    return total\n",
        "trap_rain_water([0,1,3,1,0,4,2,3,1,7])"
      ]
    },
    {
      "cell_type": "markdown",
      "metadata": {},
      "source": [
        "# Sum of subarray Minimum"
      ]
    },
    {
      "cell_type": "code",
      "execution_count": 77,
      "metadata": {},
      "outputs": [
        {
          "data": {
            "text/plain": [
              "[8, 4, 4, 4, 7, 7, 7, 8]"
            ]
          },
          "execution_count": 77,
          "metadata": {},
          "output_type": "execute_result"
        }
      ],
      "source": [
        "def index_nse(a):\n",
        "    n = len(a)\n",
        "    nse = []\n",
        "    stack = []\n",
        "    for i in range(n-1,-1,-1):\n",
        "\n",
        "        if len(stack) >0:\n",
        "          \n",
        "          while (len(stack) !=0) & (len(stack)>0) & (a[stack[-1]] >= a[i]):\n",
        "\n",
        "              stack.pop()\n",
        "              if len(stack) ==0:\n",
        "                  break\n",
        "        if len(stack) ==0:\n",
        "            nse.append(n)\n",
        "        else:\n",
        "            nse.append(stack[-1])\n",
        "        stack.append(i)\n",
        "    return nse[::-1]\n",
        "\n",
        "a = [1,4,6,7,3,7,8,1]\n",
        "index_nse(a) "
      ]
    },
    {
      "cell_type": "code",
      "execution_count": 78,
      "metadata": {},
      "outputs": [
        {
          "data": {
            "text/plain": [
              "[-1, 0, 1, 2, 0, 4, 5, 0]"
            ]
          },
          "execution_count": 78,
          "metadata": {},
          "output_type": "execute_result"
        }
      ],
      "source": [
        "def index_pse(a):\n",
        "    n = len(a)\n",
        "    nse = []\n",
        "    stack = []\n",
        "    for i in range(0,n):\n",
        "\n",
        "        if len(stack) >0:\n",
        "          \n",
        "          while (len(stack) !=0) & (len(stack)>0) & (a[stack[-1]] > a[i]):\n",
        "              stack.pop()\n",
        "              if len(stack) ==0:\n",
        "                  break\n",
        "        if len(stack) ==0:\n",
        "            nse.append(-1)\n",
        "        else:\n",
        "            nse.append(stack[-1])\n",
        "        stack.append(i)\n",
        "    return nse\n",
        "\n",
        "a = [1,4,6,7,3,7,8,1]\n",
        "index_pse(a) "
      ]
    },
    {
      "cell_type": "code",
      "execution_count": 79,
      "metadata": {},
      "outputs": [
        {
          "name": "stdout",
          "output_type": "stream",
          "text": [
            "[1, 4, 4, 4] [-1, -1, 1, 2]\n"
          ]
        },
        {
          "data": {
            "text/plain": [
              "17"
            ]
          },
          "execution_count": 79,
          "metadata": {},
          "output_type": "execute_result"
        }
      ],
      "source": [
        "def array_minimum(a):\n",
        "    \n",
        "    n = len(a)\n",
        "    nse = index_nse(a)\n",
        "    pse = index_pse(a)\n",
        "    total =0\n",
        "    print(nse,pse)\n",
        "    for i in range(n):\n",
        "        left = (i -pse[i])\n",
        "        right = (nse[i] - i)\n",
        "        # print(left, right,i)\n",
        "        total = total + (right*left*a[i])\n",
        "    return total\n",
        "\n",
        "a = [1,4,5,7,3,7,8]\n",
        "a = [3,1,2,4]\n",
        "array_minimum(a)"
      ]
    },
    {
      "cell_type": "markdown",
      "metadata": {},
      "source": [
        "# Sum of subarray Maximum"
      ]
    },
    {
      "cell_type": "code",
      "execution_count": 81,
      "metadata": {},
      "outputs": [
        {
          "data": {
            "text/plain": [
              "[1, 2, 3, 5, 5, 6, 8, 8]"
            ]
          },
          "execution_count": 81,
          "metadata": {},
          "output_type": "execute_result"
        }
      ],
      "source": [
        "def index_nge(a):\n",
        "    n = len(a)\n",
        "    nge = []\n",
        "    stack = []\n",
        "    for i in range(n-1,-1,-1):\n",
        "\n",
        "        if len(stack) >0:\n",
        "          \n",
        "          while (len(stack) !=0) & (len(stack)>0) & (a[stack[-1]] < a[i]):\n",
        "\n",
        "              stack.pop()\n",
        "              if len(stack) ==0:\n",
        "                  break\n",
        "        if len(stack) ==0:\n",
        "            nge.append(n)\n",
        "        else:\n",
        "            nge.append(stack[-1])\n",
        "        stack.append(i)\n",
        "    return nge[::-1]\n",
        "\n",
        "a = [1,4,6,7,3,7,8,1]\n",
        "index_nge(a) "
      ]
    },
    {
      "cell_type": "code",
      "execution_count": 82,
      "metadata": {},
      "outputs": [
        {
          "data": {
            "text/plain": [
              "[-1, -1, -1, -1, 3, 3, -1, 6]"
            ]
          },
          "execution_count": 82,
          "metadata": {},
          "output_type": "execute_result"
        }
      ],
      "source": [
        "def index_pge(a):\n",
        "    n = len(a)\n",
        "    pge = []\n",
        "    stack = []\n",
        "    for i in range(0,n):\n",
        "\n",
        "        if len(stack) >0:\n",
        "          \n",
        "          while (len(stack) !=0) & (len(stack)>0) & (a[stack[-1]] < a[i]):\n",
        "              stack.pop()\n",
        "              if len(stack) ==0:\n",
        "                  break\n",
        "        if len(stack) ==0:\n",
        "            pge.append(-1)\n",
        "        else:\n",
        "            pge.append(stack[-1])\n",
        "        stack.append(i)\n",
        "    return pge\n",
        "\n",
        "a = [1,4,6,7,3,7,8,1]\n",
        "index_pge(a) "
      ]
    },
    {
      "cell_type": "code",
      "execution_count": 84,
      "metadata": {},
      "outputs": [
        {
          "name": "stdout",
          "output_type": "stream",
          "text": [
            "[3, 2, 3, 4] [-1, 0, 0, -1]\n"
          ]
        },
        {
          "data": {
            "text/plain": [
              "30"
            ]
          },
          "execution_count": 84,
          "metadata": {},
          "output_type": "execute_result"
        }
      ],
      "source": [
        "def array_maximum(a):\n",
        "    \n",
        "    n = len(a)\n",
        "    nge = index_nge(a)\n",
        "    pge = index_pge(a)\n",
        "    total =0\n",
        "    print(nge,pge)\n",
        "    for i in range(n):\n",
        "        left = (i -pge[i])\n",
        "        right = (nge[i] - i)\n",
        "        total = total + (right*left*a[i])\n",
        "    return total\n",
        "\n",
        "a = [1,4,5,7,3,7,8]\n",
        "a = [3,1,2,4]\n",
        "array_maximum(a)"
      ]
    },
    {
      "cell_type": "markdown",
      "metadata": {},
      "source": [
        "# Sum of Subarray Ranges"
      ]
    },
    {
      "cell_type": "code",
      "execution_count": 85,
      "metadata": {},
      "outputs": [
        {
          "name": "stdout",
          "output_type": "stream",
          "text": [
            "[3, 2, 3, 4] [-1, 0, 0, -1]\n",
            "[1, 4, 4, 4] [-1, -1, 1, 2]\n"
          ]
        },
        {
          "data": {
            "text/plain": [
              "13"
            ]
          },
          "execution_count": 85,
          "metadata": {},
          "output_type": "execute_result"
        }
      ],
      "source": [
        "array_maximum(a) - array_minimum(a)"
      ]
    },
    {
      "cell_type": "markdown",
      "metadata": {
        "id": "UDj-Q1MysfQH"
      },
      "source": [
        "# Asteroid Collisions"
      ]
    },
    {
      "cell_type": "code",
      "execution_count": null,
      "metadata": {
        "colab": {
          "base_uri": "https://localhost:8080/"
        },
        "id": "1w50MlgUkkZe",
        "outputId": "fb0fa87d-224b-4d52-84a4-f64e2b0812db"
      },
      "outputs": [
        {
          "data": {
            "text/plain": [
              "[4, 17]"
            ]
          },
          "execution_count": 39,
          "metadata": {},
          "output_type": "execute_result"
        }
      ],
      "source": [
        "def asteroidcollisions(a):\n",
        "  n = len(a)\n",
        "  stack = []\n",
        "\n",
        "  for i in range(n):\n",
        "    # if _ve number - append to stack\n",
        "    if a[i] >0:\n",
        "      stack.append(a[i])\n",
        "    else:\n",
        "      # check if negative is greater and collision happens and it east away positive\n",
        "      while (len(stack) !=0) & (abs(a[i])>stack[-1]) & (stack[-1]>0):\n",
        "        stack.pop()\n",
        "      # check if neg == pos and pop out the positive\n",
        "      if (stack[-1] == abs(a[i])) & (len(stack) !=0):\n",
        "        stack.pop()\n",
        "        # if the stack is empty there is no comparision and app - end the negative\n",
        "      elif (len(stack)==0):\n",
        "        stack.append(a[i])\n",
        "  return stack\n",
        "\n",
        "asteroidcollisions([4,7,1,1,2,-3,-7,17,15,-16])"
      ]
    },
    {
      "cell_type": "markdown",
      "metadata": {},
      "source": [
        "# Sum of Sliding Window maximum"
      ]
    },
    {
      "cell_type": "code",
      "execution_count": 98,
      "metadata": {},
      "outputs": [
        {
          "name": "stdout",
          "output_type": "stream",
          "text": [
            "deque([1])\n",
            "deque([1, 3])\n",
            "deque([1, 3, -1])\n",
            "deque([1, 3, -1, -3])\n",
            "deque([1, 3, -1, -3, 5])\n",
            "0 5\n",
            "deque([3, -1, -3, 5, 3])\n",
            "5 7\n",
            "deque([-1, -3, 5, 3, 7])\n",
            "7 11\n",
            "deque([-3, 5, 3, 7, 1])\n",
            "11 13\n",
            "deque([5, 3, 7, 1, 6])\n",
            "13 22\n"
          ]
        },
        {
          "data": {
            "text/plain": [
              "22"
            ]
          },
          "execution_count": 98,
          "metadata": {},
          "output_type": "execute_result"
        }
      ],
      "source": [
        "def sliding_window(a,k):\n",
        "    \n",
        "    n = len(a)\n",
        "\n",
        "    stack = deque()\n",
        "    total =0\n",
        "    for i in range(n):\n",
        "        stack.append(a[i])\n",
        "        print(stack)\n",
        "        if i>=k-1:\n",
        "            if i==k-1:\n",
        "                prev_sum = sum(stack)\n",
        "            else:\n",
        "                prev_sum = prev_sum + a[i]\n",
        "            print(total,prev_sum)\n",
        "            total = max(total,prev_sum)\n",
        "            prev_sum = prev_sum - stack[0] \n",
        "            stack.popleft()\n",
        "    return total\n",
        "a = [1,3,-1,-3,5,3,7,1,6]        \n",
        "sliding_window(a,5)"
      ]
    },
    {
      "cell_type": "markdown",
      "metadata": {},
      "source": [
        "# Sliding Window Maximum"
      ]
    },
    {
      "cell_type": "code",
      "execution_count": null,
      "metadata": {},
      "outputs": [
        {
          "data": {
            "text/plain": [
              "[3, 3, 5, 5, 7, 7, 7]"
            ]
          },
          "execution_count": 105,
          "metadata": {},
          "output_type": "execute_result"
        }
      ],
      "source": [
        "def sliding_window_max(a,k):\n",
        "    \n",
        "    n = len(a)\n",
        "    # think in terms of Monotonic array\n",
        "    stack = deque()\n",
        "    list_1 = []\n",
        "    for i in range(n):\n",
        "        if len(stack) >0:\n",
        "          # u are popping in the front\n",
        "          if (len(stack)!= 0) & (stack[0] <= i-k):\n",
        "              stack.popleft()\n",
        "          # u are popping from the back\n",
        "          while (len(stack)!= 0) & (a[stack[-1]] <= a[i]):\n",
        "              stack.pop()\n",
        "              if len(stack) == 0:\n",
        "                  break\n",
        "        stack.append(i)\n",
        "        if (i >=k-1):\n",
        "            list_1.append(a[stack[0]])\n",
        "    return list_1\n",
        "a = [1,3,-1,-3,5,3,7,1,6]        \n",
        "sliding_window_max(a,3)"
      ]
    },
    {
      "cell_type": "markdown",
      "metadata": {
        "id": "1X2PYRKkcf4q"
      },
      "source": [
        "# IntFix to PostFix"
      ]
    },
    {
      "cell_type": "code",
      "execution_count": 24,
      "metadata": {
        "colab": {
          "base_uri": "https://localhost:8080/",
          "height": 72
        },
        "id": "DLLXRgF8lFsL",
        "outputId": "4a4733f2-03d1-4e84-95ba-26670515398d"
      },
      "outputs": [
        {
          "name": "stdout",
          "output_type": "stream",
          "text": [
            "deque([]) a 1\n",
            "deque(['+']) ab 3\n"
          ]
        },
        {
          "data": {
            "application/vnd.google.colaboratory.intrinsic+json": {
              "type": "string"
            },
            "text/plain": [
              "'abc*+'"
            ]
          },
          "execution_count": 24,
          "metadata": {},
          "output_type": "execute_result"
        }
      ],
      "source": [
        "from collections import deque\n",
        "def intfix_postfix(a):\n",
        "  i =0\n",
        "  n = len(a)\n",
        "  stack = deque()\n",
        "  ans = ''\n",
        "  priority = {\n",
        "      '^' : 3,\n",
        "      '*' : 2,\n",
        "      '/' : 2,\n",
        "      '+' : 1,\n",
        "      '-' : 1,\n",
        "      '(' : -1,\n",
        "      ')' : -1,\n",
        "  }\n",
        "\n",
        "  while (i <n):\n",
        "    if ((a[i] >= 'A') & (a[i] <= 'Z')) or ((a[i] >= 'a') & (a[i] <= 'z')) or ((a[i] >= '0') & (a[i] <= '9')):\n",
        "      ans += str(a[i])\n",
        "\n",
        "    elif a[i] == '(':\n",
        "      stack.append(a[i])\n",
        "    elif a[i] == ')':\n",
        "      while ( (len(stack) != 0) & (stack[-1] == '(')):\n",
        "        ans += stack[-1]\n",
        "        stack.pop()\n",
        "    else:\n",
        "      print(stack,ans,i)\n",
        "\n",
        "      while ((len(stack)!=0) and (priority[stack[-1]] >= priority[a[i]]) ):\n",
        "        ans += stack[-1]\n",
        "        stack.pop()\n",
        "      stack.append(a[i])\n",
        "    i+=1\n",
        "\n",
        "  while (len(stack) !=0):\n",
        "    ans += stack[-1]\n",
        "    stack.pop()\n",
        "\n",
        "  return ans\n",
        "\n",
        "intfix_postfix('a+b*c')"
      ]
    },
    {
      "cell_type": "code",
      "execution_count": 25,
      "metadata": {
        "colab": {
          "base_uri": "https://localhost:8080/",
          "height": 109
        },
        "id": "D-ImFDEYfVBM",
        "outputId": "9b0e6d25-0408-4223-abc2-0c07adeb43af"
      },
      "outputs": [
        {
          "name": "stdout",
          "output_type": "stream",
          "text": [
            "deque([]) a 1\n",
            "deque(['+']) ab 3\n",
            "deque(['+', '*', '(']) abc 6\n",
            "deque(['+', '*', '(', '^']) abcd 8\n"
          ]
        },
        {
          "data": {
            "application/vnd.google.colaboratory.intrinsic+json": {
              "type": "string"
            },
            "text/plain": [
              "'abcd^e-(*+'"
            ]
          },
          "execution_count": 25,
          "metadata": {},
          "output_type": "execute_result"
        }
      ],
      "source": [
        "str_1 ='a+b*(c^d-e)'\n",
        "intfix_postfix(str_1)"
      ]
    },
    {
      "cell_type": "markdown",
      "metadata": {
        "id": "YAJq-Kj_jMem"
      },
      "source": [
        "# Intfix to Prefix"
      ]
    },
    {
      "cell_type": "code",
      "execution_count": 23,
      "metadata": {
        "id": "V5M6NjbigCLL"
      },
      "outputs": [],
      "source": [
        "# revese of String\n",
        "# Intfix2Prefix\n",
        "# Reverse answer too"
      ]
    },
    {
      "cell_type": "markdown",
      "metadata": {
        "id": "6jmX7WC2lKPa"
      },
      "source": [
        "# Postfix to Intfix"
      ]
    },
    {
      "cell_type": "code",
      "execution_count": 38,
      "metadata": {
        "colab": {
          "base_uri": "https://localhost:8080/"
        },
        "id": "-90eEWpwgC1l",
        "outputId": "72b88126-fd83-479e-909b-da7ed0c9c1f7"
      },
      "outputs": [
        {
          "name": "stdout",
          "output_type": "stream",
          "text": [
            "deque(['(a*(b-c))'])\n"
          ]
        }
      ],
      "source": [
        "# number of Operators Should be less than number of Operands\n",
        "def postfix_intfix(a):\n",
        "  i =0\n",
        "  n = len(a)\n",
        "  stack = deque()\n",
        "  ans = ''\n",
        "  priority = {\n",
        "      '^' : 3,\n",
        "      '*' : 2,\n",
        "      '/' : 2,\n",
        "      '+' : 1,\n",
        "      '-' : 1,\n",
        "      '(' : -1,\n",
        "      ')' : -1,\n",
        "  }\n",
        "\n",
        "  while (i<n):\n",
        "    if ((a[i] >= 'A') & (a[i] <= 'Z')) or ((a[i] >= 'a') & (a[i] <= 'z')) or ((a[i] >= '0') & (a[i] <= '9')):\n",
        "      stack.append(a[i])\n",
        "    else:\n",
        "      t1 = stack[-1]\n",
        "      stack.pop()\n",
        "      t2 =  stack[-1]\n",
        "      stack.pop()\n",
        "\n",
        "      output = '(' + t2 + a[i] + t1 +  ')'\n",
        "      stack.append(output)\n",
        "    i+=1\n",
        "\n",
        "  return stack\n",
        "\n",
        "print(postfix_intfix('abc-*'))"
      ]
    },
    {
      "cell_type": "markdown",
      "metadata": {
        "id": "zribAE1voJYZ"
      },
      "source": [
        "# Prefix to IntFix"
      ]
    },
    {
      "cell_type": "code",
      "execution_count": 40,
      "metadata": {
        "colab": {
          "base_uri": "https://localhost:8080/"
        },
        "id": "EwEILSCGl8xw",
        "outputId": "1ee46567-3add-40c1-92fe-8eb20e9de0bf"
      },
      "outputs": [
        {
          "name": "stdout",
          "output_type": "stream",
          "text": [
            "deque(['(((a^b)*c)-d)'])\n"
          ]
        }
      ],
      "source": [
        "# number of Operators Should be less than number of Operands\n",
        "def prefix_intfix(a):\n",
        "  i =0\n",
        "  n = len(a)\n",
        "  stack = deque()\n",
        "  ans = ''\n",
        "  priority = {\n",
        "      '^' : 3,\n",
        "      '*' : 2,\n",
        "      '/' : 2,\n",
        "      '+' : 1,\n",
        "      '-' : 1,\n",
        "      '(' : -1,\n",
        "      ')' : -1,\n",
        "  }\n",
        "  i = n-1\n",
        "  while (i>=0):\n",
        "    if ((a[i] >= 'A') & (a[i] <= 'Z')) or ((a[i] >= 'a') & (a[i] <= 'z')) or ((a[i] >= '0') & (a[i] <= '9')):\n",
        "      stack.append(a[i])\n",
        "    else:\n",
        "      t1 = stack[-1]\n",
        "      stack.pop()\n",
        "      t2 =  stack[-1]\n",
        "      stack.pop()\n",
        "\n",
        "      output = '(' + t1 + a[i] + t2 +  ')'\n",
        "      stack.append(output)\n",
        "    i-=1\n",
        "\n",
        "  return stack\n",
        "\n",
        "print(prefix_intfix('-*^abcd'))"
      ]
    },
    {
      "cell_type": "markdown",
      "metadata": {
        "id": "CgxJkquUoO5V"
      },
      "source": [
        "# Postfix to Prefix"
      ]
    },
    {
      "cell_type": "code",
      "execution_count": 46,
      "metadata": {
        "colab": {
          "base_uri": "https://localhost:8080/"
        },
        "id": "SW_Snsuon6La",
        "outputId": "6b9b5b8f-7e86-411d-d721-0cacc70a7a6e"
      },
      "outputs": [
        {
          "name": "stdout",
          "output_type": "stream",
          "text": [
            "deque(['/-AB*+DEF'])\n"
          ]
        }
      ],
      "source": [
        "# number of Operators Should be less than number of Operands\n",
        "def postfix_prefix(a):\n",
        "  i =0\n",
        "  n = len(a)\n",
        "  stack = deque()\n",
        "  ans = ''\n",
        "  priority = {\n",
        "      '^' : 3,\n",
        "      '*' : 2,\n",
        "      '/' : 2,\n",
        "      '+' : 1,\n",
        "      '-' : 1,\n",
        "      '(' : -1,\n",
        "      ')' : -1,\n",
        "  }\n",
        "  while (i<n):\n",
        "    if ((a[i] >= 'A') & (a[i] <= 'Z')) or ((a[i] >= 'a') & (a[i] <= 'z')) or ((a[i] >= '0') & (a[i] <= '9')):\n",
        "      stack.append(a[i])\n",
        "    else:\n",
        "      t1 = stack[-1]\n",
        "      stack.pop()\n",
        "      t2 =  stack[-1]\n",
        "      stack.pop()\n",
        "\n",
        "      output = a[i]  + t2 + t1\n",
        "      stack.append(output)\n",
        "    i+=1\n",
        "\n",
        "  return stack\n",
        "\n",
        "print(postfix_prefix('AB-DE+F*/'))"
      ]
    },
    {
      "cell_type": "markdown",
      "metadata": {
        "id": "e6yXPuSVpflR"
      },
      "source": [
        "# Prefix to Postfix"
      ]
    },
    {
      "cell_type": "code",
      "execution_count": 48,
      "metadata": {
        "colab": {
          "base_uri": "https://localhost:8080/"
        },
        "id": "cbz0uiaUpKnc",
        "outputId": "384c836b-28d9-4241-a18c-d270cebb873a"
      },
      "outputs": [
        {
          "name": "stdout",
          "output_type": "stream",
          "text": [
            "deque(['AB-DE+F*/'])\n"
          ]
        }
      ],
      "source": [
        "# number of Operators Should be less than number of Operands\n",
        "def prefix_postfix(a):\n",
        "  i =0\n",
        "  n = len(a)\n",
        "  stack = deque()\n",
        "  ans = ''\n",
        "  priority = {\n",
        "      '^' : 3,\n",
        "      '*' : 2,\n",
        "      '/' : 2,\n",
        "      '+' : 1,\n",
        "      '-' : 1,\n",
        "      '(' : -1,\n",
        "      ')' : -1,\n",
        "  }\n",
        "  i =n-1\n",
        "  while (i>=0):\n",
        "    if ((a[i] >= 'A') & (a[i] <= 'Z')) or ((a[i] >= 'a') & (a[i] <= 'z')) or ((a[i] >= '0') & (a[i] <= '9')):\n",
        "      stack.append(a[i])\n",
        "    else:\n",
        "      t1 = stack[-1]\n",
        "      stack.pop()\n",
        "      t2 =  stack[-1]\n",
        "      stack.pop()\n",
        "\n",
        "      output =  t1 + t2 + a[i]\n",
        "      stack.append(output)\n",
        "    i-=1\n",
        "\n",
        "  return stack\n",
        "\n",
        "print(prefix_postfix('/-AB*+DEF'))"
      ]
    },
    {
      "cell_type": "code",
      "execution_count": null,
      "metadata": {
        "id": "fTfxmzeWp2Yx"
      },
      "outputs": [],
      "source": []
    }
  ],
  "metadata": {
    "colab": {
      "authorship_tag": "ABX9TyPnW1IcEw6YLQurE9cbzkg/",
      "include_colab_link": true,
      "provenance": []
    },
    "kernelspec": {
      "display_name": "Python 3",
      "name": "python3"
    },
    "language_info": {
      "codemirror_mode": {
        "name": "ipython",
        "version": 3
      },
      "file_extension": ".py",
      "mimetype": "text/x-python",
      "name": "python",
      "nbconvert_exporter": "python",
      "pygments_lexer": "ipython3",
      "version": "3.11.9"
    }
  },
  "nbformat": 4,
  "nbformat_minor": 0
}
