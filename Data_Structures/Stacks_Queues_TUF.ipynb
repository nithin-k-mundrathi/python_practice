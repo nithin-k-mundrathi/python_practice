{
  "nbformat": 4,
  "nbformat_minor": 0,
  "metadata": {
    "colab": {
      "provenance": [],
      "authorship_tag": "ABX9TyOJueXBgB8ms2awilQ9Vo8q",
      "include_colab_link": true
    },
    "kernelspec": {
      "name": "python3",
      "display_name": "Python 3"
    },
    "language_info": {
      "name": "python"
    }
  },
  "cells": [
    {
      "cell_type": "markdown",
      "metadata": {
        "id": "view-in-github",
        "colab_type": "text"
      },
      "source": [
        "<a href=\"https://colab.research.google.com/github/nithin-k-mundrathi/python_practice/blob/main/Data_Structures/Stacks_Queues_TUF.ipynb\" target=\"_parent\"><img src=\"https://colab.research.google.com/assets/colab-badge.svg\" alt=\"Open In Colab\"/></a>"
      ]
    },
    {
      "cell_type": "markdown",
      "source": [
        "# Implement Stacks's using Arrays"
      ],
      "metadata": {
        "id": "DuoVfM9LSMTq"
      }
    },
    {
      "cell_type": "code",
      "source": [
        "class Stack:\n",
        "  def __init__(self):\n",
        "    self.top =-1\n",
        "    self.size = 10000\n",
        "    self.arr = [0]*self.size\n",
        "\n",
        "  def Push(self,x):\n",
        "    self.top +=1\n",
        "    self.arr[self.top] = x\n",
        "\n",
        "  def Pop(self):\n",
        "    x = self.arr[self.top]\n",
        "    self.top -=1\n",
        "    return x\n",
        "\n",
        "  def Top(self):\n",
        "    return self.arr[self.top]\n",
        "\n",
        "  def Size(self):\n",
        "    return self.top +1\n",
        "\n",
        "s = Stack()\n",
        "s.Push(1)\n",
        "s.Push(5)\n",
        "print(s)\n",
        "print(s.Size(),s.Top(),s.Pop())"
      ],
      "metadata": {
        "id": "TEGdNu1MQj0s"
      },
      "execution_count": null,
      "outputs": []
    },
    {
      "cell_type": "markdown",
      "source": [
        "# implement Queues from arrays\n",
        "\n"
      ],
      "metadata": {
        "id": "NSQjl96OaGBl"
      }
    },
    {
      "cell_type": "code",
      "source": [
        "class Queue:\n",
        "  def __init__(self):\n",
        "    self.front =-1\n",
        "    self.back = -1\n",
        "    self.size = 10000\n",
        "    self.arr = [0]*self.size\n",
        "\n",
        "  def Enqueue(self,x):\n",
        "    if (self.front ==self.back) and (self.front ==-1):\n",
        "      self.front +=1\n",
        "      self.back +=1\n",
        "    else:\n",
        "      self.back +=1\n",
        "    self.arr[self.back] = x\n",
        "\n",
        "  def Dequeue(self):\n",
        "    if (self.front ==self.back) and (self.front ==-1):\n",
        "      return False\n",
        "    elif (self.front ==self.back)  and (self.front ==1):\n",
        "      x = self.arr[self.front]\n",
        "      self.front +=1\n",
        "      self.back +=1\n",
        "    else:\n",
        "      x = self.arr[self.front]\n",
        "      self.front +=1\n",
        "    return x\n",
        "\n",
        "  def Size(self):\n",
        "    return self.back - self.front +1\n",
        "\n",
        "  def IsEmpty(self):\n",
        "    if (self.front ==self.back) and (self.front ==-1):\n",
        "      return True\n",
        "    else:\n",
        "      return False\n",
        "\n",
        "s = Queue()\n",
        "print(s.IsEmpty())\n",
        "s.Enqueue(1)\n",
        "s.Enqueue(5)\n",
        "s.Enqueue(15)\n",
        "s.Enqueue(25)\n",
        "print(s.Dequeue())\n",
        "print(s.Dequeue())\n",
        "print(s.IsEmpty())\n",
        "print(s)"
      ],
      "metadata": {
        "colab": {
          "base_uri": "https://localhost:8080/"
        },
        "id": "A2Kz_Xt6aFLd",
        "outputId": "16c2e51b-490c-4993-a187-d933302fe93f"
      },
      "execution_count": null,
      "outputs": [
        {
          "output_type": "stream",
          "name": "stdout",
          "text": [
            "True\n",
            "1\n",
            "5\n",
            "False\n",
            "<__main__.Queue object at 0x7ca12438ea10>\n"
          ]
        }
      ]
    },
    {
      "cell_type": "code",
      "source": [
        "from collections import deque\n",
        "q = deque()\n",
        "q.append('a')\n",
        "q.append('b')\n",
        "q.append('c')\n",
        "print(\"Initial queue\")\n",
        "print(q)\n",
        "print(\"\\nElements dequeued from the queue\")\n",
        "print(q.popleft())\n",
        "print(q.popleft())\n",
        "print(q.popleft())\n",
        "\n",
        "print(\"\\nQueue after removing elements\")\n",
        "print(q)"
      ],
      "metadata": {
        "colab": {
          "base_uri": "https://localhost:8080/"
        },
        "id": "6xQ_dz3OaFPL",
        "outputId": "7354358a-cfba-47b5-ea01-7e3a7f84729e"
      },
      "execution_count": null,
      "outputs": [
        {
          "output_type": "stream",
          "name": "stdout",
          "text": [
            "Initial queue\n",
            "deque(['a', 'b', 'c'])\n",
            "\n",
            "Elements dequeued from the queue\n",
            "a\n",
            "b\n",
            "c\n",
            "\n",
            "Queue after removing elements\n",
            "deque([])\n"
          ]
        }
      ]
    },
    {
      "cell_type": "markdown",
      "source": [
        "# GetMin Stack"
      ],
      "metadata": {
        "id": "NEJT-Jn7JADJ"
      }
    },
    {
      "cell_type": "code",
      "source": [
        "from collections import deque\n",
        "# insert a minimum element along with current element\n",
        "min_ele = 100000000\n",
        "min_stack = deque()\n",
        "\n",
        "for i in range(4):\n",
        "  number = int(input())\n",
        "  min_ele = min(number,min_ele)\n",
        "  min_stack.append((number,min_ele))\n",
        "\n",
        "print(min_stack.pop()[1])"
      ],
      "metadata": {
        "id": "jZ-RFdpgcowU",
        "colab": {
          "base_uri": "https://localhost:8080/"
        },
        "outputId": "2adc4272-cf8b-4a18-9a31-f73c0d43f980"
      },
      "execution_count": 10,
      "outputs": [
        {
          "name": "stdout",
          "output_type": "stream",
          "text": [
            "7\n",
            "6\n",
            "8\n",
            "4\n"
          ]
        }
      ]
    },
    {
      "cell_type": "markdown",
      "source": [
        "# Get balanced Paranthesis"
      ],
      "metadata": {
        "id": "RTYWNZi_PHDC"
      }
    },
    {
      "cell_type": "code",
      "source": [
        "from collections import deque\n",
        "\n",
        "stack_string = deque()\n",
        "\n",
        "# for i in range(6):\n",
        "#   stack_string.append(input())\n",
        "\n",
        "for i in range(6):\n",
        "  k  = input()\n",
        "  if (k == '(') or (k == '[') or (k == '{'):\n",
        "    stack_string.append(k)\n",
        "  else:\n",
        "    if len(stack_string) == 0:\n",
        "      print(False)\n",
        "      break\n",
        "    popped = stack_string.pop()\n",
        "    if (popped == '(') and (k==')') or (popped == '[') and (k==']')  or (popped == '{}') and (k=='}'):\n",
        "      print(True)"
      ],
      "metadata": {
        "colab": {
          "base_uri": "https://localhost:8080/"
        },
        "id": "Y6PXX11UJSud",
        "outputId": "bdd9c79f-570e-4a36-a248-aa2aae85de6e"
      },
      "execution_count": 14,
      "outputs": [
        {
          "name": "stdout",
          "output_type": "stream",
          "text": [
            "(\n",
            ")\n",
            "True\n",
            "[\n",
            "{\n",
            "]\n",
            "}\n"
          ]
        }
      ]
    },
    {
      "cell_type": "markdown",
      "source": [
        "# next greater Element"
      ],
      "metadata": {
        "id": "TuYhAdZBc9CO"
      }
    },
    {
      "cell_type": "code",
      "source": [
        "from collections import deque\n",
        "stack = deque()\n",
        "nge= []\n",
        "a = [6,0,8,1,3]\n",
        "n = len(a) -1\n",
        "for i in range(n,-1,-1):\n",
        "  while((len(stack) !=0) and (stack[-1] <= a[i])):\n",
        "    stack.pop()\n",
        "\n",
        "  if (len(stack) ==0):\n",
        "    nge.append(-1)\n",
        "  else:\n",
        "    nge.append(stack[-1])\n",
        "  stack.append(a[i])\n",
        "\n",
        "print(nge[::-1])"
      ],
      "metadata": {
        "colab": {
          "base_uri": "https://localhost:8080/"
        },
        "id": "9wKWvqKYKeKK",
        "outputId": "396534dd-e6de-43ea-a9a0-d3f12c713cf0"
      },
      "execution_count": 34,
      "outputs": [
        {
          "output_type": "stream",
          "name": "stdout",
          "text": [
            "[8, 8, -1, 3, -1]\n"
          ]
        }
      ]
    },
    {
      "cell_type": "markdown",
      "source": [
        "# Next Greater Element-2"
      ],
      "metadata": {
        "id": "QkGffpWEjeor"
      }
    },
    {
      "cell_type": "code",
      "source": [
        "from collections import deque\n",
        "stack = deque()\n",
        "nge= []\n",
        "a = [6,0,8,1,3]\n",
        "n = len(a)\n",
        "for i in range(2*n-1,-1,-1):\n",
        "  while((len(stack) !=0) and (stack[-1] <= a[i%n])):\n",
        "    stack.pop()\n",
        "  if (i<n):\n",
        "    if (len(stack) ==0):\n",
        "      nge.append(-1)\n",
        "    else:\n",
        "      nge.append(stack[-1])\n",
        "  stack.append(a[i%n])\n",
        "\n",
        "print(nge[::-1])"
      ],
      "metadata": {
        "colab": {
          "base_uri": "https://localhost:8080/"
        },
        "id": "MDsszBAZQ4kG",
        "outputId": "a9de61db-971a-4af8-957e-8b3f04f5cb03"
      },
      "execution_count": 22,
      "outputs": [
        {
          "output_type": "stream",
          "name": "stdout",
          "text": [
            "[8, 8, -1, 3, 6]\n"
          ]
        }
      ]
    },
    {
      "cell_type": "markdown",
      "source": [
        "# Next Smaller  Element-2"
      ],
      "metadata": {
        "id": "qaTYGTuZkDfM"
      }
    },
    {
      "cell_type": "code",
      "source": [
        "from collections import deque\n",
        "stack = deque()\n",
        "nge= []\n",
        "a = [6,0,8,1,3]\n",
        "n = len(a) -1\n",
        "for i in range(n,-1,-1):\n",
        "  while((len(stack) !=0) and (stack[-1] > a[i])):\n",
        "    stack.pop()\n",
        "\n",
        "  if (len(stack) ==0):\n",
        "    nge.append(-1)\n",
        "  else:\n",
        "    nge.append(stack[-1])\n",
        "  stack.append(a[i])\n",
        "\n",
        "print(nge[::-1])"
      ],
      "metadata": {
        "colab": {
          "base_uri": "https://localhost:8080/"
        },
        "id": "jVT9_AjwjyNN",
        "outputId": "12575984-c00b-4662-d0c5-7a6d399b6e16"
      },
      "execution_count": 28,
      "outputs": [
        {
          "output_type": "stream",
          "name": "stdout",
          "text": [
            "[0, -1, 1, -1, -1]\n"
          ]
        }
      ]
    },
    {
      "cell_type": "code",
      "source": [
        "from collections import deque\n",
        "stack = deque()\n",
        "nge= []\n",
        "a = [6,0,8,1,3]\n",
        "n = len(a)\n",
        "for i in range(2*n-1,-1,-1):\n",
        "  while((len(stack) !=0) and (stack[-1] > a[i%n])):\n",
        "    stack.pop()\n",
        "  if (i<n):\n",
        "    if (len(stack) ==0):\n",
        "      nge.append(-1)\n",
        "    else:\n",
        "      nge.append(stack[-1])\n",
        "  stack.append(a[i%n])\n",
        "\n",
        "print(nge[::-1])"
      ],
      "metadata": {
        "colab": {
          "base_uri": "https://localhost:8080/"
        },
        "id": "k9CfaghHkHMJ",
        "outputId": "29cd6f4f-dca5-4fb6-f45d-6b330852a763"
      },
      "execution_count": 29,
      "outputs": [
        {
          "output_type": "stream",
          "name": "stdout",
          "text": [
            "[0, 0, 1, 0, 0]\n"
          ]
        }
      ]
    },
    {
      "cell_type": "markdown",
      "source": [
        "# Asteroid Collisions"
      ],
      "metadata": {
        "id": "UDj-Q1MysfQH"
      }
    },
    {
      "cell_type": "code",
      "source": [
        "def asteroidcollisions(a):\n",
        "  n = len(a)\n",
        "  stack = deque()\n",
        "  for i in range(n):\n",
        "    if (a[i] >0):\n",
        "      stack.append(a[i])\n",
        "    else:\n",
        "      while(len(stack)!=0) & (stack[-1] >0) & (stack[-1] < abs(a[i])):\n",
        "        stack.pop()\n",
        "      if (len(stack)!=0) & (stack[-1] == abs(a[i])):\n",
        "        stack.pop()\n",
        "      elif (len(stack)==0) or (stack[-1] < 0):\n",
        "        stack.push()\n",
        "  return stack\n",
        "\n",
        "asteroidcollisions([4,7,1,1,2,-3,-7,17,15,-16])"
      ],
      "metadata": {
        "colab": {
          "base_uri": "https://localhost:8080/"
        },
        "id": "1w50MlgUkkZe",
        "outputId": "fb0fa87d-224b-4d52-84a4-f64e2b0812db"
      },
      "execution_count": 36,
      "outputs": [
        {
          "output_type": "execute_result",
          "data": {
            "text/plain": [
              "deque([4, 17])"
            ]
          },
          "metadata": {},
          "execution_count": 36
        }
      ]
    },
    {
      "cell_type": "markdown",
      "source": [
        "# IntFix to PostFix"
      ],
      "metadata": {
        "id": "1X2PYRKkcf4q"
      }
    },
    {
      "cell_type": "code",
      "source": [
        "from collections import deque\n",
        "def intfix_postfix(a):\n",
        "  i =0\n",
        "  n = len(a)\n",
        "  stack = deque()\n",
        "  ans = ''\n",
        "  priority = {\n",
        "      '^' : 3,\n",
        "      '*' : 2,\n",
        "      '/' : 2,\n",
        "      '+' : 1,\n",
        "      '-' : 1,\n",
        "      '(' : -1,\n",
        "      ')' : -1,\n",
        "  }\n",
        "\n",
        "  while (i <n):\n",
        "    if ((a[i] >= 'A') & (a[i] <= 'Z')) or ((a[i] >= 'a') & (a[i] <= 'z')) or ((a[i] >= '0') & (a[i] <= '9')):\n",
        "      ans += str(a[i])\n",
        "\n",
        "    elif a[i] == '(':\n",
        "      stack.append(a[i])\n",
        "    elif a[i] == ')':\n",
        "      while ( (len(stack) != 0) & (stack[-1] != '(')):\n",
        "        ans += stack[-1]\n",
        "        stack.pop()\n",
        "    else:\n",
        "      print(stack,ans,i)\n",
        "\n",
        "      while ((len(stack)!=0) and (priority[stack[-1]] >= priority[a[i]]) ):\n",
        "        ans += stack[-1]\n",
        "        stack.pop()\n",
        "      stack.append(a[i])\n",
        "    i+=1\n",
        "\n",
        "  while (len(stack) !=0):\n",
        "    ans += stack[-1]\n",
        "    stack.pop()\n",
        "\n",
        "  return ans\n",
        "\n",
        "intfix_postfix('a+b*c')"
      ],
      "metadata": {
        "colab": {
          "base_uri": "https://localhost:8080/",
          "height": 72
        },
        "id": "DLLXRgF8lFsL",
        "outputId": "0737ef24-6a9f-4538-9135-bedbf83da0dc"
      },
      "execution_count": 20,
      "outputs": [
        {
          "output_type": "stream",
          "name": "stdout",
          "text": [
            "deque([]) a 1\n",
            "deque(['+']) ab 3\n"
          ]
        },
        {
          "output_type": "execute_result",
          "data": {
            "text/plain": [
              "'abc*+'"
            ],
            "application/vnd.google.colaboratory.intrinsic+json": {
              "type": "string"
            }
          },
          "metadata": {},
          "execution_count": 20
        }
      ]
    },
    {
      "cell_type": "code",
      "source": [
        "str_1 ='a+b*(c^d-e)'\n",
        "intfix_postfix(str_1)"
      ],
      "metadata": {
        "colab": {
          "base_uri": "https://localhost:8080/",
          "height": 109
        },
        "id": "D-ImFDEYfVBM",
        "outputId": "efcf6b0a-d44f-45e8-9532-2cdb6b05515a"
      },
      "execution_count": 22,
      "outputs": [
        {
          "output_type": "stream",
          "name": "stdout",
          "text": [
            "deque([]) a 1\n",
            "deque(['+']) ab 3\n",
            "deque(['+', '*', '(']) abc 6\n",
            "deque(['+', '*', '(', '^']) abcd 8\n"
          ]
        },
        {
          "output_type": "execute_result",
          "data": {
            "text/plain": [
              "'abcd^e-(*+'"
            ],
            "application/vnd.google.colaboratory.intrinsic+json": {
              "type": "string"
            }
          },
          "metadata": {},
          "execution_count": 22
        }
      ]
    },
    {
      "cell_type": "code",
      "source": [],
      "metadata": {
        "colab": {
          "base_uri": "https://localhost:8080/",
          "height": 36
        },
        "id": "V5M6NjbigCLL",
        "outputId": "b56cd872-ebd2-484e-a8f8-3759ba4be1f0"
      },
      "execution_count": 10,
      "outputs": [
        {
          "output_type": "execute_result",
          "data": {
            "text/plain": [
              "'+'"
            ],
            "application/vnd.google.colaboratory.intrinsic+json": {
              "type": "string"
            }
          },
          "metadata": {},
          "execution_count": 10
        }
      ]
    },
    {
      "cell_type": "code",
      "source": [],
      "metadata": {
        "id": "-90eEWpwgC1l"
      },
      "execution_count": null,
      "outputs": []
    }
  ]
}