{
  "cells": [
    {
      "cell_type": "markdown",
      "metadata": {
        "colab_type": "text",
        "id": "view-in-github"
      },
      "source": [
        "<a href=\"https://colab.research.google.com/github/nithin-k-mundrathi/python_practice/blob/main/Data_Structures/Linked_Lists.ipynb\" target=\"_parent\"><img src=\"https://colab.research.google.com/assets/colab-badge.svg\" alt=\"Open In Colab\"/></a>"
      ]
    },
    {
      "cell_type": "markdown",
      "metadata": {
        "id": "6y0ZfG6E4uLX"
      },
      "source": [
        "# 1. Reverse print elements of a Linked List"
      ]
    },
    {
      "cell_type": "code",
      "execution_count": null,
      "metadata": {
        "id": "-wwsDICq4wj2"
      },
      "outputs": [],
      "source": [
        "# Reverse a LinkedList\n",
        "#!/bin/python3\n",
        "\n",
        "class SinglyLinkedListNode:\n",
        "    def __init__(self, node_data):\n",
        "        self.data = node_data\n",
        "        self.next = None\n",
        "\n",
        "class SinglyLinkedList:\n",
        "    def __init__(self):\n",
        "        self.head = None\n",
        "        self.tail = None\n",
        "\n",
        "def reversePrint(llist):\n",
        "    # Write your code here\n",
        "    if not llist:\n",
        "        return\n",
        "    reversePrint(llist.next)\n",
        "    print(llist.data)\n",
        "\n",
        "if __name__ == '__main__':\n",
        "    tests = int(input())\n",
        "\n",
        "    for tests_itr in range(tests):\n",
        "        llist_count = int(input())\n",
        "\n",
        "        llist = SinglyLinkedList()\n",
        "\n",
        "        for _ in range(llist_count):\n",
        "            llist_item = int(input())\n",
        "            llist.insert_node(llist_item)\n",
        "\n",
        "        reversePrint(llist.head)"
      ]
    },
    {
      "cell_type": "markdown",
      "metadata": {
        "id": "D1tx05zb4zMH"
      },
      "source": [
        "# 2. Print Elements of Linked List"
      ]
    },
    {
      "cell_type": "code",
      "execution_count": null,
      "metadata": {
        "id": "c1us7Z5e41va"
      },
      "outputs": [],
      "source": [
        "# Print the elements of a LinkedList\n",
        "\n",
        "def printLinkedList(head):\n",
        "    current_node = head\n",
        "    while current_node != None:\n",
        "        print(current_node.data)\n",
        "        current_node = current_node.next\n",
        "\n",
        "if __name__ == '__main__':\n",
        "    llist_count = int(input())\n",
        "\n",
        "    llist = SinglyLinkedList()\n",
        "\n",
        "    for _ in range(llist_count):\n",
        "        llist_item = int(input())\n",
        "        llist.insert_node(llist_item)\n",
        "\n",
        "    printLinkedList(llist.head)"
      ]
    },
    {
      "cell_type": "markdown",
      "metadata": {
        "id": "CRFZkpOKoPDc"
      },
      "source": [
        "# 3. Insert at Begining"
      ]
    },
    {
      "cell_type": "code",
      "execution_count": null,
      "metadata": {
        "colab": {
          "base_uri": "https://localhost:8080/"
        },
        "id": "03LDtrJtoN6d",
        "outputId": "cf2e39c7-06a5-416b-904b-1d128b414cbc"
      },
      "outputs": [
        {
          "name": "stdout",
          "output_type": "stream",
          "text": [
            "4\n",
            "1\n",
            "2\n",
            "3\n",
            "5\n",
            "5 ----- <__main__.SinglyLinkedListNode object at 0x7ed5fa0f6e00>\n",
            "3 ----- <__main__.SinglyLinkedListNode object at 0x7ed5fa0f7040>\n",
            "2 ----- <__main__.SinglyLinkedListNode object at 0x7ed5fa0f7820>\n",
            "1 ----- None\n"
          ]
        }
      ],
      "source": [
        "#!/bin/python3\n",
        "\n",
        "import math\n",
        "import os\n",
        "import random\n",
        "import re\n",
        "import sys\n",
        "\n",
        "class SinglyLinkedListNode:\n",
        "    def __init__(self, node_data):\n",
        "        self.data = node_data\n",
        "        self.next = None\n",
        "\n",
        "class SinglyLinkedList:\n",
        "    def __init__(self):\n",
        "        self.head = None\n",
        "        self.tail = None\n",
        "\n",
        "def print_singly_linked_list(node):\n",
        "\n",
        "    while node:\n",
        "        print(node.data,'-----',node.next)\n",
        "        node = node.next\n",
        "\n",
        "#\n",
        "def insertNodeAtHead(llist, data):\n",
        "    # Write your code here\n",
        "    node_1 = SinglyLinkedListNode(data)\n",
        "    node_1.next = llist\n",
        "    return node_1\n",
        "\n",
        "if __name__ == '__main__':\n",
        "    # fptr = open(os.environ['OUTPUT_PATH'], 'w')\n",
        "\n",
        "    llist_count = int(input())\n",
        "\n",
        "    llist = SinglyLinkedList()\n",
        "\n",
        "    for _ in range(llist_count):\n",
        "        llist_item = int(input())\n",
        "        llist_head = insertNodeAtHead(llist.head, llist_item)\n",
        "        llist.head = llist_head\n",
        "\n",
        "    print_singly_linked_list(llist.head)"
      ]
    },
    {
      "cell_type": "code",
      "execution_count": null,
      "metadata": {
        "id": "MjLj7QrjaVgq"
      },
      "outputs": [],
      "source": [
        "class node:\n",
        "  def __init__(self,data):\n",
        "\n",
        "    self.data =  data\n",
        "    self.next = None\n",
        "\n",
        "y =node(2)\n",
        "x =  node(3)\n",
        "a = node(0)\n",
        "a.next =y\n",
        "print(\n",
        "    a.data,\n",
        "    a.next.data,\n",
        "    a.next.next.data\n",
        ")"
      ]
    },
    {
      "cell_type": "markdown",
      "metadata": {
        "id": "gbgDR51EsXhO"
      },
      "source": [
        "# 4. Insert at Tail"
      ]
    },
    {
      "cell_type": "code",
      "execution_count": null,
      "metadata": {
        "id": "6IrFzYPooOKm"
      },
      "outputs": [],
      "source": [
        "def insertNodeAtTail(head, data):\n",
        "    data_node = SinglyLinkedListNode(data)\n",
        "    if head is None:\n",
        "        return data_node\n",
        "    else:\n",
        "        current = head\n",
        "        while (current.next != None):\n",
        "            current = current.next\n",
        "        current.next = data_node\n",
        "\n",
        "        return head"
      ]
    },
    {
      "cell_type": "markdown",
      "metadata": {
        "id": "ds-wTArExVH8"
      },
      "source": [
        "# 5. Insert at nth position"
      ]
    },
    {
      "cell_type": "code",
      "execution_count": null,
      "metadata": {
        "id": "uYgpxx9VxXqK"
      },
      "outputs": [],
      "source": [
        "def insertNodeAtPosition(llist, data, position):\n",
        "\n",
        "    data_node  = SinglyLinkedListNode(data)\n",
        "    if position ==1:\n",
        "        data_node.next = llist\n",
        "        return data_node\n",
        "    current = llist\n",
        "    for i in range(1,position):\n",
        "        current = current.next\n",
        "    data_node.next = current.next\n",
        "    current.next = data_node\n",
        "    return llist\n",
        "    # Write your code here\n",
        "\n",
        "if __name__ == '__main__':\n",
        "    fptr = open(os.environ['OUTPUT_PATH'], 'w')\n",
        "\n",
        "    llist_count = int(input())\n",
        "\n",
        "    llist = SinglyLinkedList()\n",
        "\n",
        "    for _ in range(llist_count):\n",
        "        llist_item = int(input())\n",
        "        llist.insert_node(llist_item)\n",
        "\n",
        "    data = int(input())\n",
        "\n",
        "    position = int(input())\n",
        "\n",
        "    llist_head = insertNodeAtPosition(llist.head, data, position)\n",
        "\n",
        "    print_singly_linked_list(llist_head, ' ', fptr)\n",
        "    fptr.write('\\n')\n",
        "\n",
        "    fptr.close()"
      ]
    },
    {
      "cell_type": "markdown",
      "metadata": {
        "id": "QMf2XAVv09PU"
      },
      "source": [
        "# 6. Delete a Node"
      ]
    },
    {
      "cell_type": "code",
      "execution_count": null,
      "metadata": {
        "id": "wG51GfeI0_7v"
      },
      "outputs": [],
      "source": [
        "def deleteNode(llist, position):\n",
        "    # Write your code here\n",
        "    current = llist\n",
        "    if position ==0:\n",
        "        return llist.next\n",
        "    else:\n",
        "\n",
        "        for i in range(1,position):\n",
        "            current = current.next\n",
        "        next_node = current.next\n",
        "        current.next = next_node.next\n",
        "        return llist"
      ]
    },
    {
      "cell_type": "code",
      "execution_count": null,
      "metadata": {
        "id": "xnB1qrzAan4F"
      },
      "outputs": [],
      "source": [
        "class node:\n",
        "  def __init__(self,data):\n",
        "\n",
        "    self.data =  data\n",
        "    self.next = None\n",
        "\n",
        "a = node(0)\n",
        "y =node(2)\n",
        "x =  node(3)\n",
        "z = node(4)\n",
        "end = node(5)\n",
        "enda = node(6)\n",
        "a.next =y\n",
        "y.next = x\n",
        "x.next  = z\n",
        "z.next =  end\n",
        "end.next = enda\n",
        "\n",
        "# while (a != None):\n",
        "#   print(a.data)\n",
        "#   a = a.next\n",
        "\n",
        "def delete(head,position):\n",
        "  current = head\n",
        "  if position ==0:\n",
        "    head = head.next\n",
        "    return head\n",
        "  else:\n",
        "    for i in range(1,position):\n",
        "      # print(position,current.data)\n",
        "      current = current.next\n",
        "    next_node = current.next\n",
        "    current.next =  next_node.next\n",
        "\n",
        "  return head"
      ]
    },
    {
      "cell_type": "code",
      "execution_count": null,
      "metadata": {
        "colab": {
          "base_uri": "https://localhost:8080/"
        },
        "id": "J_aYpBWhaoR2",
        "outputId": "31c689db-c4a2-4b50-ad08-9478280cf266"
      },
      "outputs": [
        {
          "name": "stdout",
          "output_type": "stream",
          "text": [
            "0\n",
            "2\n",
            "4\n",
            "5\n",
            "6\n"
          ]
        }
      ],
      "source": [
        "k = delete(a,2)\n",
        "\n",
        "while (k != None):\n",
        "  print(k.data)\n",
        "  k = k.next"
      ]
    },
    {
      "cell_type": "markdown",
      "metadata": {
        "id": "n40V0FT89gvD"
      },
      "source": [
        "# 7. Reverse a LinkedList- NCPC"
      ]
    },
    {
      "cell_type": "code",
      "execution_count": null,
      "metadata": {
        "id": "ch-ISBkq9gQs"
      },
      "outputs": [],
      "source": [
        "def reverse(llist):\n",
        "    # Write your code here\n",
        "    prev_node = SinglyLinkedListNode(None)\n",
        "    current_node  = llist\n",
        "    if llist == None:\n",
        "        return llist\n",
        "    while current_node != None:\n",
        "        next_node = current_node.next\n",
        "        current_node.next = prev_node\n",
        "        prev_node =  current_node\n",
        "        current_node = next_node\n",
        "    return prev_node"
      ]
    },
    {
      "cell_type": "code",
      "execution_count": null,
      "metadata": {
        "colab": {
          "base_uri": "https://localhost:8080/"
        },
        "id": "us_k4hnq1xnL",
        "outputId": "e49aaac0-10b8-41d5-99c5-688f6c532e6b"
      },
      "outputs": [
        {
          "name": "stdout",
          "output_type": "stream",
          "text": [
            "<__main__.node object at 0x79f6925ec4f0>\n",
            "6\n",
            "5\n",
            "4\n",
            "3\n",
            "2\n",
            "0\n"
          ]
        }
      ],
      "source": [
        "class node:\n",
        "  def __init__(self,data):\n",
        "    self.data =  data\n",
        "    self.next = None\n",
        "\n",
        "a = node(0)\n",
        "y =node(2)\n",
        "x =  node(3)\n",
        "z = node(4)\n",
        "end = node(5)\n",
        "enda = node(6)\n",
        "a.next =y\n",
        "y.next = x\n",
        "x.next  = z\n",
        "z.next =  end\n",
        "end.next = enda\n",
        "\n",
        "def reverse(head):\n",
        "\n",
        "  if head is None or head.next is None:\n",
        "    return head\n",
        "\n",
        "  new_head =  reverse(head.next)\n",
        "\n",
        "  nextnode = head.next\n",
        "  nextnode.next = head\n",
        "  head.next = None\n",
        "\n",
        "  return new_head\n",
        "\n",
        "k =reverse(a)\n",
        "print(k)\n",
        "while k !=None:\n",
        "  print(k.data)\n",
        "  k = k.next"
      ]
    },
    {
      "cell_type": "markdown",
      "metadata": {
        "id": "yGEQFRmRAsyY"
      },
      "source": [
        "# 8. Compare twom lists"
      ]
    },
    {
      "cell_type": "code",
      "execution_count": null,
      "metadata": {
        "id": "jy1rzrsbAv8I"
      },
      "outputs": [],
      "source": [
        "def compare_lists(llist1, llist2):\n",
        "    current1 = llist1\n",
        "    current2 = llist2\n",
        "    count =0\n",
        "    length = 0\n",
        "    while ((current1 !=None) or (current2!=None)):\n",
        "        length = length+1\n",
        "        if ((current1 ==None) and (current2==None)):\n",
        "            break\n",
        "        elif (current1 == None) or (current2 == None):\n",
        "                return 0\n",
        "        elif current1.data != current2.data:\n",
        "            return 0\n",
        "        current1 = current1.next\n",
        "        current2 = current2.next\n",
        "\n",
        "    return 1\n",
        "\n",
        "def compare_lists(llist1, llist2):\n",
        "    while llist1 and llist2:\n",
        "        if llist1.data != llist2.data:\n",
        "            return False\n",
        "\n",
        "        llist1 = llist1.next\n",
        "        llist2 = llist2.next\n",
        "\n",
        "    if (not llist1 and llist2) or (llist1 and not llist2):\n",
        "        return False\n",
        "\n",
        "    return True"
      ]
    },
    {
      "cell_type": "markdown",
      "metadata": {
        "id": "kH4ntdAiIskS"
      },
      "source": [
        "# 9. Merge Two LinkedLists"
      ]
    },
    {
      "cell_type": "code",
      "execution_count": null,
      "metadata": {
        "id": "cvOVdztkIxIw"
      },
      "outputs": [],
      "source": [
        "def mergeLists(head1, head2):\n",
        "    e = SinglyLinkedListNode(None)\n",
        "    current = e\n",
        "    current1 = head1\n",
        "    current2 = head2\n",
        "\n",
        "    while (current1 != None) and (current2 !=None):\n",
        "\n",
        "        if (current1.data < current2.data) or (current2 == None):\n",
        "            current.next = current1\n",
        "            current1 = current1.next\n",
        "        elif (current1.data > current2.data) or (current1 ==None):\n",
        "            current.next = current2\n",
        "            current2 = current2.next\n",
        "        else:\n",
        "            current.next = current1\n",
        "            current = current.next\n",
        "            current.next = current2\n",
        "        current = current.next\n",
        "\n",
        "    if current1 != None:\n",
        "        current.next = current1\n",
        "    else:\n",
        "        current.next = current2\n",
        "\n",
        "    return e.next"
      ]
    },
    {
      "cell_type": "markdown",
      "metadata": {
        "id": "sNFVi3CZiFIq"
      },
      "source": [
        "# 10. Length of Linkedlist"
      ]
    },
    {
      "cell_type": "code",
      "execution_count": null,
      "metadata": {
        "colab": {
          "base_uri": "https://localhost:8080/"
        },
        "id": "0bB2bhIsiHMa",
        "outputId": "7db25b63-1bc2-47a0-a675-e7c7a403f52f"
      },
      "outputs": [
        {
          "data": {
            "text/plain": [
              "6"
            ]
          },
          "execution_count": 85,
          "metadata": {},
          "output_type": "execute_result"
        }
      ],
      "source": [
        "class node:\n",
        "  def __init__(self,data):\n",
        "\n",
        "    self.data =  data\n",
        "    self.next = None\n",
        "\n",
        "a = node(0)\n",
        "y =node(2)\n",
        "x =  node(3)\n",
        "z = node(4)\n",
        "end = node(5)\n",
        "enda = node(6)\n",
        "a.next =y\n",
        "y.next = x\n",
        "x.next  = z\n",
        "z.next =  end\n",
        "end.next = enda\n",
        "\n",
        "# while (a != None):\n",
        "#   print(a.data)\n",
        "#   a = a.next\n",
        "\n",
        "def length_l(head):\n",
        "  current = head\n",
        "  if current.next == None:\n",
        "    return 1\n",
        "  count =0\n",
        "  while current != None:\n",
        "    count = count+1\n",
        "    current = current.next\n",
        "  return count\n",
        "\n",
        "length_l(a)"
      ]
    },
    {
      "cell_type": "markdown",
      "metadata": {
        "id": "49mHqKlki5bF"
      },
      "source": [
        "# 11. Serach for Element in LinkedList"
      ]
    },
    {
      "cell_type": "code",
      "execution_count": null,
      "metadata": {
        "colab": {
          "base_uri": "https://localhost:8080/",
          "height": 36
        },
        "id": "piGPOJVIiHPi",
        "outputId": "fe7abd86-561e-4f88-cb7a-3658b308867c"
      },
      "outputs": [
        {
          "data": {
            "application/vnd.google.colaboratory.intrinsic+json": {
              "type": "string"
            },
            "text/plain": [
              "'element found'"
            ]
          },
          "execution_count": 87,
          "metadata": {},
          "output_type": "execute_result"
        }
      ],
      "source": [
        "class node:\n",
        "  def __init__(self,data):\n",
        "\n",
        "    self.data =  data\n",
        "    self.next = None\n",
        "\n",
        "a = node(0)\n",
        "y =node(2)\n",
        "x =  node(3)\n",
        "z = node(4)\n",
        "end = node(5)\n",
        "enda = node(6)\n",
        "a.next =y\n",
        "y.next = x\n",
        "x.next  = z\n",
        "z.next =  end\n",
        "end.next = enda\n",
        "\n",
        "def search(head, element):\n",
        "  current = head\n",
        "  while current != None:\n",
        "    if current.data == element:\n",
        "      return 'element found'\n",
        "    current = current.next\n",
        "  return 'element not found'\n",
        "\n",
        "search(a,4)"
      ]
    },
    {
      "cell_type": "markdown",
      "metadata": {
        "id": "yjdqNl38wzZJ"
      },
      "source": [
        "# 12 . Middle of LinkedList"
      ]
    },
    {
      "cell_type": "code",
      "execution_count": null,
      "metadata": {
        "colab": {
          "base_uri": "https://localhost:8080/"
        },
        "id": "YhUSmZhOiHVp",
        "outputId": "1bf57560-7a24-4b16-fa8b-3891b09698c9"
      },
      "outputs": [
        {
          "data": {
            "text/plain": [
              "4"
            ]
          },
          "execution_count": 89,
          "metadata": {},
          "output_type": "execute_result"
        }
      ],
      "source": [
        "class node:\n",
        "  def __init__(self,data):\n",
        "    self.data =  data\n",
        "    self.next = None\n",
        "\n",
        "a = node(0)\n",
        "y =node(2)\n",
        "x =  node(3)\n",
        "z = node(4)\n",
        "end = node(5)\n",
        "enda = node(6)\n",
        "a.next =y\n",
        "y.next = x\n",
        "x.next  = z\n",
        "z.next =  end\n",
        "end.next = enda\n",
        "\n",
        "def middle(head):\n",
        "  # never alter a Head \n",
        "  current = head\n",
        "  har_current = head\n",
        "  count =0\n",
        "  # \n",
        "  while (current != None) and (har_current !=None):\n",
        "    count +=1\n",
        "    current =  current.next\n",
        "    har_current = har_current.next.next\n",
        "  return current.data\n",
        "\n",
        "middle(a)"
      ]
    },
    {
      "cell_type": "markdown",
      "metadata": {
        "id": "MN3x0hOl_znE"
      },
      "source": [
        "# 13. Detect a loop in a Linkedlist"
      ]
    },
    {
      "cell_type": "code",
      "execution_count": null,
      "metadata": {
        "colab": {
          "base_uri": "https://localhost:8080/"
        },
        "id": "ensK8U6lw2lK",
        "outputId": "514d103a-70a9-405e-a175-d0c3ada2bfe2"
      },
      "outputs": [
        {
          "name": "stdout",
          "output_type": "stream",
          "text": [
            "loop found\n",
            "loop found\n"
          ]
        },
        {
          "data": {
            "text/plain": [
              "3"
            ]
          },
          "execution_count": 108,
          "metadata": {},
          "output_type": "execute_result"
        }
      ],
      "source": [
        "class node:\n",
        "  def __init__(self,data):\n",
        "    self.data =  data\n",
        "    self.next = None\n",
        "\n",
        "a = node(0)\n",
        "y =node(2)\n",
        "x =  node(3) # Start of Node\n",
        "z = node(4)\n",
        "end = node(5)\n",
        "enda = node(6)\n",
        "a.next =y\n",
        "y.next = x\n",
        "x.next  = z\n",
        "z.next =  end\n",
        "end.next = enda\n",
        "end.next = x # End Of Node\n",
        "\n",
        "def detect_loop_hair_tort(head):\n",
        "  \n",
        "  current =  head\n",
        "  har_current = head\n",
        "\n",
        "  while (har_current != None) and (har_current.next != None):\n",
        "\n",
        "    current = current.next\n",
        "    har_current = har_current.next.next\n",
        "\n",
        "    if current == har_current:\n",
        "      return 'Loop found'\n",
        "\n",
        "def start_loop_hair_method(head):\n",
        "  har_current =  head\n",
        "  current = head\n",
        "  while (current != None) & (har_current != None):\n",
        "\n",
        "    current =  current.next\n",
        "    har_current =  har_current.next.next\n",
        "\n",
        "    if current == har_current:\n",
        "      print('Loop found')\n",
        "      current = head\n",
        "      while current != har_current:\n",
        "        current = current.next\n",
        "        har_current =  har_current.next\n",
        "\n",
        "      return current.data\n",
        "\n",
        "start_loop_hair_method(a)\n",
        "\n",
        "def looplength(head):\n",
        "\n",
        "  current =  head\n",
        "  hare_current = head\n",
        "\n",
        "  while (hare_current != None) and (hare_current.next!= None):\n",
        "    current = current.next\n",
        "    hare_current =  hare_current.next.next\n",
        "\n",
        "    if current == hare_current:\n",
        "      print('loop found')\n",
        "      length = 1\n",
        "      # the reason to do this is the first loop doesn't say\n",
        "      hare_current= hare_current.next\n",
        "      while current != hare_current:\n",
        "\n",
        "        length +=1\n",
        "        hare_current = hare_current.next\n",
        "\n",
        "      return length\n",
        "\n",
        "loopstart(a)\n",
        "looplength(a)"
      ]
    },
    {
      "cell_type": "markdown",
      "metadata": {},
      "source": [
        "# 14. Palindrome for a LinkedList"
      ]
    },
    {
      "cell_type": "code",
      "execution_count": 3,
      "metadata": {
        "id": "9_88_-liw2ow"
      },
      "outputs": [
        {
          "name": "stdout",
          "output_type": "stream",
          "text": [
            "0\n",
            "2\n",
            "3\n",
            "3\n",
            "2\n",
            "0\n",
            "checking\n",
            "yes for palindrome\n"
          ]
        }
      ],
      "source": [
        "class node:\n",
        "  def __init__(self,data):\n",
        "    self.data =  data\n",
        "    self.next = None\n",
        "\n",
        "a = node(0)\n",
        "y =node(2)\n",
        "x =  node(3) # Start of Node\n",
        "z = node(3)\n",
        "end = node(2)\n",
        "enda = node(0)\n",
        "a.next =y\n",
        "y.next = x\n",
        "x.next  = z\n",
        "z.next =  end\n",
        "end.next = enda\n",
        "\n",
        "def palindrome_n(head):\n",
        "  o = []\n",
        "  current = head \n",
        "  while current != None:\n",
        "    print(current.data)\n",
        "    o.append(current.data)\n",
        "    current = current.next\n",
        "    \n",
        "  print('checking')\n",
        "  while head != None:\n",
        "    if o.pop() == head.data:\n",
        "      head = head.next\n",
        "    else:\n",
        "      return 'Not a Palindrome'\n",
        "  print('yes for palindrome')\n",
        "\n",
        "palindrome_n(a)\n"
      ]
    },
    {
      "cell_type": "code",
      "execution_count": null,
      "metadata": {},
      "outputs": [],
      "source": []
    },
    {
      "cell_type": "code",
      "execution_count": null,
      "metadata": {},
      "outputs": [],
      "source": []
    },
    {
      "cell_type": "markdown",
      "metadata": {
        "id": "6hUK7q2Xg0hh"
      },
      "source": [
        "# syntax"
      ]
    },
    {
      "cell_type": "code",
      "execution_count": null,
      "metadata": {
        "colab": {
          "base_uri": "https://localhost:8080/",
          "height": 164
        },
        "id": "KKKVq8KZg1i8",
        "outputId": "961d8545-e059-463e-be9c-11b5e6487ac5"
      },
      "outputs": [
        {
          "ename": "NameError",
          "evalue": "name 'SinglyLinkedList' is not defined",
          "output_type": "error",
          "traceback": [
            "\u001b[0;31m---------------------------------------------------------------------------\u001b[0m",
            "\u001b[0;31mNameError\u001b[0m                                 Traceback (most recent call last)",
            "\u001b[0;32m<ipython-input-1-9600d9103738>\u001b[0m in \u001b[0;36m<cell line: 1>\u001b[0;34m()\u001b[0m\n\u001b[0;32m----> 1\u001b[0;31m \u001b[0mllist\u001b[0m \u001b[0;34m=\u001b[0m \u001b[0mSinglyLinkedList\u001b[0m\u001b[0;34m(\u001b[0m\u001b[0;34m)\u001b[0m\u001b[0;34m\u001b[0m\u001b[0;34m\u001b[0m\u001b[0m\n\u001b[0m\u001b[1;32m      2\u001b[0m \u001b[0mllist\u001b[0m\u001b[0;34m.\u001b[0m\u001b[0minsert_node\u001b[0m\u001b[0;34m(\u001b[0m\u001b[0;36m1\u001b[0m\u001b[0;34m)\u001b[0m\u001b[0;34m\u001b[0m\u001b[0;34m\u001b[0m\u001b[0m\n",
            "\u001b[0;31mNameError\u001b[0m: name 'SinglyLinkedList' is not defined"
          ]
        }
      ],
      "source": [
        "llist = SinglyLinkedList()\n",
        "llist.insert_node(1)"
      ]
    },
    {
      "cell_type": "code",
      "execution_count": null,
      "metadata": {
        "id": "qdrh0pQ-g5pe"
      },
      "outputs": [],
      "source": [
        "import math\n",
        "import os\n",
        "import random\n",
        "import re\n",
        "import sys\n",
        "\n",
        "class SinglyLinkedListNode:\n",
        "    def __init__(self, node_data):\n",
        "        self.data = node_data\n",
        "        self.next = None\n",
        "\n",
        "class SinglyLinkedList:\n",
        "    def __init__(self):\n",
        "        self.head = None\n",
        "        self.tail = None\n",
        "\n",
        "    def insert_node(self, node_data):\n",
        "        node = SinglyLinkedListNode(node_data)\n",
        "\n",
        "        if not self.head:\n",
        "            self.head = node\n",
        "        else:\n",
        "            self.tail.next = node\n",
        "\n",
        "        self.tail = node\n",
        "\n",
        "def print_singly_linked_list(node, sep):\n",
        "    while node:\n",
        "        print(node.data, end='')\n",
        "\n",
        "        node = node.next\n",
        "\n",
        "        if node:\n",
        "            print(sep, end='')"
      ]
    },
    {
      "cell_type": "code",
      "execution_count": null,
      "metadata": {
        "colab": {
          "base_uri": "https://localhost:8080/"
        },
        "id": "4Ug-ehYIhye-",
        "outputId": "c1017a74-ce08-4ad4-9928-ac713c9e4560"
      },
      "outputs": [
        {
          "data": {
            "text/plain": [
              "(2, None)"
            ]
          },
          "execution_count": 6,
          "metadata": {},
          "output_type": "execute_result"
        }
      ],
      "source": [
        "\n",
        "class singleNode:\n",
        "  def __init__(self,data_node):\n",
        "    self.data =  data_node\n",
        "    self.next = None\n",
        "\n",
        "# Insert a Node\n",
        "def insert_node(self,data):\n",
        "  node = singleNode(data)\n",
        "  if self.head is None:\n",
        "    self.head = node\n",
        "    return\n",
        "  else:\n",
        "    node.next = self.head\n",
        "    self.head = node\n",
        "\n",
        "one_node = singleNode(2)\n",
        "one_node.data,one_node.next\n",
        "\n",
        "node_2 = singleNode(4)\n",
        "node_2.data\n",
        "\n",
        "# to traverse over LinkedList\n",
        "while (node.next !=None):\n",
        "  print(node.data)\n",
        "  node = node.next\n",
        "\n"
      ]
    },
    {
      "cell_type": "markdown",
      "metadata": {
        "id": "15fvwvlM_Kf3"
      },
      "source": [
        "# Double Linked List"
      ]
    },
    {
      "cell_type": "markdown",
      "metadata": {
        "id": "ASWKNpL6_M5k"
      },
      "source": [
        "## create a node"
      ]
    },
    {
      "cell_type": "code",
      "execution_count": 2,
      "metadata": {
        "colab": {
          "base_uri": "https://localhost:8080/"
        },
        "id": "0HecYtryjODw",
        "outputId": "4554b114-f72d-4e87-c07d-a6011090ac3d"
      },
      "outputs": [
        {
          "data": {
            "text/plain": [
              "3"
            ]
          },
          "execution_count": 2,
          "metadata": {},
          "output_type": "execute_result"
        }
      ],
      "source": [
        "class singleNode:\n",
        "  def __init__(self,data_node):\n",
        "    self.data = data_node\n",
        "    self.next = None\n",
        "    self.prev = None\n",
        "\n",
        "data_node = singleNode(3)\n",
        "data_node.data"
      ]
    },
    {
      "cell_type": "markdown",
      "metadata": {
        "id": "Cjn-Z76T_5fs"
      },
      "source": [
        "# Insert Node at Start of Node"
      ]
    },
    {
      "cell_type": "code",
      "execution_count": null,
      "metadata": {
        "id": "wnTJRqF3iUa6"
      },
      "outputs": [],
      "source": [
        "def InsertNodeHead(x):\n",
        "  if head == None:\n",
        "    return\n",
        "\n",
        "  new_node = singleNode(x)\n",
        "  head.prev = new_node\n",
        "  new_node.next = head\n",
        "  head = new_node"
      ]
    },
    {
      "cell_type": "code",
      "execution_count": null,
      "metadata": {
        "id": "mexjhZJmAdzv"
      },
      "outputs": [],
      "source": [
        "def InsertNodeTail(x):\n",
        "  if head == None:\n",
        "    return\n",
        "\n",
        "  current = head\n",
        "\n",
        "  while current != None:\n",
        "    prev = current\n",
        "    current = current.next\n",
        "\n",
        "  new_node = singleNode(x)\n",
        "  current.next = new_node\n",
        "  new_node.prev = prev\n",
        "  new_node.next = None"
      ]
    },
    {
      "cell_type": "code",
      "execution_count": null,
      "metadata": {
        "id": "bQHbSV2YBuMH"
      },
      "outputs": [],
      "source": [
        "def DeleteNode(x):\n",
        "  if head == None:\n",
        "    return\n",
        "\n",
        "  current = head\n",
        "\n",
        "  while current.data != x:\n",
        "    prev = current.prev\n",
        "    next_node = current.next\n",
        "\n",
        "  prev.next = next_node\n",
        "  next_node.prev = prev\n"
      ]
    },
    {
      "cell_type": "code",
      "execution_count": null,
      "metadata": {
        "id": "vFkiGhr7CRSb"
      },
      "outputs": [],
      "source": []
    }
  ],
  "metadata": {
    "colab": {
      "authorship_tag": "ABX9TyPsE/adUxb9CKvOQI/9BTM8",
      "include_colab_link": true,
      "provenance": []
    },
    "kernelspec": {
      "display_name": "Python 3",
      "name": "python3"
    },
    "language_info": {
      "codemirror_mode": {
        "name": "ipython",
        "version": 3
      },
      "file_extension": ".py",
      "mimetype": "text/x-python",
      "name": "python",
      "nbconvert_exporter": "python",
      "pygments_lexer": "ipython3",
      "version": "3.11.9"
    }
  },
  "nbformat": 4,
  "nbformat_minor": 0
}
