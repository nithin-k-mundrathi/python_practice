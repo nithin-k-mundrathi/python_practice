{
  "nbformat": 4,
  "nbformat_minor": 0,
  "metadata": {
    "colab": {
      "provenance": [],
      "authorship_tag": "ABX9TyPsE/adUxb9CKvOQI/9BTM8",
      "include_colab_link": true
    },
    "kernelspec": {
      "name": "python3",
      "display_name": "Python 3"
    },
    "language_info": {
      "name": "python"
    }
  },
  "cells": [
    {
      "cell_type": "markdown",
      "metadata": {
        "id": "view-in-github",
        "colab_type": "text"
      },
      "source": [
        "<a href=\"https://colab.research.google.com/github/nithin-k-mundrathi/python_practice/blob/main/Data_Structures/Linked_Lists.ipynb\" target=\"_parent\"><img src=\"https://colab.research.google.com/assets/colab-badge.svg\" alt=\"Open In Colab\"/></a>"
      ]
    },
    {
      "cell_type": "markdown",
      "source": [
        "# 1. Reverse print elements of a Linked List"
      ],
      "metadata": {
        "id": "6y0ZfG6E4uLX"
      }
    },
    {
      "cell_type": "code",
      "source": [
        "# Reverse a LinkedList\n",
        "#!/bin/python3\n",
        "\n",
        "class SinglyLinkedListNode:\n",
        "    def __init__(self, node_data):\n",
        "        self.data = node_data\n",
        "        self.next = None\n",
        "\n",
        "class SinglyLinkedList:\n",
        "    def __init__(self):\n",
        "        self.head = None\n",
        "        self.tail = None\n",
        "\n",
        "def reversePrint(llist):\n",
        "    # Write your code here\n",
        "    if not llist:\n",
        "        return\n",
        "    reversePrint(llist.next)\n",
        "    print(llist.data)\n",
        "\n",
        "if __name__ == '__main__':\n",
        "    tests = int(input())\n",
        "\n",
        "    for tests_itr in range(tests):\n",
        "        llist_count = int(input())\n",
        "\n",
        "        llist = SinglyLinkedList()\n",
        "\n",
        "        for _ in range(llist_count):\n",
        "            llist_item = int(input())\n",
        "            llist.insert_node(llist_item)\n",
        "\n",
        "        reversePrint(llist.head)"
      ],
      "metadata": {
        "id": "-wwsDICq4wj2"
      },
      "execution_count": null,
      "outputs": []
    },
    {
      "cell_type": "markdown",
      "source": [
        "# 2. Print Elements of Linked List"
      ],
      "metadata": {
        "id": "D1tx05zb4zMH"
      }
    },
    {
      "cell_type": "code",
      "source": [
        "# Print the elements of a LinkedList\n",
        "\n",
        "def printLinkedList(head):\n",
        "    current_node = head\n",
        "    while current_node != None:\n",
        "        print(current_node.data)\n",
        "        current_node = current_node.next\n",
        "\n",
        "if __name__ == '__main__':\n",
        "    llist_count = int(input())\n",
        "\n",
        "    llist = SinglyLinkedList()\n",
        "\n",
        "    for _ in range(llist_count):\n",
        "        llist_item = int(input())\n",
        "        llist.insert_node(llist_item)\n",
        "\n",
        "    printLinkedList(llist.head)"
      ],
      "metadata": {
        "id": "c1us7Z5e41va"
      },
      "execution_count": null,
      "outputs": []
    },
    {
      "cell_type": "markdown",
      "source": [
        "# 3. Insert at Begining"
      ],
      "metadata": {
        "id": "CRFZkpOKoPDc"
      }
    },
    {
      "cell_type": "code",
      "source": [
        "#!/bin/python3\n",
        "\n",
        "import math\n",
        "import os\n",
        "import random\n",
        "import re\n",
        "import sys\n",
        "\n",
        "class SinglyLinkedListNode:\n",
        "    def __init__(self, node_data):\n",
        "        self.data = node_data\n",
        "        self.next = None\n",
        "\n",
        "class SinglyLinkedList:\n",
        "    def __init__(self):\n",
        "        self.head = None\n",
        "        self.tail = None\n",
        "\n",
        "def print_singly_linked_list(node):\n",
        "\n",
        "    while node:\n",
        "        print(node.data,'-----',node.next)\n",
        "        node = node.next\n",
        "\n",
        "#\n",
        "def insertNodeAtHead(llist, data):\n",
        "    # Write your code here\n",
        "    node_1 = SinglyLinkedListNode(data)\n",
        "    node_1.next = llist\n",
        "    return node_1\n",
        "\n",
        "if __name__ == '__main__':\n",
        "    # fptr = open(os.environ['OUTPUT_PATH'], 'w')\n",
        "\n",
        "    llist_count = int(input())\n",
        "\n",
        "    llist = SinglyLinkedList()\n",
        "\n",
        "    for _ in range(llist_count):\n",
        "        llist_item = int(input())\n",
        "        llist_head = insertNodeAtHead(llist.head, llist_item)\n",
        "        llist.head = llist_head\n",
        "\n",
        "    print_singly_linked_list(llist.head)"
      ],
      "metadata": {
        "colab": {
          "base_uri": "https://localhost:8080/"
        },
        "id": "03LDtrJtoN6d",
        "outputId": "cf2e39c7-06a5-416b-904b-1d128b414cbc"
      },
      "execution_count": null,
      "outputs": [
        {
          "output_type": "stream",
          "name": "stdout",
          "text": [
            "4\n",
            "1\n",
            "2\n",
            "3\n",
            "5\n",
            "5 ----- <__main__.SinglyLinkedListNode object at 0x7ed5fa0f6e00>\n",
            "3 ----- <__main__.SinglyLinkedListNode object at 0x7ed5fa0f7040>\n",
            "2 ----- <__main__.SinglyLinkedListNode object at 0x7ed5fa0f7820>\n",
            "1 ----- None\n"
          ]
        }
      ]
    },
    {
      "cell_type": "code",
      "source": [
        "class node:\n",
        "  def __init__(self,data):\n",
        "\n",
        "    self.data =  data\n",
        "    self.next = None\n",
        "\n",
        "y =node(2)\n",
        "x =  node(3)\n",
        "a = node(0)\n",
        "a.next =y\n",
        "print(\n",
        "    a.data,\n",
        "    a.next.data,\n",
        "    a.next.next.data\n",
        ")"
      ],
      "metadata": {
        "id": "MjLj7QrjaVgq"
      },
      "execution_count": null,
      "outputs": []
    },
    {
      "cell_type": "markdown",
      "source": [
        "# 4. Insert at Tail"
      ],
      "metadata": {
        "id": "gbgDR51EsXhO"
      }
    },
    {
      "cell_type": "code",
      "source": [
        "def insertNodeAtTail(head, data):\n",
        "    data_node = SinglyLinkedListNode(data)\n",
        "    if head is None:\n",
        "        return data_node\n",
        "    else:\n",
        "        current = head\n",
        "        while (current.next != None):\n",
        "            current = current.next\n",
        "        current.next = data_node\n",
        "\n",
        "        return head"
      ],
      "metadata": {
        "id": "6IrFzYPooOKm"
      },
      "execution_count": null,
      "outputs": []
    },
    {
      "cell_type": "markdown",
      "source": [
        "# 5. Insert at nth position"
      ],
      "metadata": {
        "id": "ds-wTArExVH8"
      }
    },
    {
      "cell_type": "code",
      "source": [
        "def insertNodeAtPosition(llist, data, position):\n",
        "\n",
        "    data_node  = SinglyLinkedListNode(data)\n",
        "    if position ==1:\n",
        "        data_node.next = llist\n",
        "        return data_node\n",
        "    current = llist\n",
        "    for i in range(1,position):\n",
        "        current = current.next\n",
        "    data_node.next = current.next\n",
        "    current.next = data_node\n",
        "    return llist\n",
        "    # Write your code here\n",
        "\n",
        "if __name__ == '__main__':\n",
        "    fptr = open(os.environ['OUTPUT_PATH'], 'w')\n",
        "\n",
        "    llist_count = int(input())\n",
        "\n",
        "    llist = SinglyLinkedList()\n",
        "\n",
        "    for _ in range(llist_count):\n",
        "        llist_item = int(input())\n",
        "        llist.insert_node(llist_item)\n",
        "\n",
        "    data = int(input())\n",
        "\n",
        "    position = int(input())\n",
        "\n",
        "    llist_head = insertNodeAtPosition(llist.head, data, position)\n",
        "\n",
        "    print_singly_linked_list(llist_head, ' ', fptr)\n",
        "    fptr.write('\\n')\n",
        "\n",
        "    fptr.close()"
      ],
      "metadata": {
        "id": "uYgpxx9VxXqK"
      },
      "execution_count": null,
      "outputs": []
    },
    {
      "cell_type": "markdown",
      "source": [
        "# 6. Delete a Node"
      ],
      "metadata": {
        "id": "QMf2XAVv09PU"
      }
    },
    {
      "cell_type": "code",
      "source": [
        "def deleteNode(llist, position):\n",
        "    # Write your code here\n",
        "    current = llist\n",
        "    if position ==0:\n",
        "        return llist.next\n",
        "    else:\n",
        "\n",
        "        for i in range(1,position):\n",
        "            current = current.next\n",
        "        next_node = current.next\n",
        "        current.next = next_node.next\n",
        "        return llist"
      ],
      "metadata": {
        "id": "wG51GfeI0_7v"
      },
      "execution_count": null,
      "outputs": []
    },
    {
      "cell_type": "code",
      "source": [
        "class node:\n",
        "  def __init__(self,data):\n",
        "\n",
        "    self.data =  data\n",
        "    self.next = None\n",
        "\n",
        "a = node(0)\n",
        "y =node(2)\n",
        "x =  node(3)\n",
        "z = node(4)\n",
        "end = node(5)\n",
        "enda = node(6)\n",
        "a.next =y\n",
        "y.next = x\n",
        "x.next  = z\n",
        "z.next =  end\n",
        "end.next = enda\n",
        "\n",
        "# while (a != None):\n",
        "#   print(a.data)\n",
        "#   a = a.next\n",
        "\n",
        "def delete(head,position):\n",
        "  current = head\n",
        "  if position ==0:\n",
        "    head = head.next\n",
        "    return head\n",
        "  else:\n",
        "    for i in range(1,position):\n",
        "      # print(position,current.data)\n",
        "      current = current.next\n",
        "    next_node = current.next\n",
        "    current.next =  next_node.next\n",
        "\n",
        "  return head"
      ],
      "metadata": {
        "id": "xnB1qrzAan4F"
      },
      "execution_count": null,
      "outputs": []
    },
    {
      "cell_type": "code",
      "source": [
        "k = delete(a,2)\n",
        "\n",
        "while (k != None):\n",
        "  print(k.data)\n",
        "  k = k.next"
      ],
      "metadata": {
        "colab": {
          "base_uri": "https://localhost:8080/"
        },
        "id": "J_aYpBWhaoR2",
        "outputId": "31c689db-c4a2-4b50-ad08-9478280cf266"
      },
      "execution_count": null,
      "outputs": [
        {
          "output_type": "stream",
          "name": "stdout",
          "text": [
            "0\n",
            "2\n",
            "4\n",
            "5\n",
            "6\n"
          ]
        }
      ]
    },
    {
      "cell_type": "markdown",
      "source": [
        "# 7. Reverse a LinkedList- NCPC"
      ],
      "metadata": {
        "id": "n40V0FT89gvD"
      }
    },
    {
      "cell_type": "code",
      "source": [
        "def reverse(llist):\n",
        "    # Write your code here\n",
        "    prev_node = SinglyLinkedListNode(None)\n",
        "    current_node  = llist\n",
        "    if llist == None:\n",
        "        return llist\n",
        "    while current_node != None:\n",
        "        next_node = current_node.next\n",
        "        current_node.next = prev_node\n",
        "        prev_node =  current_node\n",
        "        current_node = next_node\n",
        "    return prev_node"
      ],
      "metadata": {
        "id": "ch-ISBkq9gQs"
      },
      "execution_count": null,
      "outputs": []
    },
    {
      "cell_type": "code",
      "source": [
        "class node:\n",
        "  def __init__(self,data):\n",
        "    self.data =  data\n",
        "    self.next = None\n",
        "\n",
        "a = node(0)\n",
        "y =node(2)\n",
        "x =  node(3)\n",
        "z = node(4)\n",
        "end = node(5)\n",
        "enda = node(6)\n",
        "a.next =y\n",
        "y.next = x\n",
        "x.next  = z\n",
        "z.next =  end\n",
        "end.next = enda\n",
        "\n",
        "def reverse(head):\n",
        "\n",
        "  if head is None or head.next is None:\n",
        "    return head\n",
        "\n",
        "  new_head =  reverse(head.next)\n",
        "\n",
        "  nextnode = head.next\n",
        "  nextnode.next = head\n",
        "  head.next = None\n",
        "\n",
        "  return new_head\n",
        "\n",
        "k =reverse(a)\n",
        "print(k)\n",
        "while k !=None:\n",
        "  print(k.data)\n",
        "  k = k.next"
      ],
      "metadata": {
        "colab": {
          "base_uri": "https://localhost:8080/"
        },
        "id": "us_k4hnq1xnL",
        "outputId": "e49aaac0-10b8-41d5-99c5-688f6c532e6b"
      },
      "execution_count": null,
      "outputs": [
        {
          "output_type": "stream",
          "name": "stdout",
          "text": [
            "<__main__.node object at 0x79f6925ec4f0>\n",
            "6\n",
            "5\n",
            "4\n",
            "3\n",
            "2\n",
            "0\n"
          ]
        }
      ]
    },
    {
      "cell_type": "code",
      "source": [],
      "metadata": {
        "id": "VVxhhYrl1xqk"
      },
      "execution_count": null,
      "outputs": []
    },
    {
      "cell_type": "markdown",
      "source": [
        "# 8. Compare twom lists"
      ],
      "metadata": {
        "id": "yGEQFRmRAsyY"
      }
    },
    {
      "cell_type": "code",
      "source": [
        "def compare_lists(llist1, llist2):\n",
        "    current1 = llist1\n",
        "    current2 = llist2\n",
        "    count =0\n",
        "    length = 0\n",
        "    while ((current1 !=None) or (current2!=None)):\n",
        "        length = length+1\n",
        "        if ((current1 ==None) and (current2==None)):\n",
        "            break\n",
        "        elif (current1 == None) or (current2 == None):\n",
        "                return 0\n",
        "        elif current1.data != current2.data:\n",
        "            return 0\n",
        "        current1 = current1.next\n",
        "        current2 = current2.next\n",
        "\n",
        "    return 1\n",
        "\n",
        "def compare_lists(llist1, llist2):\n",
        "    while llist1 and llist2:\n",
        "        if llist1.data != llist2.data:\n",
        "            return False\n",
        "\n",
        "        llist1 = llist1.next\n",
        "        llist2 = llist2.next\n",
        "\n",
        "    if (not llist1 and llist2) or (llist1 and not llist2):\n",
        "        return False\n",
        "\n",
        "    return True"
      ],
      "metadata": {
        "id": "jy1rzrsbAv8I"
      },
      "execution_count": null,
      "outputs": []
    },
    {
      "cell_type": "markdown",
      "source": [
        "# 9. Merge Two LinkedLists"
      ],
      "metadata": {
        "id": "kH4ntdAiIskS"
      }
    },
    {
      "cell_type": "code",
      "source": [
        "def mergeLists(head1, head2):\n",
        "    e = SinglyLinkedListNode(None)\n",
        "    current = e\n",
        "    current1 = head1\n",
        "    current2 = head2\n",
        "\n",
        "    while (current1 != None) and (current2 !=None):\n",
        "\n",
        "        if (current1.data < current2.data) or (current2 == None):\n",
        "            current.next = current1\n",
        "            current1 = current1.next\n",
        "        elif (current1.data > current2.data) or (current1 ==None):\n",
        "            current.next = current2\n",
        "            current2 = current2.next\n",
        "        else:\n",
        "            current.next = current1\n",
        "            current = current.next\n",
        "            current.next = current2\n",
        "        current = current.next\n",
        "\n",
        "    if current1 != None:\n",
        "        current.next = current1\n",
        "    else:\n",
        "        current.next = current2\n",
        "\n",
        "    return e.next"
      ],
      "metadata": {
        "id": "cvOVdztkIxIw"
      },
      "execution_count": null,
      "outputs": []
    },
    {
      "cell_type": "markdown",
      "source": [
        "# 10. Length of Linkedlist"
      ],
      "metadata": {
        "id": "sNFVi3CZiFIq"
      }
    },
    {
      "cell_type": "code",
      "source": [
        "class node:\n",
        "  def __init__(self,data):\n",
        "\n",
        "    self.data =  data\n",
        "    self.next = None\n",
        "\n",
        "a = node(0)\n",
        "y =node(2)\n",
        "x =  node(3)\n",
        "z = node(4)\n",
        "end = node(5)\n",
        "enda = node(6)\n",
        "a.next =y\n",
        "y.next = x\n",
        "x.next  = z\n",
        "z.next =  end\n",
        "end.next = enda\n",
        "\n",
        "# while (a != None):\n",
        "#   print(a.data)\n",
        "#   a = a.next\n",
        "\n",
        "def length_l(head):\n",
        "  current = head\n",
        "  if current.next == None:\n",
        "    return 1\n",
        "  count =0\n",
        "  while current != None:\n",
        "    count = count+1\n",
        "    current = current.next\n",
        "  return count\n",
        "\n",
        "length_l(a)"
      ],
      "metadata": {
        "colab": {
          "base_uri": "https://localhost:8080/"
        },
        "id": "0bB2bhIsiHMa",
        "outputId": "7db25b63-1bc2-47a0-a675-e7c7a403f52f"
      },
      "execution_count": null,
      "outputs": [
        {
          "output_type": "execute_result",
          "data": {
            "text/plain": [
              "6"
            ]
          },
          "metadata": {},
          "execution_count": 85
        }
      ]
    },
    {
      "cell_type": "markdown",
      "source": [
        "# 11. Serach for Element in LinkedList"
      ],
      "metadata": {
        "id": "49mHqKlki5bF"
      }
    },
    {
      "cell_type": "code",
      "source": [
        "class node:\n",
        "  def __init__(self,data):\n",
        "\n",
        "    self.data =  data\n",
        "    self.next = None\n",
        "\n",
        "a = node(0)\n",
        "y =node(2)\n",
        "x =  node(3)\n",
        "z = node(4)\n",
        "end = node(5)\n",
        "enda = node(6)\n",
        "a.next =y\n",
        "y.next = x\n",
        "x.next  = z\n",
        "z.next =  end\n",
        "end.next = enda\n",
        "\n",
        "def search(head, element):\n",
        "  current = head\n",
        "  while current != None:\n",
        "    if current.data == element:\n",
        "      return 'element found'\n",
        "    current = current.next\n",
        "  return 'element not found'\n",
        "\n",
        "search(a,4)"
      ],
      "metadata": {
        "colab": {
          "base_uri": "https://localhost:8080/",
          "height": 36
        },
        "id": "piGPOJVIiHPi",
        "outputId": "fe7abd86-561e-4f88-cb7a-3658b308867c"
      },
      "execution_count": null,
      "outputs": [
        {
          "output_type": "execute_result",
          "data": {
            "text/plain": [
              "'element found'"
            ],
            "application/vnd.google.colaboratory.intrinsic+json": {
              "type": "string"
            }
          },
          "metadata": {},
          "execution_count": 87
        }
      ]
    },
    {
      "cell_type": "markdown",
      "source": [
        "# 12 . Middle of LinkedList"
      ],
      "metadata": {
        "id": "yjdqNl38wzZJ"
      }
    },
    {
      "cell_type": "code",
      "source": [
        "class node:\n",
        "  def __init__(self,data):\n",
        "    self.data =  data\n",
        "    self.next = None\n",
        "\n",
        "a = node(0)\n",
        "y =node(2)\n",
        "x =  node(3)\n",
        "z = node(4)\n",
        "end = node(5)\n",
        "enda = node(6)\n",
        "a.next =y\n",
        "y.next = x\n",
        "x.next  = z\n",
        "z.next =  end\n",
        "end.next = enda\n",
        "\n",
        "def middle(head):\n",
        "  current = head\n",
        "  har_current = head\n",
        "  count =0\n",
        "  while (current != None) and (har_current !=None):\n",
        "    count +=1\n",
        "    current =  current.next\n",
        "    har_current = har_current.next.next\n",
        "  return current.data\n",
        "\n",
        "middle(a)"
      ],
      "metadata": {
        "colab": {
          "base_uri": "https://localhost:8080/"
        },
        "id": "YhUSmZhOiHVp",
        "outputId": "1bf57560-7a24-4b16-fa8b-3891b09698c9"
      },
      "execution_count": null,
      "outputs": [
        {
          "output_type": "execute_result",
          "data": {
            "text/plain": [
              "4"
            ]
          },
          "metadata": {},
          "execution_count": 89
        }
      ]
    },
    {
      "cell_type": "markdown",
      "source": [
        "# 13. Detect a loop in a Linkedlist"
      ],
      "metadata": {
        "id": "MN3x0hOl_znE"
      }
    },
    {
      "cell_type": "code",
      "source": [
        "class node:\n",
        "  def __init__(self,data):\n",
        "    self.data =  data\n",
        "    self.next = None\n",
        "\n",
        "a = node(0)\n",
        "y =node(2)\n",
        "x =  node(3) # Start of Node\n",
        "z = node(4)\n",
        "end = node(5)\n",
        "enda = node(6)\n",
        "a.next =y\n",
        "y.next = x\n",
        "x.next  = z\n",
        "z.next =  end\n",
        "end.next = enda\n",
        "end.next = x # End Of Node\n",
        "\n",
        "def cycle_loop(head):\n",
        "  current = head\n",
        "  hare_current = head\n",
        "  while current != None:\n",
        "\n",
        "    current = current.next\n",
        "    hare_current = hare_current.next.next\n",
        "\n",
        "    if current == hare_current:\n",
        "      return 'Loop is there'\n",
        "    if (current is None) or (hare_current is None):\n",
        "      return 'No loop'\n",
        "  current = head\n",
        "  hare_current = head\n",
        "\n",
        "def loopstart(head):\n",
        "\n",
        "  current =  head\n",
        "  hare_current = head\n",
        "\n",
        "  while (current != None):\n",
        "    current = current.next\n",
        "    hare_current =  hare_current.next.next\n",
        "\n",
        "    if current == hare_current:\n",
        "      print('loop found')\n",
        "      current =  head\n",
        "      while current != hare_current:\n",
        "\n",
        "        current =  current.next\n",
        "        hare_current = hare_current.next\n",
        "\n",
        "      return current\n",
        "\n",
        "def looplength(head):\n",
        "\n",
        "  current =  head\n",
        "  hare_current = head\n",
        "\n",
        "  while (current != None):\n",
        "    current = current.next\n",
        "    hare_current =  hare_current.next.next\n",
        "\n",
        "    if current == hare_current:\n",
        "      print('loop found')\n",
        "      length = 1\n",
        "      hare_current= hare_current.next\n",
        "      while current != hare_current:\n",
        "\n",
        "        length +=1\n",
        "        hare_current = hare_current.next\n",
        "\n",
        "      return length\n",
        "\n",
        "loopstart(a)\n",
        "looplength(a)"
      ],
      "metadata": {
        "colab": {
          "base_uri": "https://localhost:8080/"
        },
        "id": "ensK8U6lw2lK",
        "outputId": "514d103a-70a9-405e-a175-d0c3ada2bfe2"
      },
      "execution_count": null,
      "outputs": [
        {
          "output_type": "stream",
          "name": "stdout",
          "text": [
            "loop found\n",
            "loop found\n"
          ]
        },
        {
          "output_type": "execute_result",
          "data": {
            "text/plain": [
              "3"
            ]
          },
          "metadata": {},
          "execution_count": 108
        }
      ]
    },
    {
      "cell_type": "code",
      "source": [],
      "metadata": {
        "id": "9_88_-liw2ow"
      },
      "execution_count": null,
      "outputs": []
    },
    {
      "cell_type": "markdown",
      "source": [
        "# syntax"
      ],
      "metadata": {
        "id": "6hUK7q2Xg0hh"
      }
    },
    {
      "cell_type": "code",
      "source": [
        "llist = SinglyLinkedList()\n",
        "llist.insert_node(1)"
      ],
      "metadata": {
        "colab": {
          "base_uri": "https://localhost:8080/",
          "height": 164
        },
        "id": "KKKVq8KZg1i8",
        "outputId": "961d8545-e059-463e-be9c-11b5e6487ac5"
      },
      "execution_count": null,
      "outputs": [
        {
          "output_type": "error",
          "ename": "NameError",
          "evalue": "name 'SinglyLinkedList' is not defined",
          "traceback": [
            "\u001b[0;31m---------------------------------------------------------------------------\u001b[0m",
            "\u001b[0;31mNameError\u001b[0m                                 Traceback (most recent call last)",
            "\u001b[0;32m<ipython-input-1-9600d9103738>\u001b[0m in \u001b[0;36m<cell line: 1>\u001b[0;34m()\u001b[0m\n\u001b[0;32m----> 1\u001b[0;31m \u001b[0mllist\u001b[0m \u001b[0;34m=\u001b[0m \u001b[0mSinglyLinkedList\u001b[0m\u001b[0;34m(\u001b[0m\u001b[0;34m)\u001b[0m\u001b[0;34m\u001b[0m\u001b[0;34m\u001b[0m\u001b[0m\n\u001b[0m\u001b[1;32m      2\u001b[0m \u001b[0mllist\u001b[0m\u001b[0;34m.\u001b[0m\u001b[0minsert_node\u001b[0m\u001b[0;34m(\u001b[0m\u001b[0;36m1\u001b[0m\u001b[0;34m)\u001b[0m\u001b[0;34m\u001b[0m\u001b[0;34m\u001b[0m\u001b[0m\n",
            "\u001b[0;31mNameError\u001b[0m: name 'SinglyLinkedList' is not defined"
          ]
        }
      ]
    },
    {
      "cell_type": "code",
      "source": [
        "import math\n",
        "import os\n",
        "import random\n",
        "import re\n",
        "import sys\n",
        "\n",
        "class SinglyLinkedListNode:\n",
        "    def __init__(self, node_data):\n",
        "        self.data = node_data\n",
        "        self.next = None\n",
        "\n",
        "class SinglyLinkedList:\n",
        "    def __init__(self):\n",
        "        self.head = None\n",
        "        self.tail = None\n",
        "\n",
        "    def insert_node(self, node_data):\n",
        "        node = SinglyLinkedListNode(node_data)\n",
        "\n",
        "        if not self.head:\n",
        "            self.head = node\n",
        "        else:\n",
        "            self.tail.next = node\n",
        "\n",
        "        self.tail = node\n",
        "\n",
        "def print_singly_linked_list(node, sep):\n",
        "    while node:\n",
        "        print(node.data, end='')\n",
        "\n",
        "        node = node.next\n",
        "\n",
        "        if node:\n",
        "            print(sep, end='')"
      ],
      "metadata": {
        "id": "qdrh0pQ-g5pe"
      },
      "execution_count": null,
      "outputs": []
    },
    {
      "cell_type": "code",
      "source": [
        "\n",
        "class singleNode:\n",
        "  def __init__(self,data_node):\n",
        "    self.data =  data_node\n",
        "    self.next = None\n",
        "\n",
        "# Insert a Node\n",
        "def insert_node(self,data):\n",
        "  node = singleNode(data)\n",
        "  if self.head is None:\n",
        "    self.head = node\n",
        "    return\n",
        "  else:\n",
        "    node.next = self.head\n",
        "    self.head = node\n",
        "\n",
        "one_node = singleNode(2)\n",
        "one_node.data,one_node.next\n",
        "\n",
        "node_2 = singleNode(4)\n",
        "node_2.data\n",
        "\n",
        "# to traverse over LinkedList\n",
        "while (node.next !=None):\n",
        "  print(node.data)\n",
        "  node = node.next\n",
        "\n"
      ],
      "metadata": {
        "colab": {
          "base_uri": "https://localhost:8080/"
        },
        "id": "4Ug-ehYIhye-",
        "outputId": "c1017a74-ce08-4ad4-9928-ac713c9e4560"
      },
      "execution_count": null,
      "outputs": [
        {
          "output_type": "execute_result",
          "data": {
            "text/plain": [
              "(2, None)"
            ]
          },
          "metadata": {},
          "execution_count": 6
        }
      ]
    },
    {
      "cell_type": "markdown",
      "source": [
        "# Double Linked List"
      ],
      "metadata": {
        "id": "15fvwvlM_Kf3"
      }
    },
    {
      "cell_type": "markdown",
      "source": [
        "## create a node"
      ],
      "metadata": {
        "id": "ASWKNpL6_M5k"
      }
    },
    {
      "cell_type": "code",
      "source": [
        "class singleNode:\n",
        "  def __init__(self,data_node):\n",
        "    self.data = data_node\n",
        "    self.next = None\n",
        "    self.prev = None\n",
        "\n",
        "data_node = singleNode(3)\n",
        "data_node.data"
      ],
      "metadata": {
        "id": "0HecYtryjODw",
        "colab": {
          "base_uri": "https://localhost:8080/"
        },
        "outputId": "4554b114-f72d-4e87-c07d-a6011090ac3d"
      },
      "execution_count": 2,
      "outputs": [
        {
          "output_type": "execute_result",
          "data": {
            "text/plain": [
              "3"
            ]
          },
          "metadata": {},
          "execution_count": 2
        }
      ]
    },
    {
      "cell_type": "markdown",
      "source": [
        "# Insert Node at Start of Node"
      ],
      "metadata": {
        "id": "Cjn-Z76T_5fs"
      }
    },
    {
      "cell_type": "code",
      "source": [
        "def InsertNodeHead(x):\n",
        "  if head == None:\n",
        "    return\n",
        "\n",
        "  new_node = singleNode(x)\n",
        "  head.prev = new_node\n",
        "  new_node.next = head\n",
        "  head = new_node"
      ],
      "metadata": {
        "id": "wnTJRqF3iUa6"
      },
      "execution_count": null,
      "outputs": []
    },
    {
      "cell_type": "code",
      "source": [
        "def InsertNodeTail(x):\n",
        "  if head == None:\n",
        "    return\n",
        "\n",
        "  current = head\n",
        "\n",
        "  while current != None:\n",
        "    prev = current\n",
        "    current = current.next\n",
        "\n",
        "  new_node = singleNode(x)\n",
        "  current.next = new_node\n",
        "  new_node.prev = prev\n",
        "  new_node.next = None"
      ],
      "metadata": {
        "id": "mexjhZJmAdzv"
      },
      "execution_count": null,
      "outputs": []
    },
    {
      "cell_type": "code",
      "source": [
        "def DeleteNode(x):\n",
        "  if head == None:\n",
        "    return\n",
        "\n",
        "  current = head\n",
        "\n",
        "  while current.data != x:\n",
        "    prev = current.prev\n",
        "    next_node = current.next\n",
        "\n",
        "  prev.next = next_node\n",
        "  next_node.prev = prev\n"
      ],
      "metadata": {
        "id": "bQHbSV2YBuMH"
      },
      "execution_count": null,
      "outputs": []
    },
    {
      "cell_type": "code",
      "source": [],
      "metadata": {
        "id": "vFkiGhr7CRSb"
      },
      "execution_count": null,
      "outputs": []
    }
  ]
}