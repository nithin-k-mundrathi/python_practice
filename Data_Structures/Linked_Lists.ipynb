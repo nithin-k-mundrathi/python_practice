{
  "nbformat": 4,
  "nbformat_minor": 0,
  "metadata": {
    "colab": {
      "provenance": [],
      "authorship_tag": "ABX9TyNgR5nnqpU9rB4E69/8pC/M",
      "include_colab_link": true
    },
    "kernelspec": {
      "name": "python3",
      "display_name": "Python 3"
    },
    "language_info": {
      "name": "python"
    }
  },
  "cells": [
    {
      "cell_type": "markdown",
      "metadata": {
        "id": "view-in-github",
        "colab_type": "text"
      },
      "source": [
        "<a href=\"https://colab.research.google.com/github/nithin-k-mundrathi/python_practice/blob/main/Data_Structures/Linked_Lists.ipynb\" target=\"_parent\"><img src=\"https://colab.research.google.com/assets/colab-badge.svg\" alt=\"Open In Colab\"/></a>"
      ]
    },
    {
      "cell_type": "markdown",
      "source": [
        "# 1. Reverse print elements of a Linked List"
      ],
      "metadata": {
        "id": "6y0ZfG6E4uLX"
      }
    },
    {
      "cell_type": "code",
      "source": [
        "# Reverse a LinkedList\n",
        "#!/bin/python3\n",
        "\n",
        "class SinglyLinkedListNode:\n",
        "    def __init__(self, node_data):\n",
        "        self.data = node_data\n",
        "        self.next = None\n",
        "\n",
        "class SinglyLinkedList:\n",
        "    def __init__(self):\n",
        "        self.head = None\n",
        "        self.tail = None\n",
        "\n",
        "def reversePrint(llist):\n",
        "    # Write your code here\n",
        "    if not llist:\n",
        "        return\n",
        "    reversePrint(llist.next)\n",
        "    print(llist.data)\n",
        "\n",
        "if __name__ == '__main__':\n",
        "    tests = int(input())\n",
        "\n",
        "    for tests_itr in range(tests):\n",
        "        llist_count = int(input())\n",
        "\n",
        "        llist = SinglyLinkedList()\n",
        "\n",
        "        for _ in range(llist_count):\n",
        "            llist_item = int(input())\n",
        "            llist.insert_node(llist_item)\n",
        "\n",
        "        reversePrint(llist.head)"
      ],
      "metadata": {
        "id": "-wwsDICq4wj2"
      },
      "execution_count": null,
      "outputs": []
    },
    {
      "cell_type": "markdown",
      "source": [
        "# 2. Print Elements of Linked List"
      ],
      "metadata": {
        "id": "D1tx05zb4zMH"
      }
    },
    {
      "cell_type": "code",
      "source": [
        "# Print the elements of a LinkedList\n",
        "\n",
        "def printLinkedList(head):\n",
        "    current_node = head\n",
        "    while current_node != None:\n",
        "        print(current_node.data)\n",
        "        current_node = current_node.next\n",
        "\n",
        "if __name__ == '__main__':\n",
        "    llist_count = int(input())\n",
        "\n",
        "    llist = SinglyLinkedList()\n",
        "\n",
        "    for _ in range(llist_count):\n",
        "        llist_item = int(input())\n",
        "        llist.insert_node(llist_item)\n",
        "\n",
        "    printLinkedList(llist.head)"
      ],
      "metadata": {
        "id": "c1us7Z5e41va"
      },
      "execution_count": null,
      "outputs": []
    },
    {
      "cell_type": "markdown",
      "source": [
        "# 3. Insert at Begining"
      ],
      "metadata": {
        "id": "CRFZkpOKoPDc"
      }
    },
    {
      "cell_type": "code",
      "source": [
        "#!/bin/python3\n",
        "\n",
        "import math\n",
        "import os\n",
        "import random\n",
        "import re\n",
        "import sys\n",
        "\n",
        "class SinglyLinkedListNode:\n",
        "    def __init__(self, node_data):\n",
        "        self.data = node_data\n",
        "        self.next = None\n",
        "\n",
        "class SinglyLinkedList:\n",
        "    def __init__(self):\n",
        "        self.head = None\n",
        "        self.tail = None\n",
        "\n",
        "def print_singly_linked_list(node):\n",
        "\n",
        "    while node:\n",
        "        print(node.data,'-----',node.next)\n",
        "        node = node.next\n",
        "\n",
        "#\n",
        "def insertNodeAtHead(llist, data):\n",
        "    # Write your code here\n",
        "    node_1 = SinglyLinkedListNode(data)\n",
        "    node_1.next = llist\n",
        "    return node_1\n",
        "\n",
        "if __name__ == '__main__':\n",
        "    # fptr = open(os.environ['OUTPUT_PATH'], 'w')\n",
        "\n",
        "    llist_count = int(input())\n",
        "\n",
        "    llist = SinglyLinkedList()\n",
        "\n",
        "    for _ in range(llist_count):\n",
        "        llist_item = int(input())\n",
        "        llist_head = insertNodeAtHead(llist.head, llist_item)\n",
        "        llist.head = llist_head\n",
        "\n",
        "    print_singly_linked_list(llist.head)"
      ],
      "metadata": {
        "colab": {
          "base_uri": "https://localhost:8080/"
        },
        "id": "03LDtrJtoN6d",
        "outputId": "cf2e39c7-06a5-416b-904b-1d128b414cbc"
      },
      "execution_count": null,
      "outputs": [
        {
          "output_type": "stream",
          "name": "stdout",
          "text": [
            "4\n",
            "1\n",
            "2\n",
            "3\n",
            "5\n",
            "5 ----- <__main__.SinglyLinkedListNode object at 0x7ed5fa0f6e00>\n",
            "3 ----- <__main__.SinglyLinkedListNode object at 0x7ed5fa0f7040>\n",
            "2 ----- <__main__.SinglyLinkedListNode object at 0x7ed5fa0f7820>\n",
            "1 ----- None\n"
          ]
        }
      ]
    },
    {
      "cell_type": "markdown",
      "source": [
        "# 4. Insert at Tail"
      ],
      "metadata": {
        "id": "gbgDR51EsXhO"
      }
    },
    {
      "cell_type": "code",
      "source": [
        "def insertNodeAtTail(head, data):\n",
        "    data_node = SinglyLinkedListNode(data)\n",
        "    if head is None:\n",
        "        return data_node\n",
        "    else:\n",
        "        current = head\n",
        "        while (current.next != None):\n",
        "            current = current.next\n",
        "        current.next = data_node\n",
        "\n",
        "        return head"
      ],
      "metadata": {
        "id": "6IrFzYPooOKm"
      },
      "execution_count": null,
      "outputs": []
    },
    {
      "cell_type": "markdown",
      "source": [
        "# 5. Insert at nth position"
      ],
      "metadata": {
        "id": "ds-wTArExVH8"
      }
    },
    {
      "cell_type": "code",
      "source": [
        "def insertNodeAtPosition(llist, data, position):\n",
        "\n",
        "    data_node  = SinglyLinkedListNode(data)\n",
        "    if position ==1:\n",
        "        data_node.next = llist\n",
        "        return data_node\n",
        "    current = llist\n",
        "    for i in range(1,position):\n",
        "        current = current.next\n",
        "    data_node.next = current.next\n",
        "    current.next = data_node\n",
        "    return llist\n",
        "    # Write your code here\n",
        "\n",
        "if __name__ == '__main__':\n",
        "    fptr = open(os.environ['OUTPUT_PATH'], 'w')\n",
        "\n",
        "    llist_count = int(input())\n",
        "\n",
        "    llist = SinglyLinkedList()\n",
        "\n",
        "    for _ in range(llist_count):\n",
        "        llist_item = int(input())\n",
        "        llist.insert_node(llist_item)\n",
        "\n",
        "    data = int(input())\n",
        "\n",
        "    position = int(input())\n",
        "\n",
        "    llist_head = insertNodeAtPosition(llist.head, data, position)\n",
        "\n",
        "    print_singly_linked_list(llist_head, ' ', fptr)\n",
        "    fptr.write('\\n')\n",
        "\n",
        "    fptr.close()"
      ],
      "metadata": {
        "id": "uYgpxx9VxXqK"
      },
      "execution_count": null,
      "outputs": []
    },
    {
      "cell_type": "markdown",
      "source": [
        "# 6. Delete a Node"
      ],
      "metadata": {
        "id": "QMf2XAVv09PU"
      }
    },
    {
      "cell_type": "code",
      "source": [
        "def deleteNode(llist, position):\n",
        "    # Write your code here\n",
        "    current = llist\n",
        "    if position ==0:\n",
        "        return llist.next\n",
        "    else:\n",
        "\n",
        "        for i in range(1,position):\n",
        "            current = current.next\n",
        "        next_node = current.next\n",
        "        current.next = next_node.next\n",
        "        return llist"
      ],
      "metadata": {
        "id": "wG51GfeI0_7v"
      },
      "execution_count": null,
      "outputs": []
    },
    {
      "cell_type": "markdown",
      "source": [
        "# 7. Reverse a LinkedList"
      ],
      "metadata": {
        "id": "n40V0FT89gvD"
      }
    },
    {
      "cell_type": "code",
      "source": [
        "def reverse(llist):\n",
        "    # Write your code here\n",
        "    prev_node = SinglyLinkedListNode(None)\n",
        "    current_node  = llist\n",
        "    if llist == None:\n",
        "        return llist\n",
        "    while current_node != None:\n",
        "        next_node = current_node.next\n",
        "        current_node.next = prev_node\n",
        "        prev_node =  current_node\n",
        "        current_node = next_node\n",
        "    return prev_node"
      ],
      "metadata": {
        "id": "ch-ISBkq9gQs"
      },
      "execution_count": null,
      "outputs": []
    },
    {
      "cell_type": "markdown",
      "source": [
        "# 8. Compare twom lists"
      ],
      "metadata": {
        "id": "yGEQFRmRAsyY"
      }
    },
    {
      "cell_type": "code",
      "source": [
        "def compare_lists(llist1, llist2):\n",
        "    current1 = llist1\n",
        "    current2 = llist2\n",
        "    count =0\n",
        "    length = 0\n",
        "    while ((current1 !=None) or (current2!=None)):\n",
        "        length = length+1\n",
        "        if ((current1 ==None) and (current2==None)):\n",
        "            break\n",
        "        elif (current1 == None) or (current2 == None):\n",
        "                return 0\n",
        "        elif current1.data != current2.data:\n",
        "            return 0\n",
        "        current1 = current1.next\n",
        "        current2 = current2.next\n",
        "\n",
        "    return 1\n",
        "\n",
        "  def compare_lists(llist1, llist2):\n",
        "    while llist1 and llist2:\n",
        "        if llist1.data != llist2.data:\n",
        "            return False\n",
        "\n",
        "        llist1 = llist1.next\n",
        "        llist2 = llist2.next\n",
        "\n",
        "    if (not llist1 and llist2) or (llist1 and not llist2):\n",
        "        return False\n",
        "\n",
        "    return True"
      ],
      "metadata": {
        "id": "jy1rzrsbAv8I"
      },
      "execution_count": null,
      "outputs": []
    },
    {
      "cell_type": "markdown",
      "source": [
        "# 9. Merge Two LinkedLists"
      ],
      "metadata": {
        "id": "kH4ntdAiIskS"
      }
    },
    {
      "cell_type": "code",
      "source": [
        "def mergeLists(head1, head2):\n",
        "    e = SinglyLinkedListNode(None)\n",
        "    current = e\n",
        "    current1 = head1\n",
        "    current2 = head2\n",
        "\n",
        "    while (current1 != None) and (current2 !=None):\n",
        "\n",
        "        if (current1.data < current2.data) or (current2 == None):\n",
        "            current.next = current1\n",
        "            current1 = current1.next\n",
        "        elif (current1.data > current2.data) or (current1 ==None):\n",
        "            current.next = current2\n",
        "            current2 = current2.next\n",
        "        else:\n",
        "            current.next = current1\n",
        "            current = current.next\n",
        "            current.next = current2\n",
        "        current = current.next\n",
        "\n",
        "    if current1 != None:\n",
        "        current.next = current1\n",
        "    else:\n",
        "        current.next = current2\n",
        "\n",
        "    return e.next"
      ],
      "metadata": {
        "id": "cvOVdztkIxIw"
      },
      "execution_count": null,
      "outputs": []
    },
    {
      "cell_type": "markdown",
      "source": [
        "# syntax"
      ],
      "metadata": {
        "id": "6hUK7q2Xg0hh"
      }
    },
    {
      "cell_type": "code",
      "source": [
        "llist = SinglyLinkedList()\n",
        "llist.insert_node(1)"
      ],
      "metadata": {
        "colab": {
          "base_uri": "https://localhost:8080/",
          "height": 164
        },
        "id": "KKKVq8KZg1i8",
        "outputId": "961d8545-e059-463e-be9c-11b5e6487ac5"
      },
      "execution_count": null,
      "outputs": [
        {
          "output_type": "error",
          "ename": "NameError",
          "evalue": "name 'SinglyLinkedList' is not defined",
          "traceback": [
            "\u001b[0;31m---------------------------------------------------------------------------\u001b[0m",
            "\u001b[0;31mNameError\u001b[0m                                 Traceback (most recent call last)",
            "\u001b[0;32m<ipython-input-1-9600d9103738>\u001b[0m in \u001b[0;36m<cell line: 1>\u001b[0;34m()\u001b[0m\n\u001b[0;32m----> 1\u001b[0;31m \u001b[0mllist\u001b[0m \u001b[0;34m=\u001b[0m \u001b[0mSinglyLinkedList\u001b[0m\u001b[0;34m(\u001b[0m\u001b[0;34m)\u001b[0m\u001b[0;34m\u001b[0m\u001b[0;34m\u001b[0m\u001b[0m\n\u001b[0m\u001b[1;32m      2\u001b[0m \u001b[0mllist\u001b[0m\u001b[0;34m.\u001b[0m\u001b[0minsert_node\u001b[0m\u001b[0;34m(\u001b[0m\u001b[0;36m1\u001b[0m\u001b[0;34m)\u001b[0m\u001b[0;34m\u001b[0m\u001b[0;34m\u001b[0m\u001b[0m\n",
            "\u001b[0;31mNameError\u001b[0m: name 'SinglyLinkedList' is not defined"
          ]
        }
      ]
    },
    {
      "cell_type": "code",
      "source": [
        "import math\n",
        "import os\n",
        "import random\n",
        "import re\n",
        "import sys\n",
        "\n",
        "class SinglyLinkedListNode:\n",
        "    def __init__(self, node_data):\n",
        "        self.data = node_data\n",
        "        self.next = None\n",
        "\n",
        "class SinglyLinkedList:\n",
        "    def __init__(self):\n",
        "        self.head = None\n",
        "        self.tail = None\n",
        "\n",
        "    def insert_node(self, node_data):\n",
        "        node = SinglyLinkedListNode(node_data)\n",
        "\n",
        "        if not self.head:\n",
        "            self.head = node\n",
        "        else:\n",
        "            self.tail.next = node\n",
        "\n",
        "        self.tail = node\n",
        "\n",
        "def print_singly_linked_list(node, sep):\n",
        "    while node:\n",
        "        print(node.data, end='')\n",
        "\n",
        "        node = node.next\n",
        "\n",
        "        if node:\n",
        "            print(sep, end='')"
      ],
      "metadata": {
        "id": "qdrh0pQ-g5pe"
      },
      "execution_count": null,
      "outputs": []
    },
    {
      "cell_type": "code",
      "source": [
        "\n",
        "class singleNode:\n",
        "  def __init__(self,data_node):\n",
        "    self.data =  data_node\n",
        "    self.next = None\n",
        "\n",
        "# Insert a Node\n",
        "def insert_node(self,data):\n",
        "  node = singleNode(data)\n",
        "  if self.head is None:\n",
        "    self.head = node\n",
        "    return\n",
        "  else:\n",
        "    node.next = self.head\n",
        "    self.head = node\n",
        "\n",
        "one_node = singleNode(2)\n",
        "one_node.data,one_node.next\n",
        "\n",
        "node_2 = singleNode(4)\n",
        "node_2.data\n",
        "\n",
        "# to traverse over LinkedList\n",
        "while (node.next !=None):\n",
        "  print(node.data)\n",
        "  node = node.next\n",
        "\n"
      ],
      "metadata": {
        "colab": {
          "base_uri": "https://localhost:8080/"
        },
        "id": "4Ug-ehYIhye-",
        "outputId": "c1017a74-ce08-4ad4-9928-ac713c9e4560"
      },
      "execution_count": null,
      "outputs": [
        {
          "output_type": "execute_result",
          "data": {
            "text/plain": [
              "(2, None)"
            ]
          },
          "metadata": {},
          "execution_count": 6
        }
      ]
    },
    {
      "cell_type": "code",
      "source": [
        "for i in range(5):\n"
      ],
      "metadata": {
        "id": "0HecYtryjODw"
      },
      "execution_count": null,
      "outputs": []
    },
    {
      "cell_type": "code",
      "source": [],
      "metadata": {
        "id": "wnTJRqF3iUa6"
      },
      "execution_count": null,
      "outputs": []
    }
  ]
}