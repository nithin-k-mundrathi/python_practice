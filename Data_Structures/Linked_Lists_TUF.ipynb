{
 "cells": [
  {
   "cell_type": "code",
   "execution_count": 1,
   "id": "96446280",
   "metadata": {},
   "outputs": [
    {
     "name": "stdout",
     "output_type": "stream",
     "text": [
      "2\n"
     ]
    }
   ],
   "source": [
    "class Node:\n",
    "    def __init__(self,data1,next1=None):\n",
    "        self.data = data1\n",
    "        self.next = next1\n",
    "\n",
    "x = Node(2)\n",
    "print(x.data)"
   ]
  },
  {
   "cell_type": "markdown",
   "id": "e4b18f55",
   "metadata": {},
   "source": [
    "# 1. Insert a Node "
   ]
  },
  {
   "cell_type": "code",
   "execution_count": 7,
   "id": "08475fd5",
   "metadata": {},
   "outputs": [
    {
     "name": "stdout",
     "output_type": "stream",
     "text": [
      "1 2 3\n"
     ]
    }
   ],
   "source": [
    "class Node:\n",
    "    def __init__(self,data1,next1=None):\n",
    "        self.data = data1\n",
    "        self.next = next1\n",
    "\n",
    "def insertHead(head,val):\n",
    "    x = Node(val,head)\n",
    "    return x\n",
    "\n",
    "arr = [1,2,3]\n",
    "\n",
    "head =  Node(arr[0])\n",
    "head.next = Node(arr[1])\n",
    "head.next.next = Node(arr[2])\n",
    "\n",
    "print(head.data,head.next.data,head.next.next.data)\n"
   ]
  },
  {
   "cell_type": "markdown",
   "id": "3b464411",
   "metadata": {},
   "source": [
    "# 2. Insert Node at tail"
   ]
  },
  {
   "cell_type": "code",
   "execution_count": 8,
   "id": "c7efd5d1",
   "metadata": {},
   "outputs": [
    {
     "name": "stdout",
     "output_type": "stream",
     "text": [
      "1 2 3 4\n"
     ]
    }
   ],
   "source": [
    "def insertNodeAtTail(head, data):\n",
    "    data_node = Node(data)\n",
    "    # write the base case for recursion\n",
    "    if head is None:\n",
    "        return data_node\n",
    "    else:\n",
    "        current = head\n",
    "        while current.next != None:\n",
    "             current = current.next\n",
    "\n",
    "        current.next = data_node\n",
    "    return head\n",
    "\n",
    "arr = [1,2,3]\n",
    "\n",
    "head =  Node(arr[0])\n",
    "head.next = Node(arr[1])\n",
    "head.next.next = Node(arr[2])\n",
    "\n",
    "head = insertNodeAtTail(head,4)\n",
    "print(head.data,head.next.data,head.next.next.data,head.next.next.next.data)"
   ]
  },
  {
   "cell_type": "markdown",
   "id": "d326ab5c",
   "metadata": {},
   "source": [
    "# 3. Insert Node at Nth Position"
   ]
  },
  {
   "cell_type": "code",
   "execution_count": 13,
   "id": "8e710f2e",
   "metadata": {},
   "outputs": [
    {
     "name": "stdout",
     "output_type": "stream",
     "text": [
      "1 2 3 2.5 4\n"
     ]
    }
   ],
   "source": [
    "class Node:\n",
    "    def __init__(self, data1, next1=None):\n",
    "        self.data =  data1\n",
    "        self.next =  next1\n",
    "\n",
    "def insertnode_N(head,data, position):\n",
    "\n",
    "    # create a data node for data\n",
    "    data_node = Node(data)\n",
    "    # indexing starts from 0\n",
    "    # insert a node at head\n",
    "    if position ==0:\n",
    "        data_node.next = head\n",
    "        return data_node\n",
    "    else:\n",
    "        current = head\n",
    "        # as indexing starts fromn zero\n",
    "        # inserting at position, means inserting at position+1-\n",
    "        for i in range(1,position):\n",
    "            current = current.next\n",
    "        data_node.next = current.next\n",
    "        current.next = data_node\n",
    "    return head\n",
    "arr = [1,2,3,4]\n",
    "head =  Node(arr[0])\n",
    "head.next = Node(arr[1])\n",
    "head.next.next = Node(arr[2])\n",
    "head.next.next.next = Node(arr[3])\n",
    "\n",
    "head = insertnode_N(head,2.5,3)\n",
    "print(head.data,head.next.data,head.next.next.data,head.next.next.next.data,head.next.next.next.next.data)\n",
    "            \n"
   ]
  },
  {
   "cell_type": "markdown",
   "id": "191b821a",
   "metadata": {},
   "source": [
    "# 4. Delete a Node at Nth Position"
   ]
  },
  {
   "cell_type": "code",
   "execution_count": 19,
   "id": "65f96af1",
   "metadata": {},
   "outputs": [
    {
     "name": "stdout",
     "output_type": "stream",
     "text": [
      "1 2 4\n"
     ]
    }
   ],
   "source": [
    "class Node():\n",
    "    def __init__(self,data1,next1=None):\n",
    "        self.data =  data1\n",
    "        self.next =  next1\n",
    "\n",
    "def Delete_n(head,position):\n",
    "\n",
    "    # if position at head\n",
    "    if position ==0:\n",
    "        head.next = head\n",
    "    else:\n",
    "        current = head\n",
    "        for i in range(1,position):\n",
    "            current = current.next\n",
    "        next_node = current.next\n",
    "        current.next  = next_node.next\n",
    "\n",
    "    return head\n",
    "\n",
    "arr = [1,2,3,4]\n",
    "head =  Node(arr[0])\n",
    "head.next = Node(arr[1])\n",
    "head.next.next = Node(arr[2])\n",
    "head.next.next.next = Node(arr[3])\n",
    "# remove the third one where indexing starts from 0 here.\n",
    "head = Delete_n(head,2)\n",
    "print(head.data,head.next.data,head.next.next.data)"
   ]
  },
  {
   "cell_type": "markdown",
   "id": "5286fc95",
   "metadata": {},
   "source": [
    "# 5. find the Length of LinkedList"
   ]
  },
  {
   "cell_type": "code",
   "execution_count": 21,
   "id": "a24903cb",
   "metadata": {},
   "outputs": [
    {
     "name": "stdout",
     "output_type": "stream",
     "text": [
      "4\n"
     ]
    }
   ],
   "source": [
    "class Node():\n",
    "    def __init__(self,data1,next1=None):\n",
    "        self.data =  data1\n",
    "        self.next =  next1\n",
    "\n",
    "def length(head):\n",
    "\n",
    "    # if position at head\n",
    "    if head is None:\n",
    "        return 0\n",
    "    else:\n",
    "        length = 1\n",
    "        current = head\n",
    "        while (current.next != None):\n",
    "            current = current.next\n",
    "            length = length+1\n",
    "        \n",
    "    return length\n",
    "\n",
    "arr = [1,2,3,4]\n",
    "head =  Node(arr[0])\n",
    "head.next = Node(arr[1])\n",
    "head.next.next = Node(arr[2])\n",
    "head.next.next.next = Node(arr[3])\n",
    "# remove the third one where indexing starts from 0 here.\n",
    "length = length(head)\n",
    "print(length)"
   ]
  },
  {
   "cell_type": "markdown",
   "id": "1d832210",
   "metadata": {},
   "source": [
    "# 6. Reverse a llist"
   ]
  },
  {
   "cell_type": "code",
   "execution_count": 67,
   "id": "d166026d",
   "metadata": {},
   "outputs": [],
   "source": [
    "def reverse(head):\n",
    "    # Write your code here\n",
    "    prev_node = None\n",
    "    if head == None:\n",
    "        return head\n",
    "    current_node  = head\n",
    "    while current_node != None:\n",
    "        next_node = current_node.next\n",
    "        current_node.next = prev_node\n",
    "        prev_node = current_node\n",
    "        current_node =next_node\n",
    "    return prev_node"
   ]
  },
  {
   "cell_type": "markdown",
   "id": "54f85aca",
   "metadata": {},
   "source": [
    "# 7. Middle of a Linked List"
   ]
  },
  {
   "cell_type": "code",
   "execution_count": null,
   "id": "efbb9fdb",
   "metadata": {},
   "outputs": [
    {
     "data": {
      "text/plain": [
       "4"
      ]
     },
     "execution_count": 33,
     "metadata": {},
     "output_type": "execute_result"
    }
   ],
   "source": [
    "class node:\n",
    "  def __init__(self,data):\n",
    "    self.data =  data\n",
    "    self.next = None\n",
    "\n",
    "a = node(0)\n",
    "y =node(2)\n",
    "x =  node(3)\n",
    "z = node(4)\n",
    "end = node(5)\n",
    "enda = node(6)\n",
    "a.next =y\n",
    "y.next = x\n",
    "x.next  = z\n",
    "z.next =  end\n",
    "end.next = enda\n",
    "\n",
    "def middle(head):\n",
    "  current_node = head\n",
    "  har_node = head\n",
    "\n",
    "  while (current_node != None) and (har_node != None):\n",
    "    current_node = current_node.next\n",
    "    har_node = har_node.next.next\n",
    "\n",
    "  return current_node.data\n",
    "\n",
    "middle(a)"
   ]
  },
  {
   "cell_type": "markdown",
   "id": "ecbbca11",
   "metadata": {},
   "source": [
    "# 8. Detect a Loop in linkedlist"
   ]
  },
  {
   "cell_type": "markdown",
   "id": "a5d39cb0",
   "metadata": {},
   "source": [
    "## List based Method"
   ]
  },
  {
   "cell_type": "code",
   "execution_count": 48,
   "id": "ae6c1822",
   "metadata": {},
   "outputs": [
    {
     "name": "stdout",
     "output_type": "stream",
     "text": [
      "Loop found\n"
     ]
    },
    {
     "data": {
      "text/plain": [
       "{'<__main__.node object at 0x00000237E8E903D0>0': 1,\n",
       " '<__main__.node object at 0x00000237E8EA8390>2': 1,\n",
       " '<__main__.node object at 0x00000237E8EA87D0>3': 2,\n",
       " '<__main__.node object at 0x00000237E8B50150>4': 1,\n",
       " '<__main__.node object at 0x00000237E8E90ED0>5': 1}"
      ]
     },
     "execution_count": 48,
     "metadata": {},
     "output_type": "execute_result"
    }
   ],
   "source": [
    "class node:\n",
    "  def __init__(self,data):\n",
    "    self.data =  data\n",
    "    self.next = None\n",
    "\n",
    "a = node(0)\n",
    "y =node(2)\n",
    "x =  node(3) # Start of Node\n",
    "z = node(4)\n",
    "end = node(5)\n",
    "enda = node(6)\n",
    "a.next =y\n",
    "y.next = x\n",
    "x.next  = z\n",
    "z.next =  end\n",
    "end.next = enda\n",
    "end.next = x # End Of Node\n",
    "\n",
    "def detect_loop(head):\n",
    "  dict_1 = {}\n",
    "\n",
    "  current =  head\n",
    "\n",
    "  while current != None:\n",
    "    key = str(current) + str(current.data)\n",
    "    if key not in dict_1.keys():\n",
    "      dict_1[key] = 1\n",
    "      current = current.next\n",
    "    else:\n",
    "      dict_1[key] += 1\n",
    "      print('Loop found')\n",
    "      return dict_1\n",
    "      break\n",
    "\n",
    "detect_loop(a)\n"
   ]
  },
  {
   "cell_type": "markdown",
   "id": "3f441bbe",
   "metadata": {},
   "source": [
    "## hare and tortoise based Method"
   ]
  },
  {
   "cell_type": "code",
   "execution_count": 49,
   "id": "38aadd70",
   "metadata": {},
   "outputs": [
    {
     "name": "stdout",
     "output_type": "stream",
     "text": [
      "Loop found\n"
     ]
    },
    {
     "data": {
      "text/plain": [
       "{'<__main__.node object at 0x00000237E8E903D0>0': 1,\n",
       " '<__main__.node object at 0x00000237E8EA8390>2': 1,\n",
       " '<__main__.node object at 0x00000237E8EA87D0>3': 2,\n",
       " '<__main__.node object at 0x00000237E8B50150>4': 1,\n",
       " '<__main__.node object at 0x00000237E8E90ED0>5': 1}"
      ]
     },
     "execution_count": 49,
     "metadata": {},
     "output_type": "execute_result"
    }
   ],
   "source": [
    "def detect_loop_hair_tort(head):\n",
    "  \n",
    "  current =  head\n",
    "  har_current = head\n",
    "\n",
    "  while (har_current != None) and (har_current.next != None):\n",
    "\n",
    "    current = current.next\n",
    "    har_current = har_current.next.next\n",
    "\n",
    "    if current == har_current:\n",
    "      return 'Loop found'\n",
    "\n",
    "detect_loop(a)"
   ]
  },
  {
   "cell_type": "markdown",
   "id": "d775c3bb",
   "metadata": {},
   "source": [
    "# 9. Find Starting point of a Loop in a Linked List"
   ]
  },
  {
   "cell_type": "markdown",
   "id": "2b0c694b",
   "metadata": {},
   "source": [
    "## Hash based Method"
   ]
  },
  {
   "cell_type": "code",
   "execution_count": 50,
   "id": "5b7423a5",
   "metadata": {},
   "outputs": [
    {
     "data": {
      "text/plain": [
       "'<__main__.node object at 0x00000237E8EA4050>3'"
      ]
     },
     "execution_count": 50,
     "metadata": {},
     "output_type": "execute_result"
    }
   ],
   "source": [
    "class node:\n",
    "  def __init__(self,data):\n",
    "    self.data =  data\n",
    "    self.next = None\n",
    "\n",
    "a = node(0)\n",
    "y =node(2)\n",
    "x =  node(3) # Start of Node\n",
    "z = node(4)\n",
    "end = node(5)\n",
    "enda = node(6)\n",
    "a.next =y\n",
    "y.next = x\n",
    "x.next  = z\n",
    "z.next =  end\n",
    "end.next = enda\n",
    "end.next = x # End Of Node\n",
    "\n",
    "def start_loop(head):\n",
    "  dict_1 = {}\n",
    "  current = head\n",
    "  while current.next != None:\n",
    "\n",
    "    key = str(current) + str(current.data)\n",
    "    if key not in dict_1.keys():\n",
    "      dict_1[key] = 1\n",
    "      current = current.next\n",
    "    else:\n",
    "      return key\n",
    "    \n",
    "start_loop(a)\n"
   ]
  },
  {
   "cell_type": "markdown",
   "id": "91981dae",
   "metadata": {},
   "source": [
    "## Hare and Tortoise based Method"
   ]
  },
  {
   "cell_type": "code",
   "execution_count": 54,
   "id": "54a4706f",
   "metadata": {},
   "outputs": [
    {
     "name": "stdout",
     "output_type": "stream",
     "text": [
      "Loop found\n"
     ]
    },
    {
     "data": {
      "text/plain": [
       "3"
      ]
     },
     "execution_count": 54,
     "metadata": {},
     "output_type": "execute_result"
    }
   ],
   "source": [
    "def start_loop_hair_method(head):\n",
    "  har_current =  head\n",
    "  current = head\n",
    "  while (current != None) & (har_current != None):\n",
    "\n",
    "    current =  current.next\n",
    "    har_current =  har_current.next.next\n",
    "\n",
    "    if current == har_current:\n",
    "      print('Loop found')\n",
    "      current = head\n",
    "      while current != har_current:\n",
    "        current = current.next\n",
    "        har_current =  har_current.next\n",
    "\n",
    "      return current.data\n",
    "\n",
    "start_loop_hair_method(a)"
   ]
  },
  {
   "cell_type": "markdown",
   "id": "885a653c",
   "metadata": {},
   "source": [
    "# 10. Find Length of a Loop in a Linked List"
   ]
  },
  {
   "cell_type": "code",
   "execution_count": 7,
   "id": "c9d39bf7",
   "metadata": {},
   "outputs": [
    {
     "name": "stdout",
     "output_type": "stream",
     "text": [
      "Loop found\n"
     ]
    },
    {
     "data": {
      "text/plain": [
       "3"
      ]
     },
     "execution_count": 7,
     "metadata": {},
     "output_type": "execute_result"
    }
   ],
   "source": [
    "class node:\n",
    "  def __init__(self,data):\n",
    "    self.data =  data\n",
    "    self.next = None\n",
    "\n",
    "a = node(0)\n",
    "y =node(2)\n",
    "x =  node(3) # Start of Node\n",
    "z = node(4)\n",
    "end = node(5)\n",
    "enda = node(6)\n",
    "a.next =y\n",
    "y.next = x\n",
    "x.next  = z\n",
    "z.next =  end\n",
    "end.next = enda\n",
    "end.next = x # End Of Node\n",
    "def start_loop_hair_method(head):\n",
    "  har_current =  head\n",
    "  current = head\n",
    "  \n",
    "  while (current != None) & (har_current != None):\n",
    "\n",
    "    current =  current.next\n",
    "    har_current =  har_current.next.next\n",
    "\n",
    "    if current == har_current:\n",
    "      print('Loop found')\n",
    "      length =1\n",
    "      har_current = har_current.next\n",
    "      while current != har_current:\n",
    "        length = length + 1\n",
    "        har_current = har_current.next\n",
    "      return length\n",
    "\n",
    "start_loop_hair_method(a)"
   ]
  },
  {
   "cell_type": "markdown",
   "id": "834de477",
   "metadata": {},
   "source": [
    "# 11. Find if the LinkedList in a Palindrome "
   ]
  },
  {
   "cell_type": "markdown",
   "id": "872838a2",
   "metadata": {},
   "source": [
    "## List based Method"
   ]
  },
  {
   "cell_type": "code",
   "execution_count": 65,
   "id": "1386d2a9",
   "metadata": {},
   "outputs": [
    {
     "name": "stdout",
     "output_type": "stream",
     "text": [
      "0\n",
      "2\n",
      "3\n",
      "3\n",
      "2\n",
      "0\n",
      "checking\n",
      "yes for palindrome\n"
     ]
    }
   ],
   "source": [
    "class node:\n",
    "  def __init__(self,data):\n",
    "    self.data =  data\n",
    "    self.next = None\n",
    "\n",
    "a = node(0)\n",
    "y =node(2)\n",
    "x =  node(3) # Start of Node\n",
    "z = node(3)\n",
    "end = node(2)\n",
    "enda = node(0)\n",
    "a.next = y\n",
    "y.next = x\n",
    "x.next  = z\n",
    "z.next =  end\n",
    "end.next = enda\n",
    "\n",
    "# this of Order-time(n)\n",
    "def palindrome_n(head):\n",
    "  o = []\n",
    "  current = head \n",
    "  while current != None:\n",
    "    print(current.data)\n",
    "    o.append(current.data)\n",
    "    current = current.next\n",
    "    \n",
    "  print('checking')\n",
    "  while head != None:\n",
    "    if o.pop() == head.data:\n",
    "      head = head.next\n",
    "    else:\n",
    "      return 'Not a Palindrome'\n",
    "  print('yes for palindrome')\n",
    "\n",
    "palindrome_n(a)\n"
   ]
  },
  {
   "cell_type": "markdown",
   "id": "89e57232",
   "metadata": {},
   "source": [
    "## Reversal and Hare and Tortoise based Method"
   ]
  },
  {
   "cell_type": "code",
   "execution_count": null,
   "id": "f9b0776d",
   "metadata": {},
   "outputs": [
    {
     "name": "stdout",
     "output_type": "stream",
     "text": [
      "<__main__.node object at 0x00000237E8E8A850> 0 2\n",
      "<__main__.node object at 0x00000237EA1076D0> 2 3\n",
      "<__main__.node object at 0x00000237EA105590> 3 None\n"
     ]
    },
    {
     "data": {
      "text/plain": [
       "'Palindrome'"
      ]
     },
     "execution_count": 82,
     "metadata": {},
     "output_type": "execute_result"
    }
   ],
   "source": [
    "class node:\n",
    "  def __init__(self,data):\n",
    "    self.data =  data\n",
    "    self.next = None\n",
    "\n",
    "a = node(0)\n",
    "y =node(2)\n",
    "x =  node(3) # Start of Node\n",
    "z = node(3)\n",
    "end = node(2)\n",
    "enda = node(0)\n",
    "a.next = y\n",
    "y.next = x\n",
    "x.next  = z\n",
    "z.next =  end\n",
    "end.next = enda\n",
    "\n",
    "# this of Order-time(n)\n",
    "def palindrome_n(head):\n",
    "  slow = head\n",
    "  fast = head\n",
    "\n",
    "  while (fast.next != None) and (fast.next.next != None):\n",
    "    slow =  slow.next\n",
    "    fast = fast.next.next\n",
    "\n",
    "  new_head = reverse(slow.next)\n",
    "  first = head\n",
    "  second = new_head\n",
    "  while (second != None):\n",
    "    print(first,first.data,second.data)\n",
    "    first = first.next\n",
    "    second = second.next\n",
    "    \n",
    "  return 'Palindrome'\n",
    "\n",
    "palindrome_n(a)"
   ]
  },
  {
   "cell_type": "markdown",
   "id": "efc5df00",
   "metadata": {},
   "source": [
    "# 12. Odd And Even Indexed LinkedinList Node"
   ]
  },
  {
   "cell_type": "markdown",
   "id": "fa17060b",
   "metadata": {},
   "source": [
    "## List based Method"
   ]
  },
  {
   "cell_type": "code",
   "execution_count": null,
   "id": "5973fdfd",
   "metadata": {},
   "outputs": [
    {
     "name": "stdout",
     "output_type": "stream",
     "text": [
      "[0, 3, 2, 7, 2, 3, 0]\n",
      "<__main__.Node object at 0x00000237E892A5D0> 3\n",
      "<__main__.Node object at 0x00000237E8E7B890> 2\n",
      "<__main__.Node object at 0x00000237E8E79D10> 7\n",
      "<__main__.Node object at 0x00000237E8E7AC90> 2\n",
      "<__main__.Node object at 0x00000237E8F7F710> 3\n",
      "<__main__.Node object at 0x00000237E8E7A310> 0\n",
      "0\n",
      "3\n",
      "2\n",
      "7\n",
      "2\n",
      "3\n",
      "0\n"
     ]
    }
   ],
   "source": [
    "class node:\n",
    "  def __init__(self,data):\n",
    "    self.data =  data\n",
    "    self.next = None\n",
    "\n",
    "a = node(0)\n",
    "y =node(2)\n",
    "x =  node(3) # Start of Node\n",
    "z = node(3)\n",
    "end = node(2)\n",
    "enda = node(0)\n",
    "endb = node(7)\n",
    "a.next = y\n",
    "y.next = x\n",
    "x.next  = z\n",
    "z.next =  end\n",
    "end.next = enda\n",
    "enda.next = endb\n",
    "\n",
    "def odd_even(head):\n",
    "  odd = head\n",
    "  even = head.next\n",
    "  list_1 = []\n",
    "  while (odd != None) and (odd.next != None):\n",
    "    list_1.append(odd.data)\n",
    "    odd = odd.next.next\n",
    "  if odd !=None:\n",
    "    list_1.append(odd.data)\n",
    "  while (even != None) and (even.next != None):\n",
    "    list_1.append(even.data)\n",
    "    even = even.next.next\n",
    "  if even !=None:\n",
    "    list_1.append(even.data)\n",
    "  print(list_1)\n",
    "  list_1[::-1]\n",
    "  head = Node(list_1.pop())\n",
    "  current = head\n",
    "  while len(list_1) != 0:\n",
    "    new_node = Node(list_1.pop())\n",
    "    current.next = new_node\n",
    "    current = current.next\n",
    "    \n",
    "  while (head !=None):\n",
    "    print(head.data)\n",
    "    head = head.next\n",
    "odd_even(a)"
   ]
  },
  {
   "cell_type": "markdown",
   "id": "9ee4d663",
   "metadata": {},
   "source": [
    "## Odd Even  based Method"
   ]
  },
  {
   "cell_type": "code",
   "execution_count": 111,
   "id": "a20a4f5f",
   "metadata": {},
   "outputs": [
    {
     "name": "stdout",
     "output_type": "stream",
     "text": [
      "0 2\n",
      "3 3\n",
      "2 0\n",
      "0\n",
      "3\n",
      "2\n",
      "7\n",
      "2\n",
      "3\n",
      "0\n"
     ]
    },
    {
     "data": {
      "text/plain": [
       "<__main__.node at 0x237e8e87b90>"
      ]
     },
     "execution_count": 111,
     "metadata": {},
     "output_type": "execute_result"
    }
   ],
   "source": [
    "class node:\n",
    "  def __init__(self,data):\n",
    "    self.data =  data\n",
    "    self.next = None\n",
    "\n",
    "a = node(0)\n",
    "y =node(2)\n",
    "x =  node(3) # Start of Node\n",
    "z = node(3)\n",
    "end = node(2)\n",
    "enda = node(0)\n",
    "endb = node(7)\n",
    "a.next = y\n",
    "y.next = x\n",
    "x.next  = z\n",
    "z.next =  end\n",
    "end.next = enda\n",
    "enda.next = endb\n",
    "\n",
    "def odd_even(head):\n",
    "  odd = head\n",
    "  even = head.next\n",
    "\n",
    "  oddhead = odd\n",
    "  evenhead = even\n",
    "  while (even != None) and (even.next != None):\n",
    "    print(odd.data,even.data)\n",
    "    odd.next = odd.next.next\n",
    "    even.next = even.next.next\n",
    "\n",
    "    odd = odd.next\n",
    "    even = even.next\n",
    "    \n",
    "  odd.next = evenhead\n",
    "\n",
    "  while(oddhead != None):\n",
    "    print(oddhead.data)\n",
    "    oddhead = oddhead.next\n",
    "\n",
    "  return head\n",
    "\n",
    "odd_even(a)\n"
   ]
  },
  {
   "cell_type": "markdown",
   "id": "4e30e12e",
   "metadata": {},
   "source": [
    "# 13. Remove the Nth node from the end"
   ]
  },
  {
   "cell_type": "markdown",
   "id": "78c3b9f4",
   "metadata": {},
   "source": [
    "## naive approach"
   ]
  },
  {
   "cell_type": "code",
   "execution_count": 129,
   "id": "b5e80a7e",
   "metadata": {},
   "outputs": [
    {
     "name": "stdout",
     "output_type": "stream",
     "text": [
      "0\n",
      "2\n",
      "3\n",
      "3\n",
      "2\n",
      "7\n"
     ]
    }
   ],
   "source": [
    "def printll(head):\n",
    "    \n",
    "    while head !=None:\n",
    "        print(head.data)\n",
    "        head = head.next\n",
    "    \n",
    "a = node(0)\n",
    "y =node(2)\n",
    "x =  node(3) # Start of Node\n",
    "z = node(3)\n",
    "end = node(2)\n",
    "enda = node(0)\n",
    "endb = node(7)\n",
    "a.next = y\n",
    "y.next = x\n",
    "x.next  = z\n",
    "z.next =  end\n",
    "end.next = enda\n",
    "enda.next = endb\n",
    "\n",
    "def remove_n_from_end(head,k):\n",
    "    \n",
    "    cnt= 0\n",
    "\n",
    "    current = head\n",
    "\n",
    "    while current !=None:\n",
    "        cnt = cnt+1\n",
    "        current =current.next\n",
    "\n",
    "    start = cnt - k\n",
    "    current = head\n",
    "    while current != None:\n",
    "        start = start-1\n",
    "        # print(current.data)\n",
    "        if start==0:\n",
    "            break\n",
    "        current = current.next\n",
    "\n",
    "    current.next = current.next.next\n",
    "\n",
    "    return head\n",
    "printll(remove_n_from_end(a,2))\n"
   ]
  },
  {
   "cell_type": "markdown",
   "id": "50183941",
   "metadata": {},
   "source": [
    "## optimal Approach"
   ]
  },
  {
   "cell_type": "code",
   "execution_count": null,
   "id": "a5818ef8",
   "metadata": {},
   "outputs": [
    {
     "name": "stdout",
     "output_type": "stream",
     "text": [
      "0\n",
      "2\n",
      "3\n",
      "3\n",
      "0\n",
      "7\n"
     ]
    }
   ],
   "source": [
    "    \n",
    "a = node(0)\n",
    "y =node(2)\n",
    "x =  node(3) # Start of Node\n",
    "z = node(3)\n",
    "end = node(2)\n",
    "enda = node(0)\n",
    "endb = node(7)\n",
    "a.next = y\n",
    "y.next = x\n",
    "x.next  = z\n",
    "z.next =  end\n",
    "end.next = enda\n",
    "enda.next = endb\n",
    "def optimal_remove_n_end(head,k):\n",
    "    slow = head\n",
    "    fast =  head\n",
    "    # Move the fast to k-th node\n",
    "    for i in range(k):\n",
    "        \n",
    "        fast = fast.next\n",
    "    # move slow and fast simultaneously\n",
    "    while (fast.next !=None):\n",
    "        slow = slow.next\n",
    "        fast = fast.next\n",
    "    # # this is the edge case\n",
    "    if fast == None:\n",
    "        return head.next    \n",
    "    slow.next = slow.next.next\n",
    "    return head\n",
    "\n",
    "printll(optimal_remove_n_end(a,3))"
   ]
  },
  {
   "cell_type": "markdown",
   "id": "11e840c0",
   "metadata": {},
   "source": [
    "# 14. Sort a LinkedList of 0's,1's and 2's"
   ]
  },
  {
   "cell_type": "markdown",
   "id": "724ac978",
   "metadata": {},
   "source": [
    "## naive Solution"
   ]
  },
  {
   "cell_type": "code",
   "execution_count": null,
   "id": "83ecef52",
   "metadata": {},
   "outputs": [
    {
     "name": "stdout",
     "output_type": "stream",
     "text": [
      "0\n",
      "0\n",
      "1\n",
      "1\n",
      "1\n",
      "2\n",
      "2\n"
     ]
    }
   ],
   "source": [
    "a = node(0)\n",
    "y =node(1)\n",
    "x =  node(1) # Start of Node\n",
    "z = node(2)\n",
    "end = node(2)\n",
    "enda = node(0)\n",
    "endb = node(1)\n",
    "a.next = y\n",
    "y.next = x\n",
    "x.next  = z\n",
    "z.next =  end\n",
    "end.next = enda\n",
    "enda.next = endb\n",
    "def sort_0_1(head):\n",
    "    \n",
    "    cnt_0 = 0\n",
    "    cnt_1 = 0\n",
    "    cnt_2 = 0\n",
    "    current = head\n",
    "    while current != None:\n",
    "        if current.data == 0:\n",
    "             cnt_0 +=1\n",
    "        elif current.data == 1:\n",
    "            cnt_1 +=1\n",
    "        elif current.data == 2:\n",
    "            cnt_2 +=1\n",
    "        current = current.next\n",
    "    \n",
    "    head = node(-1)\n",
    "    current = head\n",
    "\n",
    "    while current != None:\n",
    "  \n",
    "        if cnt_0 >0:\n",
    "            cnt_0 -=1\n",
    "            current.next = node(0)\n",
    "            current = current.next\n",
    "        elif cnt_0 ==0 and cnt_1 >0:\n",
    "            cnt_1 -=1\n",
    "            current.next = node(1)\n",
    "            current = current.next\n",
    "        elif cnt_0 ==0 and cnt_1 ==0 and cnt_2 >0:\n",
    "            cnt_2 -=1\n",
    "            current.next =  node(2)\n",
    "            current = current.next\n",
    "        else:\n",
    "            return head.next\n",
    "      \n",
    "printll(sort_0_1(a))\n",
    "        "
   ]
  },
  {
   "cell_type": "markdown",
   "id": "11d8fc80",
   "metadata": {},
   "source": [
    "## optimal Solution"
   ]
  },
  {
   "cell_type": "code",
   "execution_count": 153,
   "id": "19c35636",
   "metadata": {},
   "outputs": [
    {
     "name": "stdout",
     "output_type": "stream",
     "text": [
      "0\n",
      "0\n",
      "1\n",
      "1\n",
      "1\n",
      "2\n",
      "2\n"
     ]
    }
   ],
   "source": [
    "    \n",
    "a = node(0)\n",
    "y =node(1)\n",
    "x =  node(1) # Start of Node\n",
    "z = node(2)\n",
    "end = node(2)\n",
    "enda = node(0)\n",
    "endb = node(1)\n",
    "a.next = y\n",
    "y.next = x\n",
    "x.next  = z\n",
    "z.next =  end\n",
    "end.next = enda\n",
    "enda.next = endb\n",
    "def sort_0_1(head):\n",
    "    zerohead = node(-1)\n",
    "    onehead = node(-1)\n",
    "    twohead = node(-1)\n",
    "\n",
    "    zero = zerohead\n",
    "    one = onehead\n",
    "    two = twohead\n",
    "    current = head\n",
    "    while (current != None):\n",
    "        if current.data ==0:\n",
    "            zero.next = current\n",
    "            zero = current\n",
    "        elif current.data ==1:\n",
    "            one.next = current\n",
    "            one = current\n",
    "        elif current.data ==2:\n",
    "            two.next = current\n",
    "            two = current\n",
    "        current = current.next\n",
    "    \n",
    "    zero.next = onehead.next if onehead.next !=None else twohead.next\n",
    "    one.next = twohead.next\n",
    "    two.next = None\n",
    "\n",
    "    return zerohead.next\n",
    "      \n",
    "printll(sort_0_1(a))\n",
    "        "
   ]
  },
  {
   "cell_type": "markdown",
   "id": "8291cc6a",
   "metadata": {},
   "source": [
    "# 15. add a 1 to the linkedList"
   ]
  },
  {
   "cell_type": "code",
   "execution_count": 71,
   "id": "d7d79993",
   "metadata": {},
   "outputs": [
    {
     "name": "stdout",
     "output_type": "stream",
     "text": [
      "1\n",
      "2\n",
      "4\n"
     ]
    }
   ],
   "source": [
    "class node:\n",
    "  def __init__(self,data):\n",
    "\n",
    "    self.data =  data\n",
    "    self.next = None\n",
    "\n",
    "a = node(1)\n",
    "y =node(2)\n",
    "x =  node(3) # Start of Node\n",
    "# z = node(2)\n",
    "# end = node(2)\n",
    "# enda = node(0)\n",
    "# endb = node(1)\n",
    "a.next = y\n",
    "y.next = x\n",
    "\n",
    "\n",
    "def add_1(head):\n",
    "    head_1 = reverse(head)\n",
    "    carry =1\n",
    "    current = head_1\n",
    "    while (current!=None) and (current.data != None):\n",
    "        # print(current.data)\n",
    "        n = current.data + carry\n",
    "        # print(n,'n')\n",
    "        if n <10:\n",
    "            current.data = n\n",
    "            carry=0\n",
    "        else:\n",
    "            current.data = 0\n",
    "\n",
    "        current = current.next\n",
    "    \n",
    "    if (carry == 1):\n",
    "      \n",
    "        head = reverse(head_1)\n",
    "        new_node = node(1)\n",
    "        new_node.next = head \n",
    "        head = new_node\n",
    "        return head\n",
    "    else:\n",
    "        return reverse(head_1)\n",
    "    \n",
    "\n",
    "def printll(head):\n",
    "    current = head\n",
    "    while current !=None:\n",
    "        print(current.data)\n",
    "        current = current.next\n",
    "\n",
    "printll(add_1(a))"
   ]
  },
  {
   "cell_type": "markdown",
   "id": "8cfcfb1a",
   "metadata": {},
   "source": [
    "# 17.  Intersection of Y in a LinkedlIst"
   ]
  },
  {
   "cell_type": "markdown",
   "id": "ab8ad6c9",
   "metadata": {},
   "source": [
    "## hashing Method"
   ]
  },
  {
   "cell_type": "code",
   "execution_count": 161,
   "id": "681b1bde",
   "metadata": {},
   "outputs": [
    {
     "data": {
      "text/plain": [
       "0"
      ]
     },
     "execution_count": 161,
     "metadata": {},
     "output_type": "execute_result"
    }
   ],
   "source": [
    "a = node(9)\n",
    "y =node(9)\n",
    "x =  node(9) # Start of Node\n",
    "z = node(2)\n",
    "end = node(2)\n",
    "enda = node(0)\n",
    "endb = node(1)\n",
    "a.next = y\n",
    "y.next = x\n",
    "x.next = z\n",
    "z.next = enda\n",
    "end.next = enda\n",
    "enda.next = endb\n",
    "\n",
    "def intersection_hash(head1,head2):\n",
    "    \n",
    "    dict_1 = {}\n",
    "    current1 = head1\n",
    "    while current1 != None:\n",
    "        key = str(current1) + str(current1.data)\n",
    "        dict_1[key] = 1\n",
    "        current1 = current1.next\n",
    "\n",
    "    current2 = head2.next\n",
    "    while current2 != None:\n",
    "        key = str(current2) + str(current2.data)\n",
    "        if key in dict_1.keys():\n",
    "            return current2.data\n",
    "        current2 = current2.next\n",
    "    return 'No intersection'\n",
    "\n",
    "intersection_hash(a,end)\n",
    "    "
   ]
  },
  {
   "cell_type": "markdown",
   "id": "ed94cbf7",
   "metadata": {},
   "source": [
    "## Length method"
   ]
  },
  {
   "cell_type": "code",
   "execution_count": 164,
   "id": "ae99f03a",
   "metadata": {},
   "outputs": [
    {
     "data": {
      "text/plain": [
       "1000"
      ]
     },
     "execution_count": 164,
     "metadata": {},
     "output_type": "execute_result"
    }
   ],
   "source": [
    "a = node(9)\n",
    "y =node(9)\n",
    "x =  node(9) # Start of Node\n",
    "z = node(2)\n",
    "end = node(2)\n",
    "enda = node(1000)\n",
    "endb = node(1)\n",
    "a.next = y\n",
    "y.next = x\n",
    "x.next = z\n",
    "z.next = enda\n",
    "end.next = enda\n",
    "enda.next = endb\n",
    "\n",
    "def intersection_hash(head1,head2):\n",
    "    \n",
    "    dict_1 = {}\n",
    "    current1 = head1\n",
    "    current2 = head2\n",
    "    l1 =0\n",
    "    l2 =0\n",
    "    while current1 != None:\n",
    "        l1 +=1\n",
    "        current1 = current1.next\n",
    "    while current2 != None:\n",
    "        l2 +=1\n",
    "        current2 = current2.next\n",
    "\n",
    "    current2 = head2\n",
    "    current1 = head1\n",
    "    if l2 >l1:\n",
    "        d = l2-l1\n",
    "        for i in range(d):\n",
    "            current2 = current2.next\n",
    "    else:\n",
    "        d = l1 -l2\n",
    "        for i in range(d):\n",
    "            current1 = current1.next\n",
    "\n",
    "    while current1 != None and current2 != None:\n",
    "        if current1 == current2:\n",
    "          return current1.data\n",
    "        current1 = current1.next\n",
    "        current2 = current2.next\n",
    "\n",
    "    return 'no Intersection'\n",
    "intersection_hash(a,end)"
   ]
  },
  {
   "cell_type": "markdown",
   "id": "a6f0d4fa",
   "metadata": {},
   "source": [
    "## Difference length method"
   ]
  },
  {
   "cell_type": "code",
   "execution_count": 167,
   "id": "9682436f",
   "metadata": {},
   "outputs": [
    {
     "data": {
      "text/plain": [
       "1000"
      ]
     },
     "execution_count": 167,
     "metadata": {},
     "output_type": "execute_result"
    }
   ],
   "source": [
    "a = node(9)\n",
    "y =node(9)\n",
    "x =  node(9) # Start of Node\n",
    "z = node(2)\n",
    "end = node(2)\n",
    "enda = node(1000)\n",
    "endb = node(1)\n",
    "a.next = y\n",
    "y.next = x\n",
    "x.next = z\n",
    "z.next = enda\n",
    "end.next = enda\n",
    "enda.next = endb\n",
    "\n",
    "def intersection_hash(head1,head2):\n",
    "    \n",
    "    current1 = head1\n",
    "    current2 = head2\n",
    "    \n",
    "    while current1 != current2:\n",
    "        \n",
    "        current1 = current1.next\n",
    "        current2 = current2.next\n",
    "\n",
    "        if current2 == current1:\n",
    "            return current1.data\n",
    "\n",
    "        if current1 == None:\n",
    "            current1 = head2\n",
    "        if current2 == None:\n",
    "            current2 = head1\n",
    "    \n",
    "    return 'No intersection'\n",
    "intersection_hash(a,end)"
   ]
  },
  {
   "cell_type": "markdown",
   "id": "861e65f0",
   "metadata": {},
   "source": [
    "# 18. Add tow Numbers in a LinkedList"
   ]
  },
  {
   "cell_type": "code",
   "execution_count": 57,
   "id": "4a139177",
   "metadata": {},
   "outputs": [
    {
     "name": "stdout",
     "output_type": "stream",
     "text": [
      "1\n",
      "0\n",
      "9\n",
      "9\n",
      "8\n",
      "None\n"
     ]
    }
   ],
   "source": [
    "a = node(9)\n",
    "y =node(9)\n",
    "x =  node(9) # Start of Node\n",
    "z = node(9)\n",
    "end = node(9)\n",
    "enda = node(9)\n",
    "endb = node(9)\n",
    "a.next = y\n",
    "y.next = x\n",
    "x.next = z\n",
    "end.next = enda\n",
    "enda.next = endb\n",
    "\n",
    "def add_two_numbers(head1,head2):\n",
    "    \n",
    "    current1 = head1\n",
    "    current2 = head2\n",
    "    dummy_head = node(-1)\n",
    "    dummy = dummy_head\n",
    "    carry=0\n",
    "\n",
    "    while ((current1 != None) or (current2 != None)) or (carry!=0):\n",
    "\n",
    "        sum =0\n",
    "        if current1 != None:\n",
    "            sum += current1.data\n",
    "            current1 =current1.next\n",
    "        if current2 != None:\n",
    "            sum += current2.data\n",
    "            current2 =current2.next\n",
    "\n",
    "        sum = sum +carry\n",
    "        carry = sum //10\n",
    "        new_node = node(sum%10)\n",
    "        dummy.next = new_node\n",
    "        dummy =  dummy.next\n",
    "    return dummy_head.next\n",
    "\n",
    "printll(reverse(add_two_numbers(a,end)))\n"
   ]
  },
  {
   "cell_type": "code",
   "execution_count": null,
   "id": "7f5ffa86",
   "metadata": {},
   "outputs": [],
   "source": []
  }
 ],
 "metadata": {
  "kernelspec": {
   "display_name": "Python 3",
   "language": "python",
   "name": "python3"
  },
  "language_info": {
   "codemirror_mode": {
    "name": "ipython",
    "version": 3
   },
   "file_extension": ".py",
   "mimetype": "text/x-python",
   "name": "python",
   "nbconvert_exporter": "python",
   "pygments_lexer": "ipython3",
   "version": "3.11.9"
  }
 },
 "nbformat": 4,
 "nbformat_minor": 5
}
