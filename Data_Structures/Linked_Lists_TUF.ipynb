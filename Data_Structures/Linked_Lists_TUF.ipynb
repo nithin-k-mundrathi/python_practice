{
 "cells": [
  {
   "cell_type": "code",
   "execution_count": 1,
   "id": "96446280",
   "metadata": {},
   "outputs": [
    {
     "name": "stdout",
     "output_type": "stream",
     "text": [
      "2\n"
     ]
    }
   ],
   "source": [
    "class Node:\n",
    "    def __init__(self,data1,next1=None):\n",
    "        self.data = data1\n",
    "        self.next = next1\n",
    "\n",
    "x = Node(2)\n",
    "print(x.data)"
   ]
  },
  {
   "cell_type": "markdown",
   "id": "e4b18f55",
   "metadata": {},
   "source": [
    "# 1. Insert a Node "
   ]
  },
  {
   "cell_type": "code",
   "execution_count": 7,
   "id": "08475fd5",
   "metadata": {},
   "outputs": [
    {
     "name": "stdout",
     "output_type": "stream",
     "text": [
      "1 2 3\n"
     ]
    }
   ],
   "source": [
    "class Node:\n",
    "    def __init__(self,data1,next1=None):\n",
    "        self.data = data1\n",
    "        self.next = next1\n",
    "\n",
    "def insertHead(head,val):\n",
    "    x = Node(val,head)\n",
    "    return x\n",
    "\n",
    "arr = [1,2,3]\n",
    "\n",
    "head =  Node(arr[0])\n",
    "head.next = Node(arr[1])\n",
    "head.next.next = Node(arr[2])\n",
    "\n",
    "print(head.data,head.next.data,head.next.next.data)\n"
   ]
  },
  {
   "cell_type": "markdown",
   "id": "3b464411",
   "metadata": {},
   "source": [
    "# 2. Insert Node at tail"
   ]
  },
  {
   "cell_type": "code",
   "execution_count": null,
   "id": "c7efd5d1",
   "metadata": {},
   "outputs": [
    {
     "name": "stdout",
     "output_type": "stream",
     "text": [
      "1 2 3 4\n"
     ]
    }
   ],
   "source": [
    "def insertNodeAtTail(head, data):\n",
    "    data_node = Node(data)\n",
    "    # write the base case for recursion\n",
    "    if head is None:\n",
    "        return data_node\n",
    "    else:\n",
    "        current = head\n",
    "        while current.next != None:\n",
    "             current = current.next\n",
    "\n",
    "        current.next = data_node\n",
    "    return head\n",
    "\n",
    "arr = [1,2,3]\n",
    "\n",
    "head =  Node(arr[0])\n",
    "head.next = Node(arr[1])\n",
    "head.next.next = Node(arr[2])\n",
    "\n",
    "head = insertNodeAtTail(head,4)\n",
    "print(head.data,head.next.data,head.next.next.data,head.next.next.next.data)"
   ]
  },
  {
   "cell_type": "markdown",
   "id": "d326ab5c",
   "metadata": {},
   "source": [
    "# 3. Insert Node at Nth Position"
   ]
  },
  {
   "cell_type": "code",
   "execution_count": null,
   "id": "8e710f2e",
   "metadata": {},
   "outputs": [
    {
     "name": "stdout",
     "output_type": "stream",
     "text": [
      "1 2 3 2.5 4\n"
     ]
    }
   ],
   "source": [
    "class Node:\n",
    "    def __init__(self, data1, next1=None):\n",
    "        self.data =  data1\n",
    "        self.next =  next1\n",
    "\n",
    "def insertnode_N(head,data, position):\n",
    "\n",
    "    # create a data node for data\n",
    "    data_node = Node(data)\n",
    "    # indexing starts from 0\n",
    "    # insert a node at head\n",
    "    if position ==0:\n",
    "        data_node.next = head\n",
    "        return data_node\n",
    "    else:\n",
    "        current = head\n",
    "        # as indexing starts fromn zero\n",
    "        # inserting at position, means inserting at position+1-\n",
    "        for i in range(1,position):\n",
    "            current = current.next\n",
    "        data_node.next = current.next\n",
    "        current.next = data_node\n",
    "    return head\n",
    "arr = [1,2,3,4]\n",
    "head =  Node(arr[0])\n",
    "head.next = Node(arr[1])\n",
    "head.next.next = Node(arr[2])\n",
    "head.next.next.next = Node(arr[3])\n",
    "\n",
    "head = insertnode_N(head,2.5,3)\n",
    "print(head.data,head.next.data,head.next.next.data,head.next.next.next.data,head.next.next.next.next.data)\n",
    "            \n"
   ]
  },
  {
   "cell_type": "markdown",
   "id": "191b821a",
   "metadata": {},
   "source": [
    "# 4. Delete a Node at Nth Position"
   ]
  },
  {
   "cell_type": "code",
   "execution_count": 19,
   "id": "65f96af1",
   "metadata": {},
   "outputs": [
    {
     "name": "stdout",
     "output_type": "stream",
     "text": [
      "1 2 4\n"
     ]
    }
   ],
   "source": [
    "class Node():\n",
    "    def __init__(self,data1,next1=None):\n",
    "        self.data =  data1\n",
    "        self.next =  next1\n",
    "\n",
    "def Delete_n(head,position):\n",
    "\n",
    "    # if position at head\n",
    "    if position ==0:\n",
    "        head.next = head\n",
    "    else:\n",
    "        current = head\n",
    "        for i in range(1,position):\n",
    "            current = current.next\n",
    "        next_node = current.next\n",
    "        current.next  = next_node.next\n",
    "\n",
    "    return head\n",
    "\n",
    "arr = [1,2,3,4]\n",
    "head =  Node(arr[0])\n",
    "head.next = Node(arr[1])\n",
    "head.next.next = Node(arr[2])\n",
    "head.next.next.next = Node(arr[3])\n",
    "# remove the third one where indexing starts from 0 here.\n",
    "head = Delete_n(head,2)\n",
    "print(head.data,head.next.data,head.next.next.data)"
   ]
  },
  {
   "cell_type": "markdown",
   "id": "5286fc95",
   "metadata": {},
   "source": [
    "# 5. find the Length of LinkedList"
   ]
  },
  {
   "cell_type": "code",
   "execution_count": 21,
   "id": "a24903cb",
   "metadata": {},
   "outputs": [
    {
     "name": "stdout",
     "output_type": "stream",
     "text": [
      "4\n"
     ]
    }
   ],
   "source": [
    "class Node():\n",
    "    def __init__(self,data1,next1=None):\n",
    "        self.data =  data1\n",
    "        self.next =  next1\n",
    "\n",
    "def length(head):\n",
    "\n",
    "    # if position at head\n",
    "    if head is None:\n",
    "        return 0\n",
    "    else:\n",
    "        length = 1\n",
    "        current = head\n",
    "        while (current.next != None):\n",
    "            current = current.next\n",
    "            length = length+1\n",
    "        \n",
    "    return length\n",
    "\n",
    "arr = [1,2,3,4]\n",
    "head =  Node(arr[0])\n",
    "head.next = Node(arr[1])\n",
    "head.next.next = Node(arr[2])\n",
    "head.next.next.next = Node(arr[3])\n",
    "# remove the third one where indexing starts from 0 here.\n",
    "length = length(head)\n",
    "print(length)"
   ]
  },
  {
   "cell_type": "markdown",
   "id": "1d832210",
   "metadata": {},
   "source": [
    "# 6. Reverse a llist"
   ]
  },
  {
   "cell_type": "code",
   "execution_count": 22,
   "id": "d166026d",
   "metadata": {},
   "outputs": [],
   "source": [
    "def reverse(head):\n",
    "    # Write your code here\n",
    "    prev_node = Node(None)\n",
    "    if head == None:\n",
    "        return head\n",
    "    current_node  = head\n",
    "    while current_node.next != None:\n",
    "        next_node = current_node.next\n",
    "        current_node.next = prev_node\n",
    "        prev_node = current_node\n",
    "        current_node =next_node\n",
    "    return prev_node"
   ]
  },
  {
   "cell_type": "markdown",
   "id": "54f85aca",
   "metadata": {},
   "source": [
    "# 7. Middle of a Linked List"
   ]
  },
  {
   "cell_type": "code",
   "execution_count": 33,
   "id": "efbb9fdb",
   "metadata": {},
   "outputs": [
    {
     "data": {
      "text/plain": [
       "4"
      ]
     },
     "execution_count": 33,
     "metadata": {},
     "output_type": "execute_result"
    }
   ],
   "source": [
    "class node:\n",
    "  def __init__(self,data):\n",
    "    self.data =  data\n",
    "    self.next = None\n",
    "\n",
    "a = node(0)\n",
    "y =node(2)\n",
    "x =  node(3)\n",
    "z = node(4)\n",
    "end = node(5)\n",
    "enda = node(6)\n",
    "a.next =y\n",
    "y.next = x\n",
    "x.next  = z\n",
    "z.next =  end\n",
    "end.next = enda\n",
    "\n",
    "def middle(head):\n",
    "  current_node = head\n",
    "  har_node = head\n",
    "\n",
    "  while (current_node != None) and (har_node != None):\n",
    "    current_node = current_node.next\n",
    "    har_node = har_node.next.next\n",
    "\n",
    "  return current_node.data\n",
    "\n",
    "middle(a)\n",
    "\n"
   ]
  },
  {
   "cell_type": "markdown",
   "id": "ecbbca11",
   "metadata": {},
   "source": [
    "# 8. Detect a Loop in linkedlist"
   ]
  },
  {
   "cell_type": "code",
   "execution_count": null,
   "id": "ae6c1822",
   "metadata": {},
   "outputs": [
    {
     "name": "stdout",
     "output_type": "stream",
     "text": [
      "Loop found\n"
     ]
    },
    {
     "data": {
      "text/plain": [
       "{'<__main__.node object at 0x00000237E8E903D0>0': 1,\n",
       " '<__main__.node object at 0x00000237E8EA8390>2': 1,\n",
       " '<__main__.node object at 0x00000237E8EA87D0>3': 2,\n",
       " '<__main__.node object at 0x00000237E8B50150>4': 1,\n",
       " '<__main__.node object at 0x00000237E8E90ED0>5': 1}"
      ]
     },
     "execution_count": 48,
     "metadata": {},
     "output_type": "execute_result"
    }
   ],
   "source": [
    "class node:\n",
    "  def __init__(self,data):\n",
    "    self.data =  data\n",
    "    self.next = None\n",
    "\n",
    "a = node(0)\n",
    "y =node(2)\n",
    "x =  node(3) # Start of Node\n",
    "z = node(4)\n",
    "end = node(5)\n",
    "enda = node(6)\n",
    "a.next =y\n",
    "y.next = x\n",
    "x.next  = z\n",
    "z.next =  end\n",
    "end.next = enda\n",
    "end.next = x # End Of Node\n",
    "\n",
    "def detect_loop(head):\n",
    "  dict_1 = {}\n",
    "\n",
    "  current =  head\n",
    "\n",
    "  while current != None:\n",
    "    key = str(current) + str(current.data)\n",
    "    if key not in dict_1.keys():\n",
    "      dict_1[key] = 1\n",
    "      current = current.next\n",
    "    else:\n",
    "      dict_1[key] += 1\n",
    "      print('Loop found')\n",
    "      return dict_1\n",
    "      break\n",
    "\n",
    "detect_loop(a)\n"
   ]
  },
  {
   "cell_type": "code",
   "execution_count": 49,
   "id": "38aadd70",
   "metadata": {},
   "outputs": [
    {
     "name": "stdout",
     "output_type": "stream",
     "text": [
      "Loop found\n"
     ]
    },
    {
     "data": {
      "text/plain": [
       "{'<__main__.node object at 0x00000237E8E903D0>0': 1,\n",
       " '<__main__.node object at 0x00000237E8EA8390>2': 1,\n",
       " '<__main__.node object at 0x00000237E8EA87D0>3': 2,\n",
       " '<__main__.node object at 0x00000237E8B50150>4': 1,\n",
       " '<__main__.node object at 0x00000237E8E90ED0>5': 1}"
      ]
     },
     "execution_count": 49,
     "metadata": {},
     "output_type": "execute_result"
    }
   ],
   "source": [
    "def detect_loop_hair_tort(head):\n",
    "  \n",
    "  current =  head\n",
    "  har_current = head\n",
    "\n",
    "  while (har_current != None) and (har_current.next != None):\n",
    "\n",
    "    current = current.next\n",
    "    har_current = har_current.next.next\n",
    "\n",
    "    if current == har_current:\n",
    "      return 'Loop found'\n",
    "\n",
    "detect_loop(a)"
   ]
  },
  {
   "cell_type": "markdown",
   "id": "d775c3bb",
   "metadata": {},
   "source": [
    "# 9. Find Starting point of a Loop in a Linked List"
   ]
  },
  {
   "cell_type": "code",
   "execution_count": 50,
   "id": "5b7423a5",
   "metadata": {},
   "outputs": [
    {
     "data": {
      "text/plain": [
       "'<__main__.node object at 0x00000237E8EA4050>3'"
      ]
     },
     "execution_count": 50,
     "metadata": {},
     "output_type": "execute_result"
    }
   ],
   "source": [
    "class node:\n",
    "  def __init__(self,data):\n",
    "    self.data =  data\n",
    "    self.next = None\n",
    "\n",
    "a = node(0)\n",
    "y =node(2)\n",
    "x =  node(3) # Start of Node\n",
    "z = node(4)\n",
    "end = node(5)\n",
    "enda = node(6)\n",
    "a.next =y\n",
    "y.next = x\n",
    "x.next  = z\n",
    "z.next =  end\n",
    "end.next = enda\n",
    "end.next = x # End Of Node\n",
    "\n",
    "def start_loop(head):\n",
    "  dict_1 = {}\n",
    "  current = head\n",
    "  while current.next != None:\n",
    "\n",
    "    key = str(current) + str(current.data)\n",
    "    if key not in dict_1.keys():\n",
    "      dict_1[key] = 1\n",
    "      current = current.next\n",
    "    else:\n",
    "      return key\n",
    "    \n",
    "start_loop(a)\n"
   ]
  },
  {
   "cell_type": "code",
   "execution_count": null,
   "id": "54a4706f",
   "metadata": {},
   "outputs": [
    {
     "name": "stdout",
     "output_type": "stream",
     "text": [
      "Loop found\n"
     ]
    },
    {
     "data": {
      "text/plain": [
       "3"
      ]
     },
     "execution_count": 54,
     "metadata": {},
     "output_type": "execute_result"
    }
   ],
   "source": [
    "def start_loop_hair_method(head):\n",
    "  har_current =  head\n",
    "  current = head\n",
    "  while (current != None) & (har_current != None):\n",
    "\n",
    "    current =  current.next\n",
    "    har_current =  har_current.next.next\n",
    "\n",
    "    if current == har_current:\n",
    "      print('Loop found')\n",
    "      current = head\n",
    "      while current != har_current:\n",
    "        current = current.next\n",
    "        har_current =  har_current.next\n",
    "\n",
    "      return current.data\n",
    "\n",
    "start_loop_hair_method(a)"
   ]
  },
  {
   "cell_type": "markdown",
   "id": "885a653c",
   "metadata": {},
   "source": [
    "# 10. Find Length of a Loop in a Linked List"
   ]
  },
  {
   "cell_type": "code",
   "execution_count": 56,
   "id": "c9d39bf7",
   "metadata": {},
   "outputs": [
    {
     "name": "stdout",
     "output_type": "stream",
     "text": [
      "Loop found\n"
     ]
    },
    {
     "data": {
      "text/plain": [
       "(4, 3)"
      ]
     },
     "execution_count": 56,
     "metadata": {},
     "output_type": "execute_result"
    }
   ],
   "source": [
    "def start_loop_hair_method(head):\n",
    "  har_current =  head\n",
    "  current = head\n",
    "  \n",
    "  while (current != None) & (har_current != None):\n",
    "\n",
    "    current =  current.next\n",
    "    har_current =  har_current.next.next\n",
    "\n",
    "    if current == har_current:\n",
    "      print('Loop found')\n",
    "      count =1\n",
    "      har_current = har_current.next \n",
    "      while current != har_current:\n",
    "        count +=1\n",
    "        har_current = har_current.next\n",
    "\n",
    "      return har_current.data,count\n",
    "\n",
    "start_loop_hair_method(a)"
   ]
  },
  {
   "cell_type": "code",
   "execution_count": null,
   "id": "1386d2a9",
   "metadata": {},
   "outputs": [],
   "source": []
  }
 ],
 "metadata": {
  "kernelspec": {
   "display_name": "Python 3",
   "language": "python",
   "name": "python3"
  },
  "language_info": {
   "codemirror_mode": {
    "name": "ipython",
    "version": 3
   },
   "file_extension": ".py",
   "mimetype": "text/x-python",
   "name": "python",
   "nbconvert_exporter": "python",
   "pygments_lexer": "ipython3",
   "version": "3.11.9"
  }
 },
 "nbformat": 4,
 "nbformat_minor": 5
}
