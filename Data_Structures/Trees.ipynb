{
 "cells": [
  {
   "cell_type": "markdown",
   "id": "d07b729c",
   "metadata": {},
   "source": [
    "##  Pre-order Traversal of trees"
   ]
  },
  {
   "cell_type": "code",
   "execution_count": 15,
   "id": "7842701a",
   "metadata": {},
   "outputs": [],
   "source": [
    "class node:\n",
    "    def __init__(self,val,left1=None,right1=None):\n",
    "        self.data = val\n",
    "        self.left = left1\n",
    "        self.right = right1\n",
    "\n",
    "# root node\n",
    "root = node(1)\n",
    "root.left = node(2)\n",
    "root.right = node(7)\n",
    "\n",
    "# LEFT root node\n",
    "root.left.left = node(3)\n",
    "root.left.left.left = node(6)\n",
    "root.left.right = node(4)\n",
    "root.left.right.left = node(5)\n",
    "\n",
    "# Right root node\n",
    "root.right.right = node(8)\n",
    "root.right.right.left = node(9)\n",
    "root.right.right.left.left = node(10)\n",
    "root.right.right.left.right = node(11)"
   ]
  },
  {
   "cell_type": "code",
   "execution_count": 16,
   "id": "a6d9fea9",
   "metadata": {},
   "outputs": [
    {
     "data": {
      "text/plain": [
       "[1, 2, 3, 6, 4, 5, 7, 8, 9, 10, 11]"
      ]
     },
     "execution_count": 16,
     "metadata": {},
     "output_type": "execute_result"
    }
   ],
   "source": [
    "\n",
    "def preorder(root,a):\n",
    "    if root == None:\n",
    "        return\n",
    "    a.append(root.data)\n",
    "    preorder(root.left,a)\n",
    "    preorder(root.right,a)\n",
    "\n",
    "a = []\n",
    "preorder(root,a)\n",
    "a"
   ]
  },
  {
   "cell_type": "markdown",
   "id": "8819ac33",
   "metadata": {},
   "source": [
    "## Iterative pre order of trees"
   ]
  },
  {
   "cell_type": "code",
   "execution_count": 17,
   "id": "970e2228",
   "metadata": {},
   "outputs": [
    {
     "data": {
      "text/plain": [
       "[1, 2, 3, 6, 4, 5, 7, 8, 9, 10, 11]"
      ]
     },
     "execution_count": 17,
     "metadata": {},
     "output_type": "execute_result"
    }
   ],
   "source": [
    "\n",
    "def preorder(root,a):\n",
    "    stack = []\n",
    "    a = []\n",
    "\n",
    "    if root == None:\n",
    "        return\n",
    "    \n",
    "    stack.append(root)\n",
    "\n",
    "    while len(stack) != 0:\n",
    "        node_new = stack[-1]\n",
    "        if node_new != None:  \n",
    "          stack.pop()\n",
    "        a.append(node_new.data)\n",
    "\n",
    "        if  node_new.right != None:\n",
    "            stack.append(node_new.right)\n",
    "        if  node_new.left != None:\n",
    "            stack.append(node_new.left)\n",
    "\n",
    "    return a\n",
    "\n",
    "a = []\n",
    "preorder(root,a)"
   ]
  },
  {
   "cell_type": "markdown",
   "id": "4612fa7b",
   "metadata": {},
   "source": [
    "##  In-order Traversal of trees"
   ]
  },
  {
   "cell_type": "code",
   "execution_count": 18,
   "id": "67236c13",
   "metadata": {},
   "outputs": [
    {
     "data": {
      "text/plain": [
       "[6, 3, 2, 5, 4, 1, 7, 10, 9, 11, 8]"
      ]
     },
     "execution_count": 18,
     "metadata": {},
     "output_type": "execute_result"
    }
   ],
   "source": [
    "def inorder(root,a):\n",
    "    if root == None:\n",
    "        return\n",
    "    \n",
    "    inorder(root.left,a)\n",
    "    a.append(root.data)\n",
    "    inorder(root.right,a)\n",
    "\n",
    "a = []\n",
    "inorder(root,a)\n",
    "a"
   ]
  },
  {
   "cell_type": "markdown",
   "id": "9de812f0",
   "metadata": {},
   "source": [
    "## Iterative In-order of trees"
   ]
  },
  {
   "cell_type": "code",
   "execution_count": null,
   "id": "0dc19464",
   "metadata": {},
   "outputs": [],
   "source": []
  },
  {
   "cell_type": "markdown",
   "id": "a085e36d",
   "metadata": {},
   "source": [
    "##  Post-order Traversal of trees"
   ]
  },
  {
   "cell_type": "code",
   "execution_count": 12,
   "id": "d4513a20",
   "metadata": {},
   "outputs": [
    {
     "data": {
      "text/plain": [
       "[4, 5, 2, 6, 7, 3, 1]"
      ]
     },
     "execution_count": 12,
     "metadata": {},
     "output_type": "execute_result"
    }
   ],
   "source": [
    "def postorder(root,a):\n",
    "    if root == None:\n",
    "        return\n",
    "    \n",
    "    postorder(root.left,a)\n",
    "    postorder(root.right,a)\n",
    "    a.append(root.data)\n",
    "\n",
    "a = []\n",
    "postorder(root,a)\n",
    "a"
   ]
  },
  {
   "cell_type": "markdown",
   "id": "e6682a56",
   "metadata": {},
   "source": [
    "##  Level-order Traversal of trees"
   ]
  },
  {
   "cell_type": "code",
   "execution_count": null,
   "id": "143ba45a",
   "metadata": {},
   "outputs": [],
   "source": []
  }
 ],
 "metadata": {
  "kernelspec": {
   "display_name": "Python 3",
   "language": "python",
   "name": "python3"
  },
  "language_info": {
   "codemirror_mode": {
    "name": "ipython",
    "version": 3
   },
   "file_extension": ".py",
   "mimetype": "text/x-python",
   "name": "python",
   "nbconvert_exporter": "python",
   "pygments_lexer": "ipython3",
   "version": "3.11.9"
  }
 },
 "nbformat": 4,
 "nbformat_minor": 5
}
