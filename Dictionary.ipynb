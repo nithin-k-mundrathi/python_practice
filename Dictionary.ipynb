{
  "cells": [
    {
      "cell_type": "markdown",
      "metadata": {
        "colab_type": "text",
        "id": "view-in-github"
      },
      "source": [
        "<a href=\"https://colab.research.google.com/github/nithin-k-mundrathi/python_practice/blob/main/Dictionary.ipynb\" target=\"_parent\"><img src=\"https://colab.research.google.com/assets/colab-badge.svg\" alt=\"Open In Colab\"/></a>"
      ]
    },
    {
      "cell_type": "code",
      "execution_count": 1,
      "metadata": {
        "colab": {
          "base_uri": "https://localhost:8080/"
        },
        "id": "RM452pd39UEw",
        "outputId": "60523223-aabf-444a-cd8e-f4f13d464023"
      },
      "outputs": [
        {
          "name": "stdout",
          "output_type": "stream",
          "text": [
            "{'gfg': [5, 6, 7, 8], 'for': [1, 2, 5]}\n"
          ]
        }
      ],
      "source": [
        "# remove a key from Dictionary\n",
        "test_dict = {'gfg': [5, 6, 7, 8],\n",
        "             'is': [10, 11, 7, 5],\n",
        "             'best': [6, 12, 10, 8],\n",
        "             'for': [1, 2, 5]}\n",
        "\n",
        "del test_dict['is']\n",
        "test_dict.pop('best')\n",
        "\n",
        "print(test_dict)"
      ]
    },
    {
      "cell_type": "code",
      "execution_count": 1,
      "metadata": {
        "colab": {
          "base_uri": "https://localhost:8080/"
        },
        "id": "NJ-vMXkJ9Yd1",
        "outputId": "72efa51f-303f-406f-99b6-9add0fd056be"
      },
      "outputs": [
        {
          "name": "stdout",
          "output_type": "stream",
          "text": [
            "b\n",
            "20\n"
          ]
        }
      ],
      "source": [
        "dict_1 = {\n",
        "    'a' : 10,\n",
        "    'b' : 20,\n",
        "    'c' : 2\n",
        "}\n",
        "# get the key of  max of value\n",
        "print(max(dict_1, key=dict_1.get))\n",
        "print(max(dict_1.values()))"
      ]
    },
    {
      "cell_type": "code",
      "execution_count": 3,
      "metadata": {},
      "outputs": [
        {
          "name": "stdout",
          "output_type": "stream",
          "text": [
            "[('c', 2), ('a', 10), ('b', 20)]\n"
          ]
        },
        {
          "data": {
            "text/plain": [
              "'b'"
            ]
          },
          "execution_count": 3,
          "metadata": {},
          "output_type": "execute_result"
        }
      ],
      "source": [
        "print(sorted(dict_1.items(), key=lambda x:x[1]))\n",
        "max(dict_1,key=dict_1.get)"
      ]
    },
    {
      "cell_type": "code",
      "execution_count": 15,
      "metadata": {
        "colab": {
          "base_uri": "https://localhost:8080/"
        },
        "id": "Wo9Gs8sE9sox",
        "outputId": "45497aae-373f-4027-f7f8-1af19be4af05"
      },
      "outputs": [
        {
          "name": "stdout",
          "output_type": "stream",
          "text": [
            "{'b': 20, 'c': 2, 'gfg': [5, 6, 7, 8, 7, 9], 'is': [10, 11, 7, 5], 'best': [6, 12, 10, 8], 'for': [1, 2, 5], 'a': 45}\n"
          ]
        }
      ],
      "source": [
        "from operator import itemgetter\n",
        "\n",
        "test_dict_1 = {'gfg': [5, 6, 7, 8,7,9],\n",
        "             'is': [10, 11, 7, 5],\n",
        "             'best': [6, 12, 10, 8],\n",
        "             'for': [1, 2, 5],\n",
        "               'a': 45}\n",
        "\n",
        "dict_1.update(test_dict_1)\n",
        "print(dict_1)"
      ]
    },
    {
      "cell_type": "code",
      "execution_count": 16,
      "metadata": {
        "colab": {
          "base_uri": "https://localhost:8080/"
        },
        "id": "1jBvyUr2-G-i",
        "outputId": "23eeeafc-c85a-49bd-ce43-287b5950e87c"
      },
      "outputs": [
        {
          "data": {
            "text/plain": [
              "[(5, 10), (6, 11), (7, 7), (8, 5)]"
            ]
          },
          "execution_count": 16,
          "metadata": {},
          "output_type": "execute_result"
        }
      ],
      "source": [
        "# both keys should be of equal length\n",
        "list(zip(dict_1['gfg'],dict_1['is']))"
      ]
    },
    {
      "cell_type": "code",
      "execution_count": 17,
      "metadata": {
        "colab": {
          "base_uri": "https://localhost:8080/"
        },
        "id": "CFJfZ9c6-Yz-",
        "outputId": "97773c30-ee56-48a6-de78-7fc40dcdcc45"
      },
      "outputs": [
        {
          "name": "stdout",
          "output_type": "stream",
          "text": [
            "{'b': 20, 'c': 2, 'gfg': [5, 6, 7, 8, 7, 9], 'is': [10, 11, 7, 5], 'best': [6, 12, 10, 8], 'for': [1, 2, 5]}\n"
          ]
        }
      ],
      "source": [
        "# remove the element from a Dictionary based on key\n",
        "dict_1.pop('a')\n",
        "print(dict_1)"
      ]
    },
    {
      "cell_type": "code",
      "execution_count": null,
      "metadata": {
        "id": "gWHOlKCC-5Al"
      },
      "outputs": [],
      "source": []
    }
  ],
  "metadata": {
    "colab": {
      "authorship_tag": "ABX9TyPY5sRMYh3lZ9cAF0zhKZ8/",
      "include_colab_link": true,
      "provenance": []
    },
    "kernelspec": {
      "display_name": "Python 3",
      "name": "python3"
    },
    "language_info": {
      "codemirror_mode": {
        "name": "ipython",
        "version": 3
      },
      "file_extension": ".py",
      "mimetype": "text/x-python",
      "name": "python",
      "nbconvert_exporter": "python",
      "pygments_lexer": "ipython3",
      "version": "3.11.9"
    }
  },
  "nbformat": 4,
  "nbformat_minor": 0
}
