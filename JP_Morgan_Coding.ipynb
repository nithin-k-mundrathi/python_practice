{
  "cells": [
    {
      "cell_type": "markdown",
      "metadata": {},
      "source": [
        "# Minimum #swaps to be increasing order"
      ]
    },
    {
      "cell_type": "code",
      "execution_count": 45,
      "metadata": {},
      "outputs": [
        {
          "name": "stdout",
          "output_type": "stream",
          "text": [
            "{10: 0, 19: 1, 6: 2, 3: 3, 5: 4}\n",
            "3\n",
            "{10: 3, 19: 1, 6: 2, 3: 0, 5: 4}\n",
            "4\n",
            "{10: 3, 19: 4, 6: 2, 3: 0, 5: 1}\n",
            "{10: 3, 19: 4, 6: 2, 3: 0, 5: 1}\n",
            "{10: 3, 19: 4, 6: 2, 3: 0, 5: 1}\n",
            "2\n",
            "{1: 0, 4: 1, 2: 2, 0: 3, 3: 4, 7: 5}\n",
            "3\n",
            "{1: 3, 4: 1, 2: 2, 0: 0, 3: 4, 7: 5}\n",
            "3\n",
            "{1: 1, 4: 3, 2: 2, 0: 0, 3: 4, 7: 5}\n",
            "{1: 1, 4: 3, 2: 2, 0: 0, 3: 4, 7: 5}\n",
            "4\n",
            "{1: 1, 4: 4, 2: 2, 0: 0, 3: 3, 7: 5}\n",
            "{1: 1, 4: 4, 2: 2, 0: 0, 3: 3, 7: 5}\n",
            "3\n"
          ]
        }
      ],
      "source": [
        "def minSwaps(arr):\n",
        "    \n",
        "    # Temporary array to store elements in sorted order\n",
        "    temp = sorted(arr)\n",
        "    \n",
        "    # Hashing elements with their correct positions\n",
        "    pos = {}\n",
        "    for i in range(len(arr)):\n",
        "        pos[arr[i]] = i\n",
        "\t\n",
        "    swaps = 0\n",
        "    for i in range(len(arr)):\n",
        "        print(pos)\n",
        "        if temp[i] != arr[i]:\n",
        "            \n",
        "            # Index of the element that should be at index i.\n",
        "            # find the index in the sorted \n",
        "            # gives u highest element and index of highest ele in unsorted\n",
        "\n",
        "            ind = pos[temp[i]]\n",
        "            print(ind)\n",
        "            arr[i], arr[ind] = arr[ind], arr[i]\n",
        "\n",
        "            # Update the indices in the dictionary\n",
        "            pos[arr[i]] = i\n",
        "            pos[arr[ind]] = ind\n",
        "\n",
        "            swaps += 1\n",
        "    return swaps\n",
        "\n",
        "print(minSwaps([10,19,6,3,5]))\n",
        "\n",
        "print(minSwaps([1,4,2,0,3,7]))"
      ]
    },
    {
      "cell_type": "code",
      "execution_count": null,
      "metadata": {},
      "outputs": [],
      "source": []
    },
    {
      "cell_type": "markdown",
      "metadata": {},
      "source": [
        "# Find out all permutations of a String"
      ]
    },
    {
      "cell_type": "code",
      "execution_count": 44,
      "metadata": {},
      "outputs": [
        {
          "name": "stdout",
          "output_type": "stream",
          "text": [
            "[1, 2, 3, 4]\n",
            "[1, 2, 4, 3]\n",
            "[1, 3, 2, 4]\n",
            "[1, 3, 4, 2]\n",
            "[1, 4, 2, 3]\n",
            "[1, 4, 3, 2]\n",
            "[2, 1, 3, 4]\n",
            "[2, 1, 4, 3]\n",
            "[2, 3, 1, 4]\n",
            "[2, 3, 4, 1]\n",
            "[2, 4, 1, 3]\n",
            "[2, 4, 3, 1]\n",
            "[3, 1, 2, 4]\n",
            "[3, 1, 4, 2]\n",
            "[3, 2, 1, 4]\n",
            "[3, 2, 4, 1]\n",
            "[3, 4, 1, 2]\n",
            "[3, 4, 2, 1]\n",
            "[4, 1, 2, 3]\n",
            "[4, 1, 3, 2]\n",
            "[4, 2, 1, 3]\n",
            "[4, 2, 3, 1]\n",
            "[4, 3, 1, 2]\n",
            "[4, 3, 2, 1]\n"
          ]
        }
      ],
      "source": [
        "def recurpermute(a,ds, ans, freq):\n",
        "    if len(a) == len(ds):\n",
        "        print(ds)\n",
        "        ans.append(ds)\n",
        "        return\n",
        "    for i in range(len(a)):\n",
        "        if (freq[i] is False):\n",
        "            freq[i] = True\n",
        "            ds.append(a[i])\n",
        "            recurpermute(a,ds, ans, freq)\n",
        "            # print(ds)\n",
        "            ds.pop()\n",
        "            freq[i] = False\n",
        "\n",
        "\n",
        "a= [1,2,3,4]\n",
        "freq = {i:False for i in range(len(a))}\n",
        "ans_1 = []\n",
        "ds = []\n",
        "recurpermute(a,ds= ds,ans = ans_1,freq=freq)"
      ]
    },
    {
      "cell_type": "markdown",
      "metadata": {},
      "source": [
        "# 2.How would you use a binary search to find the index of a given value ?"
      ]
    },
    {
      "cell_type": "code",
      "execution_count": 68,
      "metadata": {},
      "outputs": [
        {
          "name": "stdout",
          "output_type": "stream",
          "text": [
            "5\n"
          ]
        }
      ],
      "source": [
        "a = [3,4,6,7,9,12,16,17]\n",
        "def BinarySearch(a,target):\n",
        "  n = len(a)\n",
        "  low =0\n",
        "  high = n-1\n",
        "  mid = (low +high)//2\n",
        "\n",
        "  while low <=high:\n",
        "    mid = (low +high)//2\n",
        "    if a[mid] == target:\n",
        "      return mid\n",
        "    elif a[mid] < target:\n",
        "      low = mid+1\n",
        "    elif a[mid] > target:\n",
        "      high = mid-1\n",
        "\n",
        "  return -1\n",
        "\n",
        "print(BinarySearch(a,12))"
      ]
    },
    {
      "cell_type": "markdown",
      "metadata": {},
      "source": [
        "# Rotate a Matrix"
      ]
    },
    {
      "cell_type": "code",
      "execution_count": null,
      "metadata": {},
      "outputs": [
        {
          "data": {
            "text/plain": [
              "[1, 2, 3, 6, 9, 8, 7, 4, 5]"
            ]
          },
          "execution_count": 65,
          "metadata": {},
          "output_type": "execute_result"
        }
      ],
      "source": [
        "def spiralmatrix(a):\n",
        "  n = a.shape[0]\n",
        "  top = 0\n",
        "  left  = 0\n",
        "  bottom  = n-1\n",
        "  right = n-1\n",
        "  output = []\n",
        "  while (top<=bottom) and (left <=right):\n",
        "\n",
        "    for i in range(left, right+1):\n",
        "      output.append(a[top][i])\n",
        "    top +=1\n",
        "\n",
        "    for j in range(top, bottom+1):\n",
        "      output.append(a[j][right])\n",
        "    right -=1\n",
        "\n",
        "    if top <=bottom:\n",
        "      for i in range(right,left-1,-1):\n",
        "        output.append(a[bottom][i])\n",
        "      bottom -=1\n",
        "\n",
        "    if left <= right:\n",
        "      for i in range(bottom,top-1,-1):\n",
        "        output.append(a[i][left])\n",
        "      left +=1\n",
        "\n",
        "  return output\n",
        "\n",
        "import numpy as np\n",
        "a=np.array(\n",
        "    [[1,2,3],\n",
        "    [4,5,6],\n",
        "    [7,8,9]]\n",
        ")\n",
        "\n",
        "spiralmatrix(a)"
      ]
    },
    {
      "cell_type": "markdown",
      "metadata": {},
      "source": [
        "# Reverse a String"
      ]
    },
    {
      "cell_type": "code",
      "execution_count": 38,
      "metadata": {},
      "outputs": [
        {
          "data": {
            "text/plain": [
              "[4, 3, 2, 1]"
            ]
          },
          "execution_count": 38,
          "metadata": {},
          "output_type": "execute_result"
        }
      ],
      "source": [
        "a = [1,2,3,4]\n",
        "l =0\n",
        "h = len(a) -1\n",
        "\n",
        "while l <=h:\n",
        "    a[l],a[h] = a[h],a[l]\n",
        "    l+=1\n",
        "    h-=1\n",
        "a"
      ]
    },
    {
      "cell_type": "markdown",
      "metadata": {},
      "source": [
        "# Good Number"
      ]
    },
    {
      "cell_type": "code",
      "execution_count": null,
      "metadata": {},
      "outputs": [
        {
          "data": {
            "text/plain": [
              "False"
            ]
          },
          "execution_count": 61,
          "metadata": {},
          "output_type": "execute_result"
        }
      ],
      "source": [
        "\n",
        "def good_number(n,d):\n",
        "    \n",
        "    digit = n%10\n",
        "    sum_a = digit\n",
        "\n",
        "    if digit ==d:\n",
        "        return False\n",
        "    \n",
        "    n = int(n/10)\n",
        "\n",
        "    while (n>0):\n",
        "        \n",
        "        digit = n%10\n",
        "\n",
        "        if digit ==d or digit<=sum_a:\n",
        "            return False\n",
        "        \n",
        "        else:\n",
        "            sum_a += digit\n",
        "            n=int(n/10)\n",
        "\n",
        "    return True\n",
        "\n",
        "good_number(412,2)"
      ]
    },
    {
      "cell_type": "markdown",
      "metadata": {
        "id": "j9i8P3FbNZ0x"
      },
      "source": [
        "# 1. K-means in Numpy"
      ]
    },
    {
      "cell_type": "code",
      "execution_count": null,
      "metadata": {
        "colab": {
          "base_uri": "https://localhost:8080/"
        },
        "id": "cSbPgpv4Q_lG",
        "outputId": "3f38379e-b019-4e34-d545-eb7bb91d16c4"
      },
      "outputs": [
        {
          "name": "stdout",
          "output_type": "stream",
          "text": [
            "(10000, 2)\n",
            "[3390.308152868931, 2824.4187840636723, 2537.530174173919, 2387.2376309598703, 2362.84193665629, 2357.4316154251073, 2355.313524894865, 2354.4019268562947, 2354.017905456088, 2353.7239913070434]\n"
          ]
        }
      ],
      "source": [
        "import numpy as np\n",
        "\n",
        "# each one is a value between 0,1\n",
        "data = np.random.rand(10000,2)\n",
        "\n",
        "print(data.shape)\n",
        "\n",
        "k = 3\n",
        "indices = {}\n",
        "for i in range(3):\n",
        "  random_number = np.random.randint(1,10000)\n",
        "  indices[i] = data[random_number]\n",
        "indices\n",
        "\n",
        "loss  = []\n",
        "for i in range(10):\n",
        "  data_index = []\n",
        "  distances = []\n",
        "  for i in range(10000):\n",
        "      data_index.append(int(np.argmin([np.linalg.norm(data[i]-indices[0]),np.linalg.norm(data[i]-indices[1]),np.linalg.norm(data[i]-indices[2])])))\n",
        "      distances.append(float(np.min([np.linalg.norm(data[i]-indices[0]),np.linalg.norm(data[i]-indices[1]),np.linalg.norm(data[i]-indices[2])])))\n",
        "\n",
        "  loss.append(sum(distances))\n",
        "  data_df = pd.DataFrame(data)\n",
        "  data_df['index'] = data_index\n",
        "\n",
        "  indices[0] = np.average(np.array(data_df[data_df['index']==0][[0,1]]),axis=0)\n",
        "  indices[1] = np.average(np.array(data_df[data_df['index']==1][[0,1]]),axis=0)\n",
        "  indices[2] = np.average(np.array(data_df[data_df['index']==2][[0,1]]),axis=0)\n",
        "\n",
        "print(loss)"
      ]
    },
    {
      "cell_type": "markdown",
      "metadata": {
        "id": "39lbWygLVpVF"
      },
      "source": [
        "# 2. generate Losgistic Regression and Gradient Descent using Numpy"
      ]
    },
    {
      "cell_type": "code",
      "execution_count": null,
      "metadata": {
        "id": "cEAJ6u3pSc58"
      },
      "outputs": [],
      "source": [
        "data = np.random.rand(10000,10)\n",
        "labels = np.random.randint(1,20,10000)\n",
        "weights = np.random.randn(10,1)\n",
        "b= np.random.randn(1)\n",
        "data_df = pd.DataFrame(data)\n",
        "data_df['labels'] = labels\n",
        "X = data\n",
        "W = weights\n",
        "labels = labels.reshape((10000,1))"
      ]
    },
    {
      "cell_type": "code",
      "execution_count": null,
      "metadata": {
        "id": "MJb2GPVwXalP"
      },
      "outputs": [],
      "source": [
        "loss_list = []\n",
        "for i in range(10):\n",
        "  predictions = np.dot(X,W) + b\n",
        "  loss =  float(np.linalg.norm(labels - predictions))\n",
        "  w_old =  W\n",
        "  w_old.shape\n",
        "\n",
        "  W_new = w_old + (0.01) * 2 * np.dot(X.T,(labels - predictions))\n",
        "  W = W_new\n",
        "\n",
        "  loss_list.append(loss)"
      ]
    },
    {
      "cell_type": "markdown",
      "metadata": {
        "id": "a3xCc7Ko9DGp"
      },
      "source": [
        "# 3. Fibonacci Number Generartor"
      ]
    },
    {
      "cell_type": "code",
      "execution_count": null,
      "metadata": {
        "colab": {
          "base_uri": "https://localhost:8080/"
        },
        "id": "MgWn-OtwYB__",
        "outputId": "57e04eaa-6a8f-46e4-8005-fef326101a26"
      },
      "outputs": [
        {
          "name": "stdout",
          "output_type": "stream",
          "text": [
            "0 print\n",
            "0\n",
            "1\n",
            "1\n",
            "2\n",
            "3\n",
            "5\n",
            "8\n",
            "13\n",
            "21\n",
            "34\n"
          ]
        }
      ],
      "source": [
        "def fibonacci_generator():\n",
        "\n",
        "    a, b = 0, 1\n",
        "    print(a,'print')\n",
        "    while True:\n",
        "        yield a\n",
        "        a, b = b, a + b\n",
        "# Memory Efficiency: Generators generate values on the fly, reducing memory usage compared to storing the entire sequence in memory.\n",
        "# Lazy Evaluation: Values are computed only when needed, which can lead to performance improvements, especially with large datasets.\n",
        "# Example: Generate the first 10 Fibonacci numbers\n",
        "fib_gen = fibonacci_generator()\n",
        "for _ in range(10):\n",
        "    print(next(fib_gen))"
      ]
    },
    {
      "cell_type": "markdown",
      "metadata": {
        "id": "WP13A8bi-qzU"
      },
      "source": [
        "# 4. Capitalize words ina string"
      ]
    },
    {
      "cell_type": "code",
      "execution_count": null,
      "metadata": {
        "colab": {
          "base_uri": "https://localhost:8080/"
        },
        "id": "zkR5nRSIZDnV",
        "outputId": "e127e45d-3c86-492e-a19c-555165c3379d"
      },
      "outputs": [
        {
          "name": "stdout",
          "output_type": "stream",
          "text": [
            "Hi I Am Nithin\n",
            "Hi I Am Nithin\n"
          ]
        }
      ],
      "source": [
        "str_1 = 'hi i am nithin'\n",
        "print(' '.join(i.capitalize() for i in str_1.split(' ')))\n",
        "print(str_1.title())"
      ]
    },
    {
      "cell_type": "markdown",
      "metadata": {
        "id": "laWodzUtBeLM"
      },
      "source": [
        "# 5. Second  largest Element"
      ]
    },
    {
      "cell_type": "code",
      "execution_count": null,
      "metadata": {
        "colab": {
          "base_uri": "https://localhost:8080/"
        },
        "id": "UZSJJt9g-6in",
        "outputId": "76bd194a-60a1-411a-b880-fb7c711a157d"
      },
      "outputs": [
        {
          "name": "stdout",
          "output_type": "stream",
          "text": [
            "6 5\n"
          ]
        }
      ],
      "source": [
        "a = [2,5,6,6,4,1]\n",
        "largest = -100000\n",
        "slargest = -100000\n",
        "\n",
        "for i in range(len(a)):\n",
        "\n",
        "  if a[i] > largest:\n",
        "    slargest = largest\n",
        "    largest = a[i]\n",
        "  elif (a[i] < largest) & (a[i]> slargest):\n",
        "    slargest = a[i]\n",
        "print(largest,slargest)"
      ]
    },
    {
      "cell_type": "markdown",
      "metadata": {
        "id": "s2Rp8CofCgZB"
      },
      "source": [
        "# 6. Find the Intersection of two arrays"
      ]
    },
    {
      "cell_type": "code",
      "execution_count": null,
      "metadata": {
        "colab": {
          "base_uri": "https://localhost:8080/"
        },
        "id": "9aIC040CCHAK",
        "outputId": "507773ac-ed15-4d70-a9b7-bcb02c73ba6d"
      },
      "outputs": [
        {
          "data": {
            "text/plain": [
              "[1]"
            ]
          },
          "execution_count": 12,
          "metadata": {},
          "output_type": "execute_result"
        }
      ],
      "source": [
        "a = [1,2,3,4,5]\n",
        "b = [7,8,1]\n",
        "\n",
        "list(set(a) & set(b))"
      ]
    },
    {
      "cell_type": "markdown",
      "metadata": {
        "id": "HusJ2ppkDm_1"
      },
      "source": [
        "# 7. Find the nth prime number\n"
      ]
    },
    {
      "cell_type": "code",
      "execution_count": null,
      "metadata": {
        "colab": {
          "base_uri": "https://localhost:8080/"
        },
        "id": "XHZrB-j4DcAK",
        "outputId": "5adbf4b2-705b-45f5-a6fb-ba2643b7ac3b"
      },
      "outputs": [
        {
          "name": "stdout",
          "output_type": "stream",
          "text": [
            "59\n"
          ]
        }
      ],
      "source": [
        "import math\n",
        "n = int(input())\n",
        "\n",
        "for i in range(2, int(math.sqrt(n))+1):\n",
        "\n",
        "  if (n%i==0):\n",
        "    print('Not a Prime Number')\n",
        "    break"
      ]
    },
    {
      "cell_type": "markdown",
      "metadata": {
        "id": "48WRJC6xI0xt"
      },
      "source": [
        "# 8. find duplicates in an array"
      ]
    },
    {
      "cell_type": "code",
      "execution_count": null,
      "metadata": {
        "colab": {
          "base_uri": "https://localhost:8080/"
        },
        "id": "OS5h8LLjETdt",
        "outputId": "78d485ba-4770-4360-94d5-e1b344a95a59"
      },
      "outputs": [
        {
          "data": {
            "text/plain": [
              "4"
            ]
          },
          "execution_count": 17,
          "metadata": {},
          "output_type": "execute_result"
        }
      ],
      "source": [
        "def getSingleElement(arr):\n",
        "    # XOR all the elements:\n",
        "    xorr = 0\n",
        "    for num in arr:\n",
        "        xorr ^= num\n",
        "    return xorr\n",
        "\n",
        "getSingleElement([1,4,5,1,5])"
      ]
    },
    {
      "cell_type": "markdown",
      "metadata": {},
      "source": [
        "# Find the Square root of a Function"
      ]
    },
    {
      "cell_type": "code",
      "execution_count": null,
      "metadata": {},
      "outputs": [],
      "source": [
        "def squareroot(n):\n",
        "    low =1\n",
        "    high =n\n",
        "    while low <=high:\n",
        "        mid = low + high //2\n",
        "        val = mid*mid\n",
        "\n",
        "        if val <= n:\n",
        "            low +=1\n",
        "        else:\n",
        "            high -=1\n",
        "    return mid \n",
        "\n",
        "squareroot(100)"
      ]
    },
    {
      "cell_type": "markdown",
      "metadata": {},
      "source": [
        "# capitalize the first or Camel Case strings"
      ]
    },
    {
      "cell_type": "code",
      "execution_count": null,
      "metadata": {},
      "outputs": [
        {
          "data": {
            "text/plain": [
              "'aHeavenMadeMatch'"
            ]
          },
          "execution_count": 15,
          "metadata": {},
          "output_type": "execute_result"
        }
      ],
      "source": [
        "def camelcase(a):\n",
        "    \n",
        "    list_a = a.split(' ')\n",
        "    camel_case_strings = [list_a[i][0].upper()+ list_a[i][1:] if i!=0 else list_a[i] for i in range(len(list_a))]\n",
        "\n",
        "    return ''.join(camel_case_strings)\n",
        "\n",
        "camelcase('a heaven made match')"
      ]
    },
    {
      "cell_type": "markdown",
      "metadata": {},
      "source": [
        "# Ugly Numbers"
      ]
    },
    {
      "cell_type": "code",
      "execution_count": 67,
      "metadata": {},
      "outputs": [
        {
          "data": {
            "text/plain": [
              "True"
            ]
          },
          "execution_count": 67,
          "metadata": {},
          "output_type": "execute_result"
        }
      ],
      "source": [
        "def isUgly(number):\n",
        "    # The number must be positive to be considered ugly\n",
        "    if number < 1:\n",
        "        return False\n",
        "  \n",
        "    # Define the prime factors specific to ugly numbers\n",
        "    prime_factors = [2, 3, 5]\n",
        "  \n",
        "    # Divide the number by each of the prime factors as long as it's divisible\n",
        "    for factor in prime_factors:\n",
        "        while number % factor == 0:\n",
        "            number //= factor\n",
        "  \n",
        "    # If the resulting number is 1, it's an ugly number\n",
        "    return number == 1\n",
        "\n",
        "isUgly(225)"
      ]
    },
    {
      "cell_type": "markdown",
      "metadata": {},
      "source": [
        "# 1.Find unique words in a list of anagrams"
      ]
    },
    {
      "cell_type": "code",
      "execution_count": 26,
      "metadata": {},
      "outputs": [
        {
          "data": {
            "text/plain": [
              "{'eilnst': ['listen', 'silent', 'enlist', 'inlets'],\n",
              " 'eggloo': ['google', 'gogole'],\n",
              " 'hnopty': ['python']}"
            ]
          },
          "execution_count": 26,
          "metadata": {},
          "output_type": "execute_result"
        }
      ],
      "source": [
        "# Anagram says permutation of one word is a Anagram \n",
        "def find_unique_words(words):\n",
        "    \n",
        "    dict_words = {}\n",
        "\n",
        "    for word in words:\n",
        "        anagram = ''.join(sorted(word))\n",
        "        if anagram in dict_words.keys():\n",
        "            dict_words[anagram].append(word)\n",
        "        else:\n",
        "            dict_words[anagram] = [word]\n",
        "    return (dict_words)\n",
        "\n",
        "words = [\"listen\", \"silent\", \"enlist\", \"inlets\", \"google\", \"gogole\", \"python\"]\n",
        "find_unique_words(words)"
      ]
    },
    {
      "cell_type": "markdown",
      "metadata": {},
      "source": [
        "# Merge two Sorted Lists"
      ]
    },
    {
      "cell_type": "code",
      "execution_count": 4,
      "metadata": {},
      "outputs": [
        {
          "name": "stdout",
          "output_type": "stream",
          "text": [
            "[1, 3, 2, 0] [7, 5, 6, 8, 9]\n"
          ]
        },
        {
          "data": {
            "text/plain": [
              "[0, 1, 2, 3, 5, 6, 7, 8, 9]"
            ]
          },
          "execution_count": 4,
          "metadata": {},
          "output_type": "execute_result"
        }
      ],
      "source": [
        "# Method-1 - Withput any Extra Space\n",
        "a= [1,3,5,7]\n",
        "b  = [0,2,6,8,9]\n",
        "\n",
        "n = len(a)\n",
        "m = len(b)\n",
        "l = n -1\n",
        "r =0\n",
        "while (l <n) & (r<m):\n",
        "\n",
        "  if a[l] > b[r]:\n",
        "    a[l],b[r] = b[r],a[l]\n",
        "\n",
        "  else:\n",
        "    l = l-1\n",
        "    r = r+1\n",
        "\n",
        "print(a,b)\n",
        "sorted(a) + sorted(b)"
      ]
    },
    {
      "cell_type": "markdown",
      "metadata": {},
      "source": [
        "# Array Rotate"
      ]
    },
    {
      "cell_type": "code",
      "execution_count": 56,
      "metadata": {},
      "outputs": [
        {
          "name": "stdout",
          "output_type": "stream",
          "text": [
            "[3, 2, 1, 4, 5]\n",
            "[3, 2, 1, 5, 4]\n"
          ]
        },
        {
          "data": {
            "text/plain": [
              "[4, 5, 1, 2, 3]"
            ]
          },
          "execution_count": 56,
          "metadata": {},
          "output_type": "execute_result"
        }
      ],
      "source": [
        "# Left rotate\n",
        "def rev(a,start,end):\n",
        "  while start <=end:\n",
        "    a[start], a[end] = a[end], a[start]\n",
        "    start+=1\n",
        "    end-=1\n",
        "  return a\n",
        "d =3\n",
        "a = [1, 2, 3, 4, 5]\n",
        "n = len(a)\n",
        "a = rev(a,0,d-1)\n",
        "print(a)\n",
        "a = rev(a,d,n-1)\n",
        "print(a)\n",
        "rev(a,0,n-1)\n",
        "a"
      ]
    },
    {
      "cell_type": "code",
      "execution_count": 57,
      "metadata": {},
      "outputs": [
        {
          "name": "stdout",
          "output_type": "stream",
          "text": [
            "[5, 4, 3, 2, 1]\n",
            "[3, 4, 5, 2, 1]\n",
            "[3, 4, 5, 1, 2]\n"
          ]
        }
      ],
      "source": [
        "# right rotate\n",
        "def rev(a,start,end):\n",
        "  while start <=end:\n",
        "    a[start], a[end] = a[end], a[start]\n",
        "    start+=1\n",
        "    end-=1\n",
        "\n",
        "  return a\n",
        "d =3\n",
        "a = [1, 2, 3, 4, 5]\n",
        "n = len(a)\n",
        "a = rev(a,0,n-1)\n",
        "print(a)\n",
        "a = rev(a,0,d-1)\n",
        "print(a)\n",
        "a = rev(a,d,n-1)\n",
        "print(a)"
      ]
    },
    {
      "cell_type": "markdown",
      "metadata": {},
      "source": [
        "# Count - sum(N + rev(N) ) is palindrome"
      ]
    },
    {
      "cell_type": "code",
      "execution_count": 33,
      "metadata": {},
      "outputs": [
        {
          "data": {
            "text/plain": [
              "3"
            ]
          },
          "execution_count": 33,
          "metadata": {},
          "output_type": "execute_result"
        }
      ],
      "source": [
        "def palindrome_sum(n):\n",
        "    count =0\n",
        "    while n != int(str(n)[::-1]):\n",
        "      sum_n = n + int(str(n)[::-1])\n",
        "      count +=1\n",
        "      n = sum_n\n",
        "    return count\n",
        "palindrome_sum(41276)"
      ]
    },
    {
      "cell_type": "markdown",
      "metadata": {},
      "source": [
        "# 5. Find the maximum number by one swap"
      ]
    },
    {
      "cell_type": "code",
      "execution_count": 52,
      "metadata": {},
      "outputs": [
        {
          "name": "stdout",
          "output_type": "stream",
          "text": [
            "[9, 9, 9, 4, 2, 1] 0\n"
          ]
        },
        {
          "data": {
            "text/plain": [
              "[9, 2, 4, 9, 9, 1]"
            ]
          },
          "execution_count": 52,
          "metadata": {},
          "output_type": "execute_result"
        }
      ],
      "source": [
        "a = [1,2,4,9,9,9]\n",
        "a = a[::-1]\n",
        "max_index = a.index(max(a))\n",
        "print(a,max_index)\n",
        "a[-1], a[max_index] = a[max_index],a[-1]\n",
        "a[::-1]"
      ]
    },
    {
      "cell_type": "markdown",
      "metadata": {},
      "source": [
        "# Maximum Sum of Subaaray"
      ]
    },
    {
      "cell_type": "code",
      "execution_count": null,
      "metadata": {},
      "outputs": [
        {
          "data": {
            "text/plain": [
              "6"
            ]
          },
          "execution_count": 35,
          "metadata": {},
          "output_type": "execute_result"
        }
      ],
      "source": [
        "def max_sum(a):\n",
        "    \n",
        "    maxsum = -10000000\n",
        "    start =0\n",
        "    tstart = -1\n",
        "    tend = -1\n",
        "    n = len(a)\n",
        "    sum =0\n",
        "    for i in range(n):\n",
        "        # 1. start with sum==0\n",
        "        if sum ==0:\n",
        "            start =i\n",
        "        # 2. sum the sum with current element\n",
        "        sum = sum +a[i]\n",
        "        if sum < 0:\n",
        "            sum =0\n",
        "        # 3. check if sum > maxsum\n",
        "        if sum >maxsum:\n",
        "            maxsum =sum\n",
        "            tstart = start\n",
        "            tend =i\n",
        "    return maxsum\n",
        "\n",
        "max_sum(a = [-2,1,-3,4,-1,2,1,-5,4])"
      ]
    },
    {
      "cell_type": "markdown",
      "metadata": {},
      "source": [
        "# Array with duplicate elements and find single element "
      ]
    },
    {
      "cell_type": "code",
      "execution_count": 40,
      "metadata": {},
      "outputs": [
        {
          "name": "stdout",
          "output_type": "stream",
          "text": [
            "4\n"
          ]
        }
      ],
      "source": [
        "a = [1,2,3,1,2,4,3]\n",
        "ans = 0\n",
        "for i in a:\n",
        "    ans = ans^i\n",
        "\n",
        "print(ans)"
      ]
    },
    {
      "cell_type": "code",
      "execution_count": 59,
      "metadata": {},
      "outputs": [
        {
          "name": "stdout",
          "output_type": "stream",
          "text": [
            "The single element is: 4\n"
          ]
        }
      ],
      "source": [
        "def singleNonDuplicate(arr):\n",
        "    n = len(arr)  # Size of the array\n",
        "\n",
        "    # Edge cases:\n",
        "    if n == 1:\n",
        "        return arr[0]\n",
        "    if arr[0] != arr[1]:\n",
        "        return arr[0]\n",
        "    if arr[n - 1] != arr[n - 2]:\n",
        "        return arr[n - 1]\n",
        "\n",
        "    low = 1\n",
        "    high = n - 2\n",
        "    while low <= high:\n",
        "        mid = (low + high) // 2\n",
        "\n",
        "        # If arr[mid] is the single element:\n",
        "        if arr[mid] != arr[mid + 1] and arr[mid] != arr[mid - 1]:\n",
        "            return arr[mid]\n",
        "\n",
        "        # We are in the left:\n",
        "        if (mid % 2 == 1 and arr[mid] == arr[mid - 1]) or (mid % 2 == 0 and arr[mid] == arr[mid + 1]):\n",
        "            # Eliminate the left half:\n",
        "            low = mid + 1\n",
        "        # We are in the right:\n",
        "        else:\n",
        "            # Eliminate the right half:\n",
        "            high = mid - 1\n",
        "\n",
        "    # Dummy return statement:\n",
        "    return -1\n",
        "\n",
        "arr = [1, 1, 2, 2, 3, 3, 4, 5, 5, 6, 6]\n",
        "ans = singleNonDuplicate(arr)\n",
        "print(\"The single element is:\", ans)\n"
      ]
    },
    {
      "cell_type": "markdown",
      "metadata": {},
      "source": [
        "# Decode the message"
      ]
    },
    {
      "cell_type": "code",
      "execution_count": 46,
      "metadata": {},
      "outputs": [
        {
          "data": {
            "text/plain": [
              "'aUi frvjd lgp'"
            ]
          },
          "execution_count": 46,
          "metadata": {},
          "output_type": "execute_result"
        }
      ],
      "source": [
        "def decode(message):\n",
        "    map_dict = {' ':' '}\n",
        "    curr_char = 'a'\n",
        "\n",
        "    for c in message:\n",
        "        if c not in map_dict:\n",
        "            map_dict[c] = curr_char\n",
        "            curr_char = chr(ord(c) +1)\n",
        "\n",
        "    return ''.join(map_dict[c] for c in message)\n",
        "    \n",
        "decode('The quick fox')"
      ]
    },
    {
      "cell_type": "markdown",
      "metadata": {},
      "source": [
        "# 3.Intersection of two lists"
      ]
    },
    {
      "cell_type": "code",
      "execution_count": 47,
      "metadata": {},
      "outputs": [
        {
          "name": "stdout",
          "output_type": "stream",
          "text": [
            "[4, 5]\n",
            "[4, 5]\n",
            "[4, 5]\n"
          ]
        }
      ],
      "source": [
        "list1 = [1, 2, 3, 4, 5]\n",
        "list2 = [4, 5, 6, 7, 8]\n",
        "\n",
        "intersection = [item for item in list1 if item in list2]\n",
        "print(intersection)  # Output: [4, 5]\n",
        "\n",
        "list1 = [1, 2, 3, 4, 5]\n",
        "list2 = [4, 5, 6, 7, 8]\n",
        "\n",
        "intersection = list(set(list1) & set(list2))\n",
        "print(intersection)  # Output: [4, 5]\n",
        "\n",
        "intersection = list(filter(lambda x: x in list2, list1))\n",
        "print(intersection)"
      ]
    },
    {
      "cell_type": "markdown",
      "metadata": {},
      "source": [
        "# Find the Peak Element == Find Local Maxima"
      ]
    },
    {
      "cell_type": "code",
      "execution_count": null,
      "metadata": {},
      "outputs": [
        {
          "name": "stdout",
          "output_type": "stream",
          "text": [
            "The peak is at index: 9\n"
          ]
        }
      ],
      "source": [
        "def findPeakElement(arr: [int]) -> int:\n",
        "    n = len(arr)  # Size of the array\n",
        "\n",
        "    # Edge cases:\n",
        "    if n == 1:\n",
        "        return 0\n",
        "    if arr[0] > arr[1]:\n",
        "        return 0\n",
        "    if arr[n - 1] > arr[n - 2]:\n",
        "        return n - 1\n",
        "\n",
        "    low = 1\n",
        "    high = n - 2\n",
        "    while low <= high:\n",
        "        mid = (low + high) // 2\n",
        "\n",
        "        # If arr[mid] is the peak:\n",
        "        if arr[mid - 1] < arr[mid] and arr[mid] > arr[mid + 1]:\n",
        "            return mid\n",
        "\n",
        "        # If we are in the left:\n",
        "        if arr[mid] > arr[mid - 1]:\n",
        "            low = mid + 1\n",
        "\n",
        "        # If we are in the right:\n",
        "        # Or, arr[mid] is a common point:\n",
        "        else:\n",
        "            high = mid - 1\n",
        "\n",
        "    # Dummy return statement\n",
        "    return -1\n",
        "\n",
        "arr = [1, 2, 3, 4, 5, 6, 7, 8, 5, 1]\n",
        "ans = findPeakElement(arr)\n",
        "print(\"The peak is at index:\", ans)"
      ]
    },
    {
      "cell_type": "markdown",
      "metadata": {},
      "source": [
        "# Leaders in an array"
      ]
    },
    {
      "cell_type": "code",
      "execution_count": 27,
      "metadata": {},
      "outputs": [
        {
          "name": "stdout",
          "output_type": "stream",
          "text": [
            "[22, 12, 6]\n",
            "[7, 0]\n"
          ]
        }
      ],
      "source": [
        "def leaders(a):\n",
        "  # greater than all elements on the right\n",
        "  leaders = [a[-1]]\n",
        "  max = a[-1]\n",
        "  n = len(a) -1\n",
        "  for i in range(n-2,0,-1):\n",
        "\n",
        "    if a[i] > max:\n",
        "      max = a[i]\n",
        "      leaders.append(a[i])\n",
        "  return leaders[::-1]\n",
        "\n",
        "print(leaders([10,22,12,3,0,6]))\n",
        "print(leaders([4,7,1,0]))"
      ]
    },
    {
      "cell_type": "markdown",
      "metadata": {},
      "source": [
        "# Find all Local Maxima's"
      ]
    },
    {
      "cell_type": "code",
      "execution_count": 28,
      "metadata": {},
      "outputs": [
        {
          "name": "stdout",
          "output_type": "stream",
          "text": [
            "[3, 4, 6]\n"
          ]
        }
      ],
      "source": [
        "def find_local_maxima(arr):\n",
        "    local_maxima = []\n",
        "    n = len(arr)\n",
        "    \n",
        "    for i in range(n):\n",
        "        if (i == 0 and arr[i] > arr[i + 1]) or \\\n",
        "           (i == n - 1 and arr[i] > arr[i - 1]) or \\\n",
        "           (0 < i < n - 1 and arr[i] > arr[i - 1] and arr[i] > arr[i + 1]):\n",
        "            local_maxima.append(arr[i])\n",
        "    \n",
        "    return local_maxima\n",
        "\n",
        "# Example usage:\n",
        "arr = [1, 3, 2, 4, 1, 5, 6, 4]\n",
        "print(find_local_maxima(arr))  # Output: [3, 4, 6]\n"
      ]
    },
    {
      "cell_type": "code",
      "execution_count": null,
      "metadata": {},
      "outputs": [],
      "source": []
    },
    {
      "cell_type": "markdown",
      "metadata": {},
      "source": [
        "# 2nd Largest element in an arrays "
      ]
    },
    {
      "cell_type": "code",
      "execution_count": 49,
      "metadata": {},
      "outputs": [
        {
          "data": {
            "text/plain": [
              "(5, 3)"
            ]
          },
          "execution_count": 49,
          "metadata": {},
          "output_type": "execute_result"
        }
      ],
      "source": [
        "max1 = -100000000\n",
        "max2 = -100000000\n",
        "\n",
        "list_1 = [2,5,1,3,0]\n",
        "for i in range(len(list_1)):\n",
        "  if  list_1[i] > max1:\n",
        "    max2 = max1\n",
        "    max1 = list_1[i]\n",
        "  else:\n",
        "    if (list_1[i] > max2) and (list_1[i] != max1):\n",
        "      max2 = list_1[i]\n",
        "max1,max2"
      ]
    },
    {
      "cell_type": "markdown",
      "metadata": {},
      "source": [
        "# Reverse in Chunks"
      ]
    },
    {
      "cell_type": "code",
      "execution_count": 52,
      "metadata": {},
      "outputs": [
        {
          "data": {
            "text/plain": [
              "[4, 3, 2, 1, 8, 7, 6, 5, 9, 10]"
            ]
          },
          "execution_count": 52,
          "metadata": {},
          "output_type": "execute_result"
        }
      ],
      "source": [
        "def reverse_in_chunks(arr, b):\n",
        "    # Loop through the array in steps of `b`\n",
        "    for i in range(0, len(arr), b):\n",
        "        # If the remaining elements are at least `b`, reverse the chunk\n",
        "        if i + b <= len(arr):\n",
        "            arr[i:i+b] = arr[i:i+b][::-1]\n",
        "    return arr\n",
        "# Input array and frequency\n",
        "arr = [1, 2, 3, 4, 5, 6, 7, 8, 9, 10]\n",
        "b = 4\n",
        "reverse_in_chunks(arr,b)"
      ]
    },
    {
      "cell_type": "markdown",
      "metadata": {},
      "source": [
        "# Find the Missing number in the summation"
      ]
    },
    {
      "cell_type": "code",
      "execution_count": 53,
      "metadata": {},
      "outputs": [],
      "source": [
        "def missingNumber(a, N):\n",
        "    xor1 = 0\n",
        "    xor2 = 0\n",
        "\n",
        "    for i in range(N - 1):\n",
        "        xor2 = xor2 ^ a[i]  # XOR of array elements\n",
        "        xor1 = xor1 ^ (i + 1)  # XOR up to [1...N-1]\n",
        "    \n",
        "    xor1 = xor1 ^ N  # XOR up to [1...N]\n",
        "\n",
        "    return xor1 ^ xor2  # the missing number\n",
        "\n",
        "\n",
        "def missingNumber(a, N):\n",
        "    # Summation of first N numbers:\n",
        "    summation = (N * (N + 1)) // 2\n",
        "\n",
        "    # Summation of all array elements:\n",
        "    s2 = sum(a)\n",
        "\n",
        "    missingNum = summation - s2\n",
        "    return missingNum"
      ]
    },
    {
      "cell_type": "markdown",
      "metadata": {},
      "source": [
        "# freq sorting a given Array"
      ]
    },
    {
      "cell_type": "code",
      "execution_count": null,
      "metadata": {},
      "outputs": [
        {
          "name": "stdout",
          "output_type": "stream",
          "text": [
            "['Aryan', 'Aryan', 'Aryan', 'Harsh', 'Harsh', 'Kunal']\n"
          ]
        }
      ],
      "source": [
        "from collections import Counter\n",
        "a = [\"Aryan\", \"Harsh\", \"Aryan\", \"Kunal\", \"Harsh\", \"Aryan\"]\n",
        "# Count frequency of each element in a\n",
        "freq = Counter(a)\n",
        "\n",
        "# Sort list a based on frequency (highest frequency first)\n",
        "res = sorted(a, key=lambda x: -freq[x])\n",
        "print(res)"
      ]
    },
    {
      "cell_type": "markdown",
      "metadata": {},
      "source": [
        "# Stock buy and Sell"
      ]
    },
    {
      "cell_type": "code",
      "execution_count": 55,
      "metadata": {},
      "outputs": [
        {
          "name": "stdout",
          "output_type": "stream",
          "text": [
            "9 0\n"
          ]
        }
      ],
      "source": [
        "a  = [7,1,5,3,6,4,10,0,4,2,0]\n",
        "mini = 100000000\n",
        "maxi = -100000000\n",
        "for i in range(len(a)-1):\n",
        "  # return the minimum until that point\n",
        "  mini =  min(mini,a[i])\n",
        "  # what is the net max and to sell\n",
        "  maxi = max(maxi,a[i] - mini)\n",
        "\n",
        "print(maxi,mini)\n"
      ]
    },
    {
      "cell_type": "markdown",
      "metadata": {},
      "source": [
        "# Merge Intervals"
      ]
    },
    {
      "cell_type": "code",
      "execution_count": null,
      "metadata": {},
      "outputs": [],
      "source": [
        "a = [(1,3),(2,6),(8,9),(9,11),(8,10),(2,4),(15,18),(16,17)]\n",
        "ans = []\n",
        "sorted(a)\n",
        "n = len(a)\n",
        "for i in range(n):\n",
        "    \n",
        "    start = a[i][0]\n",
        "    end = a[i][1]\n",
        "    if (len(ans)!= 0) and (ans[-1][1] >= start):\n",
        "        continue\n",
        "    for j in range(i+1,n):\n",
        "        \n",
        "        if end >= a[j][0]:\n",
        "            end = max(end,a[j][1])\n",
        "        else:\n",
        "            break\n",
        "    ans.append((start,end))\n",
        "ans"
      ]
    },
    {
      "cell_type": "markdown",
      "metadata": {},
      "source": [
        " # Self Descriptive Number"
      ]
    },
    {
      "cell_type": "code",
      "execution_count": 58,
      "metadata": {},
      "outputs": [
        {
          "name": "stdout",
          "output_type": "stream",
          "text": [
            "True 1210\n",
            "True 2020\n",
            "True 21200\n"
          ]
        }
      ],
      "source": [
        "from collections import Counter\n",
        "N = 21200\n",
        "for j in range(1,N+1):\n",
        "\n",
        "  str_n = str(j)\n",
        "\n",
        "  dict_counter = Counter(str_n)\n",
        "  dict_counter\n",
        "\n",
        "  dict_1 = {}\n",
        "  for i in range(len(str_n)):\n",
        "      if int(str_n[i]) != 0:\n",
        "        dict_1[str(i)] = int(str_n[i])\n",
        "\n",
        "  if dict_1 == dict(dict_counter):\n",
        "    print(True, j)"
      ]
    },
    {
      "cell_type": "markdown",
      "metadata": {},
      "source": [
        "# Find Duplicates in Binary Search"
      ]
    },
    {
      "cell_type": "code",
      "execution_count": 64,
      "metadata": {},
      "outputs": [
        {
          "name": "stdout",
          "output_type": "stream",
          "text": [
            "5 11 12 "
          ]
        }
      ],
      "source": [
        "# Python program to find the duplicate elements using \n",
        "# Binary Search\n",
        "# Index of the first occurrence of target\n",
        "def lowerBound(arr, target):\n",
        "    low, high = 0, len(arr)\n",
        "    while low < high:\n",
        "        mid = (low + high) // 2\n",
        "        if arr[mid] < target:\n",
        "            low = mid + 1\n",
        "        else:\n",
        "            high = mid\n",
        "    return low  \n",
        "\n",
        "# Index just past the last occurrence of target\n",
        "def upperBound(arr, target):\n",
        "    low, high = 0, len(arr)\n",
        "    while low < high:\n",
        "        mid = (low + high) // 2\n",
        "        if arr[mid] <= target:\n",
        "            low = mid + 1\n",
        "        else:\n",
        "            high = mid\n",
        "    return low\n",
        "\n",
        "def findDuplicates(arr):\n",
        "    arr.sort()\n",
        "    res = []  \n",
        "\n",
        "    i = 0\n",
        "    while i < len(arr):\n",
        "        first = lowerBound(arr, arr[i])\n",
        "        last = upperBound(arr, arr[i]) - 1\n",
        "\n",
        "        # If the element occurs more than once, add it to res\n",
        "        if last > first:\n",
        "            res.append(arr[i])\n",
        "\n",
        "        # Update i to the last index of the current element\n",
        "        i = last + 1\n",
        "    return res\n",
        "\n",
        "# Driver code\n",
        "if __name__ == \"__main__\":\n",
        "    arr = [12, 11, 40, 12, 5, 6, 5, 12, 11]\n",
        "    res = findDuplicates(arr)\n",
        "    for x in res:\n",
        "        print(x, end=' ')\n"
      ]
    },
    {
      "cell_type": "markdown",
      "metadata": {},
      "source": [
        "# N meetings in One Room"
      ]
    },
    {
      "cell_type": "markdown",
      "metadata": {},
      "source": [
        "# Non overlapping Intervals =  N - (#meetings)"
      ]
    },
    {
      "cell_type": "code",
      "execution_count": null,
      "metadata": {},
      "outputs": [
        {
          "name": "stdout",
          "output_type": "stream",
          "text": [
            "[(1, 2, 2), (3, 4, 1), (0, 5, 0), (5, 7, 4), (5, 9, 3), (8, 9, 5)]\n"
          ]
        },
        {
          "data": {
            "text/plain": [
              "([2, 1, 4, 5], 4)"
            ]
          },
          "execution_count": 29,
          "metadata": {},
          "output_type": "execute_result"
        }
      ],
      "source": [
        "a = [(0,5),(3,4),(1,2),(5,9),(5,7),(8,9)]\n",
        "\n",
        "n = len(a)\n",
        "\n",
        "sorted(a,key=lambda x:x[1])\n",
        "a = [(a[i]) + (i,) for i in range(len(a))]\n",
        "a = sorted(a,key=lambda x:x[1])\n",
        "cnt =1\n",
        "end_time = a[0][1]\n",
        "output = [a[0][2]]\n",
        "\n",
        "print(a) \n",
        "for i in range(1,len(a)):\n",
        "    if end_time < a[i][0]:\n",
        "        cnt+=1\n",
        "        end_time = a[i][1]\n",
        "        output.append(a[i][2])\n",
        "\n",
        "output,cnt"
      ]
    },
    {
      "cell_type": "markdown",
      "metadata": {},
      "source": [
        "# Convert Numbers to Words"
      ]
    },
    {
      "cell_type": "code",
      "execution_count": 19,
      "metadata": {},
      "outputs": [
        {
          "data": {
            "text/plain": [
              "'One Hundred Twenty Nine'"
            ]
          },
          "execution_count": 19,
          "metadata": {},
          "output_type": "execute_result"
        }
      ],
      "source": [
        "ones = (\n",
        "   'Zero', 'One', 'Two', 'Three', 'Four',\n",
        "   'Five', 'Six', 'Seven', 'Eight', 'Nine'\n",
        "   )\n",
        "\n",
        "twos = (\n",
        "   'Ten', 'Eleven', 'Twelve', 'Thirteen', 'Fourteen',\n",
        "    'Fifteen', 'Sixteen', 'Seventeen', 'Eighteen', 'Nineteen'\n",
        "   )\n",
        "\n",
        "tens = (\n",
        "   'Twenty', 'Thirty', 'Forty', 'Fifty', 'Sixty',\n",
        "    'Seventy', 'Eighty', 'Ninety', 'Hundred'\n",
        "   )\n",
        "\n",
        "suffixes = (\n",
        "   '', 'Thousand', 'Million', 'Billion'\n",
        "   )\n",
        "\n",
        "def fetch_words(number):\n",
        "    \"\"\"Converts a three-digit segment into words.\"\"\"\n",
        "    number = str(number) # Ensure three-digit format\n",
        "    hundreds_digit = int(number[0])\n",
        "    tens_digit = int(number[1])\n",
        "    ones_digit = int(number[2])\n",
        "\n",
        "    words = []\n",
        "    \n",
        "    if hundreds_digit > 0:\n",
        "        words.append(ones[hundreds_digit])\n",
        "        words.append(\"Hundred\")\n",
        "\n",
        "    if tens_digit > 1:\n",
        "        words.append(tens[tens_digit - 2])\n",
        "        if ones_digit > 0:\n",
        "            words.append(ones[ones_digit])\n",
        "    elif tens_digit == 1:\n",
        "        words.append(twos[ones_digit])\n",
        "    elif ones_digit > 0:\n",
        "        words.append(ones[ones_digit])\n",
        "\n",
        "    return \" \".join(words)\n",
        "\n",
        "fetch_words(129)"
      ]
    },
    {
      "cell_type": "markdown",
      "metadata": {},
      "source": [
        "# Fibonacci Number to prevent numerical overflows"
      ]
    },
    {
      "cell_type": "code",
      "execution_count": 3,
      "metadata": {},
      "outputs": [
        {
          "data": {
            "text/plain": [
              "610"
            ]
          },
          "execution_count": 3,
          "metadata": {},
          "output_type": "execute_result"
        }
      ],
      "source": [
        "def fibonacci(n):\n",
        "    \n",
        "    if n==0 or n==1:\n",
        "        return n \n",
        "    a=0\n",
        "    b=1\n",
        "    for i in range(2,n+1):\n",
        "        a,b = b,a+b\n",
        "\n",
        "    return b\n",
        "fibonacci(15)"
      ]
    },
    {
      "cell_type": "markdown",
      "metadata": {},
      "source": [
        "# Shallow Copy and Deep Copy"
      ]
    },
    {
      "cell_type": "code",
      "execution_count": 62,
      "metadata": {},
      "outputs": [
        {
          "name": "stdout",
          "output_type": "stream",
          "text": [
            "[1, ['changed', 3], 4]\n",
            "[1, ['changed', 3], 4]\n"
          ]
        }
      ],
      "source": [
        "import copy\n",
        "\n",
        "# Original list\n",
        "original_list = [1, [2, 3], 4]\n",
        "\n",
        "# Shallow copy\n",
        "shallow_copied_list = copy.copy(original_list)\n",
        "\n",
        "# Modifying nested object in shallow copy\n",
        "shallow_copied_list[1][0] = 'changed'\n",
        "\n",
        "print(original_list)  # Output: [1, ['changed', 3], 4]\n",
        "print(shallow_copied_list)  # Output: [1, ['changed', 3], 4]"
      ]
    },
    {
      "cell_type": "code",
      "execution_count": 63,
      "metadata": {},
      "outputs": [
        {
          "name": "stdout",
          "output_type": "stream",
          "text": [
            "[1, [2, 3], 4]\n",
            "[1, ['changed', 3], 4]\n"
          ]
        }
      ],
      "source": [
        "import copy\n",
        "\n",
        "# Original list\n",
        "original_list = [1, [2, 3], 4]\n",
        "\n",
        "# Deep copy\n",
        "deep_copied_list = copy.deepcopy(original_list)\n",
        "\n",
        "# Modifying nested object in deep copy\n",
        "deep_copied_list[1][0] = 'changed'\n",
        "\n",
        "print(original_list)  # Output: [1, [2, 3], 4]\n",
        "print(deep_copied_list)  # Output: [1, ['changed', 3], 4]"
      ]
    },
    {
      "cell_type": "markdown",
      "metadata": {},
      "source": [
        "# Linked Lists"
      ]
    },
    {
      "cell_type": "markdown",
      "metadata": {},
      "source": [
        "# reverse a linked list "
      ]
    },
    {
      "cell_type": "code",
      "execution_count": 61,
      "metadata": {},
      "outputs": [
        {
          "name": "stdout",
          "output_type": "stream",
          "text": [
            "6\n",
            "5\n",
            "4\n",
            "3\n",
            "2\n",
            "0\n"
          ]
        }
      ],
      "source": [
        "def reverse(head):\n",
        "    \n",
        "    prev_node = None\n",
        "    current = head\n",
        "    if head == None:\n",
        "        return head\n",
        "\n",
        "    while current != None:\n",
        "        next_node =  current.next\n",
        "        current.next = prev_node\n",
        "        prev_node = current\n",
        "        current = next_node\n",
        "    \n",
        "    return  prev_node\n",
        "\n",
        "class node:\n",
        "  def __init__(self,data):\n",
        "    self.data =  data\n",
        "    self.next = None\n",
        "\n",
        "a = node(0)\n",
        "y =node(2)\n",
        "x =  node(3)\n",
        "z = node(4)\n",
        "end = node(5)\n",
        "enda = node(6)\n",
        "a.next =y\n",
        "y.next = x\n",
        "x.next  = z\n",
        "z.next =  end\n",
        "end.next = enda\n",
        "def printll(head):\n",
        "    current = head\n",
        "    while current !=None:\n",
        "        print(current.data)\n",
        "        current = current.next\n",
        "printll(reverse(a))"
      ]
    },
    {
      "cell_type": "markdown",
      "metadata": {},
      "source": [
        "# 9. Find the Middle of LinkedList"
      ]
    },
    {
      "cell_type": "code",
      "execution_count": 8,
      "metadata": {
        "id": "vEQJGBUNI87U"
      },
      "outputs": [
        {
          "name": "stdout",
          "output_type": "stream",
          "text": [
            "0\n",
            "2\n",
            "3\n",
            "5\n",
            "6\n"
          ]
        }
      ],
      "source": [
        "class node:\n",
        "  def __init__(self,data):\n",
        "    self.data =  data\n",
        "    self.next = None\n",
        "\n",
        "a = node(0)\n",
        "y =node(2)\n",
        "x =  node(3) # Start of Node\n",
        "z = node(4)\n",
        "end = node(5)\n",
        "enda = node(6)\n",
        "# endb = node(7)\n",
        "a.next =y\n",
        "y.next = x\n",
        "x.next  = z\n",
        "z.next =  end\n",
        "end.next = enda # End Of Node\n",
        "# enda.next = endb\n",
        "\n",
        "def printll(head):\n",
        "    current = head\n",
        "    while current !=None:\n",
        "        print(current.data)\n",
        "        current = current.next\n",
        "\n",
        "def delete_middle(head):\n",
        "\n",
        "  slow_current = head\n",
        "  fast_current = head\n",
        "  while fast_current != None and fast_current.next != None:\n",
        "    prev = slow_current\n",
        "    slow_current = slow_current.next\n",
        "    fast_current = fast_current.next.next\n",
        "  \n",
        "  prev.next = slow_current.next\n",
        "  # print(prev.data)\n",
        "  # print(slow_current.data)\n",
        "  return head\n",
        "\n",
        "printll(delete_middle(a))"
      ]
    },
    {
      "cell_type": "markdown",
      "metadata": {},
      "source": [
        "# 11. Find Loops in a Linked List"
      ]
    },
    {
      "cell_type": "code",
      "execution_count": null,
      "metadata": {},
      "outputs": [
        {
          "data": {
            "text/plain": [
              "'Loop does exist in a Linkedlist'"
            ]
          },
          "execution_count": 10,
          "metadata": {},
          "output_type": "execute_result"
        }
      ],
      "source": [
        "class node:\n",
        "  def __init__(self,data):\n",
        "    self.data =  data\n",
        "    self.next = None\n",
        "\n",
        "a = node(0)\n",
        "y =node(2)\n",
        "x =  node(3) # Start of Node\n",
        "z = node(4)\n",
        "end = node(5)\n",
        "enda = node(6)\n",
        "# endb = node(7)\n",
        "a.next =y\n",
        "y.next = x\n",
        "x.next  = z\n",
        "z.next =  end\n",
        "end.next = enda # End Of Node\n",
        "enda.next = x\n",
        "\n",
        "def printll(head):\n",
        "    current = head\n",
        "    while current !=None:\n",
        "        print(current.data)\n",
        "        current = current.next\n",
        "\n",
        "def find_loop(head):\n",
        "\n",
        "  slow_current = head\n",
        "  fast_current = head\n",
        "\n",
        "  while fast_current != None:\n",
        "\n",
        "    slow_current = slow_current.next\n",
        "    fast_current = fast_current.next.next\n",
        "\n",
        "    if slow_current == fast_current:\n",
        "       return ('Loop does exist in a Linkedlist') \n",
        "  \n",
        "  return ('Loop does not exist in a Linkedlist') \n",
        "\n",
        "find_loop(a)"
      ]
    },
    {
      "cell_type": "markdown",
      "metadata": {},
      "source": [
        "# Trees"
      ]
    },
    {
      "cell_type": "markdown",
      "metadata": {},
      "source": [
        "# 1. Create a Binary Tree"
      ]
    },
    {
      "cell_type": "code",
      "execution_count": null,
      "metadata": {},
      "outputs": [],
      "source": [
        "class node:\n",
        "    def __init__(self,data1,left1=None,right1=None):\n",
        "        self.data = data1\n",
        "        self.left = left1\n",
        "        self.right = right1\n",
        "\n",
        "root = node(1)\n",
        "root.left = node(2)\n",
        "root.right = node(3)\n",
        "\n",
        "# Left Node\n",
        "root.left.left = node(4)\n",
        "root.left.right = node(5)"
      ]
    }
  ],
  "metadata": {
    "colab": {
      "provenance": []
    },
    "kernelspec": {
      "display_name": "Python 3",
      "name": "python3"
    },
    "language_info": {
      "codemirror_mode": {
        "name": "ipython",
        "version": 3
      },
      "file_extension": ".py",
      "mimetype": "text/x-python",
      "name": "python",
      "nbconvert_exporter": "python",
      "pygments_lexer": "ipython3",
      "version": "3.11.9"
    }
  },
  "nbformat": 4,
  "nbformat_minor": 0
}
