{
  "cells": [
    {
      "cell_type": "markdown",
      "metadata": {
        "id": "j9i8P3FbNZ0x"
      },
      "source": [
        "# 1. K-means in Numpy"
      ]
    },
    {
      "cell_type": "code",
      "execution_count": null,
      "metadata": {
        "colab": {
          "base_uri": "https://localhost:8080/"
        },
        "id": "cSbPgpv4Q_lG",
        "outputId": "3f38379e-b019-4e34-d545-eb7bb91d16c4"
      },
      "outputs": [
        {
          "name": "stdout",
          "output_type": "stream",
          "text": [
            "(10000, 2)\n",
            "[3390.308152868931, 2824.4187840636723, 2537.530174173919, 2387.2376309598703, 2362.84193665629, 2357.4316154251073, 2355.313524894865, 2354.4019268562947, 2354.017905456088, 2353.7239913070434]\n"
          ]
        }
      ],
      "source": [
        "import numpy as np\n",
        "\n",
        "# each one is a value between 0,1\n",
        "data = np.random.rand(10000,2)\n",
        "\n",
        "print(data.shape)\n",
        "\n",
        "k = 3\n",
        "indices = {}\n",
        "for i in range(3):\n",
        "  random_number = np.random.randint(1,10000)\n",
        "  indices[i] = data[random_number]\n",
        "indices\n",
        "\n",
        "loss  = []\n",
        "for i in range(10):\n",
        "  data_index = []\n",
        "  distances = []\n",
        "  for i in range(10000):\n",
        "      data_index.append(int(np.argmin([np.linalg.norm(data[i]-indices[0]),np.linalg.norm(data[i]-indices[1]),np.linalg.norm(data[i]-indices[2])])))\n",
        "      distances.append(float(np.min([np.linalg.norm(data[i]-indices[0]),np.linalg.norm(data[i]-indices[1]),np.linalg.norm(data[i]-indices[2])])))\n",
        "\n",
        "  loss.append(sum(distances))\n",
        "  data_df = pd.DataFrame(data)\n",
        "  data_df['index'] = data_index\n",
        "\n",
        "  indices[0] = np.average(np.array(data_df[data_df['index']==0][[0,1]]),axis=0)\n",
        "  indices[1] = np.average(np.array(data_df[data_df['index']==1][[0,1]]),axis=0)\n",
        "  indices[2] = np.average(np.array(data_df[data_df['index']==2][[0,1]]),axis=0)\n",
        "\n",
        "print(loss)"
      ]
    },
    {
      "cell_type": "markdown",
      "metadata": {
        "id": "39lbWygLVpVF"
      },
      "source": [
        "# 2. generate Losgistic Regression and Gradient Descent using Numpy"
      ]
    },
    {
      "cell_type": "code",
      "execution_count": null,
      "metadata": {
        "id": "cEAJ6u3pSc58"
      },
      "outputs": [],
      "source": [
        "data = np.random.rand(10000,10)\n",
        "labels = np.random.randint(1,20,10000)\n",
        "weights = np.random.randn(10,1)\n",
        "b= np.random.randn(1)\n",
        "data_df = pd.DataFrame(data)\n",
        "data_df['labels'] = labels\n",
        "X = data\n",
        "W = weights\n",
        "labels = labels.reshape((10000,1))"
      ]
    },
    {
      "cell_type": "code",
      "execution_count": null,
      "metadata": {
        "id": "MJb2GPVwXalP"
      },
      "outputs": [],
      "source": [
        "loss_list = []\n",
        "for i in range(10):\n",
        "  predictions = np.dot(X,W) + b\n",
        "  loss =  float(np.linalg.norm(labels - predictions))\n",
        "  w_old =  W\n",
        "  w_old.shape\n",
        "\n",
        "  W_new = w_old + (0.01) * 2 * np.dot(X.T,(labels - predictions))\n",
        "  W = W_new\n",
        "\n",
        "  loss_list.append(loss)"
      ]
    },
    {
      "cell_type": "markdown",
      "metadata": {
        "id": "a3xCc7Ko9DGp"
      },
      "source": [
        "# 3. Fibonacci Number Generartor"
      ]
    },
    {
      "cell_type": "code",
      "execution_count": null,
      "metadata": {
        "colab": {
          "base_uri": "https://localhost:8080/"
        },
        "id": "MgWn-OtwYB__",
        "outputId": "57e04eaa-6a8f-46e4-8005-fef326101a26"
      },
      "outputs": [
        {
          "name": "stdout",
          "output_type": "stream",
          "text": [
            "0 print\n",
            "0\n",
            "1\n",
            "1\n",
            "2\n",
            "3\n",
            "5\n",
            "8\n",
            "13\n",
            "21\n",
            "34\n"
          ]
        }
      ],
      "source": [
        "def fibonacci_generator():\n",
        "\n",
        "    a, b = 0, 1\n",
        "    print(a,'print')\n",
        "    while True:\n",
        "        yield a\n",
        "        a, b = b, a + b\n",
        "# Memory Efficiency: Generators generate values on the fly, reducing memory usage compared to storing the entire sequence in memory.\n",
        "# Lazy Evaluation: Values are computed only when needed, which can lead to performance improvements, especially with large datasets.\n",
        "# Example: Generate the first 10 Fibonacci numbers\n",
        "fib_gen = fibonacci_generator()\n",
        "for _ in range(10):\n",
        "    print(next(fib_gen))"
      ]
    },
    {
      "cell_type": "markdown",
      "metadata": {
        "id": "WP13A8bi-qzU"
      },
      "source": [
        "# 4. Capitalize words ina string"
      ]
    },
    {
      "cell_type": "code",
      "execution_count": null,
      "metadata": {
        "colab": {
          "base_uri": "https://localhost:8080/"
        },
        "id": "zkR5nRSIZDnV",
        "outputId": "e127e45d-3c86-492e-a19c-555165c3379d"
      },
      "outputs": [
        {
          "name": "stdout",
          "output_type": "stream",
          "text": [
            "Hi I Am Nithin\n",
            "Hi I Am Nithin\n"
          ]
        }
      ],
      "source": [
        "str_1 = 'hi i am nithin'\n",
        "print(' '.join(i.capitalize() for i in str_1.split(' ')))\n",
        "print(str_1.title())"
      ]
    },
    {
      "cell_type": "markdown",
      "metadata": {
        "id": "laWodzUtBeLM"
      },
      "source": [
        "# 5. Second  largest Element"
      ]
    },
    {
      "cell_type": "code",
      "execution_count": null,
      "metadata": {
        "colab": {
          "base_uri": "https://localhost:8080/"
        },
        "id": "UZSJJt9g-6in",
        "outputId": "76bd194a-60a1-411a-b880-fb7c711a157d"
      },
      "outputs": [
        {
          "name": "stdout",
          "output_type": "stream",
          "text": [
            "6 5\n"
          ]
        }
      ],
      "source": [
        "a = [2,5,6,6,4,1]\n",
        "largest = -100000\n",
        "slargest = -100000\n",
        "\n",
        "for i in range(len(a)):\n",
        "\n",
        "  if a[i] > largest:\n",
        "    slargest = largest\n",
        "    largest = a[i]\n",
        "  elif (a[i] < largest) & (a[i]> slargest):\n",
        "    slargest = a[i]\n",
        "print(largest,slargest)"
      ]
    },
    {
      "cell_type": "markdown",
      "metadata": {
        "id": "s2Rp8CofCgZB"
      },
      "source": [
        "# 6. Find the Intersection of two arrays"
      ]
    },
    {
      "cell_type": "code",
      "execution_count": null,
      "metadata": {
        "colab": {
          "base_uri": "https://localhost:8080/"
        },
        "id": "9aIC040CCHAK",
        "outputId": "507773ac-ed15-4d70-a9b7-bcb02c73ba6d"
      },
      "outputs": [
        {
          "data": {
            "text/plain": [
              "[1]"
            ]
          },
          "execution_count": 12,
          "metadata": {},
          "output_type": "execute_result"
        }
      ],
      "source": [
        "a = [1,2,3,4,5]\n",
        "b = [7,8,1]\n",
        "\n",
        "list(set(a) & set(b))"
      ]
    },
    {
      "cell_type": "markdown",
      "metadata": {
        "id": "HusJ2ppkDm_1"
      },
      "source": [
        "# 7. Find the nth prime number\n"
      ]
    },
    {
      "cell_type": "code",
      "execution_count": null,
      "metadata": {
        "colab": {
          "base_uri": "https://localhost:8080/"
        },
        "id": "XHZrB-j4DcAK",
        "outputId": "5adbf4b2-705b-45f5-a6fb-ba2643b7ac3b"
      },
      "outputs": [
        {
          "name": "stdout",
          "output_type": "stream",
          "text": [
            "59\n"
          ]
        }
      ],
      "source": [
        "import math\n",
        "n = int(input())\n",
        "\n",
        "for i in range(2, int(math.sqrt(n))+1):\n",
        "\n",
        "  if (n%i==0):\n",
        "    print('Not a Prime Number')\n",
        "    break"
      ]
    },
    {
      "cell_type": "markdown",
      "metadata": {
        "id": "48WRJC6xI0xt"
      },
      "source": [
        "# 8. find duplicates in an array"
      ]
    },
    {
      "cell_type": "code",
      "execution_count": null,
      "metadata": {
        "colab": {
          "base_uri": "https://localhost:8080/"
        },
        "id": "OS5h8LLjETdt",
        "outputId": "78d485ba-4770-4360-94d5-e1b344a95a59"
      },
      "outputs": [
        {
          "data": {
            "text/plain": [
              "4"
            ]
          },
          "execution_count": 17,
          "metadata": {},
          "output_type": "execute_result"
        }
      ],
      "source": [
        "def getSingleElement(arr):\n",
        "    # XOR all the elements:\n",
        "    xorr = 0\n",
        "    for num in arr:\n",
        "        xorr ^= num\n",
        "    return xorr\n",
        "\n",
        "getSingleElement([1,4,5,1,5])"
      ]
    },
    {
      "cell_type": "markdown",
      "metadata": {},
      "source": [
        "# Find the Square root of a Function"
      ]
    },
    {
      "cell_type": "code",
      "execution_count": null,
      "metadata": {},
      "outputs": [],
      "source": [
        "def squareroot(n):\n",
        "    low =1\n",
        "    high =n\n",
        "    while low <=high:\n",
        "        mid = low + high //2\n",
        "        val = mid*mid\n",
        "\n",
        "        if val <= n:\n",
        "            low +=1\n",
        "        else:\n",
        "            high -=1\n",
        "    return mid \n",
        "\n",
        "squareroot(100)"
      ]
    },
    {
      "cell_type": "markdown",
      "metadata": {},
      "source": [
        "# capitalize the first or Camel Case strings"
      ]
    },
    {
      "cell_type": "code",
      "execution_count": null,
      "metadata": {},
      "outputs": [
        {
          "data": {
            "text/plain": [
              "'aHeavenMadeMatch'"
            ]
          },
          "execution_count": 15,
          "metadata": {},
          "output_type": "execute_result"
        }
      ],
      "source": [
        "def camelcase(a):\n",
        "    \n",
        "    list_a = a.split(' ')\n",
        "    camel_case_strings = [list_a[i][0].upper()+ list_a[i][1:] if i!=0 else list_a[i] for i in range(len(list_a))]\n",
        "\n",
        "    return ''.join(camel_case_strings)\n",
        "\n",
        "camelcase('a heaven made match')"
      ]
    },
    {
      "cell_type": "markdown",
      "metadata": {},
      "source": [
        "# Find unique words in a list of anagrams"
      ]
    },
    {
      "cell_type": "code",
      "execution_count": 26,
      "metadata": {},
      "outputs": [
        {
          "data": {
            "text/plain": [
              "{'eilnst': ['listen', 'silent', 'enlist', 'inlets'],\n",
              " 'eggloo': ['google', 'gogole'],\n",
              " 'hnopty': ['python']}"
            ]
          },
          "execution_count": 26,
          "metadata": {},
          "output_type": "execute_result"
        }
      ],
      "source": [
        "# Anagram says permutation of one word is a Anagram \n",
        "def find_unique_words(words):\n",
        "    \n",
        "    dict_words = {}\n",
        "\n",
        "    for word in words:\n",
        "        anagram = ''.join(sorted(word))\n",
        "        if anagram in dict_words.keys():\n",
        "            dict_words[anagram].append(word)\n",
        "        else:\n",
        "            dict_words[anagram] = [word]\n",
        "    return (dict_words)\n",
        "\n",
        "words = [\"listen\", \"silent\", \"enlist\", \"inlets\", \"google\", \"gogole\", \"python\"]\n",
        "find_unique_words(words)"
      ]
    },
    {
      "cell_type": "markdown",
      "metadata": {},
      "source": [
        "# Count - sum(N + rev(N) ) is palindrome"
      ]
    },
    {
      "cell_type": "code",
      "execution_count": 33,
      "metadata": {},
      "outputs": [
        {
          "data": {
            "text/plain": [
              "3"
            ]
          },
          "execution_count": 33,
          "metadata": {},
          "output_type": "execute_result"
        }
      ],
      "source": [
        "def palindrome_sum(n):\n",
        "    count =0\n",
        "    while n != int(str(n)[::-1]):\n",
        "      sum_n = n + int(str(n)[::-1])\n",
        "      count +=1\n",
        "      n = sum_n\n",
        "    return count\n",
        "palindrome_sum(41276)"
      ]
    },
    {
      "cell_type": "markdown",
      "metadata": {},
      "source": [
        "# Maximum Sum of Subaaray"
      ]
    },
    {
      "cell_type": "code",
      "execution_count": null,
      "metadata": {},
      "outputs": [
        {
          "data": {
            "text/plain": [
              "6"
            ]
          },
          "execution_count": 35,
          "metadata": {},
          "output_type": "execute_result"
        }
      ],
      "source": [
        "def max_sum(a):\n",
        "    \n",
        "    maxsum = -10000000\n",
        "    start =0\n",
        "    tstart = -1\n",
        "    tend = -1\n",
        "    n = len(a)\n",
        "    sum =0\n",
        "    for i in range(n):\n",
        "        # 1. start with sum==0\n",
        "        if sum ==0:\n",
        "            start =i\n",
        "        # 2. sum the sum with current element\n",
        "        sum = sum +a[i]\n",
        "        if sum < 0:\n",
        "            sum =0\n",
        "        # 3. check if sum > maxsum\n",
        "        if sum >maxsum:\n",
        "            maxsum =sum\n",
        "            tstart = start\n",
        "            tend =i\n",
        "    return maxsum\n",
        "\n",
        "max_sum(a = [-2,1,-3,4,-1,2,1,-5,4])"
      ]
    },
    {
      "cell_type": "markdown",
      "metadata": {},
      "source": [
        "# Convert Numbers to Words"
      ]
    },
    {
      "cell_type": "code",
      "execution_count": 19,
      "metadata": {},
      "outputs": [
        {
          "data": {
            "text/plain": [
              "'One Hundred Twenty Nine'"
            ]
          },
          "execution_count": 19,
          "metadata": {},
          "output_type": "execute_result"
        }
      ],
      "source": [
        "ones = (\n",
        "   'Zero', 'One', 'Two', 'Three', 'Four',\n",
        "   'Five', 'Six', 'Seven', 'Eight', 'Nine'\n",
        "   )\n",
        "\n",
        "twos = (\n",
        "   'Ten', 'Eleven', 'Twelve', 'Thirteen', 'Fourteen',\n",
        "    'Fifteen', 'Sixteen', 'Seventeen', 'Eighteen', 'Nineteen'\n",
        "   )\n",
        "\n",
        "tens = (\n",
        "   'Twenty', 'Thirty', 'Forty', 'Fifty', 'Sixty',\n",
        "    'Seventy', 'Eighty', 'Ninety', 'Hundred'\n",
        "   )\n",
        "\n",
        "suffixes = (\n",
        "   '', 'Thousand', 'Million', 'Billion'\n",
        "   )\n",
        "\n",
        "def fetch_words(number):\n",
        "    \"\"\"Converts a three-digit segment into words.\"\"\"\n",
        "    number = str(number) # Ensure three-digit format\n",
        "    hundreds_digit = int(number[0])\n",
        "    tens_digit = int(number[1])\n",
        "    ones_digit = int(number[2])\n",
        "\n",
        "    words = []\n",
        "    \n",
        "    if hundreds_digit > 0:\n",
        "        words.append(ones[hundreds_digit])\n",
        "        words.append(\"Hundred\")\n",
        "\n",
        "    if tens_digit > 1:\n",
        "        words.append(tens[tens_digit - 2])\n",
        "        if ones_digit > 0:\n",
        "            words.append(ones[ones_digit])\n",
        "    elif tens_digit == 1:\n",
        "        words.append(twos[ones_digit])\n",
        "    elif ones_digit > 0:\n",
        "        words.append(ones[ones_digit])\n",
        "\n",
        "    return \" \".join(words)\n",
        "\n",
        "fetch_words(129)"
      ]
    },
    {
      "cell_type": "markdown",
      "metadata": {},
      "source": [
        "# Linked Lists"
      ]
    },
    {
      "cell_type": "markdown",
      "metadata": {},
      "source": [
        "# 9. Find the Middle of LinkedList"
      ]
    },
    {
      "cell_type": "code",
      "execution_count": 8,
      "metadata": {
        "id": "vEQJGBUNI87U"
      },
      "outputs": [
        {
          "name": "stdout",
          "output_type": "stream",
          "text": [
            "0\n",
            "2\n",
            "3\n",
            "5\n",
            "6\n"
          ]
        }
      ],
      "source": [
        "class node:\n",
        "  def __init__(self,data):\n",
        "    self.data =  data\n",
        "    self.next = None\n",
        "\n",
        "a = node(0)\n",
        "y =node(2)\n",
        "x =  node(3) # Start of Node\n",
        "z = node(4)\n",
        "end = node(5)\n",
        "enda = node(6)\n",
        "# endb = node(7)\n",
        "a.next =y\n",
        "y.next = x\n",
        "x.next  = z\n",
        "z.next =  end\n",
        "end.next = enda # End Of Node\n",
        "# enda.next = endb\n",
        "\n",
        "def printll(head):\n",
        "    current = head\n",
        "    while current !=None:\n",
        "        print(current.data)\n",
        "        current = current.next\n",
        "\n",
        "def delete_middle(head):\n",
        "\n",
        "  slow_current = head\n",
        "  fast_current = head\n",
        "  while fast_current != None and fast_current.next != None:\n",
        "    prev = slow_current\n",
        "    slow_current = slow_current.next\n",
        "    fast_current = fast_current.next.next\n",
        "  \n",
        "  prev.next = slow_current.next\n",
        "  # print(prev.data)\n",
        "  # print(slow_current.data)\n",
        "  return head\n",
        "\n",
        "printll(delete_middle(a))"
      ]
    },
    {
      "cell_type": "markdown",
      "metadata": {},
      "source": [
        "# 11. Find Loops in a Linked List"
      ]
    },
    {
      "cell_type": "code",
      "execution_count": null,
      "metadata": {},
      "outputs": [
        {
          "data": {
            "text/plain": [
              "'Loop does exist in a Linkedlist'"
            ]
          },
          "execution_count": 10,
          "metadata": {},
          "output_type": "execute_result"
        }
      ],
      "source": [
        "class node:\n",
        "  def __init__(self,data):\n",
        "    self.data =  data\n",
        "    self.next = None\n",
        "\n",
        "a = node(0)\n",
        "y =node(2)\n",
        "x =  node(3) # Start of Node\n",
        "z = node(4)\n",
        "end = node(5)\n",
        "enda = node(6)\n",
        "# endb = node(7)\n",
        "a.next =y\n",
        "y.next = x\n",
        "x.next  = z\n",
        "z.next =  end\n",
        "end.next = enda # End Of Node\n",
        "enda.next = x\n",
        "\n",
        "def printll(head):\n",
        "    current = head\n",
        "    while current !=None:\n",
        "        print(current.data)\n",
        "        current = current.next\n",
        "\n",
        "def find_loop(head):\n",
        "\n",
        "  slow_current = head\n",
        "  fast_current = head\n",
        "\n",
        "  while fast_current != None:\n",
        "\n",
        "    slow_current = slow_current.next\n",
        "    fast_current = fast_current.next.next\n",
        "\n",
        "    if slow_current == fast_current:\n",
        "       return ('Loop does exist in a Linkedlist') \n",
        "  \n",
        "  return ('Loop does not exist in a Linkedlist') \n",
        "\n",
        "find_loop(a)"
      ]
    },
    {
      "cell_type": "markdown",
      "metadata": {},
      "source": [
        "# Trees"
      ]
    },
    {
      "cell_type": "markdown",
      "metadata": {},
      "source": [
        "# 1. Create a Binary Tree"
      ]
    },
    {
      "cell_type": "code",
      "execution_count": null,
      "metadata": {},
      "outputs": [],
      "source": [
        "class node:\n",
        "    def __init__(self,data1,left1=None,right1=None):\n",
        "        self.data = data1\n",
        "        self.left = left1\n",
        "        self.right = right1\n",
        "\n",
        "root = node(1)\n",
        "root.left = node(2)\n",
        "root.right = node(3)\n",
        "\n",
        "# Left Node\n",
        "root.left.left = node(4)\n",
        "root.left.right = node(5)"
      ]
    }
  ],
  "metadata": {
    "colab": {
      "provenance": []
    },
    "kernelspec": {
      "display_name": "Python 3",
      "name": "python3"
    },
    "language_info": {
      "codemirror_mode": {
        "name": "ipython",
        "version": 3
      },
      "file_extension": ".py",
      "mimetype": "text/x-python",
      "name": "python",
      "nbconvert_exporter": "python",
      "pygments_lexer": "ipython3",
      "version": "3.11.9"
    }
  },
  "nbformat": 4,
  "nbformat_minor": 0
}
