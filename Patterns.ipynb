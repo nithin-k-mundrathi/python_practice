{
  "nbformat": 4,
  "nbformat_minor": 0,
  "metadata": {
    "colab": {
      "provenance": [],
      "authorship_tag": "ABX9TyPPgChppEtmiBrD+Dg2Fr3I",
      "include_colab_link": true
    },
    "kernelspec": {
      "name": "python3",
      "display_name": "Python 3"
    },
    "language_info": {
      "name": "python"
    }
  },
  "cells": [
    {
      "cell_type": "markdown",
      "metadata": {
        "id": "view-in-github",
        "colab_type": "text"
      },
      "source": [
        "<a href=\"https://colab.research.google.com/github/nithin-k-mundrathi/python_practice/blob/main/Patterns.ipynb\" target=\"_parent\"><img src=\"https://colab.research.google.com/assets/colab-badge.svg\" alt=\"Open In Colab\"/></a>"
      ]
    },
    {
      "cell_type": "code",
      "execution_count": 7,
      "metadata": {
        "colab": {
          "base_uri": "https://localhost:8080/"
        },
        "id": "ehlnN6yj_JCt",
        "outputId": "bd357e3a-c0f9-4faa-d8ce-c1de2189492d"
      },
      "outputs": [
        {
          "output_type": "stream",
          "name": "stdout",
          "text": [
            "5\n",
            "*****\n",
            "*****\n",
            "*****\n",
            "*****\n"
          ]
        }
      ],
      "source": [
        "k = int(input())\n",
        "for i in range(1,k):\n",
        "  z = []\n",
        "  for i in range(k):\n",
        "    z.append('*')\n",
        "  print(''.join(z),end='')\n",
        "  print('\\n',end='')"
      ]
    },
    {
      "cell_type": "code",
      "source": [
        "# Empty Square\n",
        "k  =int(input())\n",
        "for i in range(k):\n",
        "  z = []\n",
        "  for j in range(k):\n",
        "    if i==0 or i==(k-1) or j==0 or j==(k-1):\n",
        "      z.append('*')\n",
        "    else:\n",
        "      z.append(' ')\n",
        "  print(''.join(z),end='')\n",
        "  print('\\n',end='')"
      ],
      "metadata": {
        "colab": {
          "base_uri": "https://localhost:8080/"
        },
        "id": "tqoXlkQbAPbZ",
        "outputId": "7fa4e1ae-2784-48db-ad55-a837e7fa7563"
      },
      "execution_count": 5,
      "outputs": [
        {
          "output_type": "stream",
          "name": "stdout",
          "text": [
            "5\n",
            "*****\n",
            "*   *\n",
            "*   *\n",
            "*   *\n",
            "*****\n"
          ]
        }
      ]
    },
    {
      "cell_type": "code",
      "source": [
        "# left triangle\n",
        "k = int(input())\n",
        "for i in range(k):\n",
        "  z = []\n",
        "  for j in range(k):\n",
        "    if j<=i:\n",
        "      z.append('*')\n",
        "    else:\n",
        "      z.append(' ')\n",
        "  print(''.join(z),end='')\n",
        "  print('\\n',end='')\n"
      ],
      "metadata": {
        "colab": {
          "base_uri": "https://localhost:8080/"
        },
        "id": "lWzpLPRUAgZX",
        "outputId": "fe79671b-0fb4-406f-d78f-109f4e7efcb5"
      },
      "execution_count": 6,
      "outputs": [
        {
          "output_type": "stream",
          "name": "stdout",
          "text": [
            "4\n",
            "*   \n",
            "**  \n",
            "*** \n",
            "****\n"
          ]
        }
      ]
    },
    {
      "cell_type": "code",
      "source": [
        "#right Triangle\n",
        "k = int(input())\n",
        "for i in range(k-1,-1,-1):\n",
        "  z = []\n",
        "  for j in range(0,k):\n",
        "    if j<i:\n",
        "      z.append(' ')\n",
        "    else:\n",
        "      z.append('*')\n",
        "\n",
        "  print(''.join(z),end='')\n",
        "  print('\\n',end='')\n"
      ],
      "metadata": {
        "colab": {
          "base_uri": "https://localhost:8080/"
        },
        "id": "qb6rYfMiAmim",
        "outputId": "cc0bd47c-4055-47f9-c975-d6b16d7cafd1"
      },
      "execution_count": 8,
      "outputs": [
        {
          "output_type": "stream",
          "name": "stdout",
          "text": [
            "6\n",
            "     *\n",
            "    **\n",
            "   ***\n",
            "  ****\n",
            " *****\n",
            "******\n"
          ]
        }
      ]
    },
    {
      "cell_type": "code",
      "source": [
        "#Left dOWN Triangle\n",
        "k = int(input())\n",
        "for i in range(k):\n",
        "  z = []\n",
        "  for j in range(k,0,-1):\n",
        "    if j>i:\n",
        "      z.append('*')\n",
        "    else:\n",
        "      z.append(' ')\n",
        "  print(''.join(z),end='')\n",
        "  print('\\n',end='')\n"
      ],
      "metadata": {
        "colab": {
          "base_uri": "https://localhost:8080/"
        },
        "id": "1BdV3mCFAwQN",
        "outputId": "294ee8c7-008f-4da3-da40-717b9c1fd37f"
      },
      "execution_count": 10,
      "outputs": [
        {
          "output_type": "stream",
          "name": "stdout",
          "text": [
            "4\n",
            "****\n",
            "*** \n",
            "**  \n",
            "*   \n"
          ]
        }
      ]
    },
    {
      "cell_type": "code",
      "source": [
        "#Left dOWN Triangle\n",
        "k = int(input())\n",
        "for i in range(k):\n",
        "  z = []\n",
        "  for j in range(k-1,-1,-1):\n",
        "    if j<i:\n",
        "      z.append(' ')\n",
        "    else:\n",
        "      z.append('*')\n",
        "  p = z[::-1]\n",
        "\n",
        "  print(''.join(p),end='')\n",
        "  print('\\n',end='')\n",
        "\n",
        "#   #Left dOWN Triangle\n",
        "# k = int(input())\n",
        "# for i in range(k-1,-1,-1):\n",
        "#   z = []\n",
        "#   for j in range(k-1,-1,-1):\n",
        "#     if i>=j:\n",
        "#       z.append('*')\n",
        "#     else:\n",
        "#       z.append(' ')\n",
        "#   print(''.join(z),end='')\n",
        "#   print('\\n',end='')"
      ],
      "metadata": {
        "colab": {
          "base_uri": "https://localhost:8080/"
        },
        "id": "SrcMF-MbA5id",
        "outputId": "c5bb04bd-c2c3-46bc-f09a-0cd2dda29cb6"
      },
      "execution_count": 11,
      "outputs": [
        {
          "output_type": "stream",
          "name": "stdout",
          "text": [
            "5\n",
            "*****\n",
            " ****\n",
            "  ***\n",
            "   **\n",
            "    *\n"
          ]
        }
      ]
    },
    {
      "cell_type": "code",
      "source": [
        "#Hollow  Triangle\n",
        "k = int(input())\n",
        "for i in range(k):\n",
        "  z = []\n",
        "  for j in range(0,k):\n",
        "    if (i==k-1):\n",
        "        z.append('*')\n",
        "    elif (i==j) or (j<=0):\n",
        "      z.append('*')\n",
        "    else:\n",
        "      z.append(' ')\n",
        "\n",
        "  print(''.join(z),end='')\n",
        "  print('\\n',end='')"
      ],
      "metadata": {
        "colab": {
          "base_uri": "https://localhost:8080/"
        },
        "id": "kR7zNp_HA_ov",
        "outputId": "e93a3f8a-b114-4ab6-cb47-63d46c470350"
      },
      "execution_count": 13,
      "outputs": [
        {
          "output_type": "stream",
          "name": "stdout",
          "text": [
            "8\n",
            "*       \n",
            "**      \n",
            "* *     \n",
            "*  *    \n",
            "*   *   \n",
            "*    *  \n",
            "*     * \n",
            "********\n"
          ]
        }
      ]
    },
    {
      "cell_type": "code",
      "source": [
        "# Pyramid\n",
        "k = int(input())\n",
        "for i in range(int(k)):\n",
        "  z = []\n",
        "  for j in range(0,k):\n",
        "    if int(k/2)-i <=j <= int(k/2)+i:\n",
        "        z.append('*')\n",
        "    else:\n",
        "      z.append(' ')\n",
        "  if i> int(k/2):\n",
        "    break\n",
        "\n",
        "  print(''.join(z),end='')\n",
        "  print('\\n',end='')"
      ],
      "metadata": {
        "colab": {
          "base_uri": "https://localhost:8080/"
        },
        "id": "Hbu_OP06BBnK",
        "outputId": "5c28d069-599d-4108-ac24-7849263b6fab"
      },
      "execution_count": 14,
      "outputs": [
        {
          "output_type": "stream",
          "name": "stdout",
          "text": [
            "5\n",
            "  *  \n",
            " *** \n",
            "*****\n"
          ]
        }
      ]
    },
    {
      "cell_type": "code",
      "source": [
        "# Hollow Pyramid\n",
        "k = int(input())\n",
        "for i in range(int(k)):\n",
        "  z = []\n",
        "  for j in range(0,k):\n",
        "    if int(k/2)-i <=j <= int(k/2)+i:\n",
        "      if ( (int(k/2)-i) < j < (int(k/2)+i) ):\n",
        "        z.append(' ')\n",
        "      else:\n",
        "        z.append('*')\n",
        "    else:\n",
        "      z.append(' ')\n",
        "  if i> int(k/2):\n",
        "    break\n",
        "\n",
        "  print(''.join(z),end='')\n",
        "  print('\\n',end='')\n",
        ""
      ],
      "metadata": {
        "colab": {
          "base_uri": "https://localhost:8080/"
        },
        "id": "84_4Swl1BG3D",
        "outputId": "784f0673-2b0f-4920-fcbb-2d45d2310bad"
      },
      "execution_count": 15,
      "outputs": [
        {
          "output_type": "stream",
          "name": "stdout",
          "text": [
            "7\n",
            "   *   \n",
            "  * *  \n",
            " *   * \n",
            "*     *\n"
          ]
        }
      ]
    },
    {
      "cell_type": "code",
      "source": [
        "# Pyramid\n",
        "k = int(input())\n",
        "for i in range(int(k),-1,-1):\n",
        "  if i> int(k/2):\n",
        "    continue\n",
        "  else:\n",
        "    z = []\n",
        "    for j in range(0,k):\n",
        "      if int(k/2)-i <=j <= int(k/2)+i:\n",
        "          z.append('*')\n",
        "      else:\n",
        "        z.append(' ')\n",
        "\n",
        "  print(''.join(z),end='')\n",
        "  print('\\n',end='')"
      ],
      "metadata": {
        "colab": {
          "base_uri": "https://localhost:8080/"
        },
        "id": "OoxRMVqpBJrw",
        "outputId": "03eba7c6-39fe-430c-e6b3-47821ac21123"
      },
      "execution_count": 16,
      "outputs": [
        {
          "output_type": "stream",
          "name": "stdout",
          "text": [
            "7\n",
            "*******\n",
            " ***** \n",
            "  ***  \n",
            "   *   \n"
          ]
        }
      ]
    },
    {
      "cell_type": "code",
      "source": [
        "# Diamond\n",
        "k = int(input())\n",
        "\n",
        "for i in range(k):\n",
        "  z = []\n",
        "  if i <= int(k/2):\n",
        "    for j in range(k):\n",
        "      if int(k/2)-i <=j <= int(k/2)+i:\n",
        "          z.append('*')\n",
        "      else:\n",
        "          z.append(' ')\n",
        "  if i > int(k/2):\n",
        "    for j in range(k):\n",
        "      if (i-int(k/2))<=j<= int(k)-1-(i-int(k/2)):\n",
        "        z.append('*')\n",
        "      else:\n",
        "        z.append(' ')\n",
        "  print(''.join(z),end='')\n",
        "  print('\\n',end='')"
      ],
      "metadata": {
        "colab": {
          "base_uri": "https://localhost:8080/"
        },
        "id": "npZc16mpBMaw",
        "outputId": "60984c65-28a9-4e0b-e9c8-174c789444f5"
      },
      "execution_count": 17,
      "outputs": [
        {
          "output_type": "stream",
          "name": "stdout",
          "text": [
            "7\n",
            "   *   \n",
            "  ***  \n",
            " ***** \n",
            "*******\n",
            " ***** \n",
            "  ***  \n",
            "   *   \n"
          ]
        }
      ]
    },
    {
      "cell_type": "code",
      "source": [
        "# hollow Diamond\n",
        "k = int(input())\n",
        "\n",
        "for i in range(k):\n",
        "  z = []\n",
        "  if i < int(k/2):\n",
        "    for j in range(k):\n",
        "      if int(k/2)-i <=j <= int(k/2)+i:\n",
        "        if int(k/2)-i < j < int(k/2)+i:\n",
        "          z.append(' ')\n",
        "        else:\n",
        "          z.append('*')\n",
        "      else:\n",
        "        z.append(' ')\n",
        "  if i== int(k/2):\n",
        "    for j in range(k):\n",
        "      z.append('*')\n",
        "  if i > int(k/2):\n",
        "    for j in range(k):\n",
        "      if (i-int(k/2))<=j<= int(k)-1-(i-int(k/2)):\n",
        "        if (i-int(k/2))< j< int(k)-1-(i-int(k/2)):\n",
        "          z.append(' ')\n",
        "        else:\n",
        "          z.append('*')\n",
        "      else:\n",
        "        z.append(' ')\n",
        "\n",
        "  print(''.join(z),end='')\n",
        "  print('\\n',end='')"
      ],
      "metadata": {
        "colab": {
          "base_uri": "https://localhost:8080/"
        },
        "id": "wTdjM8e2BOlR",
        "outputId": "d7524700-db1c-485d-d47a-799b69279ad2"
      },
      "execution_count": 19,
      "outputs": [
        {
          "output_type": "stream",
          "name": "stdout",
          "text": [
            "7\n",
            "   *   \n",
            "  * *  \n",
            " *   * \n",
            "*******\n",
            " *   * \n",
            "  * *  \n",
            "   *   \n"
          ]
        }
      ]
    },
    {
      "cell_type": "code",
      "source": [
        "# HourGlass Diamond\n",
        "k = int(input())\n",
        "\n",
        "for i in range(k):\n",
        "  z = []\n",
        "  if i <= int(k/2):\n",
        "    for j in range(k-1,-1,-1):\n",
        "      if i <=j <= int(k)-1-i:\n",
        "        z.append('*')\n",
        "      else:\n",
        "        z.append(' ')\n",
        "  if i > int(k/2):\n",
        "    for j in range(0,k):\n",
        "      if (int(k)-1-int(i))<= j <= int(i):\n",
        "        z.append('*')\n",
        "      else:\n",
        "        z.append(' ')\n",
        "\n",
        "  print(''.join(z),end='')\n",
        "  print('\\n',end='')"
      ],
      "metadata": {
        "colab": {
          "base_uri": "https://localhost:8080/"
        },
        "id": "xZbMxddPBT3k",
        "outputId": "7b8aa468-5a42-47b3-db32-af936998f027"
      },
      "execution_count": 20,
      "outputs": [
        {
          "output_type": "stream",
          "name": "stdout",
          "text": [
            "7\n",
            "*******\n",
            " ***** \n",
            "  ***  \n",
            "   *   \n",
            "  ***  \n",
            " ***** \n",
            "*******\n"
          ]
        }
      ]
    },
    {
      "cell_type": "code",
      "source": [
        "# right Pascal\n",
        "k = int(input())\n",
        "\n",
        "for i in range(1,k+1):\n",
        "  z = []\n",
        "  if i <= int(k/2) +1:\n",
        "    for j in range(1,k):\n",
        "      if j <=i:\n",
        "        z.append('*')\n",
        "      else:\n",
        "        z.append(' ')\n",
        "  else:\n",
        "      for j in range(1,k+1):\n",
        "        if j < int(k) - int(i)+1:\n",
        "          z.append('*')\n",
        "        else:\n",
        "          z.append(' ')\n",
        "\n",
        "  print(''.join(z),end='')\n",
        "  print('\\n',end='')"
      ],
      "metadata": {
        "colab": {
          "base_uri": "https://localhost:8080/"
        },
        "id": "VP5g2QYVBX7X",
        "outputId": "850fb000-4799-457a-f52c-8f3465e10883"
      },
      "execution_count": 22,
      "outputs": [
        {
          "output_type": "stream",
          "name": "stdout",
          "text": [
            "9\n",
            "*       \n",
            "**      \n",
            "***     \n",
            "****    \n",
            "*****   \n",
            "***      \n",
            "**       \n",
            "*        \n",
            "         \n"
          ]
        }
      ]
    },
    {
      "cell_type": "code",
      "source": [
        "# Left Pascal\n",
        "k = int(input())\n",
        "\n",
        "for i in range(0,2*k):\n",
        "  z = []\n",
        "  if i < int(k):\n",
        "    for j in range(0,k):\n",
        "      if j <int(k)-i-1:\n",
        "        z.append(' ')\n",
        "      else:\n",
        "        z.append('*')\n",
        "  else:\n",
        "      for j in range(0,k):\n",
        "        if j > i-k:\n",
        "          z.append('*')\n",
        "        else:\n",
        "          z.append(' ')\n",
        "\n",
        "  print(''.join(z),end='')\n",
        "  print('\\n',end='')"
      ],
      "metadata": {
        "colab": {
          "base_uri": "https://localhost:8080/"
        },
        "id": "jUvdXhekBbH7",
        "outputId": "de86d7ed-d792-4c50-e825-56ac08955a00"
      },
      "execution_count": 23,
      "outputs": [
        {
          "output_type": "stream",
          "name": "stdout",
          "text": [
            "7\n",
            "      *\n",
            "     **\n",
            "    ***\n",
            "   ****\n",
            "  *****\n",
            " ******\n",
            "*******\n",
            " ******\n",
            "  *****\n",
            "   ****\n",
            "    ***\n",
            "     **\n",
            "      *\n",
            "       \n"
          ]
        }
      ]
    },
    {
      "cell_type": "code",
      "source": [
        "# Plus\n",
        "k = int(input())\n",
        "\n",
        "for i in range(k):\n",
        "  z = []\n",
        "  if i != int(k/2):\n",
        "    for j in range(k):\n",
        "      if j == int(k/2):\n",
        "        z.append('*')\n",
        "      else:\n",
        "        z.append(' ')\n",
        "  else:\n",
        "      for j in range(k):\n",
        "        z.append('*')\n",
        "\n",
        "  print(''.join(z),end='')\n",
        "  print('\\n',end='')"
      ],
      "metadata": {
        "colab": {
          "base_uri": "https://localhost:8080/"
        },
        "id": "GrHelVkOBiiY",
        "outputId": "50f2c727-00b5-417f-92d8-4e30df1f94d6"
      },
      "execution_count": 24,
      "outputs": [
        {
          "output_type": "stream",
          "name": "stdout",
          "text": [
            "7\n",
            "   *   \n",
            "   *   \n",
            "   *   \n",
            "*******\n",
            "   *   \n",
            "   *   \n",
            "   *   \n"
          ]
        }
      ]
    },
    {
      "cell_type": "code",
      "source": [
        "# Cross Pattern\n",
        "k = int(input())\n",
        "\n",
        "for i in range(k):\n",
        "  z = []\n",
        "  if i <= int(k):\n",
        "    for j in range(k):\n",
        "      if (j==i) or (j ==int(k-1-i)):\n",
        "        z.append('*')\n",
        "      else:\n",
        "        z.append(' ')\n",
        "  else:\n",
        "      for j in range(k):\n",
        "        z.append('*')\n",
        "\n",
        "  print(''.join(z),end='')\n",
        "  print('\\n',end='')"
      ],
      "metadata": {
        "colab": {
          "base_uri": "https://localhost:8080/"
        },
        "id": "Oo7_Vlz9Bl3U",
        "outputId": "b25665cc-64a5-4afe-c4bf-34ea1b954df8"
      },
      "execution_count": 25,
      "outputs": [
        {
          "output_type": "stream",
          "name": "stdout",
          "text": [
            "7\n",
            "*     *\n",
            " *   * \n",
            "  * *  \n",
            "   *   \n",
            "  * *  \n",
            " *   * \n",
            "*     *\n"
          ]
        }
      ]
    },
    {
      "cell_type": "code",
      "source": [],
      "metadata": {
        "id": "FS_cyJHWBoSj"
      },
      "execution_count": null,
      "outputs": []
    }
  ]
}