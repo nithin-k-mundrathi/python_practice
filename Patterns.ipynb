{
  "nbformat": 4,
  "nbformat_minor": 0,
  "metadata": {
    "colab": {
      "provenance": [],
      "authorship_tag": "ABX9TyNkkLcxkVTXXbtmSw+VqHS0",
      "include_colab_link": true
    },
    "kernelspec": {
      "name": "python3",
      "display_name": "Python 3"
    },
    "language_info": {
      "name": "python"
    }
  },
  "cells": [
    {
      "cell_type": "markdown",
      "metadata": {
        "id": "view-in-github",
        "colab_type": "text"
      },
      "source": [
        "<a href=\"https://colab.research.google.com/github/nithin-k-mundrathi/python_practice/blob/main/Patterns.ipynb\" target=\"_parent\"><img src=\"https://colab.research.google.com/assets/colab-badge.svg\" alt=\"Open In Colab\"/></a>"
      ]
    },
    {
      "cell_type": "code",
      "execution_count": null,
      "metadata": {
        "colab": {
          "base_uri": "https://localhost:8080/"
        },
        "id": "ehlnN6yj_JCt",
        "outputId": "bd357e3a-c0f9-4faa-d8ce-c1de2189492d"
      },
      "outputs": [
        {
          "output_type": "stream",
          "name": "stdout",
          "text": [
            "5\n",
            "*****\n",
            "*****\n",
            "*****\n",
            "*****\n"
          ]
        }
      ],
      "source": [
        "k = int(input())\n",
        "for i in range(1,k):\n",
        "  z = []\n",
        "  for i in range(k):\n",
        "    z.append('*')\n",
        "  print(''.join(z),end='')\n",
        "  print('\\n',end='')"
      ]
    },
    {
      "cell_type": "code",
      "source": [
        "# Empty Square\n",
        "k  =int(input())\n",
        "for i in range(k):\n",
        "  z = []\n",
        "  for j in range(k):\n",
        "    if i==0 or i==(k-1) or j==0 or j==(k-1):\n",
        "      z.append('*')\n",
        "    else:\n",
        "      z.append(' ')\n",
        "  print(''.join(z),end='')\n",
        "  print('\\n',end='')"
      ],
      "metadata": {
        "colab": {
          "base_uri": "https://localhost:8080/"
        },
        "id": "tqoXlkQbAPbZ",
        "outputId": "7fa4e1ae-2784-48db-ad55-a837e7fa7563"
      },
      "execution_count": null,
      "outputs": [
        {
          "output_type": "stream",
          "name": "stdout",
          "text": [
            "5\n",
            "*****\n",
            "*   *\n",
            "*   *\n",
            "*   *\n",
            "*****\n"
          ]
        }
      ]
    },
    {
      "cell_type": "code",
      "source": [
        "# left triangle\n",
        "k = int(input())\n",
        "for i in range(k):\n",
        "  z = []\n",
        "  for j in range(k):\n",
        "    if j<=i:\n",
        "      z.append('*')\n",
        "    else:\n",
        "      z.append(' ')\n",
        "  print(''.join(z),end='')\n",
        "  print('\\n',end='')\n"
      ],
      "metadata": {
        "colab": {
          "base_uri": "https://localhost:8080/"
        },
        "id": "lWzpLPRUAgZX",
        "outputId": "fe79671b-0fb4-406f-d78f-109f4e7efcb5"
      },
      "execution_count": null,
      "outputs": [
        {
          "output_type": "stream",
          "name": "stdout",
          "text": [
            "4\n",
            "*   \n",
            "**  \n",
            "*** \n",
            "****\n"
          ]
        }
      ]
    },
    {
      "cell_type": "code",
      "source": [
        "#right Triangle\n",
        "k = int(input())\n",
        "for i in range(k-1,-1,-1):\n",
        "  z = []\n",
        "  for j in range(0,k):\n",
        "    if j<i:\n",
        "      z.append(' ')\n",
        "    else:\n",
        "      z.append('*')\n",
        "\n",
        "  print(''.join(z),end='')\n",
        "  print('\\n',end='')\n"
      ],
      "metadata": {
        "colab": {
          "base_uri": "https://localhost:8080/"
        },
        "id": "qb6rYfMiAmim",
        "outputId": "cc0bd47c-4055-47f9-c975-d6b16d7cafd1"
      },
      "execution_count": null,
      "outputs": [
        {
          "output_type": "stream",
          "name": "stdout",
          "text": [
            "6\n",
            "     *\n",
            "    **\n",
            "   ***\n",
            "  ****\n",
            " *****\n",
            "******\n"
          ]
        }
      ]
    },
    {
      "cell_type": "code",
      "source": [
        "#Left dOWN Triangle\n",
        "k = int(input())\n",
        "for i in range(k):\n",
        "  z = []\n",
        "  for j in range(k,0,-1):\n",
        "    if j>i:\n",
        "      z.append('*')\n",
        "    else:\n",
        "      z.append(' ')\n",
        "  print(''.join(z),end='')\n",
        "  print('\\n',end='')\n"
      ],
      "metadata": {
        "colab": {
          "base_uri": "https://localhost:8080/"
        },
        "id": "1BdV3mCFAwQN",
        "outputId": "294ee8c7-008f-4da3-da40-717b9c1fd37f"
      },
      "execution_count": null,
      "outputs": [
        {
          "output_type": "stream",
          "name": "stdout",
          "text": [
            "4\n",
            "****\n",
            "*** \n",
            "**  \n",
            "*   \n"
          ]
        }
      ]
    },
    {
      "cell_type": "code",
      "source": [
        "#Left dOWN Triangle\n",
        "k = int(input())\n",
        "for i in range(k):\n",
        "  z = []\n",
        "  for j in range(k-1,-1,-1):\n",
        "    if j<i:\n",
        "      z.append(' ')\n",
        "    else:\n",
        "      z.append('*')\n",
        "  p = z[::-1]\n",
        "\n",
        "  print(''.join(p),end='')\n",
        "  print('\\n',end='')\n",
        "\n",
        "#   #Left dOWN Triangle\n",
        "# k = int(input())\n",
        "# for i in range(k-1,-1,-1):\n",
        "#   z = []\n",
        "#   for j in range(k-1,-1,-1):\n",
        "#     if i>=j:\n",
        "#       z.append('*')\n",
        "#     else:\n",
        "#       z.append(' ')\n",
        "#   print(''.join(z),end='')\n",
        "#   print('\\n',end='')"
      ],
      "metadata": {
        "colab": {
          "base_uri": "https://localhost:8080/"
        },
        "id": "SrcMF-MbA5id",
        "outputId": "c5bb04bd-c2c3-46bc-f09a-0cd2dda29cb6"
      },
      "execution_count": null,
      "outputs": [
        {
          "output_type": "stream",
          "name": "stdout",
          "text": [
            "5\n",
            "*****\n",
            " ****\n",
            "  ***\n",
            "   **\n",
            "    *\n"
          ]
        }
      ]
    },
    {
      "cell_type": "code",
      "source": [
        "#Hollow  Triangle\n",
        "k = int(input())\n",
        "for i in range(k):\n",
        "  z = []\n",
        "  for j in range(0,k):\n",
        "    if (i==k-1):\n",
        "        z.append('*')\n",
        "    elif (i==j) or (j<=0):\n",
        "      z.append('*')\n",
        "    else:\n",
        "      z.append(' ')\n",
        "\n",
        "  print(''.join(z),end='')\n",
        "  print('\\n',end='')"
      ],
      "metadata": {
        "colab": {
          "base_uri": "https://localhost:8080/"
        },
        "id": "kR7zNp_HA_ov",
        "outputId": "e93a3f8a-b114-4ab6-cb47-63d46c470350"
      },
      "execution_count": null,
      "outputs": [
        {
          "output_type": "stream",
          "name": "stdout",
          "text": [
            "8\n",
            "*       \n",
            "**      \n",
            "* *     \n",
            "*  *    \n",
            "*   *   \n",
            "*    *  \n",
            "*     * \n",
            "********\n"
          ]
        }
      ]
    },
    {
      "cell_type": "code",
      "source": [
        "# Pyramid\n",
        "k = int(input())\n",
        "for i in range(int(k)):\n",
        "  z = []\n",
        "  for j in range(0,k):\n",
        "    if int(k/2)-i <=j <= int(k/2)+i:\n",
        "        z.append('*')\n",
        "    else:\n",
        "      z.append(' ')\n",
        "  if i> int(k/2):\n",
        "    break\n",
        "\n",
        "  print(''.join(z),end='')\n",
        "  print('\\n',end='')"
      ],
      "metadata": {
        "colab": {
          "base_uri": "https://localhost:8080/"
        },
        "id": "Hbu_OP06BBnK",
        "outputId": "5c28d069-599d-4108-ac24-7849263b6fab"
      },
      "execution_count": null,
      "outputs": [
        {
          "output_type": "stream",
          "name": "stdout",
          "text": [
            "5\n",
            "  *  \n",
            " *** \n",
            "*****\n"
          ]
        }
      ]
    },
    {
      "cell_type": "code",
      "source": [
        "# Hollow Pyramid\n",
        "k = int(input())\n",
        "for i in range(int(k)):\n",
        "  z = []\n",
        "  for j in range(0,k):\n",
        "    if int(k/2)-i <=j <= int(k/2)+i:\n",
        "      if ( (int(k/2)-i) < j < (int(k/2)+i) ):\n",
        "        z.append(' ')\n",
        "      else:\n",
        "        z.append('*')\n",
        "    else:\n",
        "      z.append(' ')\n",
        "  if i> int(k/2):\n",
        "    break\n",
        "\n",
        "  print(''.join(z),end='')\n",
        "  print('\\n',end='')\n"
      ],
      "metadata": {
        "colab": {
          "base_uri": "https://localhost:8080/"
        },
        "id": "84_4Swl1BG3D",
        "outputId": "784f0673-2b0f-4920-fcbb-2d45d2310bad"
      },
      "execution_count": null,
      "outputs": [
        {
          "output_type": "stream",
          "name": "stdout",
          "text": [
            "7\n",
            "   *   \n",
            "  * *  \n",
            " *   * \n",
            "*     *\n"
          ]
        }
      ]
    },
    {
      "cell_type": "code",
      "source": [
        "# Pyramid\n",
        "k = int(input())\n",
        "for i in range(int(k),-1,-1):\n",
        "  if i> int(k/2):\n",
        "    continue\n",
        "  else:\n",
        "    z = []\n",
        "    for j in range(0,k):\n",
        "      if int(k/2)-i <=j <= int(k/2)+i:\n",
        "          z.append('*')\n",
        "      else:\n",
        "        z.append(' ')\n",
        "\n",
        "  print(''.join(z),end='')\n",
        "  print('\\n',end='')"
      ],
      "metadata": {
        "colab": {
          "base_uri": "https://localhost:8080/"
        },
        "id": "OoxRMVqpBJrw",
        "outputId": "03eba7c6-39fe-430c-e6b3-47821ac21123"
      },
      "execution_count": null,
      "outputs": [
        {
          "output_type": "stream",
          "name": "stdout",
          "text": [
            "7\n",
            "*******\n",
            " ***** \n",
            "  ***  \n",
            "   *   \n"
          ]
        }
      ]
    },
    {
      "cell_type": "code",
      "source": [
        "# Diamond\n",
        "k = int(input())\n",
        "\n",
        "for i in range(k):\n",
        "  z = []\n",
        "  if i <= int(k/2):\n",
        "    for j in range(k):\n",
        "      if int(k/2)-i <=j <= int(k/2)+i:\n",
        "          z.append('*')\n",
        "      else:\n",
        "          z.append(' ')\n",
        "  if i > int(k/2):\n",
        "    for j in range(k):\n",
        "      if (i-int(k/2))<=j<= int(k)-1-(i-int(k/2)):\n",
        "        z.append('*')\n",
        "      else:\n",
        "        z.append(' ')\n",
        "  print(''.join(z),end='')\n",
        "  print('\\n',end='')"
      ],
      "metadata": {
        "colab": {
          "base_uri": "https://localhost:8080/"
        },
        "id": "npZc16mpBMaw",
        "outputId": "60984c65-28a9-4e0b-e9c8-174c789444f5"
      },
      "execution_count": null,
      "outputs": [
        {
          "output_type": "stream",
          "name": "stdout",
          "text": [
            "7\n",
            "   *   \n",
            "  ***  \n",
            " ***** \n",
            "*******\n",
            " ***** \n",
            "  ***  \n",
            "   *   \n"
          ]
        }
      ]
    },
    {
      "cell_type": "code",
      "source": [
        "# hollow Diamond\n",
        "k = int(input())\n",
        "\n",
        "for i in range(k):\n",
        "  z = []\n",
        "  if i < int(k/2):\n",
        "    for j in range(k):\n",
        "      if int(k/2)-i <=j <= int(k/2)+i:\n",
        "        if int(k/2)-i < j < int(k/2)+i:\n",
        "          z.append(' ')\n",
        "        else:\n",
        "          z.append('*')\n",
        "      else:\n",
        "        z.append(' ')\n",
        "  if i== int(k/2):\n",
        "    for j in range(k):\n",
        "      z.append('*')\n",
        "  if i > int(k/2):\n",
        "    for j in range(k):\n",
        "      if (i-int(k/2))<=j<= int(k)-1-(i-int(k/2)):\n",
        "        if (i-int(k/2))< j< int(k)-1-(i-int(k/2)):\n",
        "          z.append(' ')\n",
        "        else:\n",
        "          z.append('*')\n",
        "      else:\n",
        "        z.append(' ')\n",
        "\n",
        "  print(''.join(z),end='')\n",
        "  print('\\n',end='')"
      ],
      "metadata": {
        "colab": {
          "base_uri": "https://localhost:8080/"
        },
        "id": "wTdjM8e2BOlR",
        "outputId": "d7524700-db1c-485d-d47a-799b69279ad2"
      },
      "execution_count": null,
      "outputs": [
        {
          "output_type": "stream",
          "name": "stdout",
          "text": [
            "7\n",
            "   *   \n",
            "  * *  \n",
            " *   * \n",
            "*******\n",
            " *   * \n",
            "  * *  \n",
            "   *   \n"
          ]
        }
      ]
    },
    {
      "cell_type": "code",
      "source": [
        "# HourGlass Diamond\n",
        "k = int(input())\n",
        "\n",
        "for i in range(k):\n",
        "  z = []\n",
        "  if i <= int(k/2):\n",
        "    for j in range(k-1,-1,-1):\n",
        "      if i <=j <= int(k)-1-i:\n",
        "        z.append('*')\n",
        "      else:\n",
        "        z.append(' ')\n",
        "  if i > int(k/2):\n",
        "    for j in range(0,k):\n",
        "      if (int(k)-1-int(i))<= j <= int(i):\n",
        "        z.append('*')\n",
        "      else:\n",
        "        z.append(' ')\n",
        "\n",
        "  print(''.join(z),end='')\n",
        "  print('\\n',end='')"
      ],
      "metadata": {
        "colab": {
          "base_uri": "https://localhost:8080/"
        },
        "id": "xZbMxddPBT3k",
        "outputId": "7b8aa468-5a42-47b3-db32-af936998f027"
      },
      "execution_count": null,
      "outputs": [
        {
          "output_type": "stream",
          "name": "stdout",
          "text": [
            "7\n",
            "*******\n",
            " ***** \n",
            "  ***  \n",
            "   *   \n",
            "  ***  \n",
            " ***** \n",
            "*******\n"
          ]
        }
      ]
    },
    {
      "cell_type": "code",
      "source": [
        "# right Pascal\n",
        "k = int(input())\n",
        "\n",
        "for i in range(1,k+1):\n",
        "  z = []\n",
        "  if i <= int(k/2) +1:\n",
        "    for j in range(1,k):\n",
        "      if j <=i:\n",
        "        z.append('*')\n",
        "      else:\n",
        "        z.append(' ')\n",
        "  else:\n",
        "      for j in range(1,k+1):\n",
        "        if j < int(k) - int(i)+1:\n",
        "          z.append('*')\n",
        "        else:\n",
        "          z.append(' ')\n",
        "\n",
        "  print(''.join(z),end='')\n",
        "  print('\\n',end='')"
      ],
      "metadata": {
        "colab": {
          "base_uri": "https://localhost:8080/"
        },
        "id": "VP5g2QYVBX7X",
        "outputId": "850fb000-4799-457a-f52c-8f3465e10883"
      },
      "execution_count": null,
      "outputs": [
        {
          "output_type": "stream",
          "name": "stdout",
          "text": [
            "9\n",
            "*       \n",
            "**      \n",
            "***     \n",
            "****    \n",
            "*****   \n",
            "***      \n",
            "**       \n",
            "*        \n",
            "         \n"
          ]
        }
      ]
    },
    {
      "cell_type": "code",
      "source": [
        "# Left Pascal\n",
        "k = int(input())\n",
        "\n",
        "for i in range(0,2*k):\n",
        "  z = []\n",
        "  if i < int(k):\n",
        "    for j in range(0,k):\n",
        "      if j <int(k)-i-1:\n",
        "        z.append(' ')\n",
        "      else:\n",
        "        z.append('*')\n",
        "  else:\n",
        "      for j in range(0,k):\n",
        "        if j > i-k:\n",
        "          z.append('*')\n",
        "        else:\n",
        "          z.append(' ')\n",
        "\n",
        "  print(''.join(z),end='')\n",
        "  print('\\n',end='')"
      ],
      "metadata": {
        "colab": {
          "base_uri": "https://localhost:8080/"
        },
        "id": "jUvdXhekBbH7",
        "outputId": "de86d7ed-d792-4c50-e825-56ac08955a00"
      },
      "execution_count": null,
      "outputs": [
        {
          "output_type": "stream",
          "name": "stdout",
          "text": [
            "7\n",
            "      *\n",
            "     **\n",
            "    ***\n",
            "   ****\n",
            "  *****\n",
            " ******\n",
            "*******\n",
            " ******\n",
            "  *****\n",
            "   ****\n",
            "    ***\n",
            "     **\n",
            "      *\n",
            "       \n"
          ]
        }
      ]
    },
    {
      "cell_type": "code",
      "source": [
        "# Plus\n",
        "k = int(input())\n",
        "\n",
        "for i in range(k):\n",
        "  z = []\n",
        "  if i != int(k/2):\n",
        "    for j in range(k):\n",
        "      if j == int(k/2):\n",
        "        z.append('*')\n",
        "      else:\n",
        "        z.append(' ')\n",
        "  else:\n",
        "      for j in range(k):\n",
        "        z.append('*')\n",
        "\n",
        "  print(''.join(z),end='')\n",
        "  print('\\n',end='')"
      ],
      "metadata": {
        "colab": {
          "base_uri": "https://localhost:8080/"
        },
        "id": "GrHelVkOBiiY",
        "outputId": "50f2c727-00b5-417f-92d8-4e30df1f94d6"
      },
      "execution_count": null,
      "outputs": [
        {
          "output_type": "stream",
          "name": "stdout",
          "text": [
            "7\n",
            "   *   \n",
            "   *   \n",
            "   *   \n",
            "*******\n",
            "   *   \n",
            "   *   \n",
            "   *   \n"
          ]
        }
      ]
    },
    {
      "cell_type": "code",
      "source": [
        "# Cross Pattern\n",
        "k = int(input())\n",
        "\n",
        "for i in range(k):\n",
        "  z = []\n",
        "  if i <= int(k):\n",
        "    for j in range(k):\n",
        "      if (j==i) or (j ==int(k-1-i)):\n",
        "        z.append('*')\n",
        "      else:\n",
        "        z.append(' ')\n",
        "  else:\n",
        "      for j in range(k):\n",
        "        z.append('*')\n",
        "\n",
        "  print(''.join(z),end='')\n",
        "  print('\\n',end='')"
      ],
      "metadata": {
        "colab": {
          "base_uri": "https://localhost:8080/"
        },
        "id": "Oo7_Vlz9Bl3U",
        "outputId": "b25665cc-64a5-4afe-c4bf-34ea1b954df8"
      },
      "execution_count": null,
      "outputs": [
        {
          "output_type": "stream",
          "name": "stdout",
          "text": [
            "7\n",
            "*     *\n",
            " *   * \n",
            "  * *  \n",
            "   *   \n",
            "  * *  \n",
            " *   * \n",
            "*     *\n"
          ]
        }
      ]
    },
    {
      "cell_type": "markdown",
      "source": [
        "## Pattern - 22: The Number Pattern![number.png](data:image/png;base64,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)"
      ],
      "metadata": {
        "id": "bDXPjguWfqBX"
      }
    },
    {
      "cell_type": "code",
      "source": [
        "# Number Pattern\n",
        "import numpy as np\n",
        "k = int(input())\n",
        "\n",
        "matrix = np.zeros((k,k))\n",
        "for l in range(7):\n",
        "\n",
        "  for i in range(l,k):\n",
        "    z = []\n",
        "    for j in range(l,k):\n",
        "\n",
        "        if ((i==l) and (j<=k-1-l)) or ((j==l) and (i<=k-1-l)) or  ((j==k-1-l) and (i<=k-1-l)) or ((i==k-1-l) and (j<=k-1-l)):\n",
        "          z.append(str(3+l))\n",
        "          matrix[i,j] = 3+l\n",
        "        else:\n",
        "          z.append('0')\n",
        "    c=c+1\n",
        "    print(''.join(z),end= '')\n",
        "    print('\\n',end ='')\n",
        "  if l==4:\n",
        "    break"
      ],
      "metadata": {
        "id": "FS_cyJHWBoSj",
        "colab": {
          "base_uri": "https://localhost:8080/"
        },
        "outputId": "d1328ebd-b266-4035-b1a6-3233f8c24154"
      },
      "execution_count": 46,
      "outputs": [
        {
          "output_type": "stream",
          "name": "stdout",
          "text": [
            "9\n",
            "333333333\n",
            "300000003\n",
            "300000003\n",
            "300000003\n",
            "300000003\n",
            "300000003\n",
            "300000003\n",
            "300000003\n",
            "333333333\n",
            "44444440\n",
            "40000040\n",
            "40000040\n",
            "40000040\n",
            "40000040\n",
            "40000040\n",
            "44444440\n",
            "00000000\n",
            "5555500\n",
            "5000500\n",
            "5000500\n",
            "5000500\n",
            "5555500\n",
            "0000000\n",
            "0000000\n",
            "666000\n",
            "606000\n",
            "666000\n",
            "000000\n",
            "000000\n",
            "000000\n",
            "70000\n",
            "00000\n",
            "00000\n",
            "00000\n",
            "00000\n"
          ]
        }
      ]
    },
    {
      "cell_type": "code",
      "source": [
        "matrix"
      ],
      "metadata": {
        "colab": {
          "base_uri": "https://localhost:8080/"
        },
        "id": "v4D8q9SiZNoC",
        "outputId": "1278f753-f4af-4f08-90cf-9e8dcba16c4d"
      },
      "execution_count": 47,
      "outputs": [
        {
          "output_type": "execute_result",
          "data": {
            "text/plain": [
              "array([[3., 3., 3., 3., 3., 3., 3., 3., 3.],\n",
              "       [3., 4., 4., 4., 4., 4., 4., 4., 3.],\n",
              "       [3., 4., 5., 5., 5., 5., 5., 4., 3.],\n",
              "       [3., 4., 5., 6., 6., 6., 5., 4., 3.],\n",
              "       [3., 4., 5., 6., 7., 6., 5., 4., 3.],\n",
              "       [3., 4., 5., 6., 6., 6., 5., 4., 3.],\n",
              "       [3., 4., 5., 5., 5., 5., 5., 4., 3.],\n",
              "       [3., 4., 4., 4., 4., 4., 4., 4., 3.],\n",
              "       [3., 3., 3., 3., 3., 3., 3., 3., 3.]])"
            ]
          },
          "metadata": {},
          "execution_count": 47
        }
      ]
    },
    {
      "cell_type": "code",
      "source": [],
      "metadata": {
        "id": "h0ge4Sbbe3bt"
      },
      "execution_count": null,
      "outputs": []
    }
  ]
}