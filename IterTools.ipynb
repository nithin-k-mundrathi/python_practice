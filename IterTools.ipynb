{
  "nbformat": 4,
  "nbformat_minor": 0,
  "metadata": {
    "colab": {
      "provenance": [],
      "authorship_tag": "ABX9TyNSX5Odf4ypu7d9nC6ydswX",
      "include_colab_link": true
    },
    "kernelspec": {
      "name": "python3",
      "display_name": "Python 3"
    },
    "language_info": {
      "name": "python"
    }
  },
  "cells": [
    {
      "cell_type": "markdown",
      "metadata": {
        "id": "view-in-github",
        "colab_type": "text"
      },
      "source": [
        "<a href=\"https://colab.research.google.com/github/nithin-k-mundrathi/python_practice/blob/main/IterTools.ipynb\" target=\"_parent\"><img src=\"https://colab.research.google.com/assets/colab-badge.svg\" alt=\"Open In Colab\"/></a>"
      ]
    },
    {
      "cell_type": "code",
      "execution_count": 2,
      "metadata": {
        "colab": {
          "base_uri": "https://localhost:8080/"
        },
        "id": "N2HaE3NN5QaP",
        "outputId": "493846bd-3f0c-4415-ca08-296a81396b1d"
      },
      "outputs": [
        {
          "output_type": "stream",
          "name": "stdout",
          "text": [
            "1\n",
            "4\n",
            "7\n",
            "10\n"
          ]
        }
      ],
      "source": [
        "from itertools import count\n",
        "\n",
        "for i in count(1,3):\n",
        "  if i > 10:\n",
        "    break\n",
        "  print(i)"
      ]
    },
    {
      "cell_type": "code",
      "source": [
        "import itertools\n",
        "count=0\n",
        "for i in itertools.cycle('ABC'):\n",
        "  if count >4:\n",
        "    break\n",
        "  else:\n",
        "    print(i)\n",
        "    count = count+1"
      ],
      "metadata": {
        "colab": {
          "base_uri": "https://localhost:8080/"
        },
        "id": "0TdoCwpK5lFu",
        "outputId": "5d1b2b4e-6ded-4e2b-fa02-220d391b76a8"
      },
      "execution_count": 3,
      "outputs": [
        {
          "output_type": "stream",
          "name": "stdout",
          "text": [
            "A\n",
            "B\n",
            "C\n",
            "A\n",
            "B\n"
          ]
        }
      ]
    },
    {
      "cell_type": "code",
      "source": [
        "list(itertools.repeat(25,4))"
      ],
      "metadata": {
        "colab": {
          "base_uri": "https://localhost:8080/"
        },
        "id": "66EFo3E_5743",
        "outputId": "7a59916f-3dd9-4f88-db67-f6120c03622c"
      },
      "execution_count": 5,
      "outputs": [
        {
          "output_type": "execute_result",
          "data": {
            "text/plain": [
              "[25, 25, 25, 25]"
            ]
          },
          "metadata": {},
          "execution_count": 5
        }
      ]
    },
    {
      "cell_type": "code",
      "source": [
        "from itertools import product\n",
        "print(list(product([1,2],repeat=2)))\n",
        "print(list(product([1,2],'5')))\n",
        "print(list(product('AB',[3,4])))"
      ],
      "metadata": {
        "colab": {
          "base_uri": "https://localhost:8080/"
        },
        "id": "2dzGZ7Bw6CdT",
        "outputId": "f09ca221-be8c-45cb-eb69-69a23f72ab4b"
      },
      "execution_count": 8,
      "outputs": [
        {
          "output_type": "stream",
          "name": "stdout",
          "text": [
            "[(1, 1), (1, 2), (2, 1), (2, 2)]\n",
            "[(1, '5'), (2, '5')]\n",
            "[('A', 3), ('A', 4), ('B', 3), ('B', 4)]\n"
          ]
        }
      ]
    },
    {
      "cell_type": "code",
      "source": [
        "from itertools import permutations\n",
        "print(list(permutations('ABCD',2)))\n",
        "print(list(permutations('AB')))\n",
        "print(list(permutations('AB',2)))"
      ],
      "metadata": {
        "colab": {
          "base_uri": "https://localhost:8080/"
        },
        "id": "fgJOVPLo6SxL",
        "outputId": "1f2425f9-1110-4fd5-f7c4-4ed36e443b56"
      },
      "execution_count": 11,
      "outputs": [
        {
          "output_type": "stream",
          "name": "stdout",
          "text": [
            "[('A', 'B'), ('A', 'C'), ('A', 'D'), ('B', 'A'), ('B', 'C'), ('B', 'D'), ('C', 'A'), ('C', 'B'), ('C', 'D'), ('D', 'A'), ('D', 'B'), ('D', 'C')]\n",
            "[('A', 'B'), ('B', 'A')]\n",
            "[('A', 'B'), ('B', 'A')]\n"
          ]
        }
      ]
    },
    {
      "cell_type": "code",
      "source": [
        "from itertools import combinations\n",
        "print(list(combinations('ABCD',2)))\n",
        "print(list(combinations('AB',2)))\n",
        "print(list(combinations(range(4),2)))"
      ],
      "metadata": {
        "colab": {
          "base_uri": "https://localhost:8080/"
        },
        "id": "1Z_xJmgO6qVN",
        "outputId": "b8c3e60c-c295-4c29-b42e-b0559df6c4fc"
      },
      "execution_count": 16,
      "outputs": [
        {
          "output_type": "stream",
          "name": "stdout",
          "text": [
            "[('A', 'B'), ('A', 'C'), ('A', 'D'), ('B', 'C'), ('B', 'D'), ('C', 'D')]\n",
            "[('A', 'B')]\n",
            "[(0, 1), (0, 2), (0, 3), (1, 2), (1, 3), (2, 3)]\n"
          ]
        }
      ]
    },
    {
      "cell_type": "code",
      "source": [
        "from itertools import combinations_with_replacement\n",
        "print(list(combinations_with_replacement('ABCD',2)))\n",
        "print(list(combinations_with_replacement('AB',2)))\n",
        "print(list(combinations_with_replacement(range(4),2)))"
      ],
      "metadata": {
        "colab": {
          "base_uri": "https://localhost:8080/"
        },
        "id": "8lLeZ1lu7A7A",
        "outputId": "7bac66a9-7730-4862-9cad-69bf34120633"
      },
      "execution_count": 17,
      "outputs": [
        {
          "output_type": "stream",
          "name": "stdout",
          "text": [
            "[('A', 'A'), ('A', 'B'), ('A', 'C'), ('A', 'D'), ('B', 'B'), ('B', 'C'), ('B', 'D'), ('C', 'C'), ('C', 'D'), ('D', 'D')]\n",
            "[('A', 'A'), ('A', 'B'), ('B', 'B')]\n",
            "[(0, 0), (0, 1), (0, 2), (0, 3), (1, 1), (1, 2), (1, 3), (2, 2), (2, 3), (3, 3)]\n"
          ]
        }
      ]
    },
    {
      "cell_type": "code",
      "source": [
        "import itertools\n",
        "list(itertools.chain('ABC',range(2)))"
      ],
      "metadata": {
        "colab": {
          "base_uri": "https://localhost:8080/"
        },
        "id": "GQB8Di-Q7XT5",
        "outputId": "9b6fea18-3d08-4711-9207-244c89585f7c"
      },
      "execution_count": 18,
      "outputs": [
        {
          "output_type": "execute_result",
          "data": {
            "text/plain": [
              "['A', 'B', 'C', 0, 1]"
            ]
          },
          "metadata": {},
          "execution_count": 18
        }
      ]
    },
    {
      "cell_type": "code",
      "source": [],
      "metadata": {
        "id": "CCRSB6tc7r3t"
      },
      "execution_count": null,
      "outputs": []
    }
  ]
}