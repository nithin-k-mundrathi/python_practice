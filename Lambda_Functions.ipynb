{
  "cells": [
    {
      "cell_type": "markdown",
      "metadata": {
        "colab_type": "text",
        "id": "view-in-github"
      },
      "source": [
        "<a href=\"https://colab.research.google.com/github/nithin-k-mundrathi/python_practice/blob/main/Lambda_Functions.ipynb\" target=\"_parent\"><img src=\"https://colab.research.google.com/assets/colab-badge.svg\" alt=\"Open In Colab\"/></a>"
      ]
    },
    {
      "cell_type": "code",
      "execution_count": 1,
      "metadata": {
        "colab": {
          "base_uri": "https://localhost:8080/"
        },
        "id": "740ROrRrJFpF",
        "outputId": "a2fae28c-ef47-4213-f3e7-4b756d10189a"
      },
      "outputs": [
        {
          "name": "stdout",
          "output_type": "stream",
          "text": [
            "even number\n",
            "odd number\n"
          ]
        }
      ],
      "source": [
        "# Example: Check if a number is even or odd\n",
        "check  = lambda x: 'even number' if x%2 ==0 else 'odd number'\n",
        "\n",
        "print(check(4))\n",
        "print(check(7))"
      ]
    },
    {
      "cell_type": "code",
      "execution_count": 6,
      "metadata": {},
      "outputs": [
        {
          "name": "stdout",
          "output_type": "stream",
          "text": [
            "['+ve', '+ve', '+ve', '+ve']\n",
            "[1, 2, 3, 4] [11, 12, 13, 14] [3]\n"
          ]
        }
      ],
      "source": [
        "a = [1,2,3,4]\n",
        "b = list(map(lambda x:x+10,a))\n",
        "c = list(filter(lambda x :x%3==0,a))\n",
        "print(list(map(lambda x : '+ve' if x>0 else '-ve' if x<0 else 'Zero',a)))\n",
        "print(a,b,c)"
      ]
    },
    {
      "cell_type": "code",
      "execution_count": null,
      "metadata": {},
      "outputs": [],
      "source": []
    },
    {
      "cell_type": "code",
      "execution_count": 2,
      "metadata": {
        "colab": {
          "base_uri": "https://localhost:8080/"
        },
        "id": "zLGniBuQJWWW",
        "outputId": "4c9dd9de-f240-4764-bc80-1710a81aae33"
      },
      "outputs": [
        {
          "data": {
            "text/plain": [
              "(6, 8)"
            ]
          },
          "execution_count": 2,
          "metadata": {},
          "output_type": "execute_result"
        }
      ],
      "source": [
        "cal_prod = lambda x,y : (x+y,x*y)\n",
        "cal_prod(4,2)"
      ]
    },
    {
      "cell_type": "code",
      "execution_count": 4,
      "metadata": {
        "colab": {
          "base_uri": "https://localhost:8080/"
        },
        "id": "uKnnOnnQJltC",
        "outputId": "20058228-9568-43f4-8e21-4557a2df2068"
      },
      "outputs": [
        {
          "name": "stdout",
          "output_type": "stream",
          "text": [
            "[3, 6, 9, 12]\n"
          ]
        }
      ],
      "source": [
        "a = [1, 2, 3, 4]\n",
        "b = map(lambda x:x*3, a)\n",
        "print(list(b))"
      ]
    },
    {
      "cell_type": "code",
      "execution_count": 6,
      "metadata": {
        "colab": {
          "base_uri": "https://localhost:8080/"
        },
        "id": "uib1Q9ERJzMz",
        "outputId": "34ecda8d-26be-4a46-e1b7-fb9f504a102b"
      },
      "outputs": [
        {
          "name": "stdout",
          "output_type": "stream",
          "text": [
            "[1, 3]\n"
          ]
        }
      ],
      "source": [
        "a = [1, 2, 3, 4]\n",
        "b = filter(lambda x:x%2 != 0, a)\n",
        "print(list(b))"
      ]
    },
    {
      "cell_type": "code",
      "execution_count": 7,
      "metadata": {
        "colab": {
          "base_uri": "https://localhost:8080/"
        },
        "id": "U09aRtZRKAvb",
        "outputId": "5d21e6f0-9574-4fe8-d20f-6bcd202828a7"
      },
      "outputs": [
        {
          "name": "stdout",
          "output_type": "stream",
          "text": [
            "Positive\n",
            "Negative\n",
            "Zero\n"
          ]
        }
      ],
      "source": [
        "n = lambda x: \"Positive\" if x > 0 else \"Negative\" if x < 0 else \"Zero\"\n",
        "\n",
        "print(n(5))\n",
        "print(n(-3))\n",
        "print(n(0))"
      ]
    },
    {
      "cell_type": "code",
      "execution_count": null,
      "metadata": {
        "id": "7SvRm9WsKT3-"
      },
      "outputs": [
        {
          "data": {
            "text/plain": [
              "['+ve', '+ve', '+ve', '+ve']"
            ]
          },
          "execution_count": 5,
          "metadata": {},
          "output_type": "execute_result"
        }
      ],
      "source": []
    }
  ],
  "metadata": {
    "colab": {
      "authorship_tag": "ABX9TyP/5Q17MDbz6UmetE3GTOz6",
      "include_colab_link": true,
      "provenance": []
    },
    "kernelspec": {
      "display_name": "Python 3",
      "name": "python3"
    },
    "language_info": {
      "codemirror_mode": {
        "name": "ipython",
        "version": 3
      },
      "file_extension": ".py",
      "mimetype": "text/x-python",
      "name": "python",
      "nbconvert_exporter": "python",
      "pygments_lexer": "ipython3",
      "version": "3.11.9"
    }
  },
  "nbformat": 4,
  "nbformat_minor": 0
}
