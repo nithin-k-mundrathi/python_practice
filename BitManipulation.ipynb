{
  "nbformat": 4,
  "nbformat_minor": 0,
  "metadata": {
    "colab": {
      "provenance": [],
      "authorship_tag": "ABX9TyNrRnVDYGh/tB8ETJqWNXAT",
      "include_colab_link": true
    },
    "kernelspec": {
      "name": "python3",
      "display_name": "Python 3"
    },
    "language_info": {
      "name": "python"
    }
  },
  "cells": [
    {
      "cell_type": "markdown",
      "metadata": {
        "id": "view-in-github",
        "colab_type": "text"
      },
      "source": [
        "<a href=\"https://colab.research.google.com/github/nithin-k-mundrathi/python_practice/blob/main/BitManipulation.ipynb\" target=\"_parent\"><img src=\"https://colab.research.google.com/assets/colab-badge.svg\" alt=\"Open In Colab\"/></a>"
      ]
    },
    {
      "cell_type": "markdown",
      "source": [
        "# convert number to bit"
      ],
      "metadata": {
        "id": "yaQndJVgN9wz"
      }
    },
    {
      "cell_type": "code",
      "source": [
        "def numbertobit(x):\n",
        "  str_1 = []\n",
        "  while x>0:\n",
        "\n",
        "    str_1.append(str(x%2))\n",
        "\n",
        "    x = int(x/2)\n",
        "\n",
        "  return ''.join(str_1[::-1])\n",
        "\n",
        "numbertobit(2)"
      ],
      "metadata": {
        "colab": {
          "base_uri": "https://localhost:8080/",
          "height": 36
        },
        "id": "9sVg30NqN_Wv",
        "outputId": "2cc4fa2c-cf8f-4674-a7f9-4a5a0ec84a7d"
      },
      "execution_count": 7,
      "outputs": [
        {
          "output_type": "execute_result",
          "data": {
            "text/plain": [
              "'10'"
            ],
            "application/vnd.google.colaboratory.intrinsic+json": {
              "type": "string"
            }
          },
          "metadata": {},
          "execution_count": 7
        }
      ]
    },
    {
      "cell_type": "markdown",
      "source": [
        "# Swap Two numbers"
      ],
      "metadata": {
        "id": "-3n27Bg0RA_i"
      }
    },
    {
      "cell_type": "code",
      "source": [
        "def swap(a,b):\n",
        "  a = a^b\n",
        "  b = a^b\n",
        "  a = a^b\n",
        "\n",
        "  return a,b\n",
        "\n",
        "swap(10,20)"
      ],
      "metadata": {
        "colab": {
          "base_uri": "https://localhost:8080/"
        },
        "id": "Gdyz-ruNOdM0",
        "outputId": "1eb13ed7-6b26-4951-a13f-c22ebdb1335a"
      },
      "execution_count": 8,
      "outputs": [
        {
          "output_type": "execute_result",
          "data": {
            "text/plain": [
              "(20, 10)"
            ]
          },
          "metadata": {},
          "execution_count": 8
        }
      ]
    },
    {
      "cell_type": "markdown",
      "source": [
        "# check if ith Bit is set or Not"
      ],
      "metadata": {
        "id": "cPpD-164R172"
      }
    },
    {
      "cell_type": "code",
      "source": [
        "def bitset(a,k,flag='right'):\n",
        "  if flag == 'right':\n",
        "    return (a>>k) & (1)\n",
        "  else:\n",
        "    return (a & (1<<k))\n",
        "\n",
        "bitset(13,0)"
      ],
      "metadata": {
        "colab": {
          "base_uri": "https://localhost:8080/"
        },
        "id": "_RysjT01R1Pu",
        "outputId": "0488f37b-8a6a-4f9b-ad33-ab29bac4bd6c"
      },
      "execution_count": 13,
      "outputs": [
        {
          "output_type": "execute_result",
          "data": {
            "text/plain": [
              "1"
            ]
          },
          "metadata": {},
          "execution_count": 13
        }
      ]
    },
    {
      "cell_type": "markdown",
      "source": [
        "# check if a number of Power of two or Not"
      ],
      "metadata": {
        "id": "d6PlFtdCbeiU"
      }
    },
    {
      "cell_type": "code",
      "source": [
        "def power2(a):\n",
        "  if (a & (a-1)) ==0:\n",
        "    return True\n",
        "  else:\n",
        "    return False\n",
        "\n",
        "power2(15)"
      ],
      "metadata": {
        "colab": {
          "base_uri": "https://localhost:8080/"
        },
        "id": "3BliTtKqS9g8",
        "outputId": "ad0f63cd-092d-425d-dec8-da5fb23f5380"
      },
      "execution_count": 15,
      "outputs": [
        {
          "output_type": "execute_result",
          "data": {
            "text/plain": [
              "False"
            ]
          },
          "metadata": {},
          "execution_count": 15
        }
      ]
    },
    {
      "cell_type": "markdown",
      "source": [
        "# count the number of Set bits"
      ],
      "metadata": {
        "id": "2AG_1GwpcTdO"
      }
    },
    {
      "cell_type": "code",
      "source": [
        "def count(x):\n",
        "  str_1 = []\n",
        "  while x>0:\n",
        "\n",
        "    str_1.append((x%2))\n",
        "\n",
        "    x = int(x/2)\n",
        "\n",
        "  return sum(str_1)\n",
        "count(13)"
      ],
      "metadata": {
        "colab": {
          "base_uri": "https://localhost:8080/"
        },
        "id": "wv6ZGSSwcSxv",
        "outputId": "01d4b400-78f2-431f-bf65-347b3a9fe8cc"
      },
      "execution_count": 18,
      "outputs": [
        {
          "output_type": "execute_result",
          "data": {
            "text/plain": [
              "3"
            ]
          },
          "metadata": {},
          "execution_count": 18
        }
      ]
    },
    {
      "cell_type": "markdown",
      "source": [
        "# set/Unset the rightmost unset bit-  Toggle ith bit"
      ],
      "metadata": {
        "id": "8Bmf1Vccc3R5"
      }
    },
    {
      "cell_type": "code",
      "source": [
        "def toggle(a,i):\n",
        "  return a^(1<<i)\n",
        "\n",
        "def clear(a,i):\n",
        "  return a & ~(1<<i)\n",
        "\n",
        "def remove(a):\n",
        "  return a & (a-1)"
      ],
      "metadata": {
        "id": "zwrR7G_fb2qA"
      },
      "execution_count": 19,
      "outputs": []
    },
    {
      "cell_type": "markdown",
      "source": [
        "# check if Number is odd or Even"
      ],
      "metadata": {
        "id": "uB9MuGdFfMnu"
      }
    },
    {
      "cell_type": "code",
      "source": [
        "def oddeven(a):\n",
        "  if a &(1) ==0:\n",
        "    return 'even'\n",
        "  else:\n",
        "    return 'Odd'\n",
        "\n",
        "oddeven(11)"
      ],
      "metadata": {
        "colab": {
          "base_uri": "https://localhost:8080/",
          "height": 36
        },
        "id": "PSQ6_Sq3dS_4",
        "outputId": "423e3569-46d1-4671-dac4-4c9a2027af61"
      },
      "execution_count": 21,
      "outputs": [
        {
          "output_type": "execute_result",
          "data": {
            "text/plain": [
              "'Odd'"
            ],
            "application/vnd.google.colaboratory.intrinsic+json": {
              "type": "string"
            }
          },
          "metadata": {},
          "execution_count": 21
        }
      ]
    },
    {
      "cell_type": "markdown",
      "source": [
        "# find the Minimum number of bits to flip to convert a Number"
      ],
      "metadata": {
        "id": "yNWTes9qtjzH"
      }
    },
    {
      "cell_type": "code",
      "source": [
        "def bitsflip(a,b):\n",
        "  ans = a^b\n",
        "  cnt = 0\n",
        "  for i in range(ans):\n",
        "\n",
        "    if ((ans>>i)& (1)):\n",
        "      cnt +=1\n",
        "\n",
        "  return cnt\n",
        "\n",
        "print(bitsflip(9,3))\n",
        "print(bitsflip(10,7))"
      ],
      "metadata": {
        "colab": {
          "base_uri": "https://localhost:8080/"
        },
        "id": "jwVFSEEjffe2",
        "outputId": "5e91c0d7-c58f-45d2-da1b-cfd064fd93ba"
      },
      "execution_count": 33,
      "outputs": [
        {
          "output_type": "stream",
          "name": "stdout",
          "text": [
            "2\n",
            "3\n"
          ]
        }
      ]
    },
    {
      "cell_type": "markdown",
      "source": [
        "# Find the number that appears odd number of times"
      ],
      "metadata": {
        "id": "uSs6UUkTw5pS"
      }
    },
    {
      "cell_type": "code",
      "source": [
        "def oddnumber(a):\n",
        "  xor = 0\n",
        "\n",
        "  for i in a:\n",
        "    xor = xor^i\n",
        "  return xor\n",
        "\n",
        "oddnumber([4,1,2,1,2])"
      ],
      "metadata": {
        "colab": {
          "base_uri": "https://localhost:8080/"
        },
        "id": "_6emRrTXw-6R",
        "outputId": "cfb58f21-53f8-40dd-c444-aebbfc999433"
      },
      "execution_count": 22,
      "outputs": [
        {
          "output_type": "execute_result",
          "data": {
            "text/plain": [
              "4"
            ]
          },
          "metadata": {},
          "execution_count": 22
        }
      ]
    },
    {
      "cell_type": "markdown",
      "source": [
        "# find the two numbers that appear odd number of times"
      ],
      "metadata": {
        "id": "IZKS9uH4xSIC"
      }
    },
    {
      "cell_type": "code",
      "source": [],
      "metadata": {
        "id": "k2qUKPlAxKtj"
      },
      "execution_count": null,
      "outputs": []
    },
    {
      "cell_type": "markdown",
      "source": [
        "# find all the divisors Of a Number"
      ],
      "metadata": {
        "id": "A856nrDjy_JH"
      }
    },
    {
      "cell_type": "code",
      "source": [
        "def divisors(a):\n",
        "  i=1\n",
        "  output = []\n",
        "  while (i*i <=a):\n",
        "    if (a%i) == 0:\n",
        "      output.append(i)\n",
        "      output.append(a/i)\n",
        "    i+=1\n",
        "  return set(output)\n",
        "\n",
        "divisors(35)"
      ],
      "metadata": {
        "colab": {
          "base_uri": "https://localhost:8080/"
        },
        "id": "_MPTwZcJzDUq",
        "outputId": "d9cafde6-c923-4936-94d2-73058eabcc65"
      },
      "execution_count": 28,
      "outputs": [
        {
          "output_type": "execute_result",
          "data": {
            "text/plain": [
              "{1, 5, 7.0, 35.0}"
            ]
          },
          "metadata": {},
          "execution_count": 28
        }
      ]
    },
    {
      "cell_type": "markdown",
      "source": [
        "# Power(m,n)"
      ],
      "metadata": {
        "id": "Y7hhaVPP7lQU"
      }
    },
    {
      "cell_type": "code",
      "source": [
        "def powermn(a,b):\n",
        "  ans =1\n",
        "  while (b>0):\n",
        "\n",
        "    if (b%2==1):\n",
        "      ans = ans*a\n",
        "      b = b-1\n",
        "    else:\n",
        "      b = b/2\n",
        "      a = a*a\n",
        "\n",
        "  return ans\n",
        "\n",
        "powermn(10,4)"
      ],
      "metadata": {
        "colab": {
          "base_uri": "https://localhost:8080/"
        },
        "id": "upOrj2BWzjh6",
        "outputId": "de18ca1d-9bf8-495c-997a-8759e52cf759"
      },
      "execution_count": 31,
      "outputs": [
        {
          "output_type": "execute_result",
          "data": {
            "text/plain": [
              "10000"
            ]
          },
          "metadata": {},
          "execution_count": 31
        }
      ]
    },
    {
      "cell_type": "code",
      "source": [],
      "metadata": {
        "id": "qOvPDPYU8PlG"
      },
      "execution_count": null,
      "outputs": []
    }
  ]
}