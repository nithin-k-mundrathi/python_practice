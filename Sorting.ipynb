{
  "cells": [
    {
      "cell_type": "markdown",
      "metadata": {
        "colab_type": "text",
        "id": "view-in-github"
      },
      "source": [
        "<a href=\"https://colab.research.google.com/github/nithin-k-mundrathi/python_practice/blob/main/Sorting.ipynb\" target=\"_parent\"><img src=\"https://colab.research.google.com/assets/colab-badge.svg\" alt=\"Open In Colab\"/></a>"
      ]
    },
    {
      "cell_type": "markdown",
      "metadata": {
        "id": "5sBopfzRVkfX"
      },
      "source": [
        "# 1. Selection Sort"
      ]
    },
    {
      "cell_type": "code",
      "execution_count": null,
      "metadata": {
        "colab": {
          "base_uri": "https://localhost:8080/"
        },
        "id": "efMKLs1RVm9j",
        "outputId": "986112fa-8f7c-44c6-b7f4-0688efa3804f"
      },
      "outputs": [
        {
          "name": "stdout",
          "output_type": "stream",
          "text": [
            "[2, 5, 9, 7, 8]\n",
            "[2, 5, 9, 7, 8]\n",
            "[2, 5, 7, 9, 8]\n",
            "[2, 5, 7, 8, 9]\n",
            "[2, 5, 7, 8, 9]\n",
            "[2, 5, 7, 8, 9]\n"
          ]
        }
      ],
      "source": [
        "list_1 = [7,5,9,2,8]\n",
        "# u bring the minimum element first by swapping it with first element\n",
        "# sqap 2nd minimum with 2nd element\n",
        "# replace the first index with min and 2nd index with 2nd Minimum\n",
        "for i in range(len(list_1)):\n",
        "  min = i\n",
        "  for j in range(i+1, len(list_1)):\n",
        "    if list_1[j] < list_1[min]:\n",
        "      min = j\n",
        "\n",
        "  temp = list_1[i]\n",
        "  list_1[i] =   list_1[min]\n",
        "  list_1[min] = temp\n",
        "  print(list_1)\n",
        "print(list_1)"
      ]
    },
    {
      "cell_type": "markdown",
      "metadata": {
        "id": "y8FbvI9RaOH-"
      },
      "source": [
        "# 2. Bubble Sort"
      ]
    },
    {
      "cell_type": "code",
      "execution_count": null,
      "metadata": {
        "colab": {
          "base_uri": "https://localhost:8080/"
        },
        "id": "y6j-b38LYdHZ",
        "outputId": "4702eb95-6a70-491a-ec96-5f337100f60f"
      },
      "outputs": [
        {
          "name": "stdout",
          "output_type": "stream",
          "text": [
            "5\n",
            "[5, 7, 2, 8, 9]\n",
            "4\n",
            "[5, 2, 7, 8, 9]\n",
            "3\n",
            "[2, 5, 7, 8, 9]\n",
            "2\n",
            "[2, 5, 7, 8, 9]\n",
            "1\n",
            "[2, 5, 7, 8, 9]\n",
            "[2, 5, 7, 8, 9]\n"
          ]
        }
      ],
      "source": [
        "list_1 = [7,5,9,2,8]\n",
        "# Push the Max value to Dead End by making adjacent Swaps\n",
        "# First loop start from n--> 1.\n",
        "for i in range(len(list_1),0,-1):\n",
        "  print(i)\n",
        "  for j in range(0, i-1):\n",
        "    if list_1[j] > list_1[j+1]:\n",
        "      temp = list_1[j]\n",
        "      list_1[j] =   list_1[j+1]\n",
        "      list_1[j+1] = temp\n",
        "  print(list_1)\n",
        "\n",
        "print(list_1)"
      ]
    },
    {
      "cell_type": "code",
      "execution_count": null,
      "metadata": {
        "id": "gfBDwV8BhZ5Y"
      },
      "outputs": [],
      "source": [
        "list_1 = [7,5,9,2,8]\n",
        "# Push the Max value to Dead End\n",
        "for i in range(len(list_1),0,-1):\n",
        "  print(i)\n",
        "  for j in range(0, i-1):\n",
        "    if list_1[j] > list_1[j+1]:\n",
        "      temp = list_1[j]\n",
        "      list_1[j] =   list_1[j+1]\n",
        "      list_1[j+1] = temp\n",
        "  print(list_1)\n",
        "\n",
        "print(list_1)"
      ]
    },
    {
      "cell_type": "markdown",
      "metadata": {
        "id": "OCI55NBmcSL7"
      },
      "source": [
        "# 3.Insertion Sort"
      ]
    },
    {
      "cell_type": "code",
      "execution_count": null,
      "metadata": {
        "colab": {
          "base_uri": "https://localhost:8080/"
        },
        "id": "U_1Eai8IYeWk",
        "outputId": "0c890865-5654-4927-cd8d-8d05bceb345c"
      },
      "outputs": [
        {
          "name": "stdout",
          "output_type": "stream",
          "text": [
            "0\n",
            "[5, 7, 9, 2, 8]\n",
            "1\n",
            "[5, 7, 9, 2, 8]\n",
            "2\n",
            "[2, 5, 7, 9, 8]\n",
            "3\n",
            "[2, 5, 7, 8, 9]\n",
            "[2, 5, 7, 8, 9]\n"
          ]
        }
      ],
      "source": [
        "list_1 = [7,5,9,2,8]\n",
        "# Push the Max value to Dead End\n",
        "# Reverse of Bubble Sort\n",
        "for i in range(0,len(list_1)-1):\n",
        "  print(i)\n",
        "  for j in range(i+1,0,-1):\n",
        "    if list_1[j-1] >  list_1[j]:\n",
        "      temp = list_1[j]\n",
        "      list_1[j] =  list_1[j-1]\n",
        "      list_1[j-1] = temp\n",
        "  print(list_1)\n",
        "\n",
        "print(list_1)"
      ]
    },
    {
      "cell_type": "markdown",
      "metadata": {
        "id": "_1uajUfDf7IH"
      },
      "source": [
        "# 4. Merge Sort"
      ]
    },
    {
      "cell_type": "code",
      "execution_count": null,
      "metadata": {
        "colab": {
          "base_uri": "https://localhost:8080/"
        },
        "id": "cnDNOseeeGqg",
        "outputId": "76f53f4c-3449-4a7e-f665-a649dd68510b"
      },
      "outputs": [
        {
          "data": {
            "text/plain": [
              "[5, 9]"
            ]
          },
          "execution_count": 2,
          "metadata": {},
          "output_type": "execute_result"
        }
      ],
      "source": [
        "a = [7,5,9,2,8,0,1,6,55]\n",
        "a[1:3]"
      ]
    },
    {
      "cell_type": "code",
      "execution_count": null,
      "metadata": {
        "id": "N8F14NkYO0Qj"
      },
      "outputs": [],
      "source": [
        "def merge(a, low, mid, high):\n",
        "  temp = []\n",
        "  left = low\n",
        "  right = mid+1\n",
        "\n",
        "  while (left<=mid) and (right<=high):\n",
        "    if a[left] <= a[mid]:\n",
        "      left+=1\n",
        "      temp.append(a[left])\n",
        "    else:\n",
        "      right +=1\n",
        "      temp.append(a[right])\n",
        "  while (left<=mid):\n",
        "      temp.append(a[left])\n",
        "  while right <=high:\n",
        "      temp.append(a[right])\n",
        "\n",
        "  for i in range(low, high):\n",
        "    a[i] = temp[i-low]\n",
        "\n",
        "\n",
        "def mergesort(a,low, high):\n",
        "  mid  = (low+high)//2\n",
        "  if (low == high):\n",
        "    return\n",
        "\n",
        "  mergesort(a,low,mid)\n",
        "\n",
        "  mergesort(a,mid+1,high)\n",
        "\n",
        "  merge(a,low, mid, high)"
      ]
    },
    {
      "cell_type": "markdown",
      "metadata": {
        "id": "iYA51ZeaQlVx"
      },
      "source": [
        "# 5. Recursive Bubble Sort"
      ]
    },
    {
      "cell_type": "code",
      "execution_count": 3,
      "metadata": {
        "colab": {
          "base_uri": "https://localhost:8080/"
        },
        "id": "ZqvTUOCiQnWZ",
        "outputId": "8500cc05-01fa-4a9d-849f-50402ae31db7"
      },
      "outputs": [
        {
          "name": "stdout",
          "output_type": "stream",
          "text": [
            "[0, 2, 3, 4, 6, 9]\n",
            "[0, 2, 3, 4, 6, 9]\n",
            "[0, 2, 3, 4, 6, 9]\n",
            "[0, 2, 3, 4, 6, 9]\n",
            "[0, 2, 3, 4, 6, 9]\n"
          ]
        }
      ],
      "source": [
        "def recursiveBS(a, n):\n",
        "  if n==1:\n",
        "    return\n",
        "  for i in range(n-2):\n",
        "    if a[i] > a[i+1]:\n",
        "      a[i],a[i+1] = a[i+1],a[i]\n",
        "\n",
        "  recursiveBS(a, n-1)\n",
        "  print(a)\n",
        "recursiveBS([3,6,4,2,0,9],6)"
      ]
    },
    {
      "cell_type": "markdown",
      "metadata": {
        "id": "FKzJhlAZdUqJ"
      },
      "source": [
        "# 6. Recursive Insertion Sort"
      ]
    },
    {
      "cell_type": "code",
      "execution_count": 10,
      "metadata": {
        "colab": {
          "base_uri": "https://localhost:8080/"
        },
        "id": "Z9dcvBUVcSLG",
        "outputId": "3c3150ac-bf5d-443f-d54a-b66599385810"
      },
      "outputs": [
        {
          "name": "stdout",
          "output_type": "stream",
          "text": [
            "[3, 6, 4, 2, 0, 9]\n",
            "[3, 6, 4, 2, 0, 9]\n",
            "[3, 6, 4, 2, 0, 9]\n",
            "[3, 6, 4, 2, 0, 9]\n",
            "[3, 6, 4, 2, 0, 9]\n",
            "[3, 6, 4, 2, 0, 9]\n"
          ]
        }
      ],
      "source": [
        "def recursiveinsertionsort(a,n,i):\n",
        "  if i==n:\n",
        "    return\n",
        "  j =i\n",
        "  while (j>0) and (a[j-1] > a[j]):\n",
        "      a[j], a[j-1] = a[j] , a[j-1]\n",
        "      j= j-1\n",
        "  print(a)\n",
        "  recursiveinsertionsort(a,n,i+1)\n",
        "\n",
        "recursiveinsertionsort([3,6,4,2,0,9],6,0)"
      ]
    },
    {
      "cell_type": "markdown",
      "metadata": {
        "id": "vwwnzYYIjb3b"
      },
      "source": [
        "# 7. Quick Sort"
      ]
    },
    {
      "cell_type": "code",
      "execution_count": 3,
      "metadata": {
        "id": "Ek6F3oV0eEtL"
      },
      "outputs": [],
      "source": [
        "def QuickSort(a,low,high):\n",
        "\n",
        "  if (low<high):\n",
        "    partition = dividepartition(a,low, high)\n",
        "\n",
        "    QuickSort(a,low, partition-1)\n",
        "    print(a)\n",
        "    QuickSort(a, partition+1, high)\n",
        "    print(a)\n",
        "def dividepartition(a,low, high):\n",
        "\n",
        "  pivot = a[low]\n",
        "  i =low\n",
        "  j = high\n",
        "\n",
        "  while (i<j):\n",
        "    print(i,j)\n",
        "    while (a[i]<=pivot) and (i<=high-1):\n",
        "      i+=1\n",
        "    while (a[j]>pivot) and (j>=low+1):\n",
        "      j-=1\n",
        "\n",
        "    if (i<j):\n",
        "      a[j],a[i] = a[i],a[j]\n",
        "\n",
        "  a[j],a[low] = a[low], a[j]\n",
        "\n",
        "  return j"
      ]
    },
    {
      "cell_type": "code",
      "execution_count": 5,
      "metadata": {
        "colab": {
          "base_uri": "https://localhost:8080/"
        },
        "id": "jXppJ7eDuC-5",
        "outputId": "3f9473f2-1395-4e03-ae36-0c21b500396c"
      },
      "outputs": [
        {
          "name": "stdout",
          "output_type": "stream",
          "text": [
            "0 5\n",
            "1 4\n",
            "2 3\n",
            "0 1\n",
            "[0, 2, 3, 4, 6, 9]\n",
            "[0, 2, 3, 4, 6, 9]\n",
            "[0, 2, 3, 4, 6, 9]\n",
            "3 5\n",
            "[0, 2, 3, 4, 6, 9]\n",
            "4 5\n",
            "[0, 2, 3, 4, 6, 9]\n",
            "[0, 2, 3, 4, 6, 9]\n",
            "[0, 2, 3, 4, 6, 9]\n",
            "[0, 2, 3, 4, 6, 9]\n"
          ]
        }
      ],
      "source": [
        "QuickSort([3,6,4,2,0,9],0,5)"
      ]
    },
    {
      "cell_type": "code",
      "execution_count": null,
      "metadata": {
        "id": "MXYwdujIuHn6"
      },
      "outputs": [],
      "source": []
    }
  ],
  "metadata": {
    "colab": {
      "authorship_tag": "ABX9TyN+WwLWDi9+CkF4xczDHQMa",
      "include_colab_link": true,
      "provenance": []
    },
    "kernelspec": {
      "display_name": "Python 3",
      "name": "python3"
    },
    "language_info": {
      "name": "python",
      "version": "3.11.9"
    }
  },
  "nbformat": 4,
  "nbformat_minor": 0
}
