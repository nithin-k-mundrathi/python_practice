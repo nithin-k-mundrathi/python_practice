{
  "cells": [
    {
      "cell_type": "markdown",
      "metadata": {
        "colab_type": "text",
        "id": "view-in-github"
      },
      "source": [
        "<a href=\"https://colab.research.google.com/github/nithin-k-mundrathi/python_practice/blob/main/Python_New_Programs.ipynb\" target=\"_parent\"><img src=\"https://colab.research.google.com/assets/colab-badge.svg\" alt=\"Open In Colab\"/></a>"
      ]
    },
    {
      "cell_type": "code",
      "execution_count": null,
      "metadata": {
        "colab": {
          "base_uri": "https://localhost:8080/"
        },
        "id": "gDqRQgnt6pp5",
        "outputId": "a622a787-f654-438a-93da-7fa88630ab06"
      },
      "outputs": [
        {
          "name": "stdout",
          "output_type": "stream",
          "text": [
            "aidnI 5\n"
          ]
        }
      ],
      "source": [
        "s = \"India\"\n",
        "print(s[::-1],len(s))"
      ]
    },
    {
      "cell_type": "code",
      "execution_count": null,
      "metadata": {
        "colab": {
          "base_uri": "https://localhost:8080/"
        },
        "id": "gDyeXsOtXrh2",
        "outputId": "c207119b-03bd-4baf-f8ce-638b6bcf6cba"
      },
      "outputs": [
        {
          "name": "stdout",
          "output_type": "stream",
          "text": [
            "O b'N'\n"
          ]
        }
      ],
      "source": [
        "# increment a character\n",
        "s= 'N'\n",
        "print(chr(ord(s) +1), bytes(s, 'utf-8'))"
      ]
    },
    {
      "cell_type": "code",
      "execution_count": null,
      "metadata": {
        "colab": {
          "base_uri": "https://localhost:8080/"
        },
        "id": "-fh9BQfKXrlz",
        "outputId": "b08ba4ff-45b4-4d6f-fce9-1bd205606030"
      },
      "outputs": [
        {
          "data": {
            "text/plain": [
              "3.0"
            ]
          },
          "execution_count": 3,
          "metadata": {},
          "output_type": "execute_result"
        }
      ],
      "source": [
        "# Count the number of Digits\n",
        "import numpy as np\n",
        "N = 1000\n",
        "np.log10(100) +1"
      ]
    },
    {
      "cell_type": "code",
      "execution_count": null,
      "metadata": {
        "id": "Zk6jpKYUqIh_"
      },
      "outputs": [],
      "source": [
        "# Reverse a Number\n",
        "\n"
      ]
    },
    {
      "cell_type": "code",
      "execution_count": null,
      "metadata": {
        "colab": {
          "base_uri": "https://localhost:8080/"
        },
        "id": "SCV28Vzu82EQ",
        "outputId": "91ab1855-6547-4d29-ec07-29d22fb9e34d"
      },
      "outputs": [
        {
          "data": {
            "text/plain": [
              "-9223372036854775808"
            ]
          },
          "execution_count": 11,
          "metadata": {},
          "output_type": "execute_result"
        }
      ],
      "source": [
        "import sys\n",
        "-sys.maxsize -1"
      ]
    },
    {
      "cell_type": "code",
      "execution_count": null,
      "metadata": {
        "id": "sHwgGoYT9PZk"
      },
      "outputs": [],
      "source": [
        "a = [1,75,6,2,3]"
      ]
    },
    {
      "cell_type": "code",
      "execution_count": null,
      "metadata": {
        "colab": {
          "base_uri": "https://localhost:8080/"
        },
        "id": "n8C3MijA9bJK",
        "outputId": "b098d775-2aef-4a5b-f7d6-4d7fe8abe94c"
      },
      "outputs": [
        {
          "data": {
            "text/plain": [
              "(1.1, 1.12, 1.123)"
            ]
          },
          "execution_count": 4,
          "metadata": {},
          "output_type": "execute_result"
        }
      ],
      "source": [
        "round(1.1234,1),round(1.1234,2),round(1.1234,3)"
      ]
    },
    {
      "cell_type": "markdown",
      "metadata": {
        "id": "6KObov8NEJ0l"
      },
      "source": [
        "### MAx Continous Sub Array of of length =k"
      ]
    },
    {
      "cell_type": "code",
      "execution_count": null,
      "metadata": {
        "id": "_P7--vP2-1Zg"
      },
      "outputs": [],
      "source": [
        "int_min = -sys.maxsize-1\n",
        "\n",
        "for i in range(len(a)-2-1):\n",
        "  max_sum = 0\n",
        "  for j in range(2):\n",
        "    max_sum = max_sum + a[i+j]\n",
        "\n",
        "  int_min = max(int_min,max_sum)"
      ]
    },
    {
      "cell_type": "code",
      "execution_count": null,
      "metadata": {
        "colab": {
          "base_uri": "https://localhost:8080/"
        },
        "id": "mbONXmsP-2Ho",
        "outputId": "119b3654-8524-4da4-93da-3ac20480d3aa"
      },
      "outputs": [
        {
          "data": {
            "text/plain": [
              "81"
            ]
          },
          "execution_count": 33,
          "metadata": {},
          "output_type": "execute_result"
        }
      ],
      "source": [
        "int_min"
      ]
    },
    {
      "cell_type": "markdown",
      "metadata": {
        "id": "n-oaJNa5EH4B"
      },
      "source": [
        "### PRime _Number\n"
      ]
    },
    {
      "cell_type": "code",
      "execution_count": null,
      "metadata": {
        "colab": {
          "base_uri": "https://localhost:8080/"
        },
        "id": "J48MsETKBrvC",
        "outputId": "8589b396-9e33-4bc4-d335-b5fd2836dc79"
      },
      "outputs": [
        {
          "name": "stdout",
          "output_type": "stream",
          "text": [
            "True\n",
            "False\n"
          ]
        }
      ],
      "source": [
        "n = 21\n",
        "for i in range(2,int(n/2)+1):\n",
        "  if n%i==0:\n",
        "    print(False)\n",
        "    break\n",
        "  else:\n",
        "    print(True)"
      ]
    },
    {
      "cell_type": "code",
      "execution_count": null,
      "metadata": {
        "id": "PlEmrsQsD3xk"
      },
      "outputs": [],
      "source": [
        "def prime_N(n):\n",
        "\n",
        "  for i in range(n):\n",
        "\n",
        "    for j in range(2, int(i/2)+1):\n",
        "      if i%j==0:\n",
        "        break\n",
        "      print(i)"
      ]
    },
    {
      "cell_type": "markdown",
      "metadata": {
        "id": "nHNxFNS6Hkre"
      },
      "source": [
        "### GCD\n"
      ]
    },
    {
      "cell_type": "code",
      "execution_count": null,
      "metadata": {
        "id": "lSVwJCrKFJvp"
      },
      "outputs": [],
      "source": [
        "def gcd(a,b):\n",
        "  if b==0:\n",
        "    return a\n",
        "  else:\n",
        "    return gcd(b,a%b)"
      ]
    },
    {
      "cell_type": "code",
      "execution_count": null,
      "metadata": {
        "colab": {
          "base_uri": "https://localhost:8080/"
        },
        "id": "_4fFnLcyFMZu",
        "outputId": "9337364f-5feb-45de-9cb3-0df15f4419c2"
      },
      "outputs": [
        {
          "data": {
            "text/plain": [
              "4"
            ]
          },
          "execution_count": 48,
          "metadata": {},
          "output_type": "execute_result"
        }
      ],
      "source": [
        "gcd(16,4)"
      ]
    },
    {
      "cell_type": "code",
      "execution_count": null,
      "metadata": {
        "colab": {
          "base_uri": "https://localhost:8080/"
        },
        "id": "dSTAt0QCH1dP",
        "outputId": "dffaa3f5-06c9-4633-c137-18317d5f979c"
      },
      "outputs": [
        {
          "data": {
            "text/plain": [
              "[2, 5]"
            ]
          },
          "execution_count": 51,
          "metadata": {},
          "output_type": "execute_result"
        }
      ],
      "source": [
        "a = [1,2,3,4,5]\n",
        "b = [5,2,7,9]\n",
        "\n",
        "list(set(a) & set(b))"
      ]
    },
    {
      "cell_type": "markdown",
      "metadata": {
        "id": "0hodUUURARXg"
      },
      "source": [
        "  ### Join all elements in a list"
      ]
    },
    {
      "cell_type": "code",
      "execution_count": null,
      "metadata": {
        "colab": {
          "base_uri": "https://localhost:8080/"
        },
        "id": "JKwLwfppHv_u",
        "outputId": "deb0b00e-d98c-4e6b-ee93-dbe9d362def0"
      },
      "outputs": [
        {
          "name": "stdout",
          "output_type": "stream",
          "text": [
            "5\n",
            "12345\n"
          ]
        }
      ],
      "source": [
        "    n = int(input())\n",
        "    k = ''.join([str(i) for i in range(1,n+1)])\n",
        "    print(k)"
      ]
    },
    {
      "cell_type": "code",
      "execution_count": null,
      "metadata": {
        "colab": {
          "base_uri": "https://localhost:8080/"
        },
        "id": "N20phj8cFRDw",
        "outputId": "8b8ddd4f-51a5-47e9-9bdd-d5c9553d6463"
      },
      "outputs": [
        {
          "name": "stdout",
          "output_type": "stream",
          "text": [
            "6 6 6 6 6 6 6 6 6 5\n",
            "[6, 6, 6, 6, 6, 6, 6, 6, 6, 5]\n",
            "6\n",
            "5\n"
          ]
        }
      ],
      "source": [
        "arr  = list(map(int, input().split()))\n",
        "k=-1000\n",
        "print(arr)\n",
        "for i in arr:\n",
        "    if i >= k:\n",
        "        k=i\n",
        "print(k)\n",
        "z = []\n",
        "for p in arr:\n",
        "    if p !=k:\n",
        "        z.append(p)\n",
        "\n",
        "print(max(z))"
      ]
    },
    {
      "cell_type": "markdown",
      "metadata": {
        "id": "bqE9D-6UL3qg"
      },
      "source": [
        "### Second largest"
      ]
    },
    {
      "cell_type": "code",
      "execution_count": null,
      "metadata": {
        "id": "S0M7bfj1FaBn"
      },
      "outputs": [],
      "source": [
        "n1 =n2 =1000000\n",
        "\n",
        "for i in list_scores:\n",
        "\n",
        "    if i < n1:\n",
        "        n2 = n1\n",
        "        n1 = i\n",
        "\n",
        "    elif i<n2 and i!=n1:\n",
        "        n2 = i\n",
        "a = []\n",
        "for j in list_o:\n",
        "    if j[1] == n2:\n",
        "        a.append(j[0])"
      ]
    },
    {
      "cell_type": "markdown",
      "metadata": {
        "id": "Ka7jrZlWQ9x8"
      },
      "source": [
        "List comprehensions\n"
      ]
    },
    {
      "cell_type": "code",
      "execution_count": null,
      "metadata": {
        "colab": {
          "base_uri": "https://localhost:8080/"
        },
        "id": "c5RmvLMeQ8t4",
        "outputId": "bac54ea2-d6cc-4457-95f4-46ca2ff9b42f"
      },
      "outputs": [
        {
          "name": "stdout",
          "output_type": "stream",
          "text": [
            "2 3 4\n",
            "[[0, 0, 0], [0, 0, 1], [0, 0, 2], [0, 0, 3], [0, 0, 4], [0, 1, 0], [0, 1, 1], [0, 1, 2], [0, 1, 3], [0, 2, 0], [0, 2, 1], [0, 2, 2], [0, 2, 4], [0, 3, 0], [0, 3, 1], [0, 3, 3], [0, 3, 4], [1, 0, 0], [1, 0, 1], [1, 0, 2], [1, 0, 3], [1, 1, 0], [1, 1, 1], [1, 1, 2], [1, 1, 4], [1, 2, 0], [1, 2, 1], [1, 2, 3], [1, 2, 4], [1, 3, 0], [1, 3, 2], [1, 3, 3], [1, 3, 4], [2, 0, 0], [2, 0, 1], [2, 0, 2], [2, 0, 4], [2, 1, 0], [2, 1, 1], [2, 1, 3], [2, 1, 4], [2, 2, 0], [2, 2, 2], [2, 2, 3], [2, 2, 4], [2, 3, 1], [2, 3, 2], [2, 3, 3], [2, 3, 4]]\n"
          ]
        }
      ],
      "source": [
        "x,y,z = map(int,input().split())\n",
        "list_1 = [i for i in range(x+1)]\n",
        "list_2 = [i for i in range(y+1)]\n",
        "list_3 = [i for i in range(z+1)]\n",
        "p = [[i,j,k] for i in list_1 for j in list_2 for k in list_3 if i+j+k !=n]\n",
        "\n",
        "print(p)"
      ]
    },
    {
      "cell_type": "markdown",
      "metadata": {
        "id": "GMdjOGbsU2QB"
      },
      "source": [
        "List comprehension with if and else"
      ]
    },
    {
      "cell_type": "code",
      "execution_count": null,
      "metadata": {
        "id": "nPSveCxUU0zE"
      },
      "outputs": [],
      "source": [
        "def swap_case(s):\n",
        "    list_s = s.split(' ')\n",
        "    k =[]\n",
        "    for i in list_s:\n",
        "        # if else comes first in list comprehension\n",
        "        k.append(''.join(\n",
        "            [j.lower() if j.isupper() else j.upper() for j in list(i)]))\n",
        "    return ' '.join(k)\n",
        "\n",
        "if __name__ == '__main__':\n",
        "    s = input()\n",
        "    result = swap_case(s)\n",
        "    print(result)"
      ]
    },
    {
      "cell_type": "markdown",
      "metadata": {
        "id": "HpaAv02BW1-Q"
      },
      "source": [
        "Avg using a Dict upto 2 decimal places"
      ]
    },
    {
      "cell_type": "code",
      "execution_count": null,
      "metadata": {
        "id": "XkfIDnM8RBd7"
      },
      "outputs": [],
      "source": [
        "if __name__ == '__main__':\n",
        "    n = int(input())\n",
        "    student_marks = {}\n",
        "    for _ in range(n):\n",
        "        name, *line = input().split()\n",
        "        scores = list(map(float, line))\n",
        "        student_marks[name] = scores\n",
        "    query_name = input()\n",
        "\n",
        "    print(\n",
        "        '{:.2f}'.format(sum(student_marks[query_name][:])/len(student_marks[query_name]))\n",
        "        )\n",
        "\n",
        "  # give : when formatting to decide as number and just {} as a string\n",
        "  output = \"Hello {.3f} {}! You just delved into python.\".format(10,last)\n",
        "  print(output)"
      ]
    },
    {
      "cell_type": "code",
      "execution_count": null,
      "metadata": {
        "colab": {
          "base_uri": "https://localhost:8080/"
        },
        "id": "6afsGdDtXAno",
        "outputId": "551e610c-66ca-4dc8-fd5b-902f07dc3314"
      },
      "outputs": [
        {
          "name": "stdout",
          "output_type": "stream",
          "text": [
            "7.0000\n",
            "70.0000\n",
            "10.0000\n"
          ]
        },
        {
          "data": {
            "text/plain": [
              "(None, None, None)"
            ]
          },
          "execution_count": 8,
          "metadata": {},
          "output_type": "execute_result"
        }
      ],
      "source": [
        "print('{:.4f}'.format(7)),print('{:.4f}'.format(70)),print('{:.4f}'.format(10))"
      ]
    },
    {
      "cell_type": "code",
      "execution_count": null,
      "metadata": {
        "colab": {
          "base_uri": "https://localhost:8080/"
        },
        "id": "UQmROzyNXArY",
        "outputId": "0f73c249-fd23-499f-fce8-1294c080d16a"
      },
      "outputs": [
        {
          "data": {
            "text/plain": [
              "[1, 23, 3]"
            ]
          },
          "execution_count": 2,
          "metadata": {},
          "output_type": "execute_result"
        }
      ],
      "source": [
        "list_1 = [1,23,4]\n",
        "\n",
        "list_1[2] = list_1[2] - 1\n",
        "list_1"
      ]
    },
    {
      "cell_type": "markdown",
      "metadata": {
        "id": "BQ2jAtoLCQVp"
      },
      "source": [
        "Lists"
      ]
    },
    {
      "cell_type": "code",
      "execution_count": null,
      "metadata": {
        "id": "XgzlJakeMBFS"
      },
      "outputs": [],
      "source": [
        "if __name__ == '__main__':\n",
        "    N = int(input())\n",
        "    list_1 = []\n",
        "    for i in range(N):\n",
        "        a  = input().split()\n",
        "        if a[0]=='insert':\n",
        "            list_1.insert(int(a[1]),int(a[2]))\n",
        "        if a[0]=='print':\n",
        "            print(list_1)\n",
        "        if a[0] == 'remove':\n",
        "            list_1.remove(int(a[1]))\n",
        "        if a[0] == 'append':\n",
        "            list_1.append(int(a[1]))\n",
        "        if a[0] == 'pop':\n",
        "            list_1.pop()\n",
        "        if a[0] == 'reverse':\n",
        "            list_1.reverse()\n",
        "        if a[0] == 'sort':\n",
        "            list_1.sort()\n"
      ]
    },
    {
      "cell_type": "code",
      "execution_count": null,
      "metadata": {
        "colab": {
          "base_uri": "https://localhost:8080/"
        },
        "id": "tvb6VVKoYvLW",
        "outputId": "8c6b3b66-6568-4b73-e42d-21cda2a11ee5"
      },
      "outputs": [
        {
          "data": {
            "text/plain": [
              "[4, 3, 2, 1]"
            ]
          },
          "execution_count": 1,
          "metadata": {},
          "output_type": "execute_result"
        }
      ],
      "source": [
        "pos = [1,2,3,4]\n",
        "pos[::-1]"
      ]
    },
    {
      "cell_type": "markdown",
      "metadata": {
        "id": "Xui6Fv_xnWNn"
      },
      "source": [
        "Numpy\n"
      ]
    },
    {
      "cell_type": "code",
      "execution_count": null,
      "metadata": {
        "colab": {
          "base_uri": "https://localhost:8080/"
        },
        "id": "-vozYgLtnVem",
        "outputId": "3d49e4d6-7c17-46e4-8876-1004ee1f3a95"
      },
      "outputs": [
        {
          "name": "stdout",
          "output_type": "stream",
          "text": [
            "3 3\n",
            "3 3\n",
            "[[ 1.  0.  0.]\n",
            " [ 0.  1.  0.]\n",
            " [ 0.  0.  1.]]\n",
            "[[ 1.  0.  0.]\n",
            " [ 0.  1.  0.]\n",
            " [ 0.  0.  1.]]\n",
            "[[ 1.  0.  0.]\n",
            " [ 0.  1.  0.]\n",
            " [ 0.  0.  1.]]\n"
          ]
        }
      ],
      "source": [
        "import numpy as np\n",
        "np.set_printoptions(legacy = '1.13')\n",
        "a,b  = tuple(map(int,input().split()))\n",
        "print(a,b)\n",
        "# print(np.identity(a))\n",
        "print(np.eye(a,b,k=0))\n",
        "print(np.empty(shape=(a,b)))\n",
        "arr_a= np.empty((a,b))\n",
        "print(arr_a)"
      ]
    },
    {
      "cell_type": "markdown",
      "metadata": {
        "id": "l0TaEnf-tZJa"
      },
      "source": [
        "NUMpy errors"
      ]
    },
    {
      "cell_type": "code",
      "execution_count": null,
      "metadata": {
        "id": "MnwwqHJbtYXb"
      },
      "outputs": [],
      "source": [
        "import numpy as np\n",
        "\n",
        "a,b = tuple(map(int,input().split()))\n",
        "\n",
        "arr_a= np.empty((a,b),dtype=np.int)\n",
        "arr_b = np.empty((a,b),dtype = np.int)\n",
        "for i in range(a):\n",
        "    arr_a[i] = (np.array(list(map(int,input().split()))))\n",
        "for i in range(a):\n",
        "    arr_b[i] = np.array(list(map(int,input().split())))\n",
        "\n",
        "print(np.add(arr_a,arr_b))\n",
        "print(np.subtract(arr_a,arr_b))\n",
        "print(np.multiply(arr_a,arr_b))\n",
        "print(np.floor_divide(arr_a,arr_b))\n",
        "print(np.mod(arr_a,arr_b))\n",
        "print(np.power(arr_a,arr_b))"
      ]
    },
    {
      "cell_type": "markdown",
      "metadata": {
        "id": "ak-M3pg_xXUo"
      },
      "source": [
        "Numpy Dot and Cross"
      ]
    },
    {
      "cell_type": "code",
      "execution_count": null,
      "metadata": {
        "id": "u-CeMiruxWiY"
      },
      "outputs": [],
      "source": [
        "# Enter your code here. Read input from STDIN. Print output to STDOUT\n",
        "\n",
        "\n",
        "import numpy as np\n",
        "\n",
        "a = int(input())\n",
        "arr_a = np.empty((a,a),dtype=np.int)\n",
        "arr_b = np.empty((a,a),dtype=np.int)\n",
        "\n",
        "for i in range(a):\n",
        "    arr_a[i] =  list(map(int,input().split()))\n",
        "for i in range(a):\n",
        "    arr_b[i] = list(map(int,input().split()))\n",
        "\n",
        "o =  np.empty((a,a),dtype=np.int)\n",
        "for i in range(a):\n",
        "    for j in range(a):\n",
        "        # print(arr_a[i][:],arr_b,arr_b[j][:],arr_b[:,j] )\n",
        "        o[i,j] = np.dot((arr_a[i][:]),(arr_b[:,j]))\n",
        "\n",
        "print(o)\n",
        "print(np.dot(arr_a,arr_b))\n",
        "print(np.cross(arr_a,arr_b))"
      ]
    },
    {
      "cell_type": "markdown",
      "metadata": {
        "id": "x30RFVrx38IT"
      },
      "source": [
        "Fibonacci\n"
      ]
    },
    {
      "cell_type": "code",
      "execution_count": null,
      "metadata": {
        "id": "YeEt_oGTYxqP"
      },
      "outputs": [],
      "source": [
        "cube = lambda x: x**3 # complete the lambda function\n",
        "\n",
        "def fibonacci(n):\n",
        "    # return a list of fibonacci numbers\n",
        "    o =[]\n",
        "    n1=0\n",
        "    n2=1\n",
        "    a = [n1,n2]\n",
        "    if n==1:\n",
        "        return [0]\n",
        "    if n==0:\n",
        "        return []\n",
        "    for i in range(2,n):\n",
        "        a.append(sum(a[-2:]))\n",
        "    return a\n",
        "\n",
        "if __name__ == '__main__':\n",
        "    n = int(input())\n",
        "    print(list(map(cube, fibonacci(n))))"
      ]
    },
    {
      "cell_type": "code",
      "execution_count": null,
      "metadata": {
        "colab": {
          "base_uri": "https://localhost:8080/"
        },
        "id": "605N2a2rRO6J",
        "outputId": "63bb6291-b0f6-4433-eb0f-0873c7531521"
      },
      "outputs": [
        {
          "name": "stdout",
          "output_type": "stream",
          "text": [
            "0\n",
            "1\n",
            "1\n",
            "2\n",
            "3\n",
            "5\n",
            "8\n",
            "13\n",
            "21\n",
            "34\n"
          ]
        }
      ],
      "source": [
        "def fib(n):\n",
        "  if n<=1:\n",
        "    return n\n",
        "  return fib(n-1) + fib(n-2)\n",
        "\n",
        "for i in range(10):\n",
        "  print(fib(i))"
      ]
    },
    {
      "cell_type": "markdown",
      "metadata": {
        "id": "Qa6FrWxZSMLl"
      },
      "source": [
        "### palindrome"
      ]
    },
    {
      "cell_type": "code",
      "execution_count": null,
      "metadata": {
        "id": "Vo7_phPqSPII"
      },
      "outputs": [],
      "source": [
        "str_1 = 'strmrts'\n",
        "start =0\n",
        "end = len(str_1) -1\n",
        "\n",
        "for i in range(int(len(str_1)/2)):\n",
        "  if str_1[start+i] != str_1[end-i]:\n",
        "    print('not a palindrome')"
      ]
    },
    {
      "cell_type": "markdown",
      "metadata": {
        "id": "Q7pwYTorVPs9"
      },
      "source": [
        "### Reverse an Array best possible"
      ]
    },
    {
      "cell_type": "code",
      "execution_count": null,
      "metadata": {
        "colab": {
          "base_uri": "https://localhost:8080/",
          "height": 36
        },
        "id": "_0GLOIzhSPKR",
        "outputId": "d27123ad-4069-4f89-b8ad-477a68ca401b"
      },
      "outputs": [
        {
          "data": {
            "application/vnd.google.colaboratory.intrinsic+json": {
              "type": "string"
            },
            "text/plain": [
              "'nihtin'"
            ]
          },
          "execution_count": 17,
          "metadata": {},
          "output_type": "execute_result"
        }
      ],
      "source": [
        "str_1 = 'nithin'\n",
        "list_1 = list(str_1)\n",
        "start =0\n",
        "end = len(str_1) -1\n",
        "\n",
        "for i in range(int(len(str_1)/2)):\n",
        "  temp1  = str_1[end-i]\n",
        "  temp2 = str_1[start+i]\n",
        "  list_1[end-i] = temp2\n",
        "  list_1[start+i] =  temp1\n",
        "\n",
        "''.join(list_1)"
      ]
    },
    {
      "cell_type": "code",
      "execution_count": null,
      "metadata": {
        "id": "KaApmBBE3_eY"
      },
      "outputs": [],
      "source": [
        "for x in numbers:\n",
        "    print(\"{:10.4f}\".format(x))"
      ]
    },
    {
      "cell_type": "code",
      "execution_count": null,
      "metadata": {
        "colab": {
          "base_uri": "https://localhost:8080/"
        },
        "id": "gOIg8LdY4Gcd",
        "outputId": "bde64ec2-5f71-4095-8292-f221abbd6917"
      },
      "outputs": [
        {
          "name": "stdout",
          "output_type": "stream",
          "text": [
            "(0, 'R')\n",
            "(1, 'a')\n",
            "(2, 'n')\n",
            "(3, 'k')\n"
          ]
        }
      ],
      "source": [
        "for i in enumerate(['R', 'a', 'n', 'k']):\n",
        "  print(i)"
      ]
    },
    {
      "cell_type": "code",
      "execution_count": null,
      "metadata": {
        "colab": {
          "base_uri": "https://localhost:8080/"
        },
        "id": "YgUo6gvWYcru",
        "outputId": "e82ca618-a641-4ec9-81e8-4441f722d341"
      },
      "outputs": [
        {
          "name": "stdout",
          "output_type": "stream",
          "text": [
            "[[1, 2], 1, 2, 3, 4, 5, 6]\n"
          ]
        },
        {
          "data": {
            "text/plain": [
              "(array([[  1,   2,   3, 100],\n",
              "        [  4,   5,   6, 200],\n",
              "        [  7,   8,   9, 300],\n",
              "        [ 10,  11,  12,  13]]),\n",
              " array([[  1,   2,   3, 100,  22],\n",
              "        [  4,   5,   6, 200,  33],\n",
              "        [  7,   8,   9, 300,  44],\n",
              "        [ 10,  11,  12,  13,  55],\n",
              "        [123, 124, 125, 126, 127]]))"
            ]
          },
          "execution_count": 169,
          "metadata": {},
          "output_type": "execute_result"
        }
      ],
      "source": [
        "# Rotate an array\n",
        "\n",
        "i = [1,2,3,4,5,6]\n",
        "\n",
        "i.insert(0,[1,2])\n",
        "print(i)\n",
        "import numpy as np\n",
        "a4 = np.array([[1,2,3,100],[4,5,6,200],[7,8,9,300],[10,11,12,13]])\n",
        "a5 = np.array([[1,2,3,100,22],[4,5,6,200,33],[7,8,9,300,44],[10,11,12,13,55],[123,124,125,126,127]])\n",
        "a4,a5"
      ]
    },
    {
      "cell_type": "code",
      "execution_count": null,
      "metadata": {
        "colab": {
          "base_uri": "https://localhost:8080/"
        },
        "id": "kUx7pL14ZVFA",
        "outputId": "d1247f46-ff46-4981-bc2e-8d7e5631b28c"
      },
      "outputs": [
        {
          "name": "stdout",
          "output_type": "stream",
          "text": [
            "[1, 2, 5, 4]\n"
          ]
        },
        {
          "data": {
            "text/plain": [
              "[4, 1, 2, 5]"
            ]
          },
          "execution_count": 304,
          "metadata": {},
          "output_type": "execute_result"
        }
      ],
      "source": [
        "list_1 = []\n",
        "a = a5\n",
        "k = a5.shape[0]-1\n",
        "list_1.extend(list(a[0,:]))\n",
        "list_1.extend(list(a[1:,k]))\n",
        "list_1.extend(list(a[k,:k])[::-1])\n",
        "list_1.extend(list(a[1:k,0])[::-1])\n",
        "\n",
        "print(list_1)\n",
        "z = list_1[-1]\n",
        "list_1.insert(0,z)\n",
        "list_1.pop()\n",
        "list_1"
      ]
    },
    {
      "cell_type": "code",
      "execution_count": null,
      "metadata": {
        "colab": {
          "base_uri": "https://localhost:8080/"
        },
        "id": "3wq0xds0oVG9",
        "outputId": "0c2c8f7b-ec48-48c1-c21d-b4d8abd18f6d"
      },
      "outputs": [
        {
          "name": "stdout",
          "output_type": "stream",
          "text": [
            "0\n",
            "a [[  1   2   3   4 100 777]\n",
            " [  5   6   7   8 200 888]\n",
            " [  9  10  11  12 300 999]\n",
            " [ 13  14  15  16 400 111]\n",
            " [ 41  51  61  71  81 222]\n",
            " [ 41  51  61  71  81 222]]\n",
            "Done with round One\n",
            "[[  1   2   3   4 100 777]\n",
            " [  5   6   7   8 200 888]\n",
            " [  9  10  11  12 300 999]\n",
            " [ 13  14  15  16 400 111]\n",
            " [ 41  51  61  71  81 222]\n",
            " [ 41  51  61  71  81 222]]\n",
            "[array([[  5,   1,   2,   3,   4, 100],\n",
            "       [  9,   0,   0,   0,   0, 777],\n",
            "       [ 13,   0,   0,   0,   0, 888],\n",
            "       [ 41,   0,   0,   0,   0, 999],\n",
            "       [ 41,   0,   0,   0,   0, 111],\n",
            "       [ 51,  61,  71,  81, 222, 222]])]\n",
            "1\n",
            "a [[  6   7   8 200]\n",
            " [ 10  11  12 300]\n",
            " [ 14  15  16 400]\n",
            " [ 51  61  71  81]]\n",
            "Done with round One\n",
            "[[  1   2   3   4 100 777]\n",
            " [  5   6   7   8 200 888]\n",
            " [  9  10  11  12 300 999]\n",
            " [ 13  14  15  16 400 111]\n",
            " [ 41  51  61  71  81 222]\n",
            " [ 41  51  61  71  81 222]]\n",
            "[array([[  5,   1,   2,   3,   4, 100],\n",
            "       [  9,   0,   0,   0,   0, 777],\n",
            "       [ 13,   0,   0,   0,   0, 888],\n",
            "       [ 41,   0,   0,   0,   0, 999],\n",
            "       [ 41,   0,   0,   0,   0, 111],\n",
            "       [ 51,  61,  71,  81, 222, 222]]), array([[ 10,   6,   7,   8],\n",
            "       [ 14,   0,   0, 200],\n",
            "       [ 51,   0,   0, 300],\n",
            "       [ 61,  71,  81, 400]])]\n",
            "2\n",
            "a [[11 12]\n",
            " [15 16]]\n",
            "Done with round One\n",
            "[[  1   2   3   4 100 777]\n",
            " [  5   6   7   8 200 888]\n",
            " [  9  10  11  12 300 999]\n",
            " [ 13  14  15  16 400 111]\n",
            " [ 41  51  61  71  81 222]\n",
            " [ 41  51  61  71  81 222]]\n",
            "[array([[  5,   1,   2,   3,   4, 100],\n",
            "       [  9,   0,   0,   0,   0, 777],\n",
            "       [ 13,   0,   0,   0,   0, 888],\n",
            "       [ 41,   0,   0,   0,   0, 999],\n",
            "       [ 41,   0,   0,   0,   0, 111],\n",
            "       [ 51,  61,  71,  81, 222, 222]]), array([[ 10,   6,   7,   8],\n",
            "       [ 14,   0,   0, 200],\n",
            "       [ 51,   0,   0, 300],\n",
            "       [ 61,  71,  81, 400]]), array([[15, 11],\n",
            "       [16, 12]])]\n"
          ]
        }
      ],
      "source": [
        "a3 = np.array([[1,2,3,4,100],[5,6,7,8,200],[9,10,11,12,300],[13,14,15,16,400],[41,51,61,71,81]])\n",
        "a3 =  np.array([[1,2,3,4,100,777],[5,6,7,8,200,888],[9,10,11,12,300,999],[13,14,15,16,400,111],[41,51,61,71,81,222],[41,51,61,71,81,222]])\n",
        "\n",
        "k = a3.shape[0]-1\n",
        "main_a = np.zeros((k+1,k+1),dtype = int)\n",
        "a =a3\n",
        "main_shape= a3.shape[0]\n",
        "a_shape = k+1\n",
        "list_o = []\n",
        "for i in range(0,int(a_shape/2)):\n",
        "    print(i)\n",
        "    list_1 = []\n",
        "    a = a3[0+i:main_shape-i,0+i:main_shape-i]\n",
        "    # print(0+i,main_shape-i,0+i,main_shape-i)\n",
        "    k = a.shape[0]-1\n",
        "    main_a = np.zeros((k+1,k+1),dtype = int)\n",
        "    a_shape = main_a.shape[0]\n",
        "    print('a',a)\n",
        "    k = a.shape[0] -1\n",
        "    list_1.extend(list(a[0,:]))\n",
        "    list_1.extend(list(a[1:,k]))\n",
        "    list_1.extend(list(a[k,:k])[::-1])\n",
        "    list_1.extend(list(a[1:k,0])[::-1])\n",
        "    z = list_1[-1]\n",
        "    list_1.insert(0,z)\n",
        "    list_1.pop()\n",
        "\n",
        "    for j in range(a_shape):\n",
        "      main_a[0,j] = list_1[0]\n",
        "      list_1.pop(0)\n",
        "\n",
        "    for j in range(1,a_shape):\n",
        "\n",
        "      main_a[j,a_shape-1] = list_1[0]\n",
        "      list_1.pop(0)\n",
        "\n",
        "    for k in range(a_shape-2,-1,-1):\n",
        "      main_a[a_shape-1,k] = list_1[0]\n",
        "      list_1.pop(0)\n",
        "\n",
        "    for k in range(a_shape-2,0,-1):\n",
        "      main_a[k,0] = list_1[0]\n",
        "      list_1.pop(0)\n",
        "\n",
        "    print('Done with round One')\n",
        "\n",
        "    print(a3)\n",
        "    # print('output \\n',main_a)\n",
        "    # print('start 2nd Round')\n",
        "    list_o.append(main_a)\n",
        "\n",
        "    print(list_o)\n",
        "\n",
        "    if (main_shape%2) ==1:\n",
        "      list_o[0][int(main_shape/2),int(main_shape/2)]  = a3[int(main_shape/2),int(main_shape/2)]"
      ]
    },
    {
      "cell_type": "code",
      "execution_count": null,
      "metadata": {
        "id": "INGLrRLYycvY"
      },
      "outputs": [],
      "source": [
        "list_o[0][1:4,1:4] = list_o[1]"
      ]
    },
    {
      "cell_type": "code",
      "execution_count": null,
      "metadata": {
        "colab": {
          "base_uri": "https://localhost:8080/"
        },
        "id": "SQEoR1bJ9IRl",
        "outputId": "185f4cf0-eac6-4f1a-f79a-d74d703c5206"
      },
      "outputs": [
        {
          "data": {
            "text/plain": [
              "(array([[  1,   2,   3,   4, 100],\n",
              "        [  5,   6,   7,   8, 200],\n",
              "        [  9,  10,  11,  12, 300],\n",
              "        [ 13,  14,  15,  16, 400],\n",
              "        [ 41,  51,  61,  71,  81]]),\n",
              " array([[  5,   1,   2,   3,   4],\n",
              "        [  9,  10,   6,   7, 100],\n",
              "        [ 13,  14,   0,   8, 200],\n",
              "        [ 41,  15,  16,  12, 300],\n",
              "        [ 51,  61,  71,  81, 400]]))"
            ]
          },
          "execution_count": 303,
          "metadata": {},
          "output_type": "execute_result"
        }
      ],
      "source": [
        "a3,list_o[0]"
      ]
    },
    {
      "cell_type": "markdown",
      "metadata": {
        "id": "mcf__g5TZ98z"
      },
      "source": [
        "# geekForGeeks"
      ]
    },
    {
      "cell_type": "code",
      "execution_count": null,
      "metadata": {
        "colab": {
          "base_uri": "https://localhost:8080/"
        },
        "id": "uKjLOiMqoDCd",
        "outputId": "ef520cc3-2d6c-49a3-ad6e-2256adf59da7"
      },
      "outputs": [
        {
          "name": "stdout",
          "output_type": "stream",
          "text": [
            "['False', 'None', 'True', 'and', 'as', 'assert', 'async', 'await', 'break', 'class', 'continue', 'def', 'del', 'elif', 'else', 'except', 'finally', 'for', 'from', 'global', 'if', 'import', 'in', 'is', 'lambda', 'nonlocal', 'not', 'or', 'pass', 'raise', 'return', 'try', 'while', 'with', 'yield']\n"
          ]
        }
      ],
      "source": [
        "import keyword\n",
        "print(keyword.kwlist)"
      ]
    },
    {
      "cell_type": "code",
      "execution_count": null,
      "metadata": {
        "id": "HaCW97maovTr"
      },
      "outputs": [],
      "source": [
        "n = 10\n",
        "for i in range(n):\n",
        "    # pass can be used as placeholder\n",
        "    # when code is to added later\n",
        "    pass"
      ]
    },
    {
      "cell_type": "code",
      "execution_count": null,
      "metadata": {
        "colab": {
          "base_uri": "https://localhost:8080/"
        },
        "id": "e8ysxliJprCZ",
        "outputId": "ab6ad8ab-335e-4056-ff72-0fd964b83c34"
      },
      "outputs": [
        {
          "name": "stdout",
          "output_type": "stream",
          "text": [
            "Division By zero\n",
            "This is always executed\n"
          ]
        }
      ],
      "source": [
        "a,b  =4,0\n",
        "try:\n",
        "  k = a//b\n",
        "  print(k)\n",
        "except ZeroDivisionError:\n",
        "  print('Division By zero')\n",
        "finally:\n",
        "  print('This is always executed')"
      ]
    },
    {
      "cell_type": "code",
      "execution_count": null,
      "metadata": {
        "colab": {
          "base_uri": "https://localhost:8080/"
        },
        "id": "wgtelwtdIZsg",
        "outputId": "6bf23d81-d046-4ed0-8310-4fa61009c106"
      },
      "outputs": [
        {
          "name": "stdout",
          "output_type": "stream",
          "text": [
            "8\n"
          ]
        }
      ],
      "source": [
        "# lambda Functions\n",
        "cube = lambda x: x**3 # complete the lambda function\n",
        "print(cube(2))\n",
        "sum_1 = lambda x:x+4"
      ]
    },
    {
      "cell_type": "code",
      "execution_count": null,
      "metadata": {
        "colab": {
          "base_uri": "https://localhost:8080/"
        },
        "id": "wpAnKbwSp-gN",
        "outputId": "0d0147da-9c90-4bef-b4e8-11a84931665f"
      },
      "outputs": [
        {
          "name": "stdout",
          "output_type": "stream",
          "text": [
            "1\n",
            "2\n",
            "3\n"
          ]
        }
      ],
      "source": [
        "# Yield Keyword\n",
        "def fun():\n",
        "      # Yield the value 1, pausing the function here\n",
        "    yield 1\n",
        "    # Yield the value 2, pausing the function again\n",
        "    yield 2\n",
        "    # Yield the value 3, pausing the function once more\n",
        "    yield 3\n",
        "# Iterate through the values yielded by the function\n",
        "for value in fun():\n",
        "    print(value)"
      ]
    },
    {
      "cell_type": "code",
      "execution_count": null,
      "metadata": {
        "colab": {
          "base_uri": "https://localhost:8080/"
        },
        "id": "79NPjmyKte24",
        "outputId": "8cf0dd8b-e641-4611-cc4a-d05f23b7bce3"
      },
      "outputs": [
        {
          "name": "stdout",
          "output_type": "stream",
          "text": [
            "My name is  nithin \n",
            " My age is  28**\n",
            " My name is nithin and my age is 28\n",
            "\n",
            " My name is nithin and my age is 28.0000\n",
            "My name is ' nithin' and my age is 28\n",
            "My name is 'nithin' and my age is '28'\n",
            "My name is nithin and my age is 28\n",
            "My name is nithin and My age is 28\n",
            "My name is nithin and My age is 28.0000\n",
            "My name is nithin and My age is 28.00\n"
          ]
        }
      ],
      "source": [
        "# Lambda Function Here\n",
        "g = lambda x: x*x\n",
        "g(8)\n",
        "a,b = 'nithin', 28\n",
        "print('My name is ',a,'\\n My age is ',b,end = '**')\n",
        "print('\\n My name is {} and my age is {}'.format(a,b))\n",
        "print('\\n My name is {} and my age is {:7.4f}'.format(a,b))\n",
        "print(f'My name is \\' {a}\\' and my age is {b}')\n",
        "print(f'My name is \\'{a}\\' and my age is \\'{b}\\'')\n",
        "print(f'My name is {a} and my age is {b}')\n",
        "print(\"My name is %s and My age is %d\" % (a,b))\n",
        "print(\"My name is %s and My age is %5.4f\" % (a,b))\n",
        "print(\"My name is %s and My age is %1.2f\" % (a,b))"
      ]
    },
    {
      "cell_type": "code",
      "execution_count": null,
      "metadata": {
        "colab": {
          "base_uri": "https://localhost:8080/"
        },
        "id": "8DzUvQmWujxk",
        "outputId": "0a116143-7a5d-442c-d59a-34b0e7eeb9f0"
      },
      "outputs": [
        {
          "name": "stdout",
          "output_type": "stream",
          "text": [
            "44\n",
            "9.9118\n"
          ]
        }
      ],
      "source": [
        "import random\n",
        "print(random.randint(1,100))\n",
        "print(round(random.uniform(1,10),4))"
      ]
    },
    {
      "cell_type": "code",
      "execution_count": null,
      "metadata": {
        "colab": {
          "base_uri": "https://localhost:8080/"
        },
        "id": "7dyyLbO91jKa",
        "outputId": "8739908e-f3ec-4d61-c0f5-fbb3a19ab874"
      },
      "outputs": [
        {
          "name": "stdout",
          "output_type": "stream",
          "text": [
            "[10, 20, 30, 21]\n",
            "[10, 30]\n"
          ]
        }
      ],
      "source": [
        "# lists are mutable\n",
        "# Tuples are immutable\n",
        "a = []\n",
        "a.append(10)\n",
        "a.insert(1,20)\n",
        "a.extend([30,21])\n",
        "print(a)\n",
        "a.remove(20) # Remove the First occuring value\n",
        "a.pop(2) # pop Out based on the index for lists but removes last element for Set\n",
        "print(a)"
      ]
    },
    {
      "cell_type": "markdown",
      "metadata": {
        "id": "1YLrp9lGh1YQ"
      },
      "source": [
        "# GeekForGeeks"
      ]
    },
    {
      "cell_type": "code",
      "execution_count": null,
      "metadata": {
        "colab": {
          "base_uri": "https://localhost:8080/"
        },
        "id": "bjFyk9OS2yKX",
        "outputId": "8dd775d7-88d5-4747-f7f4-f646f64b7f3d"
      },
      "outputs": [
        {
          "name": "stdout",
          "output_type": "stream",
          "text": [
            "644\n"
          ]
        }
      ],
      "source": [
        "a = [1,323,4,5,644,0]\n",
        "max = -1000000\n",
        "\n",
        "for i in a:\n",
        "  if i >max:\n",
        "    max =i\n",
        "print(max)"
      ]
    },
    {
      "cell_type": "markdown",
      "metadata": {
        "id": "d7vs7tL1kciR"
      },
      "source": [
        "Factorial"
      ]
    },
    {
      "cell_type": "code",
      "execution_count": null,
      "metadata": {
        "colab": {
          "base_uri": "https://localhost:8080/"
        },
        "id": "Dxd3_32hitVU",
        "outputId": "77a55111-392f-45d5-f6a9-cad22bf8418a"
      },
      "outputs": [
        {
          "data": {
            "text/plain": [
              "3628800"
            ]
          },
          "execution_count": 2,
          "metadata": {},
          "output_type": "execute_result"
        }
      ],
      "source": [
        "def factorial(n):\n",
        "  return 1 if (n==1) or (n==0) else n*factorial(n-1)\n",
        "\n",
        "factorial(10)"
      ]
    },
    {
      "cell_type": "markdown",
      "metadata": {
        "id": "NVo3BKqpkZSp"
      },
      "source": [
        "Prime Number"
      ]
    },
    {
      "cell_type": "code",
      "execution_count": null,
      "metadata": {
        "colab": {
          "base_uri": "https://localhost:8080/"
        },
        "id": "QjQs46nAjDU4",
        "outputId": "96dfbb9f-ded8-45c7-c4a1-4ea75b9c2950"
      },
      "outputs": [
        {
          "name": "stdout",
          "output_type": "stream",
          "text": [
            "20\n",
            "{1, 2, 3, 5, 7, 11, 13, 17, 19}\n"
          ]
        }
      ],
      "source": [
        "n =int(input())\n",
        "k= []\n",
        "for i in range(1,n):\n",
        "  if i==1:\n",
        "    k.append(i)\n",
        "  else:\n",
        "    for j in range(2,i):\n",
        "      if i%j==0:\n",
        "        break\n",
        "    else:\n",
        "      k.append(i)\n",
        "\n",
        "print(set(k))"
      ]
    },
    {
      "cell_type": "code",
      "execution_count": null,
      "metadata": {
        "colab": {
          "base_uri": "https://localhost:8080/"
        },
        "id": "OBrpr8_Xj4cr",
        "outputId": "a855d901-1c10-4299-adb1-901c4f7bd407"
      },
      "outputs": [
        {
          "name": "stdout",
          "output_type": "stream",
          "text": [
            "99\n"
          ]
        }
      ],
      "source": [
        "# AScii Value\n",
        "print(ord('c'))"
      ]
    },
    {
      "cell_type": "code",
      "execution_count": null,
      "metadata": {
        "colab": {
          "base_uri": "https://localhost:8080/"
        },
        "id": "D4fqQYFGlvvp",
        "outputId": "d3896fa5-34cc-4603-ec7a-5e5c3eb4d131"
      },
      "outputs": [
        {
          "name": "stdout",
          "output_type": "stream",
          "text": [
            "[2, 3, 4, 5, 1]\n",
            "[3, 4, 5, 1, 2]\n",
            "[4, 5, 1, 2, 3]\n",
            "[4, 5, 1, 2, 3] [3, 2, 1, 5, 4]\n"
          ]
        }
      ],
      "source": [
        "# Array Rotation\n",
        "a = [1,2,3,4,5]\n",
        "for i in range(3):\n",
        "  a.append(a.pop(0))\n",
        "  print(a)\n",
        "print(a,a[::-1],a[1:],a[1::])"
      ]
    },
    {
      "cell_type": "code",
      "execution_count": null,
      "metadata": {
        "colab": {
          "base_uri": "https://localhost:8080/"
        },
        "id": "EbdQtWzzKhnB",
        "outputId": "bb2a6622-f73f-4cbf-cdf5-f836389672c3"
      },
      "outputs": [
        {
          "name": "stdout",
          "output_type": "stream",
          "text": [
            "15 [] None\n"
          ]
        }
      ],
      "source": [
        "# Array  Swap\n",
        "a = [1,2,3,4,5]\n",
        "temp1 = a[4]\n",
        "a[4] = a[2]\n",
        "a[2] = temp1\n",
        "print(sum(a),a,a.clear())"
      ]
    },
    {
      "cell_type": "code",
      "execution_count": null,
      "metadata": {
        "colab": {
          "base_uri": "https://localhost:8080/"
        },
        "id": "2ho-cbZEKqPP",
        "outputId": "56df026d-55cf-482d-e79a-5b9e8361642c"
      },
      "outputs": [
        {
          "data": {
            "text/plain": [
              "120"
            ]
          },
          "execution_count": 5,
          "metadata": {},
          "output_type": "execute_result"
        }
      ],
      "source": [
        "# reduce usage -  multiply all the elements in the Iterable\n",
        "from functools import reduce\n",
        "from operator import mul\n",
        "a = [1,2,3,4,5]\n",
        "reduce(mul,a)"
      ]
    },
    {
      "cell_type": "code",
      "execution_count": null,
      "metadata": {
        "colab": {
          "base_uri": "https://localhost:8080/"
        },
        "id": "BOQKV0lqKqTf",
        "outputId": "378d0bb2-cb89-474d-c912-01c800df7b35"
      },
      "outputs": [
        {
          "name": "stdout",
          "output_type": "stream",
          "text": [
            "[1, 3, 6, 10, 15]\n"
          ]
        }
      ],
      "source": [
        "# Cumulative Sum\n",
        "a = [1,2,3,4,5]\n",
        "list_1 = []\n",
        "j= 0\n",
        "for i in a:\n",
        "  j= j + i\n",
        "  list_1.append(j)\n",
        "print(list_1)"
      ]
    },
    {
      "cell_type": "code",
      "execution_count": null,
      "metadata": {
        "colab": {
          "base_uri": "https://localhost:8080/"
        },
        "id": "HvLlNBGwYaXy",
        "outputId": "11746edb-b886-4eec-c95b-007f4c3418ad"
      },
      "outputs": [
        {
          "data": {
            "text/plain": [
              "[2, 3, 4]"
            ]
          },
          "execution_count": 13,
          "metadata": {},
          "output_type": "execute_result"
        }
      ],
      "source": [
        "list_1 = [1,2,3,4]\n",
        "list_1.remove(1)"
      ]
    },
    {
      "cell_type": "code",
      "execution_count": null,
      "metadata": {
        "colab": {
          "base_uri": "https://localhost:8080/"
        },
        "id": "0jRu2GOlcIWB",
        "outputId": "ab0bbbe4-5c99-4283-b560-b18d254ec0e4"
      },
      "outputs": [
        {
          "data": {
            "text/plain": [
              "[]"
            ]
          },
          "execution_count": 19,
          "metadata": {},
          "output_type": "execute_result"
        }
      ],
      "source": [
        "def twoSum( nums, target):\n",
        "    output = []\n",
        "    output2 = []\n",
        "    for i in range(len(nums)):\n",
        "        if nums[i] <= target:\n",
        "            k  = target-nums[i]\n",
        "            if (k in nums):\n",
        "                if (i!=nums.index(k)):\n",
        "                    output.append(i)\n",
        "                    output.append(nums.index(k))\n",
        "\n",
        "    return output[:2]\n",
        "nums = [-1,-2,-3,-4,-5]\n",
        "twoSum(nums, target = -8)"
      ]
    },
    {
      "cell_type": "code",
      "execution_count": null,
      "metadata": {
        "colab": {
          "base_uri": "https://localhost:8080/"
        },
        "id": "L54Z5pV1eG7s",
        "outputId": "912da127-f4a6-4506-9b47-657a9d33023f"
      },
      "outputs": [
        {
          "data": {
            "text/plain": [
              "[1, 2, 3, 3, 4, 5]"
            ]
          },
          "execution_count": 20,
          "metadata": {},
          "output_type": "execute_result"
        }
      ],
      "source": [
        "list_1 = [1,2,3]\n",
        "list_2 = [3,4,5]"
      ]
    },
    {
      "cell_type": "code",
      "execution_count": null,
      "metadata": {
        "id": "YR-0iR_5fX_2"
      },
      "outputs": [],
      "source": [
        "# Hour Glass\n",
        "\n",
        "#!/bin/python3\n",
        "\n",
        "import math\n",
        "import os\n",
        "import random\n",
        "import re\n",
        "import sys\n",
        "\n",
        "\n",
        "def hourglassSum(arr):\n",
        "    # Write your code here\n",
        "    output = []\n",
        "    for i in range(len(arr) - 2):\n",
        "        for j in range(len(arr) - 2):\n",
        "            output.append(sum(arr[i][j:j+3]) + (arr[i+1][j:j+3][1]) + sum(arr[i+2][j:j+3]))\n",
        "\n",
        "    return max(output)\n",
        "\n",
        "if __name__ == '__main__':\n",
        "    fptr = open(os.environ['OUTPUT_PATH'], 'w')\n",
        "\n",
        "    arr = []\n",
        "\n",
        "    for _ in range(6):\n",
        "        arr.append(list(map(int, input().rstrip().split())))\n",
        "\n",
        "    result = hourglassSum(arr)\n",
        "\n",
        "    fptr.write(str(result) + '\\n')\n",
        "\n",
        "    fptr.close()\n"
      ]
    },
    {
      "cell_type": "markdown",
      "metadata": {
        "id": "gRQF--1wroX8"
      },
      "source": [
        "### Recursion"
      ]
    },
    {
      "cell_type": "code",
      "execution_count": 9,
      "metadata": {
        "id": "bth9g7wKJGC8"
      },
      "outputs": [],
      "source": [
        "def print1(a):\n",
        "  if a > 10:\n",
        "    return\n",
        "  else:\n",
        "\n",
        "    a+=1\n",
        "  print1(a)\n",
        "  print(a)\n",
        "\n",
        "print1(4)"
      ]
    },
    {
      "cell_type": "code",
      "execution_count": 12,
      "metadata": {
        "colab": {
          "base_uri": "https://localhost:8080/"
        },
        "id": "IRiEsYRHJGF_",
        "outputId": "c3ea837f-b5f2-4f06-87b6-e3bffd0d051e"
      },
      "outputs": [
        {
          "name": "stdout",
          "output_type": "stream",
          "text": [
            "Nithin 6\n",
            "Nithin 5\n",
            "Nithin 4\n",
            "Nithin 3\n",
            "Nithin 2\n"
          ]
        }
      ],
      "source": [
        "def printname(i,n):\n",
        "  if i>n:\n",
        "    return\n",
        "  else:\n",
        "    i+=1\n",
        "  printname(i,n)\n",
        "  print('Nithin',i)\n",
        "printname(1,5)"
      ]
    },
    {
      "cell_type": "code",
      "execution_count": 22,
      "metadata": {
        "colab": {
          "base_uri": "https://localhost:8080/"
        },
        "id": "8ST8tSARPDF5",
        "outputId": "2ed67af5-685e-4fd3-cf7a-7b1cc78eec74"
      },
      "outputs": [
        {
          "name": "stdout",
          "output_type": "stream",
          "text": [
            "[8, 3, 7, 32, 5, 1]\n",
            "[8, 3, 7, 32, 5, 1]\n",
            "[8, 3, 7, 32, 5, 1]\n"
          ]
        }
      ],
      "source": [
        "def reverserecursion(l,r,a):\n",
        "  if l>=r:\n",
        "    return\n",
        "  else:\n",
        "    a[l],a[r] = a[r], a[l]\n",
        "  reverserecursion(l+1,r-1,a)\n",
        "  print(a)\n",
        "\n",
        "reverserecursion(0,5,[1,5,32,7,3,8])"
      ]
    },
    {
      "cell_type": "code",
      "execution_count": 29,
      "metadata": {
        "colab": {
          "base_uri": "https://localhost:8080/"
        },
        "id": "_2QzjYP8Qdlk",
        "outputId": "50a709d3-9407-43ec-ad27-545979d3724c"
      },
      "outputs": [
        {
          "data": {
            "text/plain": [
              "False"
            ]
          },
          "execution_count": 29,
          "metadata": {},
          "output_type": "execute_result"
        }
      ],
      "source": [
        "def reverserecursion(l,r,a):\n",
        "  if l>=r:\n",
        "    return\n",
        "  elif a[l] != a[r]:\n",
        "    return False\n",
        "  else:\n",
        "    reverserecursion(l+1,r-1,a)\n",
        "\n",
        "reverserecursion(0,5,'MADAM1')"
      ]
    },
    {
      "cell_type": "code",
      "execution_count": 15,
      "metadata": {
        "colab": {
          "base_uri": "https://localhost:8080/"
        },
        "id": "GHbiGIUJJGIf",
        "outputId": "e4df49c5-0e9c-4d67-c117-cc74882c6736"
      },
      "outputs": [
        {
          "data": {
            "text/plain": [
              "120"
            ]
          },
          "execution_count": 15,
          "metadata": {},
          "output_type": "execute_result"
        }
      ],
      "source": [
        "def factorial(n):\n",
        "  if n==1:\n",
        "    return 1\n",
        "  else:\n",
        "    return n* factorial(n-1)\n",
        "factorial(5)"
      ]
    },
    {
      "cell_type": "code",
      "execution_count": null,
      "metadata": {
        "colab": {
          "base_uri": "https://localhost:8080/"
        },
        "id": "9mcTA0xXrplQ",
        "outputId": "177c27ba-8f36-479c-8a0d-cd206a4a0ed2"
      },
      "outputs": [
        {
          "name": "stdout",
          "output_type": "stream",
          "text": [
            "0 nithin\n",
            "1 nithin\n",
            "2 nithin\n",
            "3 nithin\n",
            "4 nithin\n"
          ]
        }
      ],
      "source": [
        "\n",
        "def printN(i,num):\n",
        "  if i <num:\n",
        "    print(i,'nithin')\n",
        "  else:\n",
        "    return\n",
        "  i= i+1\n",
        "  printN(i,num)\n",
        "\n",
        "printN(0,5)"
      ]
    },
    {
      "cell_type": "code",
      "execution_count": null,
      "metadata": {
        "colab": {
          "base_uri": "https://localhost:8080/"
        },
        "id": "asWXdpYdsAJJ",
        "outputId": "c4a46df0-20b5-4cf7-ebfa-cd7c3d8a0920"
      },
      "outputs": [
        {
          "name": "stdout",
          "output_type": "stream",
          "text": [
            "0 nithin 5\n",
            "0 nithin 4\n",
            "0 nithin 3\n",
            "0 nithin 2\n",
            "0 nithin 1\n"
          ]
        }
      ],
      "source": [
        "def printN(i,num):\n",
        "  if num>0:\n",
        "    print(i,'nithin',num)\n",
        "  else:\n",
        "    return\n",
        "  num = num-1\n",
        "  printN(i,num)\n",
        "\n",
        "printN(0,5)"
      ]
    },
    {
      "cell_type": "code",
      "execution_count": null,
      "metadata": {
        "id": "shKGcGUOtlzS"
      },
      "outputs": [],
      "source": [
        "def sumN(i,num,sum):\n",
        "  if num ==1:\n",
        "    print(num)\n",
        "    print(sum)\n",
        "    return sum\n",
        "  num = num-1\n",
        "  sum = num +sum\n",
        "  print(num,sum)\n",
        "  sumN(i,num,sum=sum)"
      ]
    },
    {
      "cell_type": "code",
      "execution_count": null,
      "metadata": {
        "colab": {
          "base_uri": "https://localhost:8080/"
        },
        "id": "r5njWwR3uov5",
        "outputId": "29055120-ccc7-461c-d7c2-d460315fa28b"
      },
      "outputs": [
        {
          "name": "stdout",
          "output_type": "stream",
          "text": [
            "4 4\n",
            "3 7\n",
            "2 9\n",
            "1 10\n",
            "1\n",
            "10\n"
          ]
        }
      ],
      "source": [
        "a = sumN(0,5,sum=0)"
      ]
    },
    {
      "cell_type": "code",
      "execution_count": null,
      "metadata": {
        "id": "TvVzk5YduxO0"
      },
      "outputs": [],
      "source": []
    },
    {
      "cell_type": "code",
      "execution_count": null,
      "metadata": {
        "id": "tDpSJfnNu-kJ"
      },
      "outputs": [],
      "source": []
    }
  ],
  "metadata": {
    "colab": {
      "authorship_tag": "ABX9TyN1BMDg85jesu3DJxtXC1oO",
      "include_colab_link": true,
      "provenance": []
    },
    "kernelspec": {
      "display_name": "Python 3",
      "name": "python3"
    },
    "language_info": {
      "name": "python",
      "version": "3.11.9"
    }
  },
  "nbformat": 4,
  "nbformat_minor": 0
}
