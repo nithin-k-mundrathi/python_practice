{
  "nbformat": 4,
  "nbformat_minor": 0,
  "metadata": {
    "colab": {
      "provenance": [],
      "authorship_tag": "ABX9TyPd15jmQuwZaBOAhVxGGXIV",
      "include_colab_link": true
    },
    "kernelspec": {
      "name": "python3",
      "display_name": "Python 3"
    },
    "language_info": {
      "name": "python"
    }
  },
  "cells": [
    {
      "cell_type": "markdown",
      "metadata": {
        "id": "view-in-github",
        "colab_type": "text"
      },
      "source": [
        "<a href=\"https://colab.research.google.com/github/nithin-k-mundrathi/python_practice/blob/main/Python_New_Programs.ipynb\" target=\"_parent\"><img src=\"https://colab.research.google.com/assets/colab-badge.svg\" alt=\"Open In Colab\"/></a>"
      ]
    },
    {
      "cell_type": "code",
      "metadata": {
        "id": "gDqRQgnt6pp5",
        "colab": {
          "base_uri": "https://localhost:8080/"
        },
        "outputId": "a622a787-f654-438a-93da-7fa88630ab06"
      },
      "source": [
        "s = \"India\"\n",
        "print(s[::-1],len(s))"
      ],
      "execution_count": 1,
      "outputs": [
        {
          "output_type": "stream",
          "name": "stdout",
          "text": [
            "aidnI 5\n"
          ]
        }
      ]
    },
    {
      "cell_type": "code",
      "metadata": {
        "colab": {
          "base_uri": "https://localhost:8080/"
        },
        "id": "SCV28Vzu82EQ",
        "outputId": "91ab1855-6547-4d29-ec07-29d22fb9e34d"
      },
      "source": [
        "import sys\n",
        "-sys.maxsize -1"
      ],
      "execution_count": null,
      "outputs": [
        {
          "output_type": "execute_result",
          "data": {
            "text/plain": [
              "-9223372036854775808"
            ]
          },
          "metadata": {},
          "execution_count": 11
        }
      ]
    },
    {
      "cell_type": "code",
      "metadata": {
        "id": "sHwgGoYT9PZk"
      },
      "source": [
        "a = [1,75,6,2,3]"
      ],
      "execution_count": null,
      "outputs": []
    },
    {
      "cell_type": "code",
      "metadata": {
        "colab": {
          "base_uri": "https://localhost:8080/"
        },
        "id": "n8C3MijA9bJK",
        "outputId": "b098d775-2aef-4a5b-f7d6-4d7fe8abe94c"
      },
      "source": [
        "round(1.1234,1),round(1.1234,2),round(1.1234,3)"
      ],
      "execution_count": 4,
      "outputs": [
        {
          "output_type": "execute_result",
          "data": {
            "text/plain": [
              "(1.1, 1.12, 1.123)"
            ]
          },
          "metadata": {},
          "execution_count": 4
        }
      ]
    },
    {
      "cell_type": "markdown",
      "metadata": {
        "id": "6KObov8NEJ0l"
      },
      "source": [
        "### MAx Continous Sub Array of of length =k"
      ]
    },
    {
      "cell_type": "code",
      "metadata": {
        "id": "_P7--vP2-1Zg"
      },
      "source": [
        "int_min = -sys.maxsize-1\n",
        "\n",
        "for i in range(len(a)-2-1):\n",
        "  max_sum = 0\n",
        "  for j in range(2):\n",
        "    max_sum = max_sum + a[i+j]\n",
        "\n",
        "  int_min = max(int_min,max_sum)"
      ],
      "execution_count": null,
      "outputs": []
    },
    {
      "cell_type": "code",
      "metadata": {
        "colab": {
          "base_uri": "https://localhost:8080/"
        },
        "id": "mbONXmsP-2Ho",
        "outputId": "119b3654-8524-4da4-93da-3ac20480d3aa"
      },
      "source": [
        "int_min"
      ],
      "execution_count": null,
      "outputs": [
        {
          "output_type": "execute_result",
          "data": {
            "text/plain": [
              "81"
            ]
          },
          "metadata": {},
          "execution_count": 33
        }
      ]
    },
    {
      "cell_type": "markdown",
      "metadata": {
        "id": "n-oaJNa5EH4B"
      },
      "source": [
        "### PRime _Number\n"
      ]
    },
    {
      "cell_type": "code",
      "metadata": {
        "colab": {
          "base_uri": "https://localhost:8080/"
        },
        "id": "J48MsETKBrvC",
        "outputId": "8589b396-9e33-4bc4-d335-b5fd2836dc79"
      },
      "source": [
        "n = 21\n",
        "for i in range(2,int(n/2)+1):\n",
        "  if n%i==0:\n",
        "    print(False)\n",
        "    break\n",
        "  else:\n",
        "    print(True)"
      ],
      "execution_count": null,
      "outputs": [
        {
          "output_type": "stream",
          "name": "stdout",
          "text": [
            "True\n",
            "False\n"
          ]
        }
      ]
    },
    {
      "cell_type": "code",
      "metadata": {
        "id": "PlEmrsQsD3xk"
      },
      "source": [
        "def prime_N(n):\n",
        "\n",
        "  for i in range(n):\n",
        "\n",
        "    for j in range(2, int(i/2)+1):\n",
        "      if i%j==0:\n",
        "        break\n",
        "      print(i)"
      ],
      "execution_count": null,
      "outputs": []
    },
    {
      "cell_type": "markdown",
      "metadata": {
        "id": "nHNxFNS6Hkre"
      },
      "source": [
        "### GCD\n"
      ]
    },
    {
      "cell_type": "code",
      "metadata": {
        "id": "lSVwJCrKFJvp"
      },
      "source": [
        "def gcd(a,b):\n",
        "  if b==0:\n",
        "    return a\n",
        "  else:\n",
        "    return gcd(b,a%b)"
      ],
      "execution_count": null,
      "outputs": []
    },
    {
      "cell_type": "code",
      "metadata": {
        "colab": {
          "base_uri": "https://localhost:8080/"
        },
        "id": "_4fFnLcyFMZu",
        "outputId": "9337364f-5feb-45de-9cb3-0df15f4419c2"
      },
      "source": [
        "gcd(16,4)"
      ],
      "execution_count": null,
      "outputs": [
        {
          "output_type": "execute_result",
          "data": {
            "text/plain": [
              "4"
            ]
          },
          "metadata": {},
          "execution_count": 48
        }
      ]
    },
    {
      "cell_type": "code",
      "metadata": {
        "colab": {
          "base_uri": "https://localhost:8080/"
        },
        "id": "dSTAt0QCH1dP",
        "outputId": "dffaa3f5-06c9-4633-c137-18317d5f979c"
      },
      "source": [
        "a = [1,2,3,4,5]\n",
        "b = [5,2,7,9]\n",
        "\n",
        "list(set(a) & set(b))"
      ],
      "execution_count": null,
      "outputs": [
        {
          "output_type": "execute_result",
          "data": {
            "text/plain": [
              "[2, 5]"
            ]
          },
          "metadata": {},
          "execution_count": 51
        }
      ]
    },
    {
      "cell_type": "markdown",
      "source": [
        "  ### Join all elements in a list"
      ],
      "metadata": {
        "id": "0hodUUURARXg"
      }
    },
    {
      "cell_type": "code",
      "metadata": {
        "id": "JKwLwfppHv_u",
        "colab": {
          "base_uri": "https://localhost:8080/"
        },
        "outputId": "deb0b00e-d98c-4e6b-ee93-dbe9d362def0"
      },
      "source": [
        "    n = int(input())\n",
        "    k = ''.join([str(i) for i in range(1,n+1)])\n",
        "    print(k)"
      ],
      "execution_count": 6,
      "outputs": [
        {
          "output_type": "stream",
          "name": "stdout",
          "text": [
            "5\n",
            "12345\n"
          ]
        }
      ]
    },
    {
      "cell_type": "code",
      "source": [
        "arr  = list(map(int, input().split()))\n",
        "k=-1000\n",
        "print(arr)\n",
        "for i in arr:\n",
        "    if i >= k:\n",
        "        k=i\n",
        "print(k)\n",
        "z = []\n",
        "for p in arr:\n",
        "    if p !=k:\n",
        "        z.append(p)\n",
        "\n",
        "print(max(z))"
      ],
      "metadata": {
        "colab": {
          "base_uri": "https://localhost:8080/"
        },
        "id": "N20phj8cFRDw",
        "outputId": "8b8ddd4f-51a5-47e9-9bdd-d5c9553d6463"
      },
      "execution_count": null,
      "outputs": [
        {
          "output_type": "stream",
          "name": "stdout",
          "text": [
            "6 6 6 6 6 6 6 6 6 5\n",
            "[6, 6, 6, 6, 6, 6, 6, 6, 6, 5]\n",
            "6\n",
            "5\n"
          ]
        }
      ]
    },
    {
      "cell_type": "markdown",
      "source": [
        "%md Second largest"
      ],
      "metadata": {
        "id": "bqE9D-6UL3qg"
      }
    },
    {
      "cell_type": "code",
      "source": [
        "n1 =n2 =1000000\n",
        "\n",
        "for i in list_scores:\n",
        "\n",
        "    if i < n1:\n",
        "        n2 = n1\n",
        "        n1 = i\n",
        "\n",
        "    elif i<n2 and i!=n1:\n",
        "        n2 = i\n",
        "a = []\n",
        "for j in list_o:\n",
        "    if j[1] == n2:\n",
        "        a.append(j[0])"
      ],
      "metadata": {
        "id": "S0M7bfj1FaBn"
      },
      "execution_count": null,
      "outputs": []
    },
    {
      "cell_type": "markdown",
      "source": [
        "List comprehensions\n"
      ],
      "metadata": {
        "id": "Ka7jrZlWQ9x8"
      }
    },
    {
      "cell_type": "code",
      "source": [
        "x,y,z = map(int,input().split())\n",
        "list_1 = [i for i in range(x+1)]\n",
        "list_2 = [i for i in range(y+1)]\n",
        "list_3 = [i for i in range(z+1)]\n",
        "p = [[i,j,k] for i in list_1 for j in list_2 for k in list_3 if i+j+k !=n]\n",
        "\n",
        "print(p)"
      ],
      "metadata": {
        "id": "c5RmvLMeQ8t4",
        "colab": {
          "base_uri": "https://localhost:8080/"
        },
        "outputId": "bac54ea2-d6cc-4457-95f4-46ca2ff9b42f"
      },
      "execution_count": 7,
      "outputs": [
        {
          "output_type": "stream",
          "name": "stdout",
          "text": [
            "2 3 4\n",
            "[[0, 0, 0], [0, 0, 1], [0, 0, 2], [0, 0, 3], [0, 0, 4], [0, 1, 0], [0, 1, 1], [0, 1, 2], [0, 1, 3], [0, 2, 0], [0, 2, 1], [0, 2, 2], [0, 2, 4], [0, 3, 0], [0, 3, 1], [0, 3, 3], [0, 3, 4], [1, 0, 0], [1, 0, 1], [1, 0, 2], [1, 0, 3], [1, 1, 0], [1, 1, 1], [1, 1, 2], [1, 1, 4], [1, 2, 0], [1, 2, 1], [1, 2, 3], [1, 2, 4], [1, 3, 0], [1, 3, 2], [1, 3, 3], [1, 3, 4], [2, 0, 0], [2, 0, 1], [2, 0, 2], [2, 0, 4], [2, 1, 0], [2, 1, 1], [2, 1, 3], [2, 1, 4], [2, 2, 0], [2, 2, 2], [2, 2, 3], [2, 2, 4], [2, 3, 1], [2, 3, 2], [2, 3, 3], [2, 3, 4]]\n"
          ]
        }
      ]
    },
    {
      "cell_type": "markdown",
      "source": [
        "List comprehension with if and else"
      ],
      "metadata": {
        "id": "GMdjOGbsU2QB"
      }
    },
    {
      "cell_type": "code",
      "source": [
        "def swap_case(s):\n",
        "    list_s = s.split(' ')\n",
        "    k =[]\n",
        "    for i in list_s:\n",
        "        # if else comes first in list comprehension\n",
        "        k.append(''.join(\n",
        "            [j.lower() if j.isupper() else j.upper() for j in list(i)]))\n",
        "    return ' '.join(k)\n",
        "\n",
        "if __name__ == '__main__':\n",
        "    s = input()\n",
        "    result = swap_case(s)\n",
        "    print(result)"
      ],
      "metadata": {
        "id": "nPSveCxUU0zE"
      },
      "execution_count": null,
      "outputs": []
    },
    {
      "cell_type": "markdown",
      "source": [
        "Avg using a Dict upto 2 decimal places"
      ],
      "metadata": {
        "id": "HpaAv02BW1-Q"
      }
    },
    {
      "cell_type": "code",
      "source": [
        "if __name__ == '__main__':\n",
        "    n = int(input())\n",
        "    student_marks = {}\n",
        "    for _ in range(n):\n",
        "        name, *line = input().split()\n",
        "        scores = list(map(float, line))\n",
        "        student_marks[name] = scores\n",
        "    query_name = input()\n",
        "\n",
        "    print(\n",
        "        '{:.2f}'.format(sum(student_marks[query_name][:])/len(student_marks[query_name]))\n",
        "        )\n",
        "\n",
        "  # give : when formatting to decide as number and just {} as a string\n",
        "  output = \"Hello {.3f} {}! You just delved into python.\".format(10,last)\n",
        "  print(output)"
      ],
      "metadata": {
        "id": "XkfIDnM8RBd7"
      },
      "execution_count": null,
      "outputs": []
    },
    {
      "cell_type": "code",
      "source": [
        "print('{:.4f}'.format(7)),print('{:.4f}'.format(70)),print('{:.4f}'.format(10))"
      ],
      "metadata": {
        "colab": {
          "base_uri": "https://localhost:8080/"
        },
        "id": "6afsGdDtXAno",
        "outputId": "551e610c-66ca-4dc8-fd5b-902f07dc3314"
      },
      "execution_count": 8,
      "outputs": [
        {
          "output_type": "stream",
          "name": "stdout",
          "text": [
            "7.0000\n",
            "70.0000\n",
            "10.0000\n"
          ]
        },
        {
          "output_type": "execute_result",
          "data": {
            "text/plain": [
              "(None, None, None)"
            ]
          },
          "metadata": {},
          "execution_count": 8
        }
      ]
    },
    {
      "cell_type": "code",
      "source": [
        "list_1 = [1,23,4]\n",
        "\n",
        "list_1[2] = list_1[2] - 1\n",
        "list_1"
      ],
      "metadata": {
        "colab": {
          "base_uri": "https://localhost:8080/"
        },
        "id": "UQmROzyNXArY",
        "outputId": "0f73c249-fd23-499f-fce8-1294c080d16a"
      },
      "execution_count": null,
      "outputs": [
        {
          "output_type": "execute_result",
          "data": {
            "text/plain": [
              "[1, 23, 3]"
            ]
          },
          "metadata": {},
          "execution_count": 2
        }
      ]
    },
    {
      "cell_type": "markdown",
      "source": [
        "Collectioons Counter"
      ],
      "metadata": {
        "id": "nwbIK-3yKBvR"
      }
    },
    {
      "cell_type": "code",
      "source": [],
      "metadata": {
        "id": "G_vyUlbOKA2u"
      },
      "execution_count": null,
      "outputs": []
    },
    {
      "cell_type": "markdown",
      "source": [
        "permutations"
      ],
      "metadata": {
        "id": "hB-5FEbvKEc9"
      }
    },
    {
      "cell_type": "markdown",
      "source": [
        "Text cell\n"
      ],
      "metadata": {
        "id": "2FW8NCG06THn"
      }
    },
    {
      "cell_type": "code",
      "source": [],
      "metadata": {
        "id": "4xHuAQt96SE7"
      },
      "execution_count": null,
      "outputs": []
    },
    {
      "cell_type": "markdown",
      "source": [
        "Lists"
      ],
      "metadata": {
        "id": "BQ2jAtoLCQVp"
      }
    },
    {
      "cell_type": "code",
      "source": [
        "if __name__ == '__main__':\n",
        "    N = int(input())\n",
        "    list_1 = []\n",
        "    for i in range(N):\n",
        "        a  = input().split()\n",
        "        if a[0]=='insert':\n",
        "            list_1.insert(int(a[1]),int(a[2]))\n",
        "        if a[0]=='print':\n",
        "            print(list_1)\n",
        "        if a[0] == 'remove':\n",
        "            list_1.remove(int(a[1]))\n",
        "        if a[0] == 'append':\n",
        "            list_1.append(int(a[1]))\n",
        "        if a[0] == 'pop':\n",
        "            list_1.pop()\n",
        "        if a[0] == 'reverse':\n",
        "            list_1.reverse()\n",
        "        if a[0] == 'sort':\n",
        "            list_1.sort()\n"
      ],
      "metadata": {
        "id": "XgzlJakeMBFS"
      },
      "execution_count": null,
      "outputs": []
    },
    {
      "cell_type": "code",
      "source": [
        "pos = [1,2,3,4]\n",
        "pos[::-1]"
      ],
      "metadata": {
        "id": "tvb6VVKoYvLW",
        "outputId": "8c6b3b66-6568-4b73-e42d-21cda2a11ee5",
        "colab": {
          "base_uri": "https://localhost:8080/"
        }
      },
      "execution_count": null,
      "outputs": [
        {
          "output_type": "execute_result",
          "data": {
            "text/plain": [
              "[4, 3, 2, 1]"
            ]
          },
          "metadata": {},
          "execution_count": 1
        }
      ]
    },
    {
      "cell_type": "markdown",
      "source": [
        "Numpy\n"
      ],
      "metadata": {
        "id": "Xui6Fv_xnWNn"
      }
    },
    {
      "cell_type": "code",
      "source": [
        "import numpy as np\n",
        "np.set_printoptions(legacy = '1.13')\n",
        "a,b  = tuple(map(int,input().split()))\n",
        "print(a,b)\n",
        "# print(np.identity(a))\n",
        "print(np.eye(a,b,k=0))\n",
        "print(np.empty(shape=(a,b)))\n",
        "arr_a= np.empty((a,b))\n",
        "print(arr_a)"
      ],
      "metadata": {
        "id": "-vozYgLtnVem",
        "colab": {
          "base_uri": "https://localhost:8080/"
        },
        "outputId": "3d49e4d6-7c17-46e4-8876-1004ee1f3a95"
      },
      "execution_count": 14,
      "outputs": [
        {
          "output_type": "stream",
          "name": "stdout",
          "text": [
            "3 3\n",
            "3 3\n",
            "[[ 1.  0.  0.]\n",
            " [ 0.  1.  0.]\n",
            " [ 0.  0.  1.]]\n",
            "[[ 1.  0.  0.]\n",
            " [ 0.  1.  0.]\n",
            " [ 0.  0.  1.]]\n",
            "[[ 1.  0.  0.]\n",
            " [ 0.  1.  0.]\n",
            " [ 0.  0.  1.]]\n"
          ]
        }
      ]
    },
    {
      "cell_type": "markdown",
      "source": [
        "NUMpy errors"
      ],
      "metadata": {
        "id": "l0TaEnf-tZJa"
      }
    },
    {
      "cell_type": "code",
      "source": [
        "import numpy as np\n",
        "\n",
        "a,b = tuple(map(int,input().split()))\n",
        "\n",
        "arr_a= np.empty((a,b),dtype=np.int)\n",
        "arr_b = np.empty((a,b),dtype = np.int)\n",
        "for i in range(a):\n",
        "    arr_a[i] = (np.array(list(map(int,input().split()))))\n",
        "for i in range(a):\n",
        "    arr_b[i] = np.array(list(map(int,input().split())))\n",
        "\n",
        "print(np.add(arr_a,arr_b))\n",
        "print(np.subtract(arr_a,arr_b))\n",
        "print(np.multiply(arr_a,arr_b))\n",
        "print(np.floor_divide(arr_a,arr_b))\n",
        "print(np.mod(arr_a,arr_b))\n",
        "print(np.power(arr_a,arr_b))"
      ],
      "metadata": {
        "id": "MnwwqHJbtYXb"
      },
      "execution_count": null,
      "outputs": []
    },
    {
      "cell_type": "markdown",
      "source": [
        "Numpy Dot and Cross"
      ],
      "metadata": {
        "id": "ak-M3pg_xXUo"
      }
    },
    {
      "cell_type": "code",
      "source": [
        "# Enter your code here. Read input from STDIN. Print output to STDOUT\n",
        "\n",
        "\n",
        "import numpy as np\n",
        "\n",
        "a = int(input())\n",
        "arr_a = np.empty((a,a),dtype=np.int)\n",
        "arr_b = np.empty((a,a),dtype=np.int)\n",
        "\n",
        "for i in range(a):\n",
        "    arr_a[i] =  list(map(int,input().split()))\n",
        "for i in range(a):\n",
        "    arr_b[i] = list(map(int,input().split()))\n",
        "\n",
        "o =  np.empty((a,a),dtype=np.int)\n",
        "for i in range(a):\n",
        "    for j in range(a):\n",
        "        # print(arr_a[i][:],arr_b,arr_b[j][:],arr_b[:,j] )\n",
        "        o[i,j] = np.dot((arr_a[i][:]),(arr_b[:,j]))\n",
        "\n",
        "print(o)\n",
        "print(np.dot(arr_a,arr_b))\n",
        "print(np.cross(arr_a,arr_b))"
      ],
      "metadata": {
        "id": "u-CeMiruxWiY"
      },
      "execution_count": null,
      "outputs": []
    },
    {
      "cell_type": "markdown",
      "source": [
        "Fibonacci\n"
      ],
      "metadata": {
        "id": "x30RFVrx38IT"
      }
    },
    {
      "cell_type": "code",
      "source": [
        "cube = lambda x: x**3 # complete the lambda function\n",
        "\n",
        "def fibonacci(n):\n",
        "    # return a list of fibonacci numbers\n",
        "    o =[]\n",
        "    n1=0\n",
        "    n2=1\n",
        "    a = [n1,n2]\n",
        "    if n==1:\n",
        "        return [0]\n",
        "    if n==0:\n",
        "        return []\n",
        "    for i in range(2,n):\n",
        "        a.append(sum(a[-2:]))\n",
        "    return a\n",
        "\n",
        "if __name__ == '__main__':\n",
        "    n = int(input())\n",
        "    print(list(map(cube, fibonacci(n))))"
      ],
      "metadata": {
        "id": "YeEt_oGTYxqP"
      },
      "execution_count": null,
      "outputs": []
    },
    {
      "cell_type": "code",
      "source": [
        "for x in numbers:\n",
        "    print(\"{:10.4f}\".format(x))"
      ],
      "metadata": {
        "id": "KaApmBBE3_eY"
      },
      "execution_count": null,
      "outputs": []
    },
    {
      "cell_type": "code",
      "source": [
        "for i in enumerate(['R', 'a', 'n', 'k']):\n",
        "  print(i)"
      ],
      "metadata": {
        "colab": {
          "base_uri": "https://localhost:8080/"
        },
        "id": "gOIg8LdY4Gcd",
        "outputId": "bde64ec2-5f71-4095-8292-f221abbd6917"
      },
      "execution_count": null,
      "outputs": [
        {
          "output_type": "stream",
          "name": "stdout",
          "text": [
            "(0, 'R')\n",
            "(1, 'a')\n",
            "(2, 'n')\n",
            "(3, 'k')\n"
          ]
        }
      ]
    },
    {
      "cell_type": "code",
      "source": [
        "# Rotate an array\n",
        "\n",
        "i = [1,2,3,4,5,6]\n",
        "\n",
        "i.insert(0,[1,2])\n",
        "print(i)\n",
        "import numpy as np\n",
        "a4 = np.array([[1,2,3,100],[4,5,6,200],[7,8,9,300],[10,11,12,13]])\n",
        "a5 = np.array([[1,2,3,100,22],[4,5,6,200,33],[7,8,9,300,44],[10,11,12,13,55],[123,124,125,126,127]])\n",
        "a4,a5"
      ],
      "metadata": {
        "colab": {
          "base_uri": "https://localhost:8080/"
        },
        "id": "YgUo6gvWYcru",
        "outputId": "e82ca618-a641-4ec9-81e8-4441f722d341"
      },
      "execution_count": null,
      "outputs": [
        {
          "output_type": "stream",
          "name": "stdout",
          "text": [
            "[[1, 2], 1, 2, 3, 4, 5, 6]\n"
          ]
        },
        {
          "output_type": "execute_result",
          "data": {
            "text/plain": [
              "(array([[  1,   2,   3, 100],\n",
              "        [  4,   5,   6, 200],\n",
              "        [  7,   8,   9, 300],\n",
              "        [ 10,  11,  12,  13]]),\n",
              " array([[  1,   2,   3, 100,  22],\n",
              "        [  4,   5,   6, 200,  33],\n",
              "        [  7,   8,   9, 300,  44],\n",
              "        [ 10,  11,  12,  13,  55],\n",
              "        [123, 124, 125, 126, 127]]))"
            ]
          },
          "metadata": {},
          "execution_count": 169
        }
      ]
    },
    {
      "cell_type": "code",
      "source": [
        "list_1 = []\n",
        "a = a5\n",
        "k = a5.shape[0]-1\n",
        "list_1.extend(list(a[0,:]))\n",
        "list_1.extend(list(a[1:,k]))\n",
        "list_1.extend(list(a[k,:k])[::-1])\n",
        "list_1.extend(list(a[1:k,0])[::-1])\n",
        "\n",
        "print(list_1)\n",
        "z = list_1[-1]\n",
        "list_1.insert(0,z)\n",
        "list_1.pop()\n",
        "list_1"
      ],
      "metadata": {
        "colab": {
          "base_uri": "https://localhost:8080/"
        },
        "id": "kUx7pL14ZVFA",
        "outputId": "d1247f46-ff46-4981-bc2e-8d7e5631b28c"
      },
      "execution_count": null,
      "outputs": [
        {
          "output_type": "stream",
          "name": "stdout",
          "text": [
            "[1, 2, 5, 4]\n"
          ]
        },
        {
          "output_type": "execute_result",
          "data": {
            "text/plain": [
              "[4, 1, 2, 5]"
            ]
          },
          "metadata": {},
          "execution_count": 304
        }
      ]
    },
    {
      "cell_type": "code",
      "source": [
        "a3 = np.array([[1,2,3,4,100],[5,6,7,8,200],[9,10,11,12,300],[13,14,15,16,400],[41,51,61,71,81]])\n",
        "a3 =  np.array([[1,2,3,4,100,777],[5,6,7,8,200,888],[9,10,11,12,300,999],[13,14,15,16,400,111],[41,51,61,71,81,222],[41,51,61,71,81,222]])\n",
        "\n",
        "k = a3.shape[0]-1\n",
        "main_a = np.zeros((k+1,k+1),dtype = int)\n",
        "a =a3\n",
        "main_shape= a3.shape[0]\n",
        "a_shape = k+1\n",
        "list_o = []\n",
        "for i in range(0,int(a_shape/2)):\n",
        "    print(i)\n",
        "    list_1 = []\n",
        "    a = a3[0+i:main_shape-i,0+i:main_shape-i]\n",
        "    # print(0+i,main_shape-i,0+i,main_shape-i)\n",
        "    k = a.shape[0]-1\n",
        "    main_a = np.zeros((k+1,k+1),dtype = int)\n",
        "    a_shape = main_a.shape[0]\n",
        "    print('a',a)\n",
        "    k = a.shape[0] -1\n",
        "    list_1.extend(list(a[0,:]))\n",
        "    list_1.extend(list(a[1:,k]))\n",
        "    list_1.extend(list(a[k,:k])[::-1])\n",
        "    list_1.extend(list(a[1:k,0])[::-1])\n",
        "    z = list_1[-1]\n",
        "    list_1.insert(0,z)\n",
        "    list_1.pop()\n",
        "\n",
        "    for j in range(a_shape):\n",
        "      main_a[0,j] = list_1[0]\n",
        "      list_1.pop(0)\n",
        "\n",
        "    for j in range(1,a_shape):\n",
        "\n",
        "      main_a[j,a_shape-1] = list_1[0]\n",
        "      list_1.pop(0)\n",
        "\n",
        "    for k in range(a_shape-2,-1,-1):\n",
        "      main_a[a_shape-1,k] = list_1[0]\n",
        "      list_1.pop(0)\n",
        "\n",
        "    for k in range(a_shape-2,0,-1):\n",
        "      main_a[k,0] = list_1[0]\n",
        "      list_1.pop(0)\n",
        "\n",
        "    print('Done with round One')\n",
        "\n",
        "    print(a3)\n",
        "    # print('output \\n',main_a)\n",
        "    # print('start 2nd Round')\n",
        "    list_o.append(main_a)\n",
        "\n",
        "    print(list_o)\n",
        "\n",
        "    if (main_shape%2) ==1:\n",
        "      list_o[0][int(main_shape/2),int(main_shape/2)]  = a3[int(main_shape/2),int(main_shape/2)]"
      ],
      "metadata": {
        "colab": {
          "base_uri": "https://localhost:8080/"
        },
        "id": "3wq0xds0oVG9",
        "outputId": "0c2c8f7b-ec48-48c1-c21d-b4d8abd18f6d"
      },
      "execution_count": null,
      "outputs": [
        {
          "output_type": "stream",
          "name": "stdout",
          "text": [
            "0\n",
            "a [[  1   2   3   4 100 777]\n",
            " [  5   6   7   8 200 888]\n",
            " [  9  10  11  12 300 999]\n",
            " [ 13  14  15  16 400 111]\n",
            " [ 41  51  61  71  81 222]\n",
            " [ 41  51  61  71  81 222]]\n",
            "Done with round One\n",
            "[[  1   2   3   4 100 777]\n",
            " [  5   6   7   8 200 888]\n",
            " [  9  10  11  12 300 999]\n",
            " [ 13  14  15  16 400 111]\n",
            " [ 41  51  61  71  81 222]\n",
            " [ 41  51  61  71  81 222]]\n",
            "[array([[  5,   1,   2,   3,   4, 100],\n",
            "       [  9,   0,   0,   0,   0, 777],\n",
            "       [ 13,   0,   0,   0,   0, 888],\n",
            "       [ 41,   0,   0,   0,   0, 999],\n",
            "       [ 41,   0,   0,   0,   0, 111],\n",
            "       [ 51,  61,  71,  81, 222, 222]])]\n",
            "1\n",
            "a [[  6   7   8 200]\n",
            " [ 10  11  12 300]\n",
            " [ 14  15  16 400]\n",
            " [ 51  61  71  81]]\n",
            "Done with round One\n",
            "[[  1   2   3   4 100 777]\n",
            " [  5   6   7   8 200 888]\n",
            " [  9  10  11  12 300 999]\n",
            " [ 13  14  15  16 400 111]\n",
            " [ 41  51  61  71  81 222]\n",
            " [ 41  51  61  71  81 222]]\n",
            "[array([[  5,   1,   2,   3,   4, 100],\n",
            "       [  9,   0,   0,   0,   0, 777],\n",
            "       [ 13,   0,   0,   0,   0, 888],\n",
            "       [ 41,   0,   0,   0,   0, 999],\n",
            "       [ 41,   0,   0,   0,   0, 111],\n",
            "       [ 51,  61,  71,  81, 222, 222]]), array([[ 10,   6,   7,   8],\n",
            "       [ 14,   0,   0, 200],\n",
            "       [ 51,   0,   0, 300],\n",
            "       [ 61,  71,  81, 400]])]\n",
            "2\n",
            "a [[11 12]\n",
            " [15 16]]\n",
            "Done with round One\n",
            "[[  1   2   3   4 100 777]\n",
            " [  5   6   7   8 200 888]\n",
            " [  9  10  11  12 300 999]\n",
            " [ 13  14  15  16 400 111]\n",
            " [ 41  51  61  71  81 222]\n",
            " [ 41  51  61  71  81 222]]\n",
            "[array([[  5,   1,   2,   3,   4, 100],\n",
            "       [  9,   0,   0,   0,   0, 777],\n",
            "       [ 13,   0,   0,   0,   0, 888],\n",
            "       [ 41,   0,   0,   0,   0, 999],\n",
            "       [ 41,   0,   0,   0,   0, 111],\n",
            "       [ 51,  61,  71,  81, 222, 222]]), array([[ 10,   6,   7,   8],\n",
            "       [ 14,   0,   0, 200],\n",
            "       [ 51,   0,   0, 300],\n",
            "       [ 61,  71,  81, 400]]), array([[15, 11],\n",
            "       [16, 12]])]\n"
          ]
        }
      ]
    },
    {
      "cell_type": "code",
      "source": [
        "list_o[0][1:4,1:4] = list_o[1]"
      ],
      "metadata": {
        "id": "INGLrRLYycvY"
      },
      "execution_count": null,
      "outputs": []
    },
    {
      "cell_type": "code",
      "source": [
        "a3,list_o[0]"
      ],
      "metadata": {
        "colab": {
          "base_uri": "https://localhost:8080/"
        },
        "id": "SQEoR1bJ9IRl",
        "outputId": "185f4cf0-eac6-4f1a-f79a-d74d703c5206"
      },
      "execution_count": null,
      "outputs": [
        {
          "output_type": "execute_result",
          "data": {
            "text/plain": [
              "(array([[  1,   2,   3,   4, 100],\n",
              "        [  5,   6,   7,   8, 200],\n",
              "        [  9,  10,  11,  12, 300],\n",
              "        [ 13,  14,  15,  16, 400],\n",
              "        [ 41,  51,  61,  71,  81]]),\n",
              " array([[  5,   1,   2,   3,   4],\n",
              "        [  9,  10,   6,   7, 100],\n",
              "        [ 13,  14,   0,   8, 200],\n",
              "        [ 41,  15,  16,  12, 300],\n",
              "        [ 51,  61,  71,  81, 400]]))"
            ]
          },
          "metadata": {},
          "execution_count": 303
        }
      ]
    },
    {
      "cell_type": "markdown",
      "source": [
        "# geekForGeeks"
      ],
      "metadata": {
        "id": "mcf__g5TZ98z"
      }
    },
    {
      "cell_type": "code",
      "source": [
        "import keyword\n",
        "print(keyword.kwlist)"
      ],
      "metadata": {
        "colab": {
          "base_uri": "https://localhost:8080/"
        },
        "id": "uKjLOiMqoDCd",
        "outputId": "ef520cc3-2d6c-49a3-ad6e-2256adf59da7"
      },
      "execution_count": null,
      "outputs": [
        {
          "output_type": "stream",
          "name": "stdout",
          "text": [
            "['False', 'None', 'True', 'and', 'as', 'assert', 'async', 'await', 'break', 'class', 'continue', 'def', 'del', 'elif', 'else', 'except', 'finally', 'for', 'from', 'global', 'if', 'import', 'in', 'is', 'lambda', 'nonlocal', 'not', 'or', 'pass', 'raise', 'return', 'try', 'while', 'with', 'yield']\n"
          ]
        }
      ]
    },
    {
      "cell_type": "code",
      "source": [
        "n = 10\n",
        "for i in range(n):\n",
        "    # pass can be used as placeholder\n",
        "    # when code is to added later\n",
        "    pass"
      ],
      "metadata": {
        "id": "HaCW97maovTr"
      },
      "execution_count": null,
      "outputs": []
    },
    {
      "cell_type": "code",
      "source": [
        "a,b  =4,0\n",
        "try:\n",
        "  k = a//b\n",
        "  print(k)\n",
        "except ZeroDivisionError:\n",
        "  print('Division By zero')\n",
        "finally:\n",
        "  print('This is always executed')"
      ],
      "metadata": {
        "colab": {
          "base_uri": "https://localhost:8080/"
        },
        "id": "e8ysxliJprCZ",
        "outputId": "ab6ad8ab-335e-4056-ff72-0fd964b83c34"
      },
      "execution_count": null,
      "outputs": [
        {
          "output_type": "stream",
          "name": "stdout",
          "text": [
            "Division By zero\n",
            "This is always executed\n"
          ]
        }
      ]
    },
    {
      "cell_type": "code",
      "source": [
        "# Yield Keyword\n",
        "def fun():\n",
        "      # Yield the value 1, pausing the function here\n",
        "    yield 1\n",
        "    # Yield the value 2, pausing the function again\n",
        "    yield 2\n",
        "    # Yield the value 3, pausing the function once more\n",
        "    yield 3\n",
        "# Iterate through the values yielded by the function\n",
        "for value in fun():\n",
        "    print(value)"
      ],
      "metadata": {
        "colab": {
          "base_uri": "https://localhost:8080/"
        },
        "id": "wpAnKbwSp-gN",
        "outputId": "0d0147da-9c90-4bef-b4e8-11a84931665f"
      },
      "execution_count": null,
      "outputs": [
        {
          "output_type": "stream",
          "name": "stdout",
          "text": [
            "1\n",
            "2\n",
            "3\n"
          ]
        }
      ]
    },
    {
      "cell_type": "code",
      "source": [
        "# Lambda Function Here\n",
        "g = lambda x: x*x\n",
        "g(8)\n",
        "a,b = 'nithin', 28\n",
        "print('My name is ',a,'\\n My age is ',b,end = '**')\n",
        "print('\\n My name is {} and my age is {}'.format(a,b))\n",
        "print('\\n My name is {} and my age is {:7.4f}'.format(a,b))\n",
        "print(f'My name is \\' {a}\\' and my age is {b}')\n",
        "print(f'My name is \\'{a}\\' and my age is \\'{b}\\'')\n",
        "print(f'My name is {a} and my age is {b}')\n",
        "print(\"My name is %s and My age is %d\" % (a,b))\n",
        "print(\"My name is %s and My age is %5.4f\" % (a,b))\n",
        "print(\"My name is %s and My age is %1.2f\" % (a,b))"
      ],
      "metadata": {
        "colab": {
          "base_uri": "https://localhost:8080/"
        },
        "id": "79NPjmyKte24",
        "outputId": "8cf0dd8b-e641-4611-cc4a-d05f23b7bce3"
      },
      "execution_count": null,
      "outputs": [
        {
          "output_type": "stream",
          "name": "stdout",
          "text": [
            "My name is  nithin \n",
            " My age is  28**\n",
            " My name is nithin and my age is 28\n",
            "\n",
            " My name is nithin and my age is 28.0000\n",
            "My name is ' nithin' and my age is 28\n",
            "My name is 'nithin' and my age is '28'\n",
            "My name is nithin and my age is 28\n",
            "My name is nithin and My age is 28\n",
            "My name is nithin and My age is 28.0000\n",
            "My name is nithin and My age is 28.00\n"
          ]
        }
      ]
    },
    {
      "cell_type": "code",
      "source": [
        "import random\n",
        "print(random.randint(1,100))\n",
        "print(round(random.uniform(1,10),4))"
      ],
      "metadata": {
        "colab": {
          "base_uri": "https://localhost:8080/"
        },
        "id": "8DzUvQmWujxk",
        "outputId": "0a116143-7a5d-442c-d59a-34b0e7eeb9f0"
      },
      "execution_count": null,
      "outputs": [
        {
          "output_type": "stream",
          "name": "stdout",
          "text": [
            "44\n",
            "9.9118\n"
          ]
        }
      ]
    },
    {
      "cell_type": "code",
      "source": [
        "# lists are mutable\n",
        "# Tuples are immutable\n",
        "a = []\n",
        "a.append(10)\n",
        "a.insert(1,20)\n",
        "a.extend([30,21])\n",
        "print(a)\n",
        "a.remove(20) # Remove the First occuring value\n",
        "a.pop(2) # pop Out based on the index for lists but removes last element for Set\n",
        "print(a)"
      ],
      "metadata": {
        "colab": {
          "base_uri": "https://localhost:8080/"
        },
        "id": "7dyyLbO91jKa",
        "outputId": "8739908e-f3ec-4d61-c0f5-fbb3a19ab874"
      },
      "execution_count": null,
      "outputs": [
        {
          "output_type": "stream",
          "name": "stdout",
          "text": [
            "[10, 20, 30, 21]\n",
            "[10, 30]\n"
          ]
        }
      ]
    },
    {
      "cell_type": "markdown",
      "source": [
        "# GeekForGeeks"
      ],
      "metadata": {
        "id": "1YLrp9lGh1YQ"
      }
    },
    {
      "cell_type": "code",
      "source": [
        "a = [1,323,4,5,644,0]\n",
        "max = -1000000\n",
        "\n",
        "for i in a:\n",
        "  if i >max:\n",
        "    max =i\n",
        "print(max)"
      ],
      "metadata": {
        "id": "bjFyk9OS2yKX",
        "colab": {
          "base_uri": "https://localhost:8080/"
        },
        "outputId": "8dd775d7-88d5-4747-f7f4-f646f64b7f3d"
      },
      "execution_count": null,
      "outputs": [
        {
          "output_type": "stream",
          "name": "stdout",
          "text": [
            "644\n"
          ]
        }
      ]
    },
    {
      "cell_type": "markdown",
      "source": [
        "Factorial"
      ],
      "metadata": {
        "id": "d7vs7tL1kciR"
      }
    },
    {
      "cell_type": "code",
      "source": [
        "def factorial(n):\n",
        "  return 1 if (n==1) or (n==0) else n*factorial(n-1)\n",
        "\n",
        "factorial(10)"
      ],
      "metadata": {
        "colab": {
          "base_uri": "https://localhost:8080/"
        },
        "id": "Dxd3_32hitVU",
        "outputId": "77a55111-392f-45d5-f6a9-cad22bf8418a"
      },
      "execution_count": null,
      "outputs": [
        {
          "output_type": "execute_result",
          "data": {
            "text/plain": [
              "3628800"
            ]
          },
          "metadata": {},
          "execution_count": 2
        }
      ]
    },
    {
      "cell_type": "markdown",
      "source": [
        "Prime Number"
      ],
      "metadata": {
        "id": "NVo3BKqpkZSp"
      }
    },
    {
      "cell_type": "code",
      "source": [
        "n =int(input())\n",
        "k= []\n",
        "for i in range(1,n):\n",
        "  if i==1:\n",
        "    k.append(i)\n",
        "  else:\n",
        "    for j in range(2,i):\n",
        "      if i%j==0:\n",
        "        break\n",
        "    else:\n",
        "      k.append(i)\n",
        "\n",
        "print(set(k))"
      ],
      "metadata": {
        "colab": {
          "base_uri": "https://localhost:8080/"
        },
        "id": "QjQs46nAjDU4",
        "outputId": "96dfbb9f-ded8-45c7-c4a1-4ea75b9c2950"
      },
      "execution_count": null,
      "outputs": [
        {
          "output_type": "stream",
          "name": "stdout",
          "text": [
            "20\n",
            "{1, 2, 3, 5, 7, 11, 13, 17, 19}\n"
          ]
        }
      ]
    },
    {
      "cell_type": "code",
      "source": [
        "# AScii Value\n",
        "print(ord('c'))"
      ],
      "metadata": {
        "colab": {
          "base_uri": "https://localhost:8080/"
        },
        "id": "OBrpr8_Xj4cr",
        "outputId": "a855d901-1c10-4299-adb1-901c4f7bd407"
      },
      "execution_count": null,
      "outputs": [
        {
          "output_type": "stream",
          "name": "stdout",
          "text": [
            "99\n"
          ]
        }
      ]
    },
    {
      "cell_type": "code",
      "source": [
        "# Array Rotation\n",
        "a = [1,2,3,4,5]\n",
        "for i in range(3):\n",
        "  a.append(a.pop(0))\n",
        "  print(a)\n",
        "print(a,a[::-1],a[1:],a[1::])"
      ],
      "metadata": {
        "colab": {
          "base_uri": "https://localhost:8080/"
        },
        "id": "D4fqQYFGlvvp",
        "outputId": "d3896fa5-34cc-4603-ec7a-5e5c3eb4d131"
      },
      "execution_count": null,
      "outputs": [
        {
          "output_type": "stream",
          "name": "stdout",
          "text": [
            "[2, 3, 4, 5, 1]\n",
            "[3, 4, 5, 1, 2]\n",
            "[4, 5, 1, 2, 3]\n",
            "[4, 5, 1, 2, 3] [3, 2, 1, 5, 4]\n"
          ]
        }
      ]
    },
    {
      "cell_type": "code",
      "source": [
        "# Array  Swap\n",
        "a = [1,2,3,4,5]\n",
        "temp1 = a[4]\n",
        "a[4] = a[2]\n",
        "a[2] = temp1\n",
        "print(sum(a),a,a.clear())"
      ],
      "metadata": {
        "colab": {
          "base_uri": "https://localhost:8080/"
        },
        "id": "EbdQtWzzKhnB",
        "outputId": "bb2a6622-f73f-4cbf-cdf5-f836389672c3"
      },
      "execution_count": null,
      "outputs": [
        {
          "output_type": "stream",
          "name": "stdout",
          "text": [
            "15 [] None\n"
          ]
        }
      ]
    },
    {
      "cell_type": "code",
      "source": [
        "# reduce usage -  multiply all the elements in the Iterable\n",
        "from functools import reduce\n",
        "from operator import mul\n",
        "a = [1,2,3,4,5]\n",
        "reduce(mul,a)"
      ],
      "metadata": {
        "colab": {
          "base_uri": "https://localhost:8080/"
        },
        "id": "2ho-cbZEKqPP",
        "outputId": "56df026d-55cf-482d-e79a-5b9e8361642c"
      },
      "execution_count": null,
      "outputs": [
        {
          "output_type": "execute_result",
          "data": {
            "text/plain": [
              "120"
            ]
          },
          "metadata": {},
          "execution_count": 5
        }
      ]
    },
    {
      "cell_type": "code",
      "source": [
        "# Cumulative Sum\n",
        "a = [1,2,3,4,5]\n",
        "list_1 = []\n",
        "j= 0\n",
        "for i in a:\n",
        "  j= j + i\n",
        "  list_1.append(j)\n",
        "print(list_1)"
      ],
      "metadata": {
        "colab": {
          "base_uri": "https://localhost:8080/"
        },
        "id": "BOQKV0lqKqTf",
        "outputId": "378d0bb2-cb89-474d-c912-01c800df7b35"
      },
      "execution_count": null,
      "outputs": [
        {
          "output_type": "stream",
          "name": "stdout",
          "text": [
            "[1, 3, 6, 10, 15]\n"
          ]
        }
      ]
    },
    {
      "cell_type": "code",
      "source": [
        "list_1 = [1,2,3,4]\n",
        "\n",
        "list_1.remove(1)"
      ],
      "metadata": {
        "colab": {
          "base_uri": "https://localhost:8080/"
        },
        "id": "HvLlNBGwYaXy",
        "outputId": "11746edb-b886-4eec-c95b-007f4c3418ad"
      },
      "execution_count": null,
      "outputs": [
        {
          "output_type": "execute_result",
          "data": {
            "text/plain": [
              "[2, 3, 4]"
            ]
          },
          "metadata": {},
          "execution_count": 13
        }
      ]
    },
    {
      "cell_type": "code",
      "source": [
        "\n",
        "def twoSum( nums, target):\n",
        "    output = []\n",
        "    output2 = []\n",
        "    for i in range(len(nums)):\n",
        "        if nums[i] <= target:\n",
        "            k  = target-nums[i]\n",
        "            if (k in nums):\n",
        "                if (i!=nums.index(k)):\n",
        "                    output.append(i)\n",
        "                    output.append(nums.index(k))\n",
        "\n",
        "    return output[:2]\n",
        "\n",
        "\n",
        "nums = [-1,-2,-3,-4,-5]\n",
        "twoSum(nums, target = -8)"
      ],
      "metadata": {
        "colab": {
          "base_uri": "https://localhost:8080/"
        },
        "id": "0jRu2GOlcIWB",
        "outputId": "ab0bbbe4-5c99-4283-b560-b18d254ec0e4"
      },
      "execution_count": null,
      "outputs": [
        {
          "output_type": "execute_result",
          "data": {
            "text/plain": [
              "[]"
            ]
          },
          "metadata": {},
          "execution_count": 19
        }
      ]
    },
    {
      "cell_type": "code",
      "source": [
        "list_1 = [1,2,3]\n",
        "list_2 = [3,4,5]"
      ],
      "metadata": {
        "colab": {
          "base_uri": "https://localhost:8080/"
        },
        "id": "L54Z5pV1eG7s",
        "outputId": "912da127-f4a6-4506-9b47-657a9d33023f"
      },
      "execution_count": null,
      "outputs": [
        {
          "output_type": "execute_result",
          "data": {
            "text/plain": [
              "[1, 2, 3, 3, 4, 5]"
            ]
          },
          "metadata": {},
          "execution_count": 20
        }
      ]
    },
    {
      "cell_type": "code",
      "source": [
        "# Hour Glass\n",
        "\n",
        "#!/bin/python3\n",
        "\n",
        "import math\n",
        "import os\n",
        "import random\n",
        "import re\n",
        "import sys\n",
        "\n",
        "\n",
        "def hourglassSum(arr):\n",
        "    # Write your code here\n",
        "    output = []\n",
        "    for i in range(len(arr) - 2):\n",
        "        for j in range(len(arr) - 2):\n",
        "            output.append(sum(arr[i][j:j+3]) + (arr[i+1][j:j+3][1]) + sum(arr[i+2][j:j+3]))\n",
        "\n",
        "    return max(output)\n",
        "\n",
        "if __name__ == '__main__':\n",
        "    fptr = open(os.environ['OUTPUT_PATH'], 'w')\n",
        "\n",
        "    arr = []\n",
        "\n",
        "    for _ in range(6):\n",
        "        arr.append(list(map(int, input().rstrip().split())))\n",
        "\n",
        "    result = hourglassSum(arr)\n",
        "\n",
        "    fptr.write(str(result) + '\\n')\n",
        "\n",
        "    fptr.close()\n"
      ],
      "metadata": {
        "id": "YR-0iR_5fX_2"
      },
      "execution_count": null,
      "outputs": []
    }
  ]
}