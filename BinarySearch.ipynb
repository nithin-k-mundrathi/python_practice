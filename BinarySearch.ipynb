{
  "nbformat": 4,
  "nbformat_minor": 0,
  "metadata": {
    "colab": {
      "provenance": [],
      "authorship_tag": "ABX9TyPrebMf+Qb3Na+ty7JCNRV0",
      "include_colab_link": true
    },
    "kernelspec": {
      "name": "python3",
      "display_name": "Python 3"
    },
    "language_info": {
      "name": "python"
    }
  },
  "cells": [
    {
      "cell_type": "markdown",
      "metadata": {
        "id": "view-in-github",
        "colab_type": "text"
      },
      "source": [
        "<a href=\"https://colab.research.google.com/github/nithin-k-mundrathi/python_practice/blob/main/BinarySearch.ipynb\" target=\"_parent\"><img src=\"https://colab.research.google.com/assets/colab-badge.svg\" alt=\"Open In Colab\"/></a>"
      ]
    },
    {
      "cell_type": "markdown",
      "source": [
        "# Binary Search"
      ],
      "metadata": {
        "id": "JLjhAypQQSWM"
      }
    },
    {
      "cell_type": "markdown",
      "source": [
        "## EASY -"
      ],
      "metadata": {
        "id": "OcQBwwGyQQJi"
      }
    },
    {
      "cell_type": "markdown",
      "source": [
        "### 1.Binary Search"
      ],
      "metadata": {
        "id": "wq4BvLPkQNZ5"
      }
    },
    {
      "cell_type": "code",
      "source": [
        "a = [3,4,6,7,9,12,16,17]\n",
        "def BinarySearch(a,target):\n",
        "  n = len(a)\n",
        "  low =0\n",
        "  high = n-1\n",
        "  mid = (low +high)//2\n",
        "\n",
        "  while low <=high:\n",
        "    mid = (low +high)//2\n",
        "    if a[mid] == target:\n",
        "      return mid\n",
        "    elif a[mid] < target:\n",
        "      low = mid+1\n",
        "    elif a[mid] > target:\n",
        "      high = mid-1\n",
        "\n",
        "  return -1\n",
        "\n",
        "print(BinarySearch(a,12))"
      ],
      "metadata": {
        "id": "pygX-c96On3F"
      },
      "execution_count": null,
      "outputs": []
    },
    {
      "cell_type": "code",
      "source": [
        "# Recursive Approach\n",
        "\n",
        "def recursiveBinarySearch(a,target, low, high):\n",
        "  n =len(a)\n",
        "  if low > high:\n",
        "    return -1\n",
        "  mid = (low +high) //2\n",
        "  if a[mid] == target:\n",
        "    return mid\n",
        "  elif a[mid] < target:\n",
        "    return recursiveBinarySearch(a,target,mid+1,high)\n",
        "  else:\n",
        "    return recursiveBinarySearch(a,target,low,mid-1)\n",
        "recursiveBinarySearch(a,6,0,len(a)-1)"
      ],
      "metadata": {
        "colab": {
          "base_uri": "https://localhost:8080/"
        },
        "id": "K52-rfFiQZpa",
        "outputId": "db879600-f6a4-4dfa-9f4c-180ea3f40e51"
      },
      "execution_count": null,
      "outputs": [
        {
          "output_type": "execute_result",
          "data": {
            "text/plain": [
              "2"
            ]
          },
          "metadata": {},
          "execution_count": 9
        }
      ]
    },
    {
      "cell_type": "markdown",
      "source": [
        "### 2. Lower Bound"
      ],
      "metadata": {
        "id": "O9Mm7rlDRMRx"
      }
    },
    {
      "cell_type": "code",
      "source": [
        "a  = [3,5,8,15,20,21]\n",
        "def lowerBound(a,x):\n",
        "  low =0\n",
        "  n = len(a)\n",
        "  high = n-1\n",
        "  index = n\n",
        "\n",
        "  while low <=high:\n",
        "    # just find the index\n",
        "    mid = (low +high) //2\n",
        "\n",
        "    if x <= a[mid]:\n",
        "      n  = mid\n",
        "      high = mid-1\n",
        "    else:\n",
        "      low = mid +1\n",
        "\n",
        "  return n\n",
        "\n",
        "print(lowerBound(a,20.5))\n",
        "print(lowerBound(a,19.5))\n",
        "print(lowerBound(a,2))"
      ],
      "metadata": {
        "id": "FYSys7U8RLmT",
        "colab": {
          "base_uri": "https://localhost:8080/"
        },
        "outputId": "2928c14f-aa69-4581-c0dd-9f3e99c6b851"
      },
      "execution_count": 12,
      "outputs": [
        {
          "output_type": "stream",
          "name": "stdout",
          "text": [
            "5\n",
            "4\n",
            "0\n"
          ]
        }
      ]
    },
    {
      "cell_type": "markdown",
      "source": [
        "### 3. Higher Bound"
      ],
      "metadata": {
        "id": "uQS6fFnBW-xa"
      }
    },
    {
      "cell_type": "code",
      "source": [
        "a  = [3,5,8,15,20,21]\n",
        "def HigherBound(a,x):\n",
        "  low =0\n",
        "  n = len(a)\n",
        "  high = n-1\n",
        "  index = n\n",
        "\n",
        "  while low <=high:\n",
        "    # just find the index\n",
        "    mid = (low +high) //2\n",
        "\n",
        "    if x < a[mid]:\n",
        "      n  = a[mid]\n",
        "      high = mid-1\n",
        "    else:\n",
        "      low = mid +1\n",
        "\n",
        "  return n\n",
        "\n",
        "print(HigherBound(a,20.5))\n",
        "print(HigherBound(a,19.5))\n",
        "print(HigherBound(a,2))"
      ],
      "metadata": {
        "id": "1vNMHXmKRFvH",
        "colab": {
          "base_uri": "https://localhost:8080/"
        },
        "outputId": "1a5f8515-7171-45c2-b09c-f57bd278a588"
      },
      "execution_count": 7,
      "outputs": [
        {
          "output_type": "stream",
          "name": "stdout",
          "text": [
            "21\n",
            "20\n",
            "3\n"
          ]
        }
      ]
    },
    {
      "cell_type": "markdown",
      "source": [
        "# 4. Search Insert Position"
      ],
      "metadata": {
        "id": "SrH_v_WYaWkq"
      }
    },
    {
      "cell_type": "code",
      "source": [
        "a  = [3,5,8,15,20,21]\n",
        "def HigherBound(a,x):\n",
        "  low =0\n",
        "  n = len(a)\n",
        "  high = n-1\n",
        "  index = n\n",
        "\n",
        "  while low <=high:\n",
        "    # just find the index\n",
        "    mid = (low +high) //2\n",
        "\n",
        "    if x <= a[mid]:\n",
        "      n  = mid\n",
        "      high = mid-1\n",
        "    else:\n",
        "      low = mid +1\n",
        "\n",
        "  return n\n",
        "\n",
        "print(HigherBound(a,20.5))\n",
        "print(HigherBound(a,19.5))\n",
        "print(HigherBound(a,2))\n",
        "\n",
        "# INSERT AT N"
      ],
      "metadata": {
        "colab": {
          "base_uri": "https://localhost:8080/"
        },
        "id": "uX3tQ6dgY1m2",
        "outputId": "050b4aba-9f8e-4c81-b7f8-b9d81b404859"
      },
      "execution_count": 14,
      "outputs": [
        {
          "output_type": "stream",
          "name": "stdout",
          "text": [
            "5\n",
            "4\n",
            "0\n"
          ]
        }
      ]
    },
    {
      "cell_type": "code",
      "source": [],
      "metadata": {
        "id": "kwGzXJ-NafFu"
      },
      "execution_count": null,
      "outputs": []
    }
  ]
}