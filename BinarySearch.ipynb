{
  "nbformat": 4,
  "nbformat_minor": 0,
  "metadata": {
    "colab": {
      "provenance": [],
      "authorship_tag": "ABX9TyPTHPpuP05ZnFH+PTLUnR2j",
      "include_colab_link": true
    },
    "kernelspec": {
      "name": "python3",
      "display_name": "Python 3"
    },
    "language_info": {
      "name": "python"
    }
  },
  "cells": [
    {
      "cell_type": "markdown",
      "metadata": {
        "id": "view-in-github",
        "colab_type": "text"
      },
      "source": [
        "<a href=\"https://colab.research.google.com/github/nithin-k-mundrathi/python_practice/blob/main/BinarySearch.ipynb\" target=\"_parent\"><img src=\"https://colab.research.google.com/assets/colab-badge.svg\" alt=\"Open In Colab\"/></a>"
      ]
    },
    {
      "cell_type": "markdown",
      "source": [
        "# Binary Search"
      ],
      "metadata": {
        "id": "JLjhAypQQSWM"
      }
    },
    {
      "cell_type": "markdown",
      "source": [
        "## EASY -"
      ],
      "metadata": {
        "id": "OcQBwwGyQQJi"
      }
    },
    {
      "cell_type": "markdown",
      "source": [
        "### 1.Binary Search"
      ],
      "metadata": {
        "id": "wq4BvLPkQNZ5"
      }
    },
    {
      "cell_type": "code",
      "source": [
        "a = [3,4,6,7,9,12,16,17]\n",
        "def BinarySearch(a,target):\n",
        "  n = len(a)\n",
        "  low =0\n",
        "  high = n-1\n",
        "  mid = (low +high)//2\n",
        "\n",
        "  while low <=high:\n",
        "    mid = (low +high)//2\n",
        "    if a[mid] == target:\n",
        "      return mid\n",
        "    elif a[mid] < target:\n",
        "      low = mid+1\n",
        "    elif a[mid] > target:\n",
        "      high = mid-1\n",
        "\n",
        "  return -1\n",
        "\n",
        "print(BinarySearch(a,12))"
      ],
      "metadata": {
        "id": "pygX-c96On3F"
      },
      "execution_count": null,
      "outputs": []
    },
    {
      "cell_type": "code",
      "source": [
        "# Recursive Approach\n",
        "\n",
        "def recursiveBinarySearch(a,target, low, high):\n",
        "  n =len(a)\n",
        "  if low > high:\n",
        "    return -1\n",
        "  mid = (low +high) //2\n",
        "  if a[mid] == target:\n",
        "    return mid\n",
        "  elif a[mid] < target:\n",
        "    return recursiveBinarySearch(a,target,mid+1,high)\n",
        "  else:\n",
        "    return recursiveBinarySearch(a,target,low,mid-1)\n",
        "recursiveBinarySearch(a,6,0,len(a)-1)"
      ],
      "metadata": {
        "colab": {
          "base_uri": "https://localhost:8080/"
        },
        "id": "K52-rfFiQZpa",
        "outputId": "db879600-f6a4-4dfa-9f4c-180ea3f40e51"
      },
      "execution_count": null,
      "outputs": [
        {
          "output_type": "execute_result",
          "data": {
            "text/plain": [
              "2"
            ]
          },
          "metadata": {},
          "execution_count": 9
        }
      ]
    },
    {
      "cell_type": "markdown",
      "source": [
        "### 2. Lower Bound"
      ],
      "metadata": {
        "id": "O9Mm7rlDRMRx"
      }
    },
    {
      "cell_type": "code",
      "source": [
        "a  = [3,5,8,15,20,21]\n",
        "def lowerBound(a,x):\n",
        "  low =0\n",
        "  n = len(a)\n",
        "  high = n-1\n",
        "  index = n\n",
        "\n",
        "  while low <=high:\n",
        "    # just find the index\n",
        "    mid = (low +high) //2\n",
        "\n",
        "    if x <= a[mid]:\n",
        "      n  = mid\n",
        "      high = mid-1\n",
        "    else:\n",
        "      low = mid +1\n",
        "\n",
        "  return n\n",
        "\n",
        "print(lowerBound(a,20.5))\n",
        "print(lowerBound(a,19.5))\n",
        "print(lowerBound(a,2))\n",
        "print(lowerBound([3,4,13,14,15,20,40],7))"
      ],
      "metadata": {
        "id": "FYSys7U8RLmT",
        "colab": {
          "base_uri": "https://localhost:8080/"
        },
        "outputId": "0897926d-2fe9-46cc-bcd6-6c833c2527d2"
      },
      "execution_count": null,
      "outputs": [
        {
          "output_type": "stream",
          "name": "stdout",
          "text": [
            "5\n",
            "4\n",
            "0\n",
            "2\n"
          ]
        }
      ]
    },
    {
      "cell_type": "markdown",
      "source": [
        "### 3. Higher Bound"
      ],
      "metadata": {
        "id": "uQS6fFnBW-xa"
      }
    },
    {
      "cell_type": "code",
      "source": [
        "a  = [3,5,8,15,20,21]\n",
        "def HigherBound(a,x):\n",
        "  low =0\n",
        "  n = len(a)\n",
        "  high = n-1\n",
        "  index = n\n",
        "\n",
        "  while low <=high:\n",
        "    # just find the index\n",
        "    mid = (low +high) //2\n",
        "\n",
        "    if x < a[mid]:\n",
        "      n  = a[mid]\n",
        "      high = mid-1\n",
        "    else:\n",
        "      low = mid +1\n",
        "\n",
        "  return n\n",
        "\n",
        "print(HigherBound(a,20.5))\n",
        "print(HigherBound(a,19.5))\n",
        "print(HigherBound(a,2))\n",
        "print(HigherBound([3,4,13,14,15,20,40],15))"
      ],
      "metadata": {
        "id": "1vNMHXmKRFvH",
        "colab": {
          "base_uri": "https://localhost:8080/"
        },
        "outputId": "31c821db-4edb-4f81-dc9e-ebf2d30e70ca"
      },
      "execution_count": null,
      "outputs": [
        {
          "output_type": "stream",
          "name": "stdout",
          "text": [
            "21\n",
            "20\n",
            "3\n",
            "20\n"
          ]
        }
      ]
    },
    {
      "cell_type": "markdown",
      "source": [
        "# 4. Search Insert Position"
      ],
      "metadata": {
        "id": "SrH_v_WYaWkq"
      }
    },
    {
      "cell_type": "code",
      "source": [
        "a  = [3,5,8,15,20,21]\n",
        "def HigherBound(a,x):\n",
        "  low =0\n",
        "  n = len(a)\n",
        "  high = n-1\n",
        "  index = n\n",
        "\n",
        "  while low <=high:\n",
        "    # just find the index\n",
        "    mid = (low +high) //2\n",
        "\n",
        "    if x <= a[mid]:\n",
        "      n  = mid\n",
        "      high = mid-1\n",
        "    else:\n",
        "      low = mid +1\n",
        "\n",
        "  return n\n",
        "\n",
        "print(HigherBound(a,20.5))\n",
        "print(HigherBound(a,19.5))\n",
        "print(HigherBound(a,2))\n",
        "\n",
        "# INSERT AT N"
      ],
      "metadata": {
        "colab": {
          "base_uri": "https://localhost:8080/"
        },
        "id": "uX3tQ6dgY1m2",
        "outputId": "050b4aba-9f8e-4c81-b7f8-b9d81b404859"
      },
      "execution_count": null,
      "outputs": [
        {
          "output_type": "stream",
          "name": "stdout",
          "text": [
            "5\n",
            "4\n",
            "0\n"
          ]
        }
      ]
    },
    {
      "cell_type": "markdown",
      "source": [
        "# 5. First Occurence in an Sorted Array"
      ],
      "metadata": {
        "id": "wDYwUr48wNeF"
      }
    },
    {
      "cell_type": "code",
      "source": [
        "def firstOccurence(a,x):\n",
        "  n = len(a) -1\n",
        "  low = 0\n",
        "  high = n\n",
        "\n",
        "  while low <= high:\n",
        "\n",
        "    mid = (low + high) //2\n",
        "\n",
        "    if a[mid] == x:\n",
        "      ans = mid\n",
        "      high = mid-1\n",
        "    elif x < a[mid]:\n",
        "      high = mid-1\n",
        "    else:\n",
        "      low =  mid+1\n",
        "\n",
        "  return ans\n",
        "a = [3,4,13,13,13,14,20,40,50]\n",
        "\n",
        "print(firstOccurence(a,14))\n",
        "print(firstOccurence(a,13))\n",
        "\n",
        "def LastOccurence(a,x):\n",
        "  n = len(a) -1\n",
        "  low = 0\n",
        "  high = n\n",
        "\n",
        "  while low <= high:\n",
        "\n",
        "    mid = (low + high) //2\n",
        "\n",
        "    if a[mid] == x:\n",
        "      ans = mid\n",
        "      low = mid+1\n",
        "    elif x < a[mid]:\n",
        "      high = mid-1\n",
        "    else:\n",
        "      low =  mid+1\n",
        "\n",
        "  return ans\n",
        "\n",
        "print(LastOccurence(a,13))\n",
        "print(LastOccurence(a,14))"
      ],
      "metadata": {
        "id": "kwGzXJ-NafFu",
        "colab": {
          "base_uri": "https://localhost:8080/"
        },
        "outputId": "27172b18-2dd9-460e-e9df-a2ca948942a6"
      },
      "execution_count": null,
      "outputs": [
        {
          "output_type": "stream",
          "name": "stdout",
          "text": [
            "5\n",
            "2\n",
            "4\n",
            "5\n"
          ]
        }
      ]
    },
    {
      "cell_type": "markdown",
      "source": [
        "# 6. Count occurrences of a number in a sorted array with duplicates"
      ],
      "metadata": {
        "id": "osI0s4-G2M6Z"
      }
    },
    {
      "cell_type": "code",
      "source": [
        "LastOccurence(a,13) - firstOccurence(a,13) +1"
      ],
      "metadata": {
        "colab": {
          "base_uri": "https://localhost:8080/"
        },
        "id": "ORoxfqqezuiz",
        "outputId": "7d32f2cc-46c0-4248-fc81-a8a6daab0cb5"
      },
      "execution_count": null,
      "outputs": [
        {
          "output_type": "execute_result",
          "data": {
            "text/plain": [
              "3"
            ]
          },
          "metadata": {},
          "execution_count": 14
        }
      ]
    },
    {
      "cell_type": "markdown",
      "source": [
        "# 7. Search Element in a Rotated Sorted Array"
      ],
      "metadata": {
        "id": "DvcgKI4ZODci"
      }
    },
    {
      "cell_type": "code",
      "source": [
        "def searchsortedarray(a,x):\n",
        "  n =  len(a) -1\n",
        "  low =0\n",
        "  high = n\n",
        "\n",
        "  while low <= high:\n",
        "\n",
        "    mid = (low + high) //2\n",
        "\n",
        "    if a[mid] ==x:\n",
        "      return mid\n",
        "    elif a[low] <= a[mid]:\n",
        "      if (a[low] <= x) & (x <= a[mid]):\n",
        "        high = mid-1\n",
        "      else:\n",
        "        low =  mid+1\n",
        "    elif a[mid] <= a[high]:\n",
        "      if (a[mid] <=x) & (x <= a[high]):\n",
        "        low =  mid+1\n",
        "      else:\n",
        "        high = mid-1\n",
        "  return -1\n",
        "\n",
        "print(searchsortedarray([7,8,9,1,2,3,4,5,6],6))\n",
        "print(searchsortedarray([7,8,9,1,2,3,4,5,6],8))\n",
        "print(searchsortedarray([7,8,9,1,2,3,4,5,6],2))"
      ],
      "metadata": {
        "colab": {
          "base_uri": "https://localhost:8080/"
        },
        "id": "GMUOtgeI2S19",
        "outputId": "8d327db0-e33c-40fd-91de-f3730981b0bd"
      },
      "execution_count": null,
      "outputs": [
        {
          "output_type": "stream",
          "name": "stdout",
          "text": [
            "8\n",
            "1\n",
            "4\n"
          ]
        }
      ]
    },
    {
      "cell_type": "markdown",
      "source": [
        "# 8. Minimum Element in a Rotated Sorted Array"
      ],
      "metadata": {
        "id": "6KZZ_XPUSKbn"
      }
    },
    {
      "cell_type": "code",
      "source": [
        "def minimumsortedarray(a):\n",
        "  n = len(a) -1\n",
        "  low =0\n",
        "  high = n\n",
        "  mini = 100000000000\n",
        "\n",
        "  while low<=high:\n",
        "    mid = (low +high) //2\n",
        "    if a[low] <= a[mid]:\n",
        "      mini = min(mini,a[low])\n",
        "      low =  mid+1\n",
        "    else:\n",
        "      mini = min(a[mid], mini)\n",
        "      high = mid-1\n",
        "\n",
        "  return mini\n",
        "\n",
        "minimumsortedarray([4,5,6,7,1,2,3,3.5])"
      ],
      "metadata": {
        "colab": {
          "base_uri": "https://localhost:8080/"
        },
        "id": "hp83h31OQAw6",
        "outputId": "0ff07082-9a4b-424b-b400-003e67626000"
      },
      "execution_count": null,
      "outputs": [
        {
          "output_type": "execute_result",
          "data": {
            "text/plain": [
              "1"
            ]
          },
          "metadata": {},
          "execution_count": 21
        }
      ]
    },
    {
      "cell_type": "markdown",
      "source": [
        "# 9. Find out how many times the array has been rotated"
      ],
      "metadata": {
        "id": "iQpVqoWRUQ7t"
      }
    },
    {
      "cell_type": "code",
      "source": [
        "# find the minimum element and its index and then subtract --index(mini)\n",
        "\n",
        "def timesrotatedarray(a):\n",
        "  n = len(a) -1\n",
        "  low =0\n",
        "  high = n\n",
        "  mini = 100000000000\n",
        "\n",
        "  while low<=high:\n",
        "    mid = (low +high) //2\n",
        "    if a[low] <= a[mid]:\n",
        "      if a[low] <= mini:\n",
        "        index = low\n",
        "        mini = a[index]\n",
        "      low =  mid+1\n",
        "    else:\n",
        "      if a[mid] < mini:\n",
        "        index = mid\n",
        "        mini = a[index]\n",
        "      high = mid-1\n",
        "\n",
        "  return index\n",
        "\n",
        "timesrotatedarray([4,5,6,7,1,2,3,3.5])"
      ],
      "metadata": {
        "colab": {
          "base_uri": "https://localhost:8080/"
        },
        "id": "fdRPgcH1TTAU",
        "outputId": "4b43fac4-ca1c-4350-ab3f-045c9a09c686"
      },
      "execution_count": null,
      "outputs": [
        {
          "output_type": "execute_result",
          "data": {
            "text/plain": [
              "4"
            ]
          },
          "metadata": {},
          "execution_count": 25
        }
      ]
    },
    {
      "cell_type": "markdown",
      "source": [
        "# 10. Find the Peak Element"
      ],
      "metadata": {
        "id": "7V-TMwxp7xXD"
      }
    },
    {
      "cell_type": "code",
      "source": [
        "def peakelemnet(a):\n"
      ],
      "metadata": {
        "id": "cIlCnQqvUcmJ"
      },
      "execution_count": null,
      "outputs": []
    },
    {
      "cell_type": "markdown",
      "source": [
        "# 11. Find the Sqrt of a Number"
      ],
      "metadata": {
        "id": "AZyC7Eh89VQF"
      }
    },
    {
      "cell_type": "code",
      "source": [
        "def sqrtfunction(a):\n",
        "  low = 1\n",
        "  n = a\n",
        "  high = n\n",
        "\n",
        "  while low <= high:\n",
        "    mid  =(low+high) //2\n",
        "    if mid**2 <= a:\n",
        "      low = mid +1\n",
        "    else:\n",
        "      high =  mid-1\n",
        "  return high\n",
        "sqrtfunction(32)"
      ],
      "metadata": {
        "colab": {
          "base_uri": "https://localhost:8080/"
        },
        "id": "c5DZMHJo9Um1",
        "outputId": "ab9a6b09-4163-4772-f4a9-693d11d4579f"
      },
      "execution_count": null,
      "outputs": [
        {
          "output_type": "execute_result",
          "data": {
            "text/plain": [
              "5"
            ]
          },
          "metadata": {},
          "execution_count": 11
        }
      ]
    },
    {
      "cell_type": "markdown",
      "source": [
        "# 12. Nth root of a number"
      ],
      "metadata": {
        "id": "pgZ0oBiC_-F-"
      }
    },
    {
      "cell_type": "code",
      "source": [
        "def rootfunction(a,m):\n",
        "  low = 1\n",
        "  n = a\n",
        "  high = n\n",
        "\n",
        "  while low <= high:\n",
        "    mid  =(low+high) //2\n",
        "    if mid**m <= a:\n",
        "      low = mid +1\n",
        "    else:\n",
        "      high =  mid-1\n",
        "  return high\n",
        "rootfunction(8,3)"
      ],
      "metadata": {
        "colab": {
          "base_uri": "https://localhost:8080/"
        },
        "id": "_5MhCBxA9Upe",
        "outputId": "0ee7bbfc-2431-4b83-f1f1-4ab6b8f47b7f"
      },
      "execution_count": null,
      "outputs": [
        {
          "output_type": "execute_result",
          "data": {
            "text/plain": [
              "2"
            ]
          },
          "metadata": {},
          "execution_count": 14
        }
      ]
    },
    {
      "cell_type": "markdown",
      "source": [
        "# 13. Find the Kth Positive Integer"
      ],
      "metadata": {
        "id": "nf0bDtZMBDdc"
      }
    },
    {
      "cell_type": "code",
      "source": [
        "def kthpositive(a,m):\n",
        "  low = 1\n",
        "  n = a\n",
        "  high = n\n",
        "  a  = []\n",
        "  while low <= high:\n",
        "    mid  =(low+high) //2\n",
        "    if mid**m <= a:\n",
        "      low = mid +1\n",
        "    else:\n",
        "      high =  mid-1\n",
        "  return high\n",
        "rootfunction(8,3)"
      ],
      "metadata": {
        "id": "KHTXrNuv9Usl"
      },
      "execution_count": null,
      "outputs": []
    },
    {
      "cell_type": "markdown",
      "source": [
        "# 14. Find the Smallest Divisor Given a Threshold"
      ],
      "metadata": {
        "id": "8BBeF4JtJQog"
      }
    },
    {
      "cell_type": "code",
      "source": [
        "import math\n",
        "def sumD(a,ele):\n",
        "  n= len(a)\n",
        "  t_sum =0\n",
        "  for i in range(n):\n",
        "    t_sum += math.ceil(a[i]/ele)\n",
        "\n",
        "  return t_sum\n",
        "\n",
        "def smalldivisor(a,limit):\n",
        "\n",
        "  n = len(a)\n",
        "  if n>limit:\n",
        "    return -1\n",
        "  low =1\n",
        "  high = max(a)\n",
        "\n",
        "  while low <= high:\n",
        "    mid  = (low +high) //2\n",
        "\n",
        "    if sumD(a, mid) <= limit:\n",
        "      high = mid-1\n",
        "    else:\n",
        "      low = mid+1\n",
        "\n",
        "  return low\n",
        "\n",
        "smalldivisor([1,2,3,4,5],8)"
      ],
      "metadata": {
        "colab": {
          "base_uri": "https://localhost:8080/"
        },
        "id": "juBJ-46pFv8G",
        "outputId": "00074ad9-aab5-4b95-add7-c3a21a8a747d"
      },
      "execution_count": null,
      "outputs": [
        {
          "output_type": "execute_result",
          "data": {
            "text/plain": [
              "3"
            ]
          },
          "metadata": {},
          "execution_count": 18
        }
      ]
    },
    {
      "cell_type": "markdown",
      "source": [
        "# 15. Non Single Duplicate"
      ],
      "metadata": {
        "id": "sbTyv4-rLVgL"
      }
    },
    {
      "cell_type": "code",
      "source": [
        "a = [1,1,2,2,3,3,3,4,5,5]\n",
        "ans = 0\n",
        "for i in a:\n",
        "  ans = ans^i\n",
        "  print(i,ans)"
      ],
      "metadata": {
        "colab": {
          "base_uri": "https://localhost:8080/"
        },
        "id": "eHN54oJmKIxO",
        "outputId": "41772855-5cb7-46ea-a0e4-20c2f81a58d6"
      },
      "execution_count": null,
      "outputs": [
        {
          "output_type": "stream",
          "name": "stdout",
          "text": [
            "1 1\n",
            "1 0\n",
            "2 2\n",
            "2 0\n",
            "3 3\n",
            "3 0\n",
            "3 3\n",
            "4 7\n",
            "5 2\n",
            "5 7\n"
          ]
        }
      ]
    },
    {
      "cell_type": "code",
      "source": [
        "def singleNonDuplicate(arr):\n",
        "    n = len(arr)  # Size of the array\n",
        "\n",
        "    # Edge cases:\n",
        "    if n == 1:\n",
        "        return arr[0]\n",
        "    if arr[0] != arr[1]:\n",
        "        return arr[0]\n",
        "    if arr[n - 1] != arr[n - 2]:\n",
        "        return arr[n - 1]\n",
        "\n",
        "    low = 1\n",
        "    high = n -2\n",
        "    while low <= high:\n",
        "\n",
        "      mid = (low + high) //2\n",
        "      if (arr[mid] != arr[mid+1]) and (arr[mid] != arr[mid-1]):\n",
        "        return arr[mid]\n",
        "\n",
        "      elif ((arr[mid] == arr[mid+1]) and (mid%2 ==0)) or ((arr[mid] == arr[mid-1]) and (mid%2 ==1)):\n",
        "        low = mid+1\n",
        "      else:\n",
        "        high = mid-1\n",
        "\n",
        "    return -1\n",
        "\n",
        "singleNonDuplicate([1,1,2,3,3,4,4,5,5])"
      ],
      "metadata": {
        "colab": {
          "base_uri": "https://localhost:8080/"
        },
        "id": "T1nO-fJtLima",
        "outputId": "6179a65a-03ca-4074-db2f-fd70d9e1ca47"
      },
      "execution_count": null,
      "outputs": [
        {
          "output_type": "execute_result",
          "data": {
            "text/plain": [
              "2"
            ]
          },
          "metadata": {},
          "execution_count": 7
        }
      ]
    },
    {
      "cell_type": "markdown",
      "source": [
        "# 16. Kth Missing Positive Number"
      ],
      "metadata": {
        "id": "G7UEwbzPRiuf"
      }
    },
    {
      "cell_type": "code",
      "source": [
        "def kthmissing(a,k):\n",
        "  low = 0\n",
        "  n = len(a)\n",
        "  high = n-1\n",
        "\n",
        "  while low <= high:\n",
        "    mid = (low +high) //2\n",
        "    # calculate how many numbers exist befor mid\n",
        "    miss = a[mid] - mid-1\n",
        "    if miss < k:\n",
        "      low = mid+1\n",
        "    else:\n",
        "      high = mid-1\n",
        "\n",
        "  return k +high +1\n",
        "\n",
        "print(kthmissing([4,7,9,10],1))\n",
        "print(kthmissing([4,7,9,10],2))\n",
        "print(kthmissing([4,7,9,10],3))\n",
        "print(kthmissing([4,7,9,10],5))\n",
        "print(kthmissing([4,7,9,10],6))"
      ],
      "metadata": {
        "colab": {
          "base_uri": "https://localhost:8080/"
        },
        "id": "YkX8bPWBQV8g",
        "outputId": "87b34ced-d51d-4973-8306-0d70a4629d5e"
      },
      "execution_count": null,
      "outputs": [
        {
          "output_type": "stream",
          "name": "stdout",
          "text": [
            "1\n",
            "2\n",
            "3\n",
            "6\n",
            "8\n"
          ]
        }
      ]
    },
    {
      "cell_type": "markdown",
      "source": [
        "# Median of two sorted Array's"
      ],
      "metadata": {
        "id": "DNvvYKSlfcC_"
      }
    },
    {
      "cell_type": "code",
      "source": [
        "def mediansortedarrays(a,b):\n",
        "\n",
        "  n1 = len(a)\n",
        "  n2 =  len(b)\n",
        "\n",
        "  n =  n1 +n2\n",
        "  cnt1 = 0\n",
        "  cnt2 = 0\n",
        "  idx1 = int(n/2)\n",
        "  idx2 = idx1-1\n",
        "  median = []\n",
        "  i =0\n",
        "  j=0\n",
        "  while (i< n1) and (j<n2):\n",
        "    print(i,j,'---',a[i],b[j])\n",
        "    if a[i] < b[j]:\n",
        "\n",
        "      if cnt1 == idx1:\n",
        "        median.append(a[i])\n",
        "      if cnt2 == idx2:\n",
        "        median.append(a[i])\n",
        "      i+=1\n",
        "      cnt1+=1\n",
        "      cnt2+=1\n",
        "\n",
        "    else:\n",
        "      if cnt1 == idx1:\n",
        "        median.append(b[j])\n",
        "      if cnt2 == idx2:\n",
        "        median.append(b[j])\n",
        "      j+=1\n",
        "      cnt1+=1\n",
        "      cnt2+=1\n",
        "\n",
        "  return median\n",
        "\n",
        "mediansortedarrays([1,4,7,10,12],[2,3,6,15])"
      ],
      "metadata": {
        "id": "OcZW72GOZYdn",
        "colab": {
          "base_uri": "https://localhost:8080/"
        },
        "outputId": "8937d54d-9e1f-4674-be73-7ac0360e5c2a"
      },
      "execution_count": 10,
      "outputs": [
        {
          "output_type": "stream",
          "name": "stdout",
          "text": [
            "0 0 --- 1 2\n",
            "1 0 --- 4 2\n",
            "1 1 --- 4 3\n",
            "1 2 --- 4 6\n",
            "2 2 --- 7 6\n",
            "2 3 --- 7 15\n",
            "3 3 --- 10 15\n",
            "4 3 --- 12 15\n"
          ]
        },
        {
          "output_type": "execute_result",
          "data": {
            "text/plain": [
              "[4, 6]"
            ]
          },
          "metadata": {},
          "execution_count": 10
        }
      ]
    },
    {
      "cell_type": "markdown",
      "source": [
        "# Find the Kth element of two sorted arrays"
      ],
      "metadata": {
        "id": "T29cFLLljC_K"
      }
    },
    {
      "cell_type": "code",
      "source": [
        "def mediansortedarrays(a,b,k):\n",
        "\n",
        "  n1 = len(a)\n",
        "  n2 =  len(b)\n",
        "  n =  n1 +n2\n",
        "  cnt1 = 0\n",
        "  idx1 = k -1\n",
        "  median = []\n",
        "  i =0\n",
        "  j =0\n",
        "  while (i< n1) and (j<n2):\n",
        "    print(i,j,'---',a[i],b[j])\n",
        "    if a[i] < b[j]:\n",
        "      if cnt1 == idx1:\n",
        "        median.append(a[i])\n",
        "      i+=1\n",
        "      cnt1+=1\n",
        "\n",
        "    else:\n",
        "      if cnt1 == idx1:\n",
        "        median.append(b[j])\n",
        "      j+=1\n",
        "      cnt1+=1\n",
        "\n",
        "  return median\n",
        "\n",
        "mediansortedarrays([1,4,7,10,12],[2,3,6,15],6)"
      ],
      "metadata": {
        "colab": {
          "base_uri": "https://localhost:8080/"
        },
        "id": "6QFKP5YghX46",
        "outputId": "5d9ffee1-f654-4b84-b0e6-9287af701535"
      },
      "execution_count": 13,
      "outputs": [
        {
          "output_type": "stream",
          "name": "stdout",
          "text": [
            "0 0 --- 1 2\n",
            "1 0 --- 4 2\n",
            "1 1 --- 4 3\n",
            "1 2 --- 4 6\n",
            "2 2 --- 7 6\n",
            "2 3 --- 7 15\n",
            "3 3 --- 10 15\n",
            "4 3 --- 12 15\n"
          ]
        },
        {
          "output_type": "execute_result",
          "data": {
            "text/plain": [
              "[7]"
            ]
          },
          "metadata": {},
          "execution_count": 13
        }
      ]
    },
    {
      "cell_type": "code",
      "source": [],
      "metadata": {
        "id": "NuxktNl1jT4D"
      },
      "execution_count": null,
      "outputs": []
    }
  ]
}