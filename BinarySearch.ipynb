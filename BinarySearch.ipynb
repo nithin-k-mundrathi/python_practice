{
  "cells": [
    {
      "cell_type": "markdown",
      "metadata": {
        "colab_type": "text",
        "id": "view-in-github"
      },
      "source": [
        "<a href=\"https://colab.research.google.com/github/nithin-k-mundrathi/python_practice/blob/main/BinarySearch.ipynb\" target=\"_parent\"><img src=\"https://colab.research.google.com/assets/colab-badge.svg\" alt=\"Open In Colab\"/></a>"
      ]
    },
    {
      "cell_type": "markdown",
      "metadata": {
        "id": "JLjhAypQQSWM"
      },
      "source": [
        "# Binary Search"
      ]
    },
    {
      "cell_type": "markdown",
      "metadata": {
        "id": "OcQBwwGyQQJi"
      },
      "source": [
        "## EASY -"
      ]
    },
    {
      "cell_type": "markdown",
      "metadata": {
        "id": "wq4BvLPkQNZ5"
      },
      "source": [
        "### 1.Binary Search"
      ]
    },
    {
      "cell_type": "code",
      "execution_count": null,
      "metadata": {
        "id": "pygX-c96On3F"
      },
      "outputs": [],
      "source": [
        "a = [3,4,6,7,9,12,16,17]\n",
        "def BinarySearch(a,target):\n",
        "  n = len(a)\n",
        "  low =0\n",
        "  high = n-1\n",
        "  mid = (low +high)//2\n",
        "\n",
        "  while low <=high:\n",
        "    mid = (low +high)//2\n",
        "    if a[mid] == target:\n",
        "      return mid\n",
        "    elif a[mid] < target:\n",
        "      low = mid+1\n",
        "    elif a[mid] > target:\n",
        "      high = mid-1\n",
        "\n",
        "  return -1\n",
        "\n",
        "print(BinarySearch(a,12))"
      ]
    },
    {
      "cell_type": "code",
      "execution_count": null,
      "metadata": {
        "colab": {
          "base_uri": "https://localhost:8080/"
        },
        "id": "K52-rfFiQZpa",
        "outputId": "db879600-f6a4-4dfa-9f4c-180ea3f40e51"
      },
      "outputs": [
        {
          "data": {
            "text/plain": [
              "2"
            ]
          },
          "execution_count": 9,
          "metadata": {},
          "output_type": "execute_result"
        }
      ],
      "source": [
        "# Recursive Approach\n",
        "\n",
        "def recursiveBinarySearch(a,target, low, high):\n",
        "  n =len(a)\n",
        "  if low > high:\n",
        "    return -1\n",
        "  mid = (low +high) //2\n",
        "  if a[mid] == target:\n",
        "    return mid\n",
        "  elif a[mid] < target:\n",
        "    return recursiveBinarySearch(a,target,mid+1,high)\n",
        "  else:\n",
        "    return recursiveBinarySearch(a,target,low,mid-1)\n",
        "recursiveBinarySearch(a,6,0,len(a)-1)"
      ]
    },
    {
      "cell_type": "markdown",
      "metadata": {
        "id": "O9Mm7rlDRMRx"
      },
      "source": [
        "### 2. Lower Bound"
      ]
    },
    {
      "cell_type": "code",
      "execution_count": null,
      "metadata": {
        "colab": {
          "base_uri": "https://localhost:8080/"
        },
        "id": "FYSys7U8RLmT",
        "outputId": "0897926d-2fe9-46cc-bcd6-6c833c2527d2"
      },
      "outputs": [
        {
          "name": "stdout",
          "output_type": "stream",
          "text": [
            "5\n",
            "4\n",
            "0\n",
            "2\n"
          ]
        }
      ],
      "source": [
        "a  = [3,5,8,15,20,21]\n",
        "def lowerBound(a,x):\n",
        "  low =0\n",
        "  n = len(a)\n",
        "  high = n-1\n",
        "  index = n\n",
        "\n",
        "  while low <=high:\n",
        "    # just find the index\n",
        "    mid = (low +high) //2\n",
        "\n",
        "    if x <= a[mid]:\n",
        "      n  = mid\n",
        "      high = mid-1\n",
        "    else:\n",
        "      low = mid +1\n",
        "\n",
        "  return n\n",
        "\n",
        "print(lowerBound(a,20.5))\n",
        "print(lowerBound(a,19.5))\n",
        "print(lowerBound(a,2))\n",
        "print(lowerBound([3,4,13,14,15,20,40],7))"
      ]
    },
    {
      "cell_type": "markdown",
      "metadata": {
        "id": "uQS6fFnBW-xa"
      },
      "source": [
        "### 3. Higher Bound"
      ]
    },
    {
      "cell_type": "code",
      "execution_count": null,
      "metadata": {
        "colab": {
          "base_uri": "https://localhost:8080/"
        },
        "id": "1vNMHXmKRFvH",
        "outputId": "31c821db-4edb-4f81-dc9e-ebf2d30e70ca"
      },
      "outputs": [
        {
          "name": "stdout",
          "output_type": "stream",
          "text": [
            "21\n",
            "20\n",
            "3\n",
            "20\n"
          ]
        }
      ],
      "source": [
        "a  = [3,5,8,15,20,21]\n",
        "def HigherBound(a,x):\n",
        "  low =0\n",
        "  n = len(a)\n",
        "  high = n-1\n",
        "  index = n\n",
        "\n",
        "  while low <=high:\n",
        "    # just find the index\n",
        "    mid = (low +high) //2\n",
        "\n",
        "    if x < a[mid]:\n",
        "      n  = a[mid]\n",
        "      high = mid-1\n",
        "    else:\n",
        "      low = mid +1\n",
        "\n",
        "  return n\n",
        "\n",
        "print(HigherBound(a,20.5))\n",
        "print(HigherBound(a,19.5))\n",
        "print(HigherBound(a,2))\n",
        "print(HigherBound([3,4,13,14,15,20,40],15))"
      ]
    },
    {
      "cell_type": "markdown",
      "metadata": {
        "id": "SrH_v_WYaWkq"
      },
      "source": [
        "# 4. Search Insert Position"
      ]
    },
    {
      "cell_type": "code",
      "execution_count": null,
      "metadata": {
        "colab": {
          "base_uri": "https://localhost:8080/"
        },
        "id": "uX3tQ6dgY1m2",
        "outputId": "050b4aba-9f8e-4c81-b7f8-b9d81b404859"
      },
      "outputs": [
        {
          "name": "stdout",
          "output_type": "stream",
          "text": [
            "5\n",
            "4\n",
            "0\n"
          ]
        }
      ],
      "source": [
        "a  = [3,5,8,15,20,21]\n",
        "def HigherBound(a,x):\n",
        "  low =0\n",
        "  n = len(a)\n",
        "  high = n-1\n",
        "  index = n\n",
        "\n",
        "  while low <=high:\n",
        "    # just find the index\n",
        "    mid = (low +high) //2\n",
        "\n",
        "    if x <= a[mid]:\n",
        "      n  = mid\n",
        "      high = mid-1\n",
        "    else:\n",
        "      low = mid +1\n",
        "\n",
        "  return n\n",
        "\n",
        "print(HigherBound(a,20.5))\n",
        "print(HigherBound(a,19.5))\n",
        "print(HigherBound(a,2))\n",
        "\n",
        "# INSERT AT N"
      ]
    },
    {
      "cell_type": "markdown",
      "metadata": {
        "id": "wDYwUr48wNeF"
      },
      "source": [
        "# 5. First Occurence in an Sorted Array"
      ]
    },
    {
      "cell_type": "code",
      "execution_count": null,
      "metadata": {
        "colab": {
          "base_uri": "https://localhost:8080/"
        },
        "id": "kwGzXJ-NafFu",
        "outputId": "27172b18-2dd9-460e-e9df-a2ca948942a6"
      },
      "outputs": [
        {
          "name": "stdout",
          "output_type": "stream",
          "text": [
            "5\n",
            "2\n",
            "4\n",
            "5\n"
          ]
        }
      ],
      "source": [
        "def firstOccurence(a,x):\n",
        "  n = len(a) -1\n",
        "  low = 0\n",
        "  high = n\n",
        "\n",
        "  while low <= high:\n",
        "\n",
        "    mid = (low + high) //2\n",
        "\n",
        "    if a[mid] == x:\n",
        "      ans = mid\n",
        "      high = mid-1\n",
        "    elif x < a[mid]:\n",
        "      high = mid-1\n",
        "    else:\n",
        "      low =  mid+1\n",
        "\n",
        "  return ans\n",
        "a = [3,4,13,13,13,14,20,40,50]\n",
        "\n",
        "print(firstOccurence(a,14))\n",
        "print(firstOccurence(a,13))\n",
        "\n",
        "def LastOccurence(a,x):\n",
        "  n = len(a) -1\n",
        "  low = 0\n",
        "  high = n\n",
        "\n",
        "  while low <= high:\n",
        "\n",
        "    mid = (low + high) //2\n",
        "\n",
        "    if a[mid] == x:\n",
        "      ans = mid\n",
        "      low = mid+1\n",
        "    elif x < a[mid]:\n",
        "      high = mid-1\n",
        "    else:\n",
        "      low =  mid+1\n",
        "\n",
        "  return ans\n",
        "\n",
        "print(LastOccurence(a,13))\n",
        "print(LastOccurence(a,14))"
      ]
    },
    {
      "cell_type": "markdown",
      "metadata": {
        "id": "osI0s4-G2M6Z"
      },
      "source": [
        "# 6. Count occurrences of a number in a sorted array with duplicates"
      ]
    },
    {
      "cell_type": "code",
      "execution_count": null,
      "metadata": {
        "colab": {
          "base_uri": "https://localhost:8080/"
        },
        "id": "ORoxfqqezuiz",
        "outputId": "7d32f2cc-46c0-4248-fc81-a8a6daab0cb5"
      },
      "outputs": [
        {
          "data": {
            "text/plain": [
              "3"
            ]
          },
          "execution_count": 14,
          "metadata": {},
          "output_type": "execute_result"
        }
      ],
      "source": [
        "LastOccurence(a,13) - firstOccurence(a,13) +1"
      ]
    },
    {
      "cell_type": "markdown",
      "metadata": {
        "id": "DvcgKI4ZODci"
      },
      "source": [
        "# 7. Search Element in a Rotated Sorted Array"
      ]
    },
    {
      "cell_type": "code",
      "execution_count": null,
      "metadata": {
        "colab": {
          "base_uri": "https://localhost:8080/"
        },
        "id": "GMUOtgeI2S19",
        "outputId": "8d327db0-e33c-40fd-91de-f3730981b0bd"
      },
      "outputs": [
        {
          "name": "stdout",
          "output_type": "stream",
          "text": [
            "8\n",
            "1\n",
            "4\n"
          ]
        }
      ],
      "source": [
        "def searchsortedarray(a,x):\n",
        "  n =  len(a) -1\n",
        "  low =0\n",
        "  high = n\n",
        "\n",
        "  while low <= high:\n",
        "\n",
        "    mid = (low + high) //2\n",
        "    # helpful while in cases where unique elements are needed.\n",
        "    while ((a[low]==a[mid]) & (a[high]==a[mid])): \n",
        "        low = low+1\n",
        "        high = high-1\n",
        "    if a[mid] ==x:\n",
        "      return mid\n",
        "    # checks if the left half is Sorted Array\n",
        "    elif a[low] <= a[mid]:\n",
        "      # checks if the sorted Left half has this element\n",
        "      if (a[low] <= x) & (x <= a[mid]):\n",
        "        # normal \n",
        "        high = mid-1\n",
        "      else:\n",
        "        low =  mid+1\n",
        "      # checks if the Right half is Sorted Array\n",
        "    elif a[mid] <= a[high]:\n",
        "      # checks if the sorted right half has this element.\n",
        "      if (a[mid] <=x) & (x <= a[high]):\n",
        "        low =  mid+1\n",
        "      else:\n",
        "        high = mid-1\n",
        "  return -1\n",
        "\n",
        "print(searchsortedarray([7,8,9,1,2,3,4,5,6],6))\n",
        "print(searchsortedarray([7,8,9,1,2,3,4,5,6],8))\n",
        "print(searchsortedarray([7,8,9,1,2,3,4,5,6],2))"
      ]
    },
    {
      "cell_type": "markdown",
      "metadata": {
        "id": "6KZZ_XPUSKbn"
      },
      "source": [
        "# 8. Minimum Element in a Rotated Sorted Array"
      ]
    },
    {
      "cell_type": "code",
      "execution_count": null,
      "metadata": {
        "colab": {
          "base_uri": "https://localhost:8080/"
        },
        "id": "hp83h31OQAw6",
        "outputId": "0ff07082-9a4b-424b-b400-003e67626000"
      },
      "outputs": [
        {
          "data": {
            "text/plain": [
              "1"
            ]
          },
          "execution_count": 21,
          "metadata": {},
          "output_type": "execute_result"
        }
      ],
      "source": [
        "def minimumsortedarray(a):\n",
        "  n = len(a) -1\n",
        "  low =0\n",
        "  high = n\n",
        "  mini = 100000000000\n",
        "\n",
        "  while low<=high:\n",
        "    mid = (low +high) //2\n",
        "    # Check if this Part of Array is the sorted Arrys and Move to  the other Half.\n",
        "    if a[low] <= a[mid]:\n",
        "      # calculate the mini frtom the Left Half.\n",
        "      mini = min(mini,a[low])\n",
        "      # change index to move to other Half.\n",
        "      low =  mid+1\n",
        "    else: # check if this part is sorted \n",
        "      # calculate mini from this\n",
        "      mini = min(a[mid], mini)\n",
        "      # move to other half.\n",
        "      high = mid-1\n",
        "\n",
        "  return mini\n",
        "\n",
        "minimumsortedarray([4,5,6,7,1,2,3,3.5])"
      ]
    },
    {
      "cell_type": "markdown",
      "metadata": {
        "id": "iQpVqoWRUQ7t"
      },
      "source": [
        "# 9. Find out how many times the array has been rotated"
      ]
    },
    {
      "cell_type": "code",
      "execution_count": null,
      "metadata": {
        "colab": {
          "base_uri": "https://localhost:8080/"
        },
        "id": "fdRPgcH1TTAU",
        "outputId": "4b43fac4-ca1c-4350-ab3f-045c9a09c686"
      },
      "outputs": [
        {
          "data": {
            "text/plain": [
              "4"
            ]
          },
          "execution_count": 25,
          "metadata": {},
          "output_type": "execute_result"
        }
      ],
      "source": [
        "# find the minimum element and its index and then subtract --index(mini)\n",
        "\n",
        "def timesrotatedarray(a):\n",
        "  n = len(a) -1\n",
        "  low =0\n",
        "  high = n\n",
        "  mini = 100000000000\n",
        "  # theeme is to extract index of Lower element.\n",
        "  while low<=high:\n",
        "    mid = (low +high) //2\n",
        "    # Check if the left half is sorted\n",
        "    if a[low] <= a[mid]:\n",
        "      # check if there exists lower element than mini\n",
        "      if a[low] <= mini:\n",
        "        # store the mini element index\n",
        "        index = low\n",
        "        mini = a[index]\n",
        "      low =  mid+1\n",
        "    else:\n",
        "      # check if the right element is sorted\n",
        "      # check if there exists a lower element than mini\n",
        "      if a[mid] < mini:\n",
        "        # store the index of lower element\n",
        "        index = mid\n",
        "        mini = a[index]\n",
        "      high = mid-1\n",
        "\n",
        "  return index\n",
        "\n",
        "timesrotatedarray([4,5,6,7,1,2,3,3.5])"
      ]
    },
    {
      "cell_type": "markdown",
      "metadata": {},
      "source": [
        "# 10. Find the Single Element occuring Once"
      ]
    },
    {
      "cell_type": "code",
      "execution_count": null,
      "metadata": {},
      "outputs": [
        {
          "name": "stdout",
          "output_type": "stream",
          "text": [
            "The single element is: 4\n"
          ]
        }
      ],
      "source": [
        "def singleNonDuplicate(arr):\n",
        "    n = len(arr)  # Size of the array\n",
        "\n",
        "    # Edge cases:\n",
        "    if n == 1:\n",
        "        return arr[0]\n",
        "    if arr[0] != arr[1]:\n",
        "        return arr[0]\n",
        "    if arr[n - 1] != arr[n - 2]:\n",
        "        return arr[n - 1]\n",
        "\n",
        "    low = 1\n",
        "    high = n - 2\n",
        "    while low <= high:\n",
        "        mid = (low + high) // 2\n",
        "\n",
        "        # If arr[mid] is the single element:\n",
        "        if arr[mid] != arr[mid + 1] and arr[mid] != arr[mid - 1]:\n",
        "            return arr[mid]\n",
        "\n",
        "        # We are in the left:\n",
        "        if (mid % 2 == 1 and arr[mid] == arr[mid - 1]) or (mid % 2 == 0 and arr[mid] == arr[mid + 1]):\n",
        "            # Eliminate the left half:\n",
        "            low = mid + 1\n",
        "        # We are in the right:\n",
        "        else:\n",
        "            # Eliminate the right half:\n",
        "            high = mid - 1\n",
        "\n",
        "    # Dummy return statement:\n",
        "    return -1\n",
        "\n",
        "arr = [1, 1, 2, 2, 3, 3, 4, 5, 5, 6, 6]\n",
        "ans = singleNonDuplicate(arr)\n",
        "print(\"The single element is:\", ans)\n"
      ]
    },
    {
      "cell_type": "markdown",
      "metadata": {
        "id": "7V-TMwxp7xXD"
      },
      "source": [
        "# 10. Find the Peak Element"
      ]
    },
    {
      "cell_type": "code",
      "execution_count": null,
      "metadata": {
        "id": "cIlCnQqvUcmJ"
      },
      "outputs": [
        {
          "data": {
            "text/plain": [
              "8"
            ]
          },
          "execution_count": 18,
          "metadata": {},
          "output_type": "execute_result"
        }
      ],
      "source": [
        "def peakelemnet(a):\n",
        "\n",
        "    n = len(a)\n",
        "    # check if the array has only one element\n",
        "    if n==1:\n",
        "        return a[0]\n",
        "    # check if first element is peak element\n",
        "    if a[0] > a[1]:\n",
        "        return a[0]\n",
        "    # check if last element is peak element\n",
        "    if a[n-1] > a[n-2]:\n",
        "        return a[n-1]\n",
        "    # start low next index of arrays\n",
        "    low =1\n",
        "    high = n-2\n",
        "    while low <=high:\n",
        "        mid = int((low+high)/2)\n",
        "        # if mid is peak element return mid\n",
        "        if a[mid-1] < a[mid] and a[mid] > a[mid+1]:\n",
        "            return a[mid]\n",
        "        # if mid to left side of peak ...eleiminate left side\n",
        "        elif a[mid-1] < a[mid]:\n",
        "            low = mid+1\n",
        "        # if mid is to right side of peak ...eliminate right side\n",
        "        elif a[mid] > a[mid+1]:\n",
        "            high = mid-1\n",
        "    return -1\n",
        "a = [1, 2, 3, 4, 5, 6, 7, 8, 5, 1]\n",
        "peakelemnet(a)"
      ]
    },
    {
      "cell_type": "markdown",
      "metadata": {
        "id": "AZyC7Eh89VQF"
      },
      "source": [
        "# 11. Find the Sqrt of a Number"
      ]
    },
    {
      "cell_type": "code",
      "execution_count": null,
      "metadata": {
        "colab": {
          "base_uri": "https://localhost:8080/"
        },
        "id": "c5DZMHJo9Um1",
        "outputId": "ab9a6b09-4163-4772-f4a9-693d11d4579f"
      },
      "outputs": [
        {
          "data": {
            "text/plain": [
              "5"
            ]
          },
          "execution_count": 11,
          "metadata": {},
          "output_type": "execute_result"
        }
      ],
      "source": [
        "def sqrtfunction(a):\n",
        "  low = 1\n",
        "  n = a\n",
        "  high = n\n",
        "\n",
        "  while low <= high:\n",
        "    mid  =(low+high) //2\n",
        "    # this means the square of number doesn't exist in this Half\n",
        "    if mid**2 <= a:\n",
        "      # Move to the other half\n",
        "      low = mid +1\n",
        "    else:\n",
        "      high =  mid-1\n",
        "  return high\n",
        "sqrtfunction(32)"
      ]
    },
    {
      "cell_type": "markdown",
      "metadata": {
        "id": "pgZ0oBiC_-F-"
      },
      "source": [
        "# 12. Nth root of a number"
      ]
    },
    {
      "cell_type": "code",
      "execution_count": null,
      "metadata": {
        "colab": {
          "base_uri": "https://localhost:8080/"
        },
        "id": "_5MhCBxA9Upe",
        "outputId": "0ee7bbfc-2431-4b83-f1f1-4ab6b8f47b7f"
      },
      "outputs": [
        {
          "data": {
            "text/plain": [
              "2"
            ]
          },
          "execution_count": 14,
          "metadata": {},
          "output_type": "execute_result"
        }
      ],
      "source": [
        "def rootfunction(a,m):\n",
        "  low = 1\n",
        "  n = a\n",
        "  high = n\n",
        "\n",
        "  while low <= high:\n",
        "    mid  =(low+high) //2\n",
        "    # The nth Power doesn't exist in this half and move to other half\n",
        "    if mid**m <= a:\n",
        "      low = mid +1\n",
        "    else:\n",
        "      high =  mid-1\n",
        "  return high\n",
        "rootfunction(8,3)"
      ]
    },
    {
      "cell_type": "markdown",
      "metadata": {
        "id": "nf0bDtZMBDdc"
      },
      "source": [
        "# 13. Find the Kth Positive Integer"
      ]
    },
    {
      "cell_type": "code",
      "execution_count": 14,
      "metadata": {
        "id": "KHTXrNuv9Usl"
      },
      "outputs": [
        {
          "data": {
            "text/plain": [
              "8"
            ]
          },
          "execution_count": 14,
          "metadata": {},
          "output_type": "execute_result"
        }
      ],
      "source": [
        "def kthpositive(a,k):\n",
        "  low = 0\n",
        "  n = len(a)\n",
        "  high = n-1\n",
        "  while low <= high:\n",
        "    mid  = int((low+high)/2)\n",
        "    missing = a[mid] - (mid+1)\n",
        "    \n",
        "    if missing<k:\n",
        "      low = mid +1\n",
        "    else:\n",
        "      high =  mid-1\n",
        "  return low+k\n",
        "kthpositive([3,4,7,9,10],5)"
      ]
    },
    {
      "cell_type": "markdown",
      "metadata": {
        "id": "8BBeF4JtJQog"
      },
      "source": [
        "# 14. Find the Smallest Divisor Given a Threshold"
      ]
    },
    {
      "cell_type": "code",
      "execution_count": 8,
      "metadata": {
        "colab": {
          "base_uri": "https://localhost:8080/"
        },
        "id": "juBJ-46pFv8G",
        "outputId": "00074ad9-aab5-4b95-add7-c3a21a8a747d"
      },
      "outputs": [
        {
          "data": {
            "text/plain": [
              "4"
            ]
          },
          "execution_count": 8,
          "metadata": {},
          "output_type": "execute_result"
        }
      ],
      "source": [
        "import math\n",
        "def sumD(a,ele):\n",
        "  n= len(a)\n",
        "  t_sum =0\n",
        "  for i in range(n):\n",
        "    t_sum += math.ceil(a[i]/ele)\n",
        "\n",
        "  return t_sum\n",
        "\n",
        "def smalldivisor(a,limit):\n",
        "\n",
        "  n = len(a)\n",
        "  if n>limit:\n",
        "    return -1\n",
        "  low =1\n",
        "  high = max(a)\n",
        "\n",
        "  while low <= high:\n",
        "    mid  = (low +high) //2\n",
        "\n",
        "    if sumD(a, mid) <= limit:\n",
        "      high = mid-1\n",
        "    else:\n",
        "      low = mid+1\n",
        "\n",
        "  return low\n",
        "\n",
        "smalldivisor([1,7,8,9],9)"
      ]
    },
    {
      "cell_type": "markdown",
      "metadata": {
        "id": "sbTyv4-rLVgL"
      },
      "source": [
        "# 15. Non Single Duplicate"
      ]
    },
    {
      "cell_type": "code",
      "execution_count": null,
      "metadata": {
        "colab": {
          "base_uri": "https://localhost:8080/"
        },
        "id": "eHN54oJmKIxO",
        "outputId": "41772855-5cb7-46ea-a0e4-20c2f81a58d6"
      },
      "outputs": [
        {
          "name": "stdout",
          "output_type": "stream",
          "text": [
            "1 1\n",
            "1 0\n",
            "2 2\n",
            "2 0\n",
            "3 3\n",
            "3 0\n",
            "3 3\n",
            "4 7\n",
            "5 2\n",
            "5 7\n"
          ]
        }
      ],
      "source": [
        "a = [1,1,2,2,3,3,3,4,5,5]\n",
        "ans = 0\n",
        "for i in a:\n",
        "  ans = ans^i\n",
        "  print(i,ans)"
      ]
    },
    {
      "cell_type": "code",
      "execution_count": null,
      "metadata": {
        "colab": {
          "base_uri": "https://localhost:8080/"
        },
        "id": "T1nO-fJtLima",
        "outputId": "6179a65a-03ca-4074-db2f-fd70d9e1ca47"
      },
      "outputs": [
        {
          "data": {
            "text/plain": [
              "2"
            ]
          },
          "execution_count": 7,
          "metadata": {},
          "output_type": "execute_result"
        }
      ],
      "source": [
        "def singleNonDuplicate(arr):\n",
        "    n = len(arr)  # Size of the array\n",
        "\n",
        "    # Edge cases:\n",
        "    if n == 1:\n",
        "        return arr[0]\n",
        "    if arr[0] != arr[1]:\n",
        "        return arr[0]\n",
        "    if arr[n - 1] != arr[n - 2]:\n",
        "        return arr[n - 1]\n",
        "\n",
        "    low = 1\n",
        "    high = n -2\n",
        "    while low <= high:\n",
        "\n",
        "      mid = (low + high) //2\n",
        "      if (arr[mid] != arr[mid+1]) and (arr[mid] != arr[mid-1]):\n",
        "        return arr[mid]\n",
        "\n",
        "      elif ((arr[mid] == arr[mid+1]) and (mid%2 ==0)) or ((arr[mid] == arr[mid-1]) and (mid%2 ==1)):\n",
        "        low = mid+1\n",
        "      else:\n",
        "        high = mid-1\n",
        "\n",
        "    return -1\n",
        "\n",
        "singleNonDuplicate([1,1,2,3,3,4,4,5,5])"
      ]
    },
    {
      "cell_type": "markdown",
      "metadata": {
        "id": "G7UEwbzPRiuf"
      },
      "source": [
        "# 16. Kth Missing Positive Number"
      ]
    },
    {
      "cell_type": "code",
      "execution_count": null,
      "metadata": {
        "colab": {
          "base_uri": "https://localhost:8080/"
        },
        "id": "YkX8bPWBQV8g",
        "outputId": "87b34ced-d51d-4973-8306-0d70a4629d5e"
      },
      "outputs": [
        {
          "name": "stdout",
          "output_type": "stream",
          "text": [
            "1\n",
            "2\n",
            "3\n",
            "6\n",
            "8\n"
          ]
        }
      ],
      "source": [
        "def kthmissing(a,k):\n",
        "  low = 0\n",
        "  n = len(a)\n",
        "  high = n-1\n",
        "\n",
        "  while low <= high:\n",
        "    mid = (low +high) //2\n",
        "    # calculate how many numbers exist befor mid\n",
        "    # #numbers beofre x = x - (1 + index(x))\n",
        "    miss = a[mid] - mid-1\n",
        "    # if the #numeer of missing is less than k-threshold\n",
        "    # move to other half\n",
        "    if miss < k:\n",
        "      # move to other half\n",
        "      low = mid+1\n",
        "    else:\n",
        "      # if the number of missing is less than k-threshold\n",
        "      # move to other half\n",
        "      high = mid-1\n",
        "\n",
        "  # k+low (or) k+high+1- due to left crosses right and above missing formulae\n",
        "  return k +high +1\n",
        "\n",
        "print(kthmissing([4,7,9,10],1))\n",
        "print(kthmissing([4,7,9,10],2))\n",
        "print(kthmissing([4,7,9,10],3))\n",
        "print(kthmissing([4,7,9,10],5))\n",
        "print(kthmissing([4,7,9,10],6))"
      ]
    },
    {
      "cell_type": "markdown",
      "metadata": {
        "id": "DNvvYKSlfcC_"
      },
      "source": [
        "# Median of two sorted Array's"
      ]
    },
    {
      "cell_type": "code",
      "execution_count": 16,
      "metadata": {
        "colab": {
          "base_uri": "https://localhost:8080/"
        },
        "id": "OcZW72GOZYdn",
        "outputId": "8937d54d-9e1f-4674-be73-7ac0360e5c2a"
      },
      "outputs": [
        {
          "name": "stdout",
          "output_type": "stream",
          "text": [
            "0 0 --- 1 2 []\n",
            "1 0 --- 4 2 []\n",
            "1 1 --- 4 3 []\n",
            "1 2 --- 4 6 []\n",
            "2 2 --- 7 6 [4]\n",
            "2 3 --- 7 15 [4, 6]\n",
            "3 3 --- 10 15 [4, 6]\n",
            "4 3 --- 12 15 [4, 6]\n"
          ]
        },
        {
          "data": {
            "text/plain": [
              "[4, 6]"
            ]
          },
          "execution_count": 16,
          "metadata": {},
          "output_type": "execute_result"
        }
      ],
      "source": [
        "def mediansortedarrays(a,b):\n",
        "\n",
        "  n1 = len(a)\n",
        "  n2 =  len(b)\n",
        "\n",
        "  n =  n1 +n2\n",
        "  cnt1 = 0\n",
        "  cnt2 = 0\n",
        "  idx1 = int(n/2)\n",
        "  idx2 = idx1-1\n",
        "  median = []\n",
        "  i =0\n",
        "  j=0\n",
        "  while (i< n1) and (j<n2):\n",
        "    print(i,j,'---',a[i],b[j],median)\n",
        "    if a[i] < b[j]:\n",
        "\n",
        "      if cnt1 == idx1:\n",
        "        median.append(a[i])\n",
        "      if cnt2 == idx2:\n",
        "        median.append(a[i])\n",
        "      i+=1\n",
        "      cnt1+=1\n",
        "      cnt2+=1\n",
        "\n",
        "    else:\n",
        "      if cnt1 == idx1:\n",
        "        median.append(b[j])\n",
        "      if cnt2 == idx2:\n",
        "        median.append(b[j])\n",
        "      j+=1\n",
        "      cnt1+=1\n",
        "      cnt2+=1\n",
        "\n",
        "  return median\n",
        "\n",
        "mediansortedarrays([1,4,7,10,12],[2,3,6,15])"
      ]
    },
    {
      "cell_type": "markdown",
      "metadata": {
        "id": "T29cFLLljC_K"
      },
      "source": [
        "# Find the Kth element of two sorted arrays"
      ]
    },
    {
      "cell_type": "code",
      "execution_count": 13,
      "metadata": {
        "colab": {
          "base_uri": "https://localhost:8080/"
        },
        "id": "6QFKP5YghX46",
        "outputId": "5d9ffee1-f654-4b84-b0e6-9287af701535"
      },
      "outputs": [
        {
          "name": "stdout",
          "output_type": "stream",
          "text": [
            "0 0 --- 1 2\n",
            "1 0 --- 4 2\n",
            "1 1 --- 4 3\n",
            "1 2 --- 4 6\n",
            "2 2 --- 7 6\n",
            "2 3 --- 7 15\n",
            "3 3 --- 10 15\n",
            "4 3 --- 12 15\n"
          ]
        },
        {
          "data": {
            "text/plain": [
              "[7]"
            ]
          },
          "execution_count": 13,
          "metadata": {},
          "output_type": "execute_result"
        }
      ],
      "source": [
        "def mediansortedarrays(a,b,k):\n",
        "\n",
        "  n1 = len(a)\n",
        "  n2 =  len(b)\n",
        "  n =  n1 +n2\n",
        "  cnt1 = 0\n",
        "  idx1 = k -1\n",
        "  median = []\n",
        "  i =0\n",
        "  j =0\n",
        "  while (i< n1) and (j<n2):\n",
        "    print(i,j,'---',a[i],b[j])\n",
        "    if a[i] < b[j]:\n",
        "      if cnt1 == idx1:\n",
        "        median.append(a[i])\n",
        "      i+=1\n",
        "      cnt1+=1\n",
        "\n",
        "    else:\n",
        "      if cnt1 == idx1:\n",
        "        median.append(b[j])\n",
        "      j+=1\n",
        "      cnt1+=1\n",
        "\n",
        "  return median\n",
        "\n",
        "mediansortedarrays([1,4,7,10,12],[2,3,6,15],6)"
      ]
    },
    {
      "cell_type": "code",
      "execution_count": null,
      "metadata": {
        "id": "NuxktNl1jT4D"
      },
      "outputs": [],
      "source": []
    }
  ],
  "metadata": {
    "colab": {
      "authorship_tag": "ABX9TyPTHPpuP05ZnFH+PTLUnR2j",
      "include_colab_link": true,
      "provenance": []
    },
    "kernelspec": {
      "display_name": "Python 3",
      "name": "python3"
    },
    "language_info": {
      "codemirror_mode": {
        "name": "ipython",
        "version": 3
      },
      "file_extension": ".py",
      "mimetype": "text/x-python",
      "name": "python",
      "nbconvert_exporter": "python",
      "pygments_lexer": "ipython3",
      "version": "3.11.9"
    }
  },
  "nbformat": 4,
  "nbformat_minor": 0
}
