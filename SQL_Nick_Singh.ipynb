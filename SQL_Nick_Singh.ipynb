{
  "nbformat": 4,
  "nbformat_minor": 0,
  "metadata": {
    "colab": {
      "provenance": [],
      "authorship_tag": "ABX9TyPH/IMla1hN/4x2g1CcFT8j",
      "include_colab_link": true
    },
    "kernelspec": {
      "name": "python3",
      "display_name": "Python 3"
    },
    "language_info": {
      "name": "python"
    }
  },
  "cells": [
    {
      "cell_type": "markdown",
      "metadata": {
        "id": "view-in-github",
        "colab_type": "text"
      },
      "source": [
        "<a href=\"https://colab.research.google.com/github/nithin-k-mundrathi/python_practice/blob/main/SQL_Nick_Singh.ipynb\" target=\"_parent\"><img src=\"https://colab.research.google.com/assets/colab-badge.svg\" alt=\"Open In Colab\"/></a>"
      ]
    },
    {
      "cell_type": "code",
      "execution_count": null,
      "metadata": {
        "id": "p4f1ETZHDAWi"
      },
      "outputs": [],
      "source": [
        "# User's Third Transaction\n",
        "select user_id,spend,transaction_date from\n",
        "(SELECT user_id,spend,transaction_date,ROW_NUMBER()\n",
        "OVER(PARTITION BY user_id order by transaction_date) FROM transactions)\n",
        "as a\n",
        "where a.row_number =3\n",
        "\n",
        "with cte_1 as (\n",
        "SELECT user_id,spend,transaction_date,\n",
        "    dense_rank() over(\n",
        "    partition by user_id order by transaction_date\n",
        "    ) as rank_dense\n",
        "FROM transactions\n",
        ")\n",
        "\n",
        "select user_id,spend,transaction_date\n",
        "from cte_1 where  rank_dense =3\n",
        "\n",
        "\n",
        ";"
      ]
    },
    {
      "cell_type": "code",
      "source": [
        "# Average Review Ratings\n",
        "with cte as (\n",
        "\n",
        "SELECT EXTRACT(MONTH from submit_date) as month_1,*  from reviews\n",
        ")\n",
        "\n",
        "select month_1 as month,product_id,CAST(AVG(stars)  AS DECIMAL(5, 2)) as avg_stars\n",
        "from cte group by month_1, product_id ORDER BY month_1,product_id"
      ],
      "metadata": {
        "id": "SFQVaO9iE7qb"
      },
      "execution_count": null,
      "outputs": []
    },
    {
      "cell_type": "code",
      "source": [
        "# Final Account Balance\n",
        "\n",
        "WITH table_1 as (\n",
        "SELECT account_id,transaction_type,SUM(amount) as amount FROM transactions\n",
        "group by account_id, transaction_type\n",
        ")\n",
        "\n",
        "\n",
        "select a.account_id, a.amount - b.amount  as final_balance from table_1 a\n",
        "left join table_1 b on  (a.account_id =b.account_id) and (a.transaction_type !=b.transaction_type)\n",
        "where a.transaction_type = 'Deposit' and b.transaction_type = 'Withdrawal'\n",
        "order by a.account_id\n",
        ";"
      ],
      "metadata": {
        "id": "MscxhsPgE-0y"
      },
      "execution_count": null,
      "outputs": []
    },
    {
      "cell_type": "code",
      "source": [
        "# Teams Power Users\n",
        "\n",
        "with month_table as(\n",
        "select *,EXTRACT(month from sent_date) as date_month,\n",
        "EXTRACT(year from sent_date) as date_year\n",
        "FROM messages\n",
        ")\n",
        "\n",
        "select sender_id,count(*) as message_count from month_table\n",
        "where date_month=8 and date_year = 2022\n",
        "GROUP BY sender_id\n",
        "order by message_count DESC\n",
        "LIMIT 2\n",
        ";\n",
        "\n",
        "# solution\n"
      ],
      "metadata": {
        "id": "IBL-FVB83cW1"
      },
      "execution_count": null,
      "outputs": []
    },
    {
      "cell_type": "code",
      "source": [
        "# Highest-Grossing Items\n",
        "\n",
        "with cte as (\n",
        "select category,product,Sum(spend) as total_spend\n",
        "from product_spend\n",
        "where extract(year from transaction_date) = 2022\n",
        "group by category,product\n",
        ")\n",
        "\n",
        "select category,product,total_spend from (select category,product,total_spend,\n",
        "RANK() OVER (\n",
        "  PARTITION BY category\n",
        "  ORDER BY total_spend DESC\n",
        ")\n",
        "from cte) T\n",
        "where rank<3\n",
        ";"
      ],
      "metadata": {
        "id": "IweU0GvyZPhd"
      },
      "execution_count": null,
      "outputs": []
    },
    {
      "cell_type": "code",
      "source": [
        "# Laptop vs Mobile Viewership\n",
        "with cte as (SELECT count(user_id) as num_users,\n",
        "  CASE\n",
        "  when device_type = 'laptop' THEN 'laptop'\n",
        "  ELSE 'mobile'\n",
        " END AS new_device\n",
        "FROM viewership\n",
        "group by new_device),\n",
        "\n",
        "cte_2 as(\n",
        "select CASE\n",
        "  when new_device = 'laptop' THEN num_users\n",
        " END as laptop_views from cte\n",
        "),\n",
        "\n",
        "cte_3 as(\n",
        "select CASE\n",
        "  when new_device = 'mobile' THEN num_users\n",
        " END as mobile_views from cte\n",
        ")\n",
        "\n",
        "\n",
        "\n",
        "select * from cte_2  join cte_3 on 1=1\n",
        "where laptop_views >0 and mobile_views >0\n",
        ";\n",
        "\n",
        "\n",
        "# Solution\n",
        "SELECT\n",
        "  COUNT(CASE WHEN device_type = 'laptop' THEN 1 ELSE NULL END) AS laptop_views,\n",
        "  COUNT(CASE WHEN device_type IN ('tablet', 'phone') THEN 1 ELSE NULL END) AS mobile_views\n",
        "FROM viewership;"
      ],
      "metadata": {
        "id": "Ln8u4hqOaiYS"
      },
      "execution_count": null,
      "outputs": []
    },
    {
      "cell_type": "code",
      "source": [
        "# Ad Campaign ROAS\n",
        "\n",
        "select advertiser_id, CAST(revenue_1/spend_1 AS DECIMAL(12,2)) as ROAS from\n",
        "(\n",
        "SELECT advertiser_id,SUM(spend) as spend_1,SUM(revenue) as revenue_1 FROM ad_campaigns\n",
        "group by advertiser_id)\n",
        "as t_1\n",
        "\n",
        "order by advertiser_id\n",
        ";"
      ],
      "metadata": {
        "id": "fYXyJUDWkl_G"
      },
      "execution_count": null,
      "outputs": []
    },
    {
      "cell_type": "code",
      "source": [
        "# Highest Number of Products\n",
        "\n",
        "\n",
        "select user_id, product_num from (\n",
        "select user_id,count(product_id) as product_num,SUM(spend)\n",
        "\n",
        "from user_transactions\n",
        "where user_id IN\n",
        "(SELECT user_id FROM user_transactions\n",
        "group by user_id\n",
        "having SUM(spend) >=1000\n",
        ")\n",
        "\n",
        "group by user_id\n",
        "order by count(product_id) Desc,SUM(spend) DESC\n",
        "fetch first 3 rows only\n",
        ") as t_1\n",
        "\n",
        ";"
      ],
      "metadata": {
        "id": "WxVFn2u14Gnm"
      },
      "execution_count": null,
      "outputs": []
    },
    {
      "cell_type": "code",
      "source": [
        "# Second Day Confirmation\n",
        "\n",
        "with cte as (\n",
        "SELECT *,signup_date + INTERVAL '1 day' as new_date FROM texts t\n",
        "LEFT JOIN emails e on t.email_id = e.email_id\n",
        "where t.signup_action\t= 'Confirmed'\n",
        ")\n",
        "\n",
        "select user_id from cte\n",
        "where new_date = action_date\n",
        ";\n",
        "\n",
        "\n",
        "with cteA as (\n",
        "SELECT * FROM texts where\n",
        "signup_action = 'Confirmed'\n",
        "),\n",
        "\n",
        "cteB as (\n",
        "select a.email_id,a.user_id,a.signup_date\n",
        ",b.email_id, b.action_date,\n",
        "date(b.action_date) - date(a.signup_date) as date_diff\n",
        "from emails a\n",
        "left join cteA b\n",
        "on a.email_id = b.email_id\n",
        ")\n",
        "\n",
        "\n",
        "select user_id from cteB\n",
        "where date_diff =1\n",
        ";"
      ],
      "metadata": {
        "id": "H-GsGxKEz9eS"
      },
      "execution_count": null,
      "outputs": []
    },
    {
      "cell_type": "code",
      "source": [
        "# App Click-through Rate (CTR)\n",
        "with CTEA as (\n",
        "SELECT *\n",
        ", extract(year from timestamp)\n",
        "\n",
        "FROM events\n",
        "where extract(year from timestamp) = 2022\n",
        "),\n",
        "\n",
        "\n",
        "cteB as (\n",
        "select app_id\n",
        ", sum(case when event_type= 'click' Then 1\n",
        "        Else 0\n",
        "        end) as count_click\n",
        ", sum(case when event_type= 'impression' Then 1\n",
        "        Else 0\n",
        "        end) as count_impression\n",
        "from CTEA\n",
        "group by app_id\n",
        ")\n",
        "\n",
        "select app_id,\n",
        "cast(((100.0) * count_click /count_impression) as decimal(5,2)) as CTR\n",
        "from cteB\n",
        "\n",
        "\n",
        ";"
      ],
      "metadata": {
        "id": "lqifj4Kz0ABJ"
      },
      "execution_count": null,
      "outputs": []
    },
    {
      "cell_type": "code",
      "source": [
        "# Well Paid Employees\n",
        "\n",
        "with cte_managers As (\n",
        "SELECT * FROM employee\n",
        "where manager_id IS NULL\n",
        "),\n",
        "\n",
        "cte_employees AS (\n",
        "SELECT * FROM employee\n",
        "where manager_id IS NOT NULL\n",
        ")\n",
        "\n",
        "select a.employee_id,a.name AS employee_name from cte_employees a\n",
        "left join cte_managers b\n",
        "on a.manager_id = b.employee_id\n",
        "where a.salary > b.salary\n",
        ";"
      ],
      "metadata": {
        "id": "-xjMXbKZLDV3"
      },
      "execution_count": null,
      "outputs": []
    },
    {
      "cell_type": "code",
      "source": [
        "# Top Three Salaries\n",
        "with cte_a AS (\n",
        "SELECT department_id,salary,\n",
        "Dense_rank() Over (\n",
        "partition by department_id order by salary DESC\n",
        ")As rank_salary, name\n",
        "FROM employee\n",
        ")\n",
        "\n",
        "select b.department_name,a.name,a.salary from cte_a  a\n",
        "left join  department b\n",
        "on a.department_id = b.department_id\n",
        "where rank_salary <=3\n",
        "order by 1 Asc, 3 desc , 2 Asc\n",
        "\n",
        ";"
      ],
      "metadata": {
        "id": "xNqrtXinyimO"
      },
      "execution_count": null,
      "outputs": []
    },
    {
      "cell_type": "code",
      "source": [
        "# Average Post Hiatus (Part 1)\n",
        "with cte as (\n",
        "SELECT *\n",
        "FROM posts\n",
        "where extract(year from post_date) = 2021\n",
        "),\n",
        "\n",
        " cte_1 as (\n",
        "select *,\n",
        "DATE(post_date) as date_1,\n",
        "Rank() OVER(\n",
        "  PARTITION BY user_id\n",
        "  order by post_date\n",
        ")\n",
        "from cte\n",
        "order by user_id\n",
        ")\n",
        "\n",
        "select user_id,MAX(date_1)-MIN(date_1) as days_between\n",
        "from cte_1\n",
        "group by user_id\n",
        "having MAX(date_1)-MIN(date_1) > 0\n",
        ";"
      ],
      "metadata": {
        "id": "POQ2UaOS_uFD"
      },
      "execution_count": null,
      "outputs": []
    },
    {
      "cell_type": "code",
      "source": [
        "# Top 5 artists\n",
        "\n",
        "with cte as (\n",
        "select * from global_song_rank\n",
        "where rank <=10\n",
        "order by rank ASC\n",
        "),\n",
        "\n",
        " cte_2 as (\n",
        "select day,a.song_id,rank,artist_id from cte a left join songs b ON\n",
        "a.song_id = b.song_id\n",
        "),\n",
        "\n",
        "cte_3 as (\n",
        "select artist_id,count(song_id),\n",
        "DENSE_RANK() OVER(ORDER BY count(song_id) DESC)from cte_2\n",
        "group by artist_id\n",
        "order by count(song_id) Desc\n",
        ")\n",
        "\n",
        "select b.artist_name,a.dense_rank as artist_rank from cte_3 a\n",
        "left join artists b on\n",
        "a.artist_id = b.artist_id\n",
        "where a.dense_rank <=5\n",
        "order by a.dense_rank Asc,b.artist_name;"
      ],
      "metadata": {
        "id": "wI-3L8sCKo02"
      },
      "execution_count": null,
      "outputs": []
    },
    {
      "cell_type": "code",
      "source": [
        "# Signup Activation Rate\n",
        "\n",
        "with cte_a AS (\n",
        "SELECT CAST(count(1) AS DECIMAL(9,2)) as c_a FROM emails\n",
        "),\n",
        "\n",
        "cte_b as (\n",
        "Select CAST(Count(1) As decimal(9,2)) as c_b from emails a\n",
        "left join texts b\n",
        "on a.email_id = b.email_id\n",
        "where b.signup_action = 'Confirmed'\n",
        ")\n",
        "\n",
        "\n",
        "select cast(c_b/c_a As decimal(9,2)) from cte_a a\n",
        "left join cte_b b\n",
        "on 1=1\n",
        ";"
      ],
      "metadata": {
        "id": "bRxANbnBwPE-"
      },
      "execution_count": null,
      "outputs": []
    },
    {
      "cell_type": "code",
      "source": [
        "# Supercloud Customer\n",
        "\n",
        "with cte_a as (\n",
        "select count(1) FROM (\n",
        "SELECT distinct(product_category) FROM products ) as t\n",
        "),\n",
        "\n",
        "cte_b as (\n",
        "select customer_id, count(*) as count_1 from\n",
        "(select distinct customer_id,product_category  from customer_contracts a\n",
        "  left join products b on a.product_id = b.product_id\n",
        ") as k\n",
        "group by customer_id\n",
        ")\n",
        "\n",
        "select customer_id from cte_b where count_1 in (select * from cte_a)\n",
        "-- select distinct customer_id, product_id from customer_contracts\n",
        ";"
      ],
      "metadata": {
        "id": "MmfhPKkQpANY"
      },
      "execution_count": null,
      "outputs": []
    },
    {
      "cell_type": "code",
      "source": [
        "|#Purchasing Activity by Product Type\n",
        "\n",
        "with cte as (\n",
        "SELECT order_date, product_type,SUM(quantity) OVER (PARTITION BY product_type order by order_date)\n",
        "FROM total_trans\n",
        ")\n",
        "\n",
        "select order_date,product_type,sum as cum_purchased from cte\n",
        "order by order_date,cum_purchased\n",
        ";"
      ],
      "metadata": {
        "id": "jzxQ1pMcObLL"
      },
      "execution_count": null,
      "outputs": []
    },
    {
      "cell_type": "code",
      "source": [
        "#  3-Topping Pizzas\n",
        "\n",
        "with cte as (\n",
        "SELECT CONCAT(t_1.topping_name,',',t_2.topping_name,',',t_3.topping_name) as pizza,\n",
        "t_1.ingredient_cost + t_2.ingredient_cost + t_3.ingredient_cost as total_cost\n",
        "FROM pizza_toppings t_1\n",
        "left join  pizza_toppings t_2\n",
        "on t_1.topping_name != t_2.topping_name\n",
        "left join pizza_toppings t_3\n",
        "on t_1.topping_name != t_3.topping_name and t_2.topping_name != t_3.topping_name\n",
        "where (t_1.topping_name <= t_2.topping_name) and\n",
        "(t_2.topping_name <= t_3.topping_name)\n",
        "ORDER BY t_1.topping_name,t_2.topping_name,t_3.topping_name\n",
        ")\n",
        "\n",
        "select  *\n",
        "from cte\n",
        "order by total_cost DESC\n",
        "offset 0 rows\n",
        "fetch next 3 rows only\n",
        ";"
      ],
      "metadata": {
        "id": "Mb3mzErREEJ4"
      },
      "execution_count": null,
      "outputs": []
    },
    {
      "cell_type": "code",
      "source": [
        "# Y-on-Y Growth Rate\n",
        "with cte as (\n",
        "SELECT extract(year from transaction_date) as year_1,product_id,\n",
        "spend as curr_year_spend\n",
        "FROM user_transactions\n",
        "),\n",
        "\n",
        "-- cte_2 as (\n",
        "-- select product_id,year_1,SUM(spend) as spend from cte\n",
        "-- group by product_id,year_1\n",
        "-- )\n",
        "\n",
        "-- select * from cte_2\n",
        "-- order by product_id,year_1\n",
        "cte_2 as (\n",
        "select *,\n",
        "LAG(curr_year_spend, 1) OVER (\n",
        "    PARTITION BY product_id\n",
        "    ORDER BY year_1) as prev_year_spend\n",
        "    from cte\n",
        ")\n",
        "\n",
        "SELECT *,\n",
        "CAST(((curr_year_spend-prev_year_spend)/prev_year_spend)*100 as decimal(5,2))\n",
        "from cte_2\n",
        ";\n",
        "\n",
        "\n",
        "with cte_a as  (\n",
        "SELECT\n",
        "product_id\n",
        ",sum(spend) as spend\n",
        ", extract(year from transaction_date) as year\n",
        ", dense_rank() over(\n",
        "  partition by product_id order By\n",
        "  extract(year from transaction_date) Desc\n",
        ")\n",
        "FROM user_transactions\n",
        "group by extract(year from transaction_date), product_id\n",
        "),\n",
        "\n",
        "cte_b AS (\n",
        "select year,product_id\n",
        ", spend AS curr_year_spend\n",
        ",lag(spend,1) Over(\n",
        "partition by product_id order by dense_rank Desc\n",
        ") as prev_year_spend\n",
        "from cte_a\n",
        ")\n",
        "\n",
        "select *\n",
        ", cast(((curr_year_spend - prev_year_spend)*100 / (prev_year_spend)) AS decimal(9,2)) as yoy_rate\n",
        "\n",
        "from cte_b\n",
        ";"
      ],
      "metadata": {
        "id": "N00dHM2lx_CE"
      },
      "execution_count": null,
      "outputs": []
    },
    {
      "cell_type": "code",
      "source": [
        "# Repeated Payments\n",
        "\n",
        "with cte as (\n",
        "SELECT\n",
        "  transaction_id\n",
        "  merchant_id,\n",
        "  credit_card_id,\n",
        "  amount,\n",
        "  transaction_timestamp,\n",
        "  LAG(transaction_timestamp) OVER (\n",
        "    PARTITION BY merchant_id,\n",
        "    credit_card_id,\n",
        "    amount\n",
        "    ORDER BY\n",
        "      transaction_timestamp\n",
        "  ) AS previous_transaction\n",
        "FROM\n",
        "  transactions\n",
        "),\n",
        "\n",
        "cte_2 as (\n",
        "select *,\n",
        "extract(epoch from transaction_timestamp-previous_transaction) /60 as min_time\n",
        "from cte\n",
        "where extract(epoch from transaction_timestamp-previous_transaction) /60<=10\n",
        ")\n",
        "\n",
        "select count(1) as payment_count from cte_2\n",
        ";\n",
        "\n",
        "with cte_a as (\n",
        "SELECT *\n",
        ", lag(transaction_timestamp) OVER(\n",
        "partition by credit_card_id,merchant_id,amount order by transaction_timestamp Asc\n",
        ") as previous_transaction\n",
        "FROM transactions\n",
        ")\n",
        "\n",
        "SELECT count(1) as payment_count\n",
        "FROM cte_a\n",
        "where extract(MINUTE from transaction_timestamp - previous_transaction) <10\n",
        "\n",
        "\n"
      ],
      "metadata": {
        "id": "FquEVsEpzsWT"
      },
      "execution_count": null,
      "outputs": []
    },
    {
      "cell_type": "code",
      "source": [
        "# Server Utilization Time\n",
        "\n",
        "with cte_1 as (SELECT *,\n",
        "LAG(status_time) OVER (\n",
        "    PARTITION BY server_id\n",
        "    order by status_time ) as stop_time\n",
        "FROM server_utilization\n",
        "),\n",
        "\n",
        "cte_2 as (\n",
        "select *,\n",
        "extract(epoch from status_time-stop_time) as time_1\n",
        "from cte_1\n",
        "where session_status = 'stop'\n",
        ")\n",
        "\n",
        "SELECT cast(SUM(time_1)/86400 as int) as total_uptime_days from cte_2\n",
        ";\n",
        "\n",
        "\n",
        "with cte_a AS (\n",
        "SELECT *,\n",
        "lag(status_time) over(\n",
        "partition by server_id order by status_time Asc\n",
        ") as start_time\n",
        "FROM server_utilization\n",
        "),\n",
        "\n",
        "cte_b as (\n",
        "select *\n",
        ",extract(epoch from status_time - start_time)\n",
        "from cte_a\n",
        "where session_status = 'stop'\n",
        ")\n",
        "\n",
        "select cast(sum(extract)/86400  AS Int) AS total_uptime_days from cte_b\n",
        "\n",
        ";"
      ],
      "metadata": {
        "id": "NglPh_tL2R9z"
      },
      "execution_count": null,
      "outputs": []
    },
    {
      "cell_type": "code",
      "source": [
        "# matching renatl amenities\n",
        "with cte as (\n",
        "select rental_id,\n",
        "        array_agg(amenity order by rental_id) as amenities\n",
        "from rental_amenities\n",
        "group by rental_id\n",
        ")\n",
        "\n",
        "select count(*) as matching_airbnb\n",
        "from cte a\n",
        "left join cte b on a.amenities = b.amenities\n",
        "where a.rental_id> b.rental_id\n"
      ],
      "metadata": {
        "id": "IDdQdAfa9uea"
      },
      "execution_count": null,
      "outputs": []
    },
    {
      "cell_type": "code",
      "source": [
        "# histogram of tweets\n",
        "\n",
        "with cte as (\n",
        "SELECT user_id,count(tweet_id) as user_num FROM tweets\n",
        "where  Extract(year from  tweet_date) = 2022\n",
        "GROUP BY user_id\n",
        ")\n",
        "\n",
        "select user_num as tweet_bucket,count(user_id) as users_num from cte\n",
        "group by user_num\n",
        ";"
      ],
      "metadata": {
        "id": "qu55g3zW9yun"
      },
      "execution_count": null,
      "outputs": []
    },
    {
      "cell_type": "code",
      "source": [
        "# Page with No Likes\n",
        "\n",
        "with cte as (\n",
        "SELECT page_id,count(liked_date) as c_1 FROM page_likes\n",
        "group by page_id\n",
        ")\n",
        "\n",
        "select a.page_id from pages a\n",
        "left join cte b on a.page_id=b.page_id\n",
        "where c_1 is NULL\n",
        ";"
      ],
      "metadata": {
        "id": "qTzU5IU5DrWL"
      },
      "execution_count": null,
      "outputs": []
    },
    {
      "cell_type": "code",
      "source": [
        "# duplicate Job Listings\n",
        "\n",
        "with cte as (\n",
        "SELECT count(1) FROM job_listings\n",
        "group by title,description,company_id\n",
        "having count(job_id) >1\n",
        ")\n",
        "\n",
        "select count(*) as co_w_duplicate_jobs from cte\n",
        ";"
      ],
      "metadata": {
        "id": "mSNgyLQBFvzU"
      },
      "execution_count": null,
      "outputs": []
    },
    {
      "cell_type": "code",
      "source": [
        "# Apple Pay Volume\n",
        "\n",
        "with cte as (\n",
        "SELECT *,\n",
        "case when payment_method = 'Apple Pay' then transaction_amount\n",
        "     when payment_method = 'apple pay' then transaction_amount\n",
        "     when payment_method = 'apple Pay' then transaction_amount\n",
        "     when payment_method = 'Apple pay' then transaction_amount\n",
        "     ELSE 0\n",
        "     END as apple_transaction\n",
        "FROM transactions\n",
        ")\n",
        "\n",
        "select merchant_id,sum(apple_transaction) as total_transaction from cte\n",
        "group by merchant_id\n",
        "order by total_transaction DESC\n",
        ";"
      ],
      "metadata": {
        "id": "97VTE3xaHfBW"
      },
      "execution_count": null,
      "outputs": []
    },
    {
      "cell_type": "code",
      "source": [
        "# Cities With Completed Trades\n",
        "with cte as (\n",
        "SELECT * FROM trades\n",
        "where status = 'Completed'\n",
        ")\n",
        "\n",
        "select b.city,count(a.status) as total_orders from cte a left join users b\n",
        "on a.user_id=b.user_id\n",
        "group by b.city\n",
        "order by count(a.status) DESC\n",
        "offset 0 rows\n",
        "fetch next 3 rows only\n",
        ";"
      ],
      "metadata": {
        "id": "4AJ_m_itKmof"
      },
      "execution_count": null,
      "outputs": []
    },
    {
      "cell_type": "code",
      "source": [
        "#top Rated Business\n",
        "\n",
        "with cte as (\n",
        "SELECT count(distinct business_id) as a_1 FROM reviews\n",
        "),\n",
        "\n",
        "cte_2 as (\n",
        "SELECT count(distinct business_id) as b_1 from reviews\n",
        "where review_stars =5 or review_stars =4\n",
        ")\n",
        "\n",
        "select b_1 AS business_count,\n",
        "(b_1*100/a_1) as top_rated_pct\n",
        "from cte_2 a left join  cte b on 1=1\n",
        ";"
      ],
      "metadata": {
        "id": "5XN8K49PPQu3"
      },
      "execution_count": null,
      "outputs": []
    },
    {
      "cell_type": "code",
      "source": [
        "# lInkedIn Power Creators\n",
        "\n",
        "SELECT pp.profile_id FROM personal_profiles as pp\n",
        "left join company_pages as cp ON\n",
        "pp.employer_id = cp.company_id\n",
        "where pp.followers >= cp.followers\n",
        "order by pp.profile_id\n",
        ";\n"
      ],
      "metadata": {
        "id": "XgFyHy2HT5fo"
      },
      "execution_count": null,
      "outputs": []
    },
    {
      "cell_type": "code",
      "source": [
        "# Unfinished Parts\n",
        "\n",
        "with cte as (\n",
        "SELECT part,count(finish_date) FROM parts_assembly\n",
        "group by part,assembly_step\n",
        "having count(finish_date) =0\n",
        ")\n",
        "\n",
        "select distinct part from cte\n",
        ";"
      ],
      "metadata": {
        "id": "-fe1fVAoaHq5"
      },
      "execution_count": null,
      "outputs": []
    },
    {
      "cell_type": "code",
      "source": [
        "# data science skills\n",
        "SELECT\n",
        "  distinct candidate_id\n",
        "FROM candidates\n",
        "WHERE\n",
        "skill IN ('Python', 'Tableau', 'PostgreSQL')\n",
        "group by candidate_id\n",
        "having count(skill) >=3\n",
        ";"
      ],
      "metadata": {
        "id": "Ax6waR8YaJlY"
      },
      "execution_count": null,
      "outputs": []
    },
    {
      "cell_type": "code",
      "source": [
        "# Spare Server Capacity\n",
        "with cte as (\n",
        "SELECT datacenter_id,SUM(monthly_demand) as demand FROM forecasted_demand\n",
        "group by datacenter_id\n",
        ")\n",
        "\n",
        "select a.datacenter_id,\n",
        "       monthly_capacity - demand as spare_capacity\n",
        "from datacenters a left join cte b on a.datacenter_id= b.datacenter_id\n",
        "order by a.datacenter_id\n",
        ";"
      ],
      "metadata": {
        "id": "8eygfK4lSX7V"
      },
      "execution_count": null,
      "outputs": []
    },
    {
      "cell_type": "code",
      "source": [
        "# Repeat Purchases on Multiple Days\n",
        "\n",
        "with cte as (\n",
        "SELECT distinct user_id,product_id,DATE(purchase_date) as date_1 FROM purchases\n",
        "),\n",
        "\n",
        "ste_2 as (\n",
        "select distinct user_id from cte\n",
        "group by user_id,product_id\n",
        "having count(date_1) >=2\n",
        ")\n",
        "\n",
        "SELECT count(*) as repeat_purchasers from ste_2\n",
        ";"
      ],
      "metadata": {
        "id": "4m8u6SVFTb7c"
      },
      "execution_count": null,
      "outputs": []
    },
    {
      "cell_type": "code",
      "source": [
        "# First Transaction\n",
        "\n",
        "with cte as (\n",
        "SELECT *,\n",
        "      RANK () OVER (\n",
        "\t\t\tPARTITION BY user_id\n",
        "\t\t\tORDER BY transaction_date ASC\n",
        "\t\t) price_rank\n",
        "FROM user_transactions\n",
        ")\n",
        "\n",
        "select count(distinct user_id) as users from cte\n",
        "where price_rank= 1 and spend >=50\n",
        ";"
      ],
      "metadata": {
        "id": "W2wOhOiqWDvM"
      },
      "execution_count": null,
      "outputs": []
    },
    {
      "cell_type": "code",
      "source": [
        "# Active User Retention\n",
        "\n",
        "with cte as (\n",
        "SELECT user_id,event_id,event_type,extract(MONTH from event_date) as month_1\n",
        ",extract(year from event_date) as year_1 FROM user_actions\n",
        "where extract(year from event_date) =2022\n",
        "and (extract(MONTH from event_date) = 7 or extract(MONTH from event_date) =6)\n",
        "),\n",
        "\n",
        "cte_2 as (\n",
        "select a.user_id,a.month_1 from cte a\n",
        "left join  cte b on  (a.month_1>b.month_1)\n",
        "where a.user_id=b.user_id\n",
        "),\n",
        "\n",
        "cte_3 as (\n",
        "select count(distinct cte_2.user_id) as monthly_active_users from cte_2\n",
        ")\n",
        "\n",
        "select distinct cte_2.month_1 as month,monthly_active_users  from cte_2\n",
        "left join cte_3 on 1=1\n",
        ";\n",
        "\n",
        "with cte_a As  (\n",
        "SELECT distinct user_id,event_type,\n",
        "extract(month from event_date) as month,\n",
        "extract(year from event_date) as year\n",
        "FROM user_actions\n",
        "where  extract(month from event_date) IN (7,6) AND\n",
        "extract(year from event_date) = 2022\n",
        "),\n",
        "\n",
        "cte_b as (\n",
        "select user_id,count(*)\n",
        "from cte_a\n",
        "group by user_id\n",
        "having count(*) >=3\n",
        "),\n",
        "cte_c AS (\n",
        "select distinct month from cte_a where month =7\n",
        ")\n",
        "\n",
        "select  month\n",
        ",count(1) AS monthly_active_users\n",
        "from cte_b a\n",
        "left join cte_c b\n",
        "On 1=1\n",
        "group by b.month\n"
      ],
      "metadata": {
        "id": "X6FpTwJ8XZiz"
      },
      "execution_count": null,
      "outputs": []
    },
    {
      "cell_type": "code",
      "source": [
        "# Same Week Purchases\n",
        "\n",
        "with cte as (\n",
        "SELECT count(distinct user_id) as c_1 FROM signups\n",
        "),\n",
        "\n",
        "cte_2 as (\n",
        "\n",
        "select count(distinct a.user_id) as c_2 from user_purchases a\n",
        "left join signups b on a.user_id = b.user_id\n",
        "where date(a.purchase_date) <= date(b.signup_date + INTERVAL '7 day')\n",
        ")\n",
        "\n",
        "select cast(a.c_2*100/b.c_1 as decimal(5,2)) as same_week_purchases_pct from cte_2 a\n",
        "left join cte b on 1=1\n",
        ";"
      ],
      "metadata": {
        "id": "YfdlVTltlf1L"
      },
      "execution_count": null,
      "outputs": []
    },
    {
      "cell_type": "code",
      "source": [
        "# Signup Confirmation Date\n",
        "\n",
        "with cte as (\n",
        "select cast(count(*) as decimal(5,2)) as c_1 from (\n",
        "select distinct email_id,signup_action from texts\n",
        "where signup_action\t= 'Confirmed'\n",
        ") t),\n",
        "\n",
        "cte_2 as (\n",
        "  select count(distinct(user_id)) as c_2 from emails\n",
        ")\n",
        "\n",
        "select cast(c_1/c_2 as decimal(6,2))\n",
        "as confirmation_rate from cte left join cte_2 on 1=1\n",
        ";"
      ],
      "metadata": {
        "id": "3hIGGYgvqRJ8"
      },
      "execution_count": null,
      "outputs": []
    },
    {
      "cell_type": "code",
      "source": [
        "# Unique Money Transfer relationships\n",
        "\n",
        "with cte as(\n",
        "SELECT count(*) FROM payments a\n",
        "left join payments b on b.payer_id = a.recipient_id and a.payer_id = b.recipient_id\n",
        "where b.amount >=0\n",
        "group by a.payer_id,a.recipient_id\n",
        ")\n",
        "\n",
        "select COUNT(1)/2 as unique_relationships from cte\n",
        ";"
      ],
      "metadata": {
        "id": "fJcgHSOfufGP"
      },
      "execution_count": null,
      "outputs": []
    },
    {
      "cell_type": "code",
      "source": [
        "# User Shopping Sprees\n",
        "\n",
        "with cte as (\n",
        "SELECT *,LAG(transaction_date, 1) OVER (\n",
        "    PARTITION BY user_id\n",
        "    ORDER BY transaction_date) as prev_transaction_date\n",
        "FROM transactions\n",
        "),\n",
        "\n",
        "cte_2 as (\n",
        "select *,LAG(prev_transaction_date, 1) OVER (\n",
        "    PARTITION BY user_id\n",
        "    ORDER BY prev_transaction_date) as prev_2_transaction_date\n",
        "    from cte\n",
        ")\n",
        "\n",
        "select distinct user_id as user_id from cte_2\n",
        "WHERE prev_2_transaction_date is not NULL and prev_transaction_date is NOT NULL\n",
        ";\n",
        "\n",
        "with cte_a AS (\n",
        "SELECT *,\n",
        "date(transaction_date) as today_date,\n",
        "date(transaction_date) + interval '1 day' as second_date,\n",
        "date(transaction_date) + interval '2 day' as third_date,\n",
        "lead(date(transaction_date),1) over(\n",
        "partition by user_id order by date(transaction_date)) as second_day_user,\n",
        "lead(date(transaction_date),2) over(\n",
        "partition by user_id order by date(transaction_date)) as third_day_user\n",
        "FROM transactions\n",
        ")\n",
        "\n",
        "select user_id from cte_a\n",
        "where (second_date = second_day_user) AND (third_date = third_day_user)\n",
        "\n",
        ";"
      ],
      "metadata": {
        "id": "3ZmFd1nvw3ph"
      },
      "execution_count": null,
      "outputs": []
    },
    {
      "cell_type": "code",
      "source": [
        "# Sending Vs Opening Snaps\n",
        "\n",
        "with cte as (\n",
        "SELECT b.age_bucket,SUM(time_spent) as open_perc FROM activities a left join\n",
        "age_breakdown b on a.user_id=b.user_id\n",
        "where activity_type='open'\n",
        "group by b.age_bucket,a.activity_type\n",
        "),\n",
        "\n",
        "cte_1 as (\n",
        "SELECT b.age_bucket,SUM(time_spent) as  send_perc FROM activities a left join\n",
        "age_breakdown b on a.user_id=b.user_id\n",
        "where activity_type='send'\n",
        "group by b.age_bucket,a.activity_type\n",
        ")\n",
        "\n",
        "\n",
        "select a.age_bucket,\n",
        "cast(b.send_perc*100 / (a.open_perc + b.send_perc) as decimal(5,2)) as send_perc ,\n",
        "cast(a.open_perc*100/(a.open_perc + b.send_perc) as decimal(5,2)) as open_perc\n",
        "from cte a left join cte_1 b on a.age_bucket=b.age_bucket\n",
        ";"
      ],
      "metadata": {
        "id": "bCdUc4Aoy7-J"
      },
      "execution_count": null,
      "outputs": []
    },
    {
      "cell_type": "code",
      "source": [
        "# Photoshop revenue Analysis\n",
        "\n",
        "with cte_1 as (\n",
        "select * from adobe_transactions\n",
        "where customer_id in (\n",
        "SELECT customer_id FROM adobe_transactions\n",
        "where product = 'Photoshop'))\n",
        "\n",
        "select customer_id,SUM(revenue) as revenue from cte_1\n",
        "where product !='Photoshop'\n",
        "group by customer_id\n",
        ";"
      ],
      "metadata": {
        "id": "4yJX-XUs5X1x"
      },
      "execution_count": null,
      "outputs": []
    },
    {
      "cell_type": "code",
      "source": [
        "# # Spotify Streaming History\n",
        "\n",
        "with cte as (\n",
        "SELECT user_id,song_id,date(listen_time) FROM songs_weekly\n",
        "where date(listen_time) <= '08/04/2022'\n",
        "),\n",
        "\n",
        "cte_2 as (\n",
        "select user_id,song_id,count(*) as c_1 from cte a\n",
        "group by user_id,song_id ),\n",
        "\n",
        "cte_3 as (\n",
        "select user_id,song_id,SUM(song_plays) as c_1\n",
        "from songs_history\n",
        "group by user_id,song_id),\n",
        "\n",
        "cte_4 as (\n",
        "select * from cte_2 union ALL select * from cte_3\n",
        ")\n",
        "\n",
        "select user_id,song_id,SUM(c_1) from cte_4\n",
        "group by user_id,song_id\n",
        "order by SUM(c_1) DESC\n",
        ";"
      ],
      "metadata": {
        "id": "NfDeLBEH-MCV"
      },
      "execution_count": null,
      "outputs": []
    },
    {
      "cell_type": "code",
      "source": [
        "# Invalid Search Results\n",
        "\n",
        "with cte as (\n",
        "SELECT *,(num_search*invalid_result_pct)/100 as invalid_searches_pct  FROM search_category\n",
        "where num_search is NOT NULL and invalid_result_pct is NOT NULL\n",
        ")\n",
        "\n",
        "select country, SUM(num_search),\n",
        "cast(SUM(invalid_searches_pct)*100.0/SUM(num_search) as DECIMAL(5,2)) from cte\n",
        "group by country\n",
        ";"
      ],
      "metadata": {
        "id": "-woLHXmjFM21"
      },
      "execution_count": null,
      "outputs": []
    },
    {
      "cell_type": "code",
      "source": [
        "# Consulting Bench Time\n",
        "\n",
        "with cte as (\n",
        "SELECT b.employee_id,\n",
        "        a.start_date,a.end_date,\n",
        "        a.job_id,a.client_id\n",
        ",EXTRACT(YEAR from end_date) FROM consulting_engagements a\n",
        "left join  staffing b on a.job_id = b.job_id\n",
        "where EXTRACT(YEAR from a.end_date) <=2021 and b.is_consultant='true'\n",
        "order by  b.employee_id,a.start_date,a.end_date\n",
        ")\n",
        "\n",
        "select employee_id,365-SUM(end_date-start_date+1)\n",
        "    from cte\n",
        "group by employee_id\n",
        ";"
      ],
      "metadata": {
        "id": "EblpDy1_KRkc"
      },
      "execution_count": null,
      "outputs": []
    },
    {
      "cell_type": "code",
      "source": [
        "# Odd and Even Measurements\n",
        "with cte as (\n",
        "SELECT *,date(measurement_time) as date_1,\n",
        "RANK () OVER (\n",
        "\t\t\tPARTITION BY date(measurement_time)\n",
        "\t\t\tORDER BY measurement_time\n",
        "\t\t) price_rank\n",
        "FROM measurements\n",
        "),\n",
        "\n",
        "cte_2 as (\n",
        "select *,price_rank%2 as remain,\n",
        "case when price_rank%2=0 then measurement_value\n",
        "else 0 END as even_value,\n",
        "case when price_rank%2=1 then  measurement_value\n",
        "else 0 END as odd_value\n",
        " from cte\n",
        ")\n",
        "\n",
        "select date_1, SUM(odd_value) as odd_sum ,\n",
        "SUM(even_value) as even_sum\n",
        "from cte_2\n",
        "group by date_1\n",
        ";"
      ],
      "metadata": {
        "id": "vy-Z-_RtB0Ef"
      },
      "execution_count": null,
      "outputs": []
    },
    {
      "cell_type": "code",
      "source": [
        "# Compensation Outliers\n",
        "\n",
        "with cte as (\n",
        "SELECT title,\n",
        "2*AVG(salary) as two_salary,\n",
        "AVG(salary)/2 as half_salary\n",
        "FROM employee_pay\n",
        "group by title\n",
        "),\n",
        "\n",
        "cte_2 as (\n",
        "select employee_id,salary,\n",
        "CASE when salary>two_salary then 'Overpaid'\n",
        " when salary<half_salary then 'Underpaid'\n",
        "END as outlier_status\n",
        "from employee_pay a left join cte b\n",
        "on a.title=b.title\n",
        ")\n",
        "\n",
        "select * from cte_2\n",
        "where outlier_status is NOT NULL\n",
        ";"
      ],
      "metadata": {
        "id": "tIKHk6a7B32v"
      },
      "execution_count": null,
      "outputs": []
    },
    {
      "cell_type": "code",
      "source": [
        "# Fill Missing Client Data\n",
        "\n",
        "WITH fill_products\n",
        "AS (SELECT\n",
        "  product_id,\n",
        "  category,\n",
        "  name,\n",
        "  COUNT(category) OVER (ORDER BY product_id) AS category_group\n",
        "FROM products)\n",
        "SELECT\n",
        "  product_id,\n",
        "  FIRST_VALUE (category) OVER (PARTITION BY category_group ORDER by product_id) AS category,\n",
        "  name\n",
        "FROM fill_products"
      ],
      "metadata": {
        "id": "mVr7qSkIHcnC"
      },
      "execution_count": null,
      "outputs": []
    },
    {
      "cell_type": "code",
      "source": [
        "# LinkedIn Power Creators (Part 2)\n",
        "\n",
        "with cte as (\n",
        "SELECT a.company_id as a_cid,a.name as a_name,a.followers as a_followers,\n",
        "b.personal_profile_id as profile_id\n",
        "FROM company_pages a\n",
        "left join  employee_company  b\n",
        "on a.company_id=b.company_id\n",
        "),\n",
        "\n",
        "cte_2 as (\n",
        "select profile_id, SUM(a_followers) as p_followers from cte group by profile_id\n",
        ")\n",
        "\n",
        "select distinct a.profile_id from cte_2 a left join personal_profiles b\n",
        "on a.profile_id=b.profile_id\n",
        "where a.p_followers < b.followers\n",
        "order by a.profile_id\n",
        ";"
      ],
      "metadata": {
        "id": "fO_oeguNJ18A"
      },
      "execution_count": null,
      "outputs": []
    },
    {
      "cell_type": "code",
      "source": [
        "# Tweets' Rolling Averages\n",
        "\n",
        "select user_id,tweet_date,\n",
        "CAST(avg(tweet_count) over (\n",
        "partition by user_id order by tweet_date\n",
        "ROWS between 2 preceding and current row\n",
        ") AS decimal(9,2)\n",
        ")AS rolling_avg_3d\n",
        "from tweets\n",
        "group by user_id,tweet_date,tweet_count"
      ],
      "metadata": {
        "id": "pSRYgOyAVvzk"
      },
      "execution_count": null,
      "outputs": []
    },
    {
      "cell_type": "code",
      "source": [
        "# Reactivated Users\n",
        "\n",
        "with cte as (\n",
        "SELECT *,EXTRACT(Month from login_date) as month_1,\n",
        "EXTRACT(Year from login_date) as year_1\n",
        "FROM user_logins\n",
        "),\n",
        "cte_2 as (\n",
        "select *,LAG(login_date, 1) OVER (\n",
        "    PARTITION BY user_id\n",
        "    ORDER BY login_date) as prev_year_spend from cte\n",
        "),\n",
        "cte_3 as (\n",
        "select *,extract(month from prev_year_spend) as month_2,\n",
        "case when  month_1= extract(month from prev_year_spend)+1 then 0\n",
        "ELSE 1 END as react\n",
        " from cte_2\n",
        ")\n",
        "\n",
        "select month_1 as current_month,SUM(react) as reactivated_users from cte_3 group by month_1\n",
        "having sum(react) >0\n",
        "order by month_1\n",
        ";"
      ],
      "metadata": {
        "id": "nz1ErHKwc7Gp"
      },
      "execution_count": null,
      "outputs": []
    },
    {
      "cell_type": "code",
      "source": [
        "# Senior Managers\n",
        "\n",
        "with cte_emp as (\n",
        "SELECT DISTINCT emp_id FROM employees\n",
        "),\n",
        "\n",
        "cte_m as (\n",
        "select distinct manager_id from employees\n",
        "),\n",
        "\n",
        "cte_4 as (\n",
        "select manager_id,emp_id from employees\n",
        "where emp_id in (select * from cte_m)\n",
        "),\n",
        "\n",
        "cte_5 as (\n",
        "select manager_id,count(*) as direct_reportees from employees\n",
        "where emp_id in (select * from cte_m) and manager_id is NOT NULL\n",
        "and manager_id in (select emp_id from cte_4)\n",
        "group by manager_id\n",
        ")\n",
        "\n",
        "select distinct b.manager_name,a.direct_reportees\n",
        "from cte_5 a left join employees b on a.manager_id=b.manager_id\n",
        "order by a.direct_reportees DESC\n",
        ";"
      ],
      "metadata": {
        "id": "AGMqDqG5lbLC"
      },
      "execution_count": null,
      "outputs": []
    },
    {
      "cell_type": "code",
      "source": [
        "#  cards IIssued Difference\n",
        "with cteA as (\n",
        "SELECT issue_month,\n",
        "card_name\n",
        ",sum(issued_amount) as count_n\n",
        "FROM monthly_cards_issued\n",
        "group by issue_month, card_name\n",
        ")\n",
        "\n",
        "select distinct card_name\n",
        ",max(count_n) OVER (partition by card_name) - min(count_n) OVER (partition by card_name) as difference\n",
        "from cteA\n",
        "order by 2 Desc\n",
        ";"
      ],
      "metadata": {
        "id": "07YMIo0fEZH0"
      },
      "execution_count": null,
      "outputs": []
    },
    {
      "cell_type": "code",
      "source": [
        "# IBM db2 Product Analytics\n",
        "\n",
        "with cteA as (\n",
        "SELECT employee_id, count(query_id) as n_count FROM queries\n",
        "where\n",
        "extract(year from query_starttime) = 2023  AND\n",
        "extract(month from query_starttime) > 6 AND extract(month from query_starttime) < 10\n",
        "group by employee_id\n",
        ")\n",
        "\n",
        "select COALESCE(n_count,0) AS unique_queries\n",
        ",count(a.employee_id) as employee_count\n",
        "from employees a\n",
        "left join cteA  b\n",
        "on  a.employee_id = b.employee_id\n",
        "group by n_count\n",
        "order by COALESCE(n_count,0)\n",
        ";"
      ],
      "metadata": {
        "id": "IaccQua6EZLB"
      },
      "execution_count": null,
      "outputs": []
    },
    {
      "cell_type": "code",
      "source": [
        "# Compressed Mean\n",
        "SELECT\n",
        "cast(\n",
        "SUM(item_count* order_occurrences)/ SUM(order_occurrences) as decimal(19,1)) as mean\n",
        "\n",
        "FROM items_per_order;\n",
        "\n",
        "# Compressed Mode\n",
        "\n",
        "with cte_a AS (\n",
        "SELECT order_occurrences,count(*) FROM items_per_order\n",
        "group by order_occurrences\n",
        "order by 2 desc\n",
        "),\n",
        "\n",
        "cte_b as (\n",
        "select order_occurrences as mode from cte_a where count in (\n",
        "select max(count) from cte_a\n",
        ")\n",
        ")\n",
        "\n",
        "select item_count as mode from cte_b a\n",
        "left join items_per_order b\n",
        "on a.mode = b.order_occurrences\n",
        "where order_occurrences in (\n",
        "select max(order_occurrences) from cte_a\n",
        ")\n",
        "order by 1\n",
        ";"
      ],
      "metadata": {
        "id": "uNGSUyLXEZSu"
      },
      "execution_count": null,
      "outputs": []
    },
    {
      "cell_type": "code",
      "source": [
        "# International Call Percentage\n",
        "\n",
        "with cte_a as\n",
        "(SELECT count(1) as count_a FROM phone_calls\n",
        "),\n",
        "\n",
        "cte_b as (\n",
        "select count(1) AS count_b from (\n",
        "SELECT a.*, b.country_id,c.country_id FROM phone_calls a\n",
        "left join phone_info b\n",
        "on a.caller_id = b.caller_id\n",
        "left join phone_info c\n",
        "on a.receiver_id = c.caller_id\n",
        "where b.country_id != c.country_id\n",
        ") as t\n",
        ")\n",
        "\n",
        "select cast(cast(count_b AS Decimal(9,2))*100/count_a AS Decimal(9,1)) from cte_a\n",
        "inner join cte_b\n",
        "on 1=1\n",
        "\n",
        ";"
      ],
      "metadata": {
        "id": "nuhT5LzMBIbX"
      },
      "execution_count": null,
      "outputs": []
    },
    {
      "cell_type": "code",
      "source": [
        "# Histogram of Users and Purchases\n",
        "\n",
        "with cte_a as (\n",
        "SELECT *\n",
        ", count(*) over(\n",
        "partition by user_id,transaction_date order by product_id\n",
        ") as count_products\n",
        ", max(transaction_date) over(\n",
        "partition by user_id order by transaction_date\n",
        ")\n",
        "\n",
        "FROM user_transactions\n",
        "),\n",
        "\n",
        "cte_b as\n",
        "(\n",
        "select max(transaction_date) as transaction_date,\n",
        "user_id\n",
        "from cte_a\n",
        "group by user_id\n",
        ")\n",
        "\n",
        "\n",
        "select a.transaction_date, a.user_id, max(count_products) AS purchase_count from cte_a a\n",
        "inner join cte_b b\n",
        "on (a.user_id = b.user_id) and (a.transaction_date = b.transaction_date)\n",
        "\n",
        "group by a.transaction_date, a.user_id\n",
        ";"
      ],
      "metadata": {
        "id": "dP6r9qZNBaKO"
      },
      "execution_count": null,
      "outputs": []
    },
    {
      "cell_type": "code",
      "source": [
        "# Patient Support Analysis (Part 2)\n",
        "\n",
        "with Cte_a AS\n",
        "(\n",
        "SELECT count(1) As count_a FROM callers\n",
        "),\n",
        "\n",
        "cte_b as  (\n",
        "select count(1) as count_b from callers\n",
        "where  (call_category is NULL) OR (call_category = 'n/a')\n",
        ")\n",
        "\n",
        "select cast(cast(count_b AS Decimal(9,2))*100/count_a As decimal(9,1)) AS uncategorised_call_pct from cte_a a\n",
        "left join cte_b b\n",
        "on 1=1\n",
        "\n",
        ";"
      ],
      "metadata": {
        "id": "qZ_RMD4LCxkf"
      },
      "execution_count": null,
      "outputs": []
    },
    {
      "cell_type": "code",
      "source": [
        "# Card Launch Success\n",
        "\n",
        "with cte_a AS (\n",
        "SELECT *\n",
        ",dense_rank() over (\n",
        "partition by card_name order by issue_year,issue_month asc\n",
        ") as rank_month\n",
        "FROM monthly_cards_issued\n",
        ")\n",
        "\n",
        "select card_name,issued_amount from cte_a\n",
        "where rank_month =1\n",
        "order by issued_amount Desc\n",
        ";"
      ],
      "metadata": {
        "id": "V-zuN15b_V8D"
      },
      "execution_count": null,
      "outputs": []
    },
    {
      "cell_type": "code",
      "source": [
        "# Pharmacy Analytics (Part 2)\n",
        "\n",
        "SELECT\n",
        "  manufacturer,\n",
        "  COUNT(drug) AS drug_count,\n",
        "  ABS(SUM(total_sales - cogs)) AS total_loss\n",
        "FROM pharmacy_sales\n",
        "WHERE total_sales - cogs <= 0\n",
        "GROUP BY manufacturer\n",
        "ORDER BY total_loss DESC;"
      ],
      "metadata": {
        "id": "jdbR8ptEKDUp"
      },
      "execution_count": null,
      "outputs": []
    },
    {
      "cell_type": "code",
      "source": [
        "# Pharmacy Analytics (Part 3)\n",
        "\n",
        "\n",
        "SELECT manufacturer, concat('$' ,concat(cast(SUM(total_sales) /1000000 AS INT), ' million'))\n",
        "FROM pharmacy_sales\n",
        "group by manufacturer\n",
        "order By cast(SUM(total_sales) /1000000 AS INT) Desc, manufacturer Desc\n",
        ";"
      ],
      "metadata": {
        "id": "LQ9WwXVkMQ_M"
      },
      "execution_count": null,
      "outputs": []
    },
    {
      "cell_type": "code",
      "source": [
        "# FAANG\n",
        "\n",
        "with cte_a AS (\n",
        "SELECT *,\n",
        "to_char(to_timestamp(to_char(extract(month from date), '999'), 'MM'), 'Mon') AS month_1 ,\n",
        "extract(year from date) AS year_1\n",
        "FROM stock_prices\n",
        "),\n",
        "\n",
        "cte_b as (\n",
        "select DISTINCT ticker,\n",
        "max(open) over(\n",
        "partition by ticker) as high_1,\n",
        "min(open) over(\n",
        "partition by ticker) as low_1\n",
        "from cte_a\n",
        "),\n",
        "\n",
        "cte_c as (\n",
        "select b.ticker,b.high_1,concat(a.month_1, '-',a.year_1) AS highest_mth from cte_a a\n",
        "inner join cte_b b\n",
        "ON (a.ticker = b.ticker) and ((a.open = b.high_1))\n",
        "),\n",
        "\n",
        "cte_d AS (\n",
        "select b.ticker,b.low_1,concat(a.month_1, '-',a.year_1) as lowest_mth from cte_a a\n",
        "inner join cte_b b\n",
        "ON (a.ticker = b.ticker) and ((a.open = b.low_1))\n",
        ")\n",
        "\n",
        "select a.ticker,highest_mth,b.high_1 as hightest_open, lowest_mth,a.low_1 as lowest_open\n",
        "from cte_d a\n",
        "inner join cte_c b\n",
        "on a.ticker = b.ticker\n",
        "order by a.ticker\n"
      ],
      "metadata": {
        "id": "MPHfxLBwbqLr"
      },
      "execution_count": null,
      "outputs": []
    },
    {
      "cell_type": "code",
      "source": [
        "# Swapped Food Delivery\n",
        "\n",
        "with cte_a AS (\n",
        "SELECT *,\n",
        "coalesce(lead(item,1) over(\n",
        "order By order_id),item) as lead_1,\n",
        "coalesce(lag(item,1) over(\n",
        "order By order_id),item) as lag_1\n",
        "FROM orders\n",
        ")\n",
        "\n",
        "select order_id AS corrected_order_id,\n",
        "case when order_id %2 = 0 then lag_1\n",
        "      else lead_1\n",
        "      End as item\n",
        "from cte_a\n",
        ";"
      ],
      "metadata": {
        "id": "ANEwiEwBxOZO"
      },
      "execution_count": null,
      "outputs": []
    },
    {
      "cell_type": "code",
      "source": [
        "# SQL Syntax\n",
        "\n",
        "# extarcty Date from a Column\n",
        "Extract( day/month/year from date_column)\n",
        "\n",
        "# CASE Statement\n",
        "CASE\n",
        "  WHEN a==b THEN 0\n",
        "  WHEN b==c THEN 0\n",
        "  ELSE 1\n",
        "END AS\n",
        "\n",
        "# extract date from datetime\n",
        "DATE(post_date)\n",
        "\n",
        "# subtract two dates to extarct number of days\n",
        "max(post_date) - min(post_date)\n",
        "\n",
        "# ADD One day to date\n",
        "Date + interval \"1 Day\"\n",
        "\n",
        "# Dense rank\n",
        "dense_rank() over (\n",
        "    partition by a\n",
        "    order by b\n",
        ") as rank_dense\n",
        "\n",
        "# cast as Decimal\n",
        "cast(avg(stars) as decimal(5,2)) as avg_stars\n",
        "\n",
        "# Replace nul WITH 0\n",
        "coalesce(COLUMN_NAME, 0)\n",
        "\n",
        "# Dealing with TIES\n",
        "\n",
        "# Concat string with\n",
        "concat('$' ,concat(cast(SUM(total_sales) /1000000 AS INT), ' million'))\n",
        "\n",
        "# Rows between 2 preceding and current row\n",
        "avg(count(*)) over (\n",
        "partition by user_id order by tweet_date\n",
        "ROWS between 2 preceding and current row\n",
        ") AS rolling_avg_3d"
      ],
      "metadata": {
        "id": "0J6GdpN79lxk"
      },
      "execution_count": null,
      "outputs": []
    }
  ]
}