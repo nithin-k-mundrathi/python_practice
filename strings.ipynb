{
 "cells": [
  {
   "cell_type": "markdown",
   "id": "3a45d15d",
   "metadata": {},
   "source": [
    "# Reversal of words in a String"
   ]
  },
  {
   "cell_type": "code",
   "execution_count": 1,
   "id": "6cd8dd60",
   "metadata": {},
   "outputs": [
    {
     "data": {
      "text/plain": [
       "'practice is this'"
      ]
     },
     "execution_count": 1,
     "metadata": {},
     "output_type": "execute_result"
    }
   ],
   "source": [
    "str_1 = 'this is practice'\n",
    "\n",
    "' '.join(str_1.split(' ')[::-1])"
   ]
  },
  {
   "cell_type": "markdown",
   "id": "5ae2ff61",
   "metadata": {},
   "source": [
    "# Largest Odd number in a given string"
   ]
  },
  {
   "cell_type": "code",
   "execution_count": 5,
   "id": "bae579f4",
   "metadata": {},
   "outputs": [
    {
     "data": {
      "text/plain": [
       "'45'"
      ]
     },
     "execution_count": 5,
     "metadata": {},
     "output_type": "execute_result"
    }
   ],
   "source": [
    "def largest_odd_number(a):\n",
    "    n = len(a)\n",
    "\n",
    "    for i in range(n-1,-1,-1):\n",
    "        if int(a[i]) %2 !=0:\n",
    "            return a[:i+1]\n",
    "\n",
    "largest_odd_number('454')"
   ]
  },
  {
   "cell_type": "markdown",
   "id": "62a3c955",
   "metadata": {},
   "source": [
    "# Longest Common Prefix"
   ]
  },
  {
   "cell_type": "code",
   "execution_count": 7,
   "id": "cef40d58",
   "metadata": {},
   "outputs": [
    {
     "data": {
      "text/plain": [
       "'geek'"
      ]
     },
     "execution_count": 7,
     "metadata": {},
     "output_type": "execute_result"
    }
   ],
   "source": [
    "def common_prefix(a):\n",
    "    len_array = len(a)-1\n",
    "\n",
    "    minlength = min(len(a[0]),len(a[len_array]))\n",
    "\n",
    "    i=0\n",
    "    while i <minlength and a[0][i] == a[len_array][i]:\n",
    "        i +=1\n",
    "    return a[0][0:i+1]\n",
    "\n",
    "a= [\"geeksforgeeks\", \"geeks\", \"geek\", \"geezer\"]\n",
    "common_prefix(a)"
   ]
  },
  {
   "cell_type": "markdown",
   "id": "f167f83b",
   "metadata": {},
   "source": [
    "# Check if two strings are rotationof each other"
   ]
  },
  {
   "cell_type": "code",
   "execution_count": 11,
   "id": "1b3b666a",
   "metadata": {},
   "outputs": [
    {
     "name": "stdout",
     "output_type": "stream",
     "text": [
      "ABCDABCD\n"
     ]
    },
    {
     "data": {
      "text/plain": [
       "1"
      ]
     },
     "execution_count": 11,
     "metadata": {},
     "output_type": "execute_result"
    }
   ],
   "source": [
    "def rotations(a1,a2):\n",
    "    \n",
    "    if len(a1) != len(a2):\n",
    "        return 0\n",
    "    \n",
    "    new_str =  a1 + a1\n",
    "    print(new_str)\n",
    "    ans =  new_str.count(a2)\n",
    "    return ans\n",
    "\n",
    "a1 = 'ABCD'\n",
    "a2 = 'CDAB'\n",
    "rotations(a1,a2)"
   ]
  },
  {
   "cell_type": "markdown",
   "id": "af4a2064",
   "metadata": {},
   "source": [
    "# check if two strings are anagrams of each other"
   ]
  },
  {
   "cell_type": "code",
   "execution_count": 12,
   "id": "ba59ef74",
   "metadata": {},
   "outputs": [
    {
     "data": {
      "text/plain": [
       "1"
      ]
     },
     "execution_count": 12,
     "metadata": {},
     "output_type": "execute_result"
    }
   ],
   "source": [
    "from collections import Counter\n",
    "def anagrams(a1,a2):\n",
    "    \n",
    "    if len(a1) != len(a2):\n",
    "        return 0\n",
    "    \n",
    "    if Counter(a1) == Counter(a2):\n",
    "        \n",
    "      return 1\n",
    "    else:\n",
    "       return 0\n",
    "\n",
    "a1 = 'ABCD'\n",
    "a2 = 'CDAB'\n",
    "anagrams(a1,a2)"
   ]
  },
  {
   "cell_type": "markdown",
   "id": "950bea1b",
   "metadata": {},
   "source": [
    "# Sort Characters By frequency"
   ]
  },
  {
   "cell_type": "code",
   "execution_count": 18,
   "id": "dd42c697",
   "metadata": {},
   "outputs": [
    {
     "data": {
      "text/plain": [
       "'sfa'"
      ]
     },
     "execution_count": 18,
     "metadata": {},
     "output_type": "execute_result"
    }
   ],
   "source": [
    "def sort_characters(a):\n",
    "    \n",
    "    dict_a = Counter(a)\n",
    "    sorted(dict_a.items(),key = lambda x:x[1])\n",
    "    return ''.join(dict_a.keys())\n",
    "\n",
    "a = 'sfas'\n",
    "sort_characters(a)"
   ]
  },
  {
   "cell_type": "markdown",
   "id": "2e4d5afd",
   "metadata": {},
   "source": [
    "# Count the number of SubStrings in an array"
   ]
  },
  {
   "cell_type": "code",
   "execution_count": 19,
   "id": "020ac741",
   "metadata": {},
   "outputs": [
    {
     "data": {
      "text/plain": [
       "3"
      ]
     },
     "execution_count": 19,
     "metadata": {},
     "output_type": "execute_result"
    }
   ],
   "source": [
    "def count_substrings_without_space(a,substring):\n",
    "    n = len(a)\n",
    "    s = len(substring)\n",
    "    count =0\n",
    "    for i in range(n-s+1):\n",
    "        if a[i:i+s] == substring:\n",
    "            count +=1\n",
    "    return count\n",
    "\n",
    "def count_substring(a,substring):\n",
    "    list_a = a.split(' ')\n",
    "    s = len(substring)\n",
    "    count = 0\n",
    "\n",
    "    for i in list_a:\n",
    "        count = count + count_substrings_without_space(i,substring)\n",
    "\n",
    "    return count\n",
    "\n",
    "s1 = \"hellohellohello\"\n",
    "sub = \"hello\"\n",
    "count_substring(s1,sub)"
   ]
  },
  {
   "cell_type": "markdown",
   "id": "1197b018",
   "metadata": {},
   "source": [
    "# sum of the Beauty Of all SubStrings"
   ]
  },
  {
   "cell_type": "code",
   "execution_count": 20,
   "id": "2a1f821e",
   "metadata": {},
   "outputs": [],
   "source": [
    "def beautySum(self, s: str) -> int:\n",
    "        # Initialize the sum to store the total beauty of all substrings\n",
    "        total_beauty = 0\n",
    "        # Get the length of the string\n",
    "        string_length = len(s)\n",
    "      \n",
    "        # Iterate through each character in the string as the starting point\n",
    "        for i in range(string_length):\n",
    "            # Create a counter to keep track of the frequency of each character in the current substring\n",
    "            char_counter = Counter()\n",
    "            # Iterate from the current character to the end of the string to form substrings\n",
    "            for j in range(i, string_length):\n",
    "                # Increment the count of the current character\n",
    "                char_counter[s[j]] += 1\n",
    "                # Calculate the beauty of the current substring by finding the \n",
    "                # difference between the max and min frequency of characters\n",
    "                current_beauty = max(char_counter.values()) - min(char_counter.values())\n",
    "                # Add the beauty of the current substring to the total beauty\n",
    "                total_beauty += current_beauty\n",
    "        # Return the total beauty of all substrings\n",
    "        return total_beauty\n"
   ]
  },
  {
   "cell_type": "code",
   "execution_count": null,
   "id": "e6c6651d",
   "metadata": {},
   "outputs": [],
   "source": []
  }
 ],
 "metadata": {
  "kernelspec": {
   "display_name": "Python 3",
   "language": "python",
   "name": "python3"
  },
  "language_info": {
   "codemirror_mode": {
    "name": "ipython",
    "version": 3
   },
   "file_extension": ".py",
   "mimetype": "text/x-python",
   "name": "python",
   "nbconvert_exporter": "python",
   "pygments_lexer": "ipython3",
   "version": "3.11.9"
  }
 },
 "nbformat": 4,
 "nbformat_minor": 5
}
